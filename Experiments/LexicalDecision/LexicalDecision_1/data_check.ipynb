{
 "cells": [
  {
   "cell_type": "code",
   "execution_count": 1,
   "id": "60248b13",
   "metadata": {},
   "outputs": [],
   "source": [
    "import pandas as pd\n",
    "import seaborn as sns\n",
    "import matplotlib.pyplot as plt"
   ]
  },
  {
   "cell_type": "code",
   "execution_count": 2,
   "id": "4624dde3",
   "metadata": {},
   "outputs": [],
   "source": [
    "rawdata = pd.read_csv(\"/Users/ethan/Documents/GitHub/OpenSesame/LexicalDecision/LexicalDecision_1/data/Lab_report_01.csv\")\n",
    "df = rawdata[(rawdata['block'] == 'trial')]\n",
    "df_means = df.groupby(['jatosStudyResultId', 'category', 'number_letters']).mean()\n",
    "df_means.reset_index(inplace = True)\n",
    "df_means.head()"
   ]
  },
  {
   "cell_type": "code",
   "execution_count": 3,
   "id": "602940e6",
   "metadata": {},
   "outputs": [
    {
     "data": {
      "text/plain": [
       "17"
      ]
     },
     "execution_count": 3,
     "metadata": {},
     "output_type": "execute_result"
    }
   ],
   "source": [
    "#set(list(rawdata['subject_parity']))\n",
    "len(set(list(rawdata['jatosStudyResultId'])))"
   ]
  },
  {
   "cell_type": "code",
   "execution_count": 4,
   "id": "f160948c",
   "metadata": {},
   "outputs": [
    {
     "data": {
      "text/plain": [
       "(3434, 40)"
      ]
     },
     "execution_count": 4,
     "metadata": {},
     "output_type": "execute_result"
    }
   ],
   "source": [
    "#list(rawdata)\n",
    "rawdata.shape"
   ]
  },
  {
   "cell_type": "code",
   "execution_count": 5,
   "id": "11a9c981",
   "metadata": {},
   "outputs": [
    {
     "data": {
      "text/plain": [
       "(3332, 40)"
      ]
     },
     "execution_count": 5,
     "metadata": {},
     "output_type": "execute_result"
    }
   ],
   "source": [
    "#df = rawdata[(rawdata['correct'] == 1) & (rawdata['block'] == 'trial')]\n",
    "df = rawdata[(rawdata['block'] == 'trial')]\n",
    "df.shape\n"
   ]
  },
  {
   "cell_type": "code",
   "execution_count": 6,
   "id": "2313223b",
   "metadata": {},
   "outputs": [
    {
     "data": {
      "text/html": [
       "<div>\n",
       "<style scoped>\n",
       "    .dataframe tbody tr th:only-of-type {\n",
       "        vertical-align: middle;\n",
       "    }\n",
       "\n",
       "    .dataframe tbody tr th {\n",
       "        vertical-align: top;\n",
       "    }\n",
       "\n",
       "    .dataframe thead th {\n",
       "        text-align: right;\n",
       "    }\n",
       "</style>\n",
       "<table border=\"1\" class=\"dataframe\">\n",
       "  <thead>\n",
       "    <tr style=\"text-align: right;\">\n",
       "      <th></th>\n",
       "      <th>jatosStudyResultId</th>\n",
       "      <th>category</th>\n",
       "      <th>number_letters</th>\n",
       "      <th>acc</th>\n",
       "      <th>accuracy</th>\n",
       "      <th>avg_rt</th>\n",
       "      <th>correct</th>\n",
       "      <th>experiment_debug</th>\n",
       "      <th>experiment_parameters</th>\n",
       "      <th>experiment_pilot</th>\n",
       "      <th>...</th>\n",
       "      <th>response_time</th>\n",
       "      <th>screen_availableHeight</th>\n",
       "      <th>screen_availableWidth</th>\n",
       "      <th>screen_colorDepth</th>\n",
       "      <th>screen_height</th>\n",
       "      <th>screen_pixelDepth</th>\n",
       "      <th>screen_screenX</th>\n",
       "      <th>screen_screenY</th>\n",
       "      <th>screen_width</th>\n",
       "      <th>subject_nr</th>\n",
       "    </tr>\n",
       "  </thead>\n",
       "  <tbody>\n",
       "    <tr>\n",
       "      <th>0</th>\n",
       "      <td>693</td>\n",
       "      <td>NW</td>\n",
       "      <td>3</td>\n",
       "      <td>86.333333</td>\n",
       "      <td>86.333333</td>\n",
       "      <td>617.000000</td>\n",
       "      <td>1.000000</td>\n",
       "      <td>0.0</td>\n",
       "      <td>0.0</td>\n",
       "      <td>0.0</td>\n",
       "      <td>...</td>\n",
       "      <td>567.666667</td>\n",
       "      <td>878.0</td>\n",
       "      <td>1440.0</td>\n",
       "      <td>24.0</td>\n",
       "      <td>900.0</td>\n",
       "      <td>24.0</td>\n",
       "      <td>81.0</td>\n",
       "      <td>22.0</td>\n",
       "      <td>1440.0</td>\n",
       "      <td>1.0</td>\n",
       "    </tr>\n",
       "    <tr>\n",
       "      <th>1</th>\n",
       "      <td>693</td>\n",
       "      <td>NW</td>\n",
       "      <td>4</td>\n",
       "      <td>87.200000</td>\n",
       "      <td>87.200000</td>\n",
       "      <td>609.000000</td>\n",
       "      <td>0.900000</td>\n",
       "      <td>0.0</td>\n",
       "      <td>0.0</td>\n",
       "      <td>0.0</td>\n",
       "      <td>...</td>\n",
       "      <td>573.500000</td>\n",
       "      <td>878.0</td>\n",
       "      <td>1440.0</td>\n",
       "      <td>24.0</td>\n",
       "      <td>900.0</td>\n",
       "      <td>24.0</td>\n",
       "      <td>81.0</td>\n",
       "      <td>22.0</td>\n",
       "      <td>1440.0</td>\n",
       "      <td>1.0</td>\n",
       "    </tr>\n",
       "    <tr>\n",
       "      <th>2</th>\n",
       "      <td>693</td>\n",
       "      <td>NW</td>\n",
       "      <td>5</td>\n",
       "      <td>88.846154</td>\n",
       "      <td>88.846154</td>\n",
       "      <td>592.153846</td>\n",
       "      <td>0.769231</td>\n",
       "      <td>0.0</td>\n",
       "      <td>0.0</td>\n",
       "      <td>0.0</td>\n",
       "      <td>...</td>\n",
       "      <td>623.307692</td>\n",
       "      <td>878.0</td>\n",
       "      <td>1440.0</td>\n",
       "      <td>24.0</td>\n",
       "      <td>900.0</td>\n",
       "      <td>24.0</td>\n",
       "      <td>81.0</td>\n",
       "      <td>22.0</td>\n",
       "      <td>1440.0</td>\n",
       "      <td>1.0</td>\n",
       "    </tr>\n",
       "    <tr>\n",
       "      <th>3</th>\n",
       "      <td>693</td>\n",
       "      <td>NW</td>\n",
       "      <td>6</td>\n",
       "      <td>86.176471</td>\n",
       "      <td>86.176471</td>\n",
       "      <td>607.000000</td>\n",
       "      <td>1.000000</td>\n",
       "      <td>0.0</td>\n",
       "      <td>0.0</td>\n",
       "      <td>0.0</td>\n",
       "      <td>...</td>\n",
       "      <td>633.411765</td>\n",
       "      <td>878.0</td>\n",
       "      <td>1440.0</td>\n",
       "      <td>24.0</td>\n",
       "      <td>900.0</td>\n",
       "      <td>24.0</td>\n",
       "      <td>81.0</td>\n",
       "      <td>22.0</td>\n",
       "      <td>1440.0</td>\n",
       "      <td>1.0</td>\n",
       "    </tr>\n",
       "    <tr>\n",
       "      <th>4</th>\n",
       "      <td>693</td>\n",
       "      <td>NW</td>\n",
       "      <td>7</td>\n",
       "      <td>85.333333</td>\n",
       "      <td>85.333333</td>\n",
       "      <td>614.166667</td>\n",
       "      <td>1.000000</td>\n",
       "      <td>0.0</td>\n",
       "      <td>0.0</td>\n",
       "      <td>0.0</td>\n",
       "      <td>...</td>\n",
       "      <td>699.666667</td>\n",
       "      <td>878.0</td>\n",
       "      <td>1440.0</td>\n",
       "      <td>24.0</td>\n",
       "      <td>900.0</td>\n",
       "      <td>24.0</td>\n",
       "      <td>81.0</td>\n",
       "      <td>22.0</td>\n",
       "      <td>1440.0</td>\n",
       "      <td>1.0</td>\n",
       "    </tr>\n",
       "  </tbody>\n",
       "</table>\n",
       "<p>5 rows × 24 columns</p>\n",
       "</div>"
      ],
      "text/plain": [
       "   jatosStudyResultId category  number_letters        acc   accuracy  \\\n",
       "0                 693       NW               3  86.333333  86.333333   \n",
       "1                 693       NW               4  87.200000  87.200000   \n",
       "2                 693       NW               5  88.846154  88.846154   \n",
       "3                 693       NW               6  86.176471  86.176471   \n",
       "4                 693       NW               7  85.333333  85.333333   \n",
       "\n",
       "       avg_rt   correct  experiment_debug  experiment_parameters  \\\n",
       "0  617.000000  1.000000               0.0                    0.0   \n",
       "1  609.000000  0.900000               0.0                    0.0   \n",
       "2  592.153846  0.769231               0.0                    0.0   \n",
       "3  607.000000  1.000000               0.0                    0.0   \n",
       "4  614.166667  1.000000               0.0                    0.0   \n",
       "\n",
       "   experiment_pilot  ...  response_time  screen_availableHeight  \\\n",
       "0               0.0  ...     567.666667                   878.0   \n",
       "1               0.0  ...     573.500000                   878.0   \n",
       "2               0.0  ...     623.307692                   878.0   \n",
       "3               0.0  ...     633.411765                   878.0   \n",
       "4               0.0  ...     699.666667                   878.0   \n",
       "\n",
       "   screen_availableWidth  screen_colorDepth  screen_height  screen_pixelDepth  \\\n",
       "0                 1440.0               24.0          900.0               24.0   \n",
       "1                 1440.0               24.0          900.0               24.0   \n",
       "2                 1440.0               24.0          900.0               24.0   \n",
       "3                 1440.0               24.0          900.0               24.0   \n",
       "4                 1440.0               24.0          900.0               24.0   \n",
       "\n",
       "   screen_screenX  screen_screenY  screen_width  subject_nr  \n",
       "0            81.0            22.0        1440.0         1.0  \n",
       "1            81.0            22.0        1440.0         1.0  \n",
       "2            81.0            22.0        1440.0         1.0  \n",
       "3            81.0            22.0        1440.0         1.0  \n",
       "4            81.0            22.0        1440.0         1.0  \n",
       "\n",
       "[5 rows x 24 columns]"
      ]
     },
     "execution_count": 6,
     "metadata": {},
     "output_type": "execute_result"
    }
   ],
   "source": [
    "df_means = df.groupby(['jatosStudyResultId', 'category', 'number_letters']).mean()\n",
    "df_means.reset_index(inplace = True)\n",
    "df_means.head()"
   ]
  },
  {
   "cell_type": "code",
   "execution_count": 7,
   "id": "d522272a",
   "metadata": {},
   "outputs": [
    {
     "data": {
      "text/plain": [
       "{3, 4, 5, 6, 7}"
      ]
     },
     "execution_count": 7,
     "metadata": {},
     "output_type": "execute_result"
    }
   ],
   "source": [
    "set(df_means['number_letters'])"
   ]
  },
  {
   "cell_type": "code",
   "execution_count": 8,
   "id": "e4532637",
   "metadata": {
    "scrolled": true
   },
   "outputs": [
    {
     "data": {
      "text/plain": [
       "<AxesSubplot:xlabel='avg_rt', ylabel='Density'>"
      ]
     },
     "execution_count": 8,
     "metadata": {},
     "output_type": "execute_result"
    },
    {
     "data": {
      "image/png": "[encoded data removed]",
      "text/plain": [
       "<Figure size 432x288 with 1 Axes>"
      ]
     },
     "metadata": {
      "needs_background": "light"
     },
     "output_type": "display_data"
    }
   ],
   "source": [
    "sns.kdeplot(x = 'avg_rt', hue = 'category', data = df_means)"
   ]
  },
  {
   "cell_type": "code",
   "execution_count": 9,
   "id": "9adf7edc",
   "metadata": {},
   "outputs": [
    {
     "data": {
      "text/plain": [
       "<matplotlib.legend.Legend at 0x179ba8340>"
      ]
     },
     "execution_count": 9,
     "metadata": {},
     "output_type": "execute_result"
    },
    {
     "data": {
      "image/png": "[encoded data removed]",
      "text/plain": [
       "<Figure size 432x288 with 1 Axes>"
      ]
     },
     "metadata": {
      "needs_background": "light"
     },
     "output_type": "display_data"
    }
   ],
   "source": [
    "\n",
    "sns.kdeplot(x = 'avg_rt', hue = 'jatosStudyResultId', data = df_means)\n",
    "plt.legend([],[], frameon=False)"
   ]
  },
  {
   "cell_type": "code",
   "execution_count": 119,
   "id": "2ea63317",
   "metadata": {},
   "outputs": [
    {
     "data": {
      "text/plain": [
       "<seaborn.axisgrid.FacetGrid at 0x28ec3da30>"
      ]
     },
     "execution_count": 119,
     "metadata": {},
     "output_type": "execute_result"
    },
    {
     "data": {
      "image/png": "[encoded data removed]",
      "text/plain": [
       "<Figure size 421.625x360 with 1 Axes>"
      ]
     },
     "metadata": {
      "needs_background": "light"
     },
     "output_type": "display_data"
    }
   ],
   "source": [
    "sns.lmplot(x = 'number_letters', y = 'avg_rt', hue = 'category', data = df_means)"
   ]
  },
  {
   "cell_type": "code",
   "execution_count": 120,
   "id": "c552285c",
   "metadata": {},
   "outputs": [
    {
     "data": {
      "text/plain": [
       "<AxesSubplot:xlabel='number_letters', ylabel='avg_rt'>"
      ]
     },
     "execution_count": 120,
     "metadata": {},
     "output_type": "execute_result"
    },
    {
     "data": {
      "image/png": "[encoded data removed]",
      "text/plain": [
       "<Figure size 432x288 with 1 Axes>"
      ]
     },
     "metadata": {
      "needs_background": "light"
     },
     "output_type": "display_data"
    }
   ],
   "source": [
    "sns.barplot(x = 'number_letters', y = 'avg_rt', hue = 'category', data = df)"
   ]
  },
  {
   "cell_type": "code",
   "execution_count": 10,
   "id": "ec9bec6c",
   "metadata": {},
   "outputs": [
    {
     "data": {
      "text/plain": [
       "<AxesSubplot:xlabel='category', ylabel='acc'>"
      ]
     },
     "execution_count": 10,
     "metadata": {},
     "output_type": "execute_result"
    },
    {
     "data": {
      "image/png": "[encoded data removed]",
      "text/plain": [
       "<Figure size 432x288 with 1 Axes>"
      ]
     },
     "metadata": {
      "needs_background": "light"
     },
     "output_type": "display_data"
    }
   ],
   "source": [
    "sns.barplot(x = 'category', y = 'acc', data = df_means)"
   ]
  },
  {
   "cell_type": "code",
   "execution_count": 13,
   "id": "a33fd288",
   "metadata": {},
   "outputs": [],
   "source": [
    "import pingouin as pg"
   ]
  },
  {
   "cell_type": "code",
   "execution_count": 17,
   "id": "64d771d4",
   "metadata": {},
   "outputs": [
    {
     "data": {
      "text/html": [
       "<div>\n",
       "<style scoped>\n",
       "    .dataframe tbody tr th:only-of-type {\n",
       "        vertical-align: middle;\n",
       "    }\n",
       "\n",
       "    .dataframe tbody tr th {\n",
       "        vertical-align: top;\n",
       "    }\n",
       "\n",
       "    .dataframe thead th {\n",
       "        text-align: right;\n",
       "    }\n",
       "</style>\n",
       "<table border=\"1\" class=\"dataframe\">\n",
       "  <thead>\n",
       "    <tr style=\"text-align: right;\">\n",
       "      <th></th>\n",
       "      <th>Source</th>\n",
       "      <th>SS</th>\n",
       "      <th>DF</th>\n",
       "      <th>MS</th>\n",
       "      <th>F</th>\n",
       "      <th>p-unc</th>\n",
       "      <th>np2</th>\n",
       "      <th>eps</th>\n",
       "    </tr>\n",
       "  </thead>\n",
       "  <tbody>\n",
       "    <tr>\n",
       "      <th>0</th>\n",
       "      <td>category</td>\n",
       "      <td>47.0947</td>\n",
       "      <td>2</td>\n",
       "      <td>23.5473</td>\n",
       "      <td>0.2174</td>\n",
       "      <td>0.8058</td>\n",
       "      <td>0.0134</td>\n",
       "      <td>0.8606</td>\n",
       "    </tr>\n",
       "    <tr>\n",
       "      <th>1</th>\n",
       "      <td>Error</td>\n",
       "      <td>3465.6732</td>\n",
       "      <td>32</td>\n",
       "      <td>108.3023</td>\n",
       "      <td>NaN</td>\n",
       "      <td>NaN</td>\n",
       "      <td>NaN</td>\n",
       "      <td>NaN</td>\n",
       "    </tr>\n",
       "  </tbody>\n",
       "</table>\n",
       "</div>"
      ],
      "text/plain": [
       "     Source         SS  DF        MS       F   p-unc     np2     eps\n",
       "0  category    47.0947   2   23.5473  0.2174  0.8058  0.0134  0.8606\n",
       "1     Error  3465.6732  32  108.3023     NaN     NaN     NaN     NaN"
      ]
     },
     "execution_count": 17,
     "metadata": {},
     "output_type": "execute_result"
    }
   ],
   "source": [
    "round(pg.rm_anova(dv='avg_rt', within='category', subject='jatosStudyResultId', data=df, detailed=True, effsize=\"np2\"), 4)"
   ]
  },
  {
   "cell_type": "code",
   "execution_count": 26,
   "id": "16118b0e",
   "metadata": {
    "scrolled": true
   },
   "outputs": [],
   "source": [
    "\n",
    "lm = pg.linear_regression(df_means[['number_letters']], df_means['avg_rt'])"
   ]
  },
  {
   "cell_type": "code",
   "execution_count": 28,
   "id": "8d378b18",
   "metadata": {},
   "outputs": [
    {
     "data": {
      "text/html": [
       "<div>\n",
       "<style scoped>\n",
       "    .dataframe tbody tr th:only-of-type {\n",
       "        vertical-align: middle;\n",
       "    }\n",
       "\n",
       "    .dataframe tbody tr th {\n",
       "        vertical-align: top;\n",
       "    }\n",
       "\n",
       "    .dataframe thead th {\n",
       "        text-align: right;\n",
       "    }\n",
       "</style>\n",
       "<table border=\"1\" class=\"dataframe\">\n",
       "  <thead>\n",
       "    <tr style=\"text-align: right;\">\n",
       "      <th></th>\n",
       "      <th>names</th>\n",
       "      <th>coef</th>\n",
       "      <th>se</th>\n",
       "      <th>T</th>\n",
       "      <th>pval</th>\n",
       "      <th>r2</th>\n",
       "      <th>adj_r2</th>\n",
       "      <th>CI[2.5%]</th>\n",
       "      <th>CI[97.5%]</th>\n",
       "    </tr>\n",
       "  </thead>\n",
       "  <tbody>\n",
       "    <tr>\n",
       "      <th>0</th>\n",
       "      <td>Intercept</td>\n",
       "      <td>829.479</td>\n",
       "      <td>33.279</td>\n",
       "      <td>24.925</td>\n",
       "      <td>0.00</td>\n",
       "      <td>0.0</td>\n",
       "      <td>-0.004</td>\n",
       "      <td>763.941</td>\n",
       "      <td>895.018</td>\n",
       "    </tr>\n",
       "    <tr>\n",
       "      <th>1</th>\n",
       "      <td>number_letters</td>\n",
       "      <td>2.044</td>\n",
       "      <td>6.404</td>\n",
       "      <td>0.319</td>\n",
       "      <td>0.75</td>\n",
       "      <td>0.0</td>\n",
       "      <td>-0.004</td>\n",
       "      <td>-10.569</td>\n",
       "      <td>14.657</td>\n",
       "    </tr>\n",
       "  </tbody>\n",
       "</table>\n",
       "</div>"
      ],
      "text/plain": [
       "            names     coef      se       T  pval   r2  adj_r2  CI[2.5%]  \\\n",
       "0       Intercept  829.479  33.279  24.925  0.00  0.0  -0.004   763.941   \n",
       "1  number_letters    2.044   6.404   0.319  0.75  0.0  -0.004   -10.569   \n",
       "\n",
       "   CI[97.5%]  \n",
       "0    895.018  \n",
       "1     14.657  "
      ]
     },
     "execution_count": 28,
     "metadata": {},
     "output_type": "execute_result"
    }
   ],
   "source": [
    "round(lm,3)"
   ]
  },
  {
   "cell_type": "code",
   "execution_count": null,
   "id": "071d3979",
   "metadata": {},
   "outputs": [],
   "source": []
  }
 ],
 "metadata": {
  "kernelspec": {
   "display_name": "Python 3 (ipykernel)",
   "language": "python",
   "name": "python3"
  },
  "language_info": {
   "codemirror_mode": {
    "name": "ipython",
    "version": 3
   },
   "file_extension": ".py",
   "mimetype": "text/x-python",
   "name": "python",
   "nbconvert_exporter": "python",
   "pygments_lexer": "ipython3",
   "version": "3.9.12"
  }
 },
 "nbformat": 4,
 "nbformat_minor": 5
}
