{
 "cells": [
  {
   "cell_type": "code",
   "execution_count": 1,
   "id": "bbe1c5bd",
   "metadata": {},
   "outputs": [],
   "source": [
    "import pandas as pd\n"
   ]
  },
  {
   "cell_type": "code",
   "execution_count": 3,
   "id": "0cce374f",
   "metadata": {},
   "outputs": [],
   "source": [
    "df = pd.read_csv(\"/Users/ethan/Documents/GitHub/OpenSesame/LexicalDecision/LexicalDecision_1/resources/words.csv\")"
   ]
  },
  {
   "cell_type": "code",
   "execution_count": 4,
   "id": "99a09f44",
   "metadata": {},
   "outputs": [],
   "source": [
    "df = df.dropna()"
   ]
  },
  {
   "cell_type": "code",
   "execution_count": 47,
   "id": "69c651a2",
   "metadata": {},
   "outputs": [
    {
     "data": {
      "text/plain": [
       "[3.0, 4.0, 5.0, 6.0, 7.0, 8.0]"
      ]
     },
     "execution_count": 47,
     "metadata": {},
     "output_type": "execute_result"
    }
   ],
   "source": [
    "list(set(df['NLET']))"
   ]
  },
  {
   "cell_type": "code",
   "execution_count": 49,
   "id": "25ea6cae",
   "metadata": {},
   "outputs": [
    {
     "data": {
      "text/plain": [
       "[3, 4, 5, 6, 7, 8]"
      ]
     },
     "execution_count": 49,
     "metadata": {},
     "output_type": "execute_result"
    }
   ],
   "source": [
    "[int(x) for x in list(set(df['NLET']))]"
   ]
  },
  {
   "cell_type": "code",
   "execution_count": 51,
   "id": "74354a7e",
   "metadata": {},
   "outputs": [],
   "source": [
    "dfs = []\n",
    "\n",
    "nlet = [int(x) for x in list(set(df['NLET']))]\n",
    "\n",
    "for n in nlet:\n",
    "    df_temp = df[(df['NLET'] == n)]\n",
    "    df_temp.columns = [x+str(n) for x in list(df_temp)]\n",
    "    dfs.append(df_temp)\n"
   ]
  },
  {
   "cell_type": "code",
   "execution_count": 108,
   "id": "7ac2a386",
   "metadata": {},
   "outputs": [],
   "source": [
    "nonwords = pd.read_csv(\"nonwords.csv\")"
   ]
  },
  {
   "cell_type": "code",
   "execution_count": 59,
   "id": "a8b2731e",
   "metadata": {},
   "outputs": [],
   "source": [
    "nw = nonwords[nonwords['Class']=='NW']"
   ]
  },
  {
   "cell_type": "code",
   "execution_count": 68,
   "id": "fc329316",
   "metadata": {},
   "outputs": [],
   "source": [
    "nw3 = ph[ph['NL'] == 3]\n",
    "nw4 = ph[ph['NL'] == 10]\n",
    "nw5 = ph[ph['NL'] == 13]\n",
    "nw6 = ph[ph['NL'] == 17]\n",
    "7 = ph[ph['NL'] == 11]"
   ]
  },
  {
   "cell_type": "code",
   "execution_count": 131,
   "id": "fc669e8a",
   "metadata": {},
   "outputs": [],
   "source": [
    "ph3 = ph[ph['NL'] == 3]\n",
    "ph4 = ph[ph['NL'] == 4].sample(10)\n",
    "ph5 = ph[ph['NL'] == 5].sample(13)\n",
    "ph6 = ph[ph['NL'] == 6].sample(17)\n",
    "ph7 = ph[ph['NL'] == 7]\n",
    "\n",
    "nw3 = nw[nw['NL'] == 3]\n",
    "nw4 = nw[nw['NL'] == 4].sample(10)\n",
    "nw5 = nw[nw['NL'] == 5].sample(13)\n",
    "nw6 = nw[nw['NL'] == 6].sample(17)\n",
    "#nw7 = nw[nw['NL'] == 7]\n",
    "nw7 = nw[nw['NL'] == 7].sample(6)"
   ]
  },
  {
   "cell_type": "code",
   "execution_count": 102,
   "id": "2fe0204e",
   "metadata": {},
   "outputs": [],
   "source": [
    "phs = pd.concat([ph3,ph4,ph5,ph6,ph7])\n",
    "nws = pd.concat([nw3,nw4,nw5,nw6,nw7])\n"
   ]
  },
  {
   "cell_type": "code",
   "execution_count": 5,
   "id": "bcc18ec4",
   "metadata": {},
   "outputs": [],
   "source": [
    "df_select = pd.DataFrame({'W': df['WORD'],\n",
    "                         'NL': df['NLET'],\n",
    "                         'Class': ['Word' for x in range(len(df['NLET']))]})\n"
   ]
  },
  {
   "cell_type": "code",
   "execution_count": 6,
   "id": "ea5bac21",
   "metadata": {},
   "outputs": [],
   "source": [
    "df_select3 = df_select[df_select['NL'] == 3].sample(6)\n",
    "df_select4 = df_select[df_select['NL'] == 4].sample(20)\n",
    "df_select5 = df_select[df_select['NL'] == 5].sample(13)\n",
    "df_select6 = df_select[df_select['NL'] == 6].sample(17)\n",
    "df_select7 = df_select[df_select['NL'] == 7].sample(6)"
   ]
  },
  {
   "cell_type": "code",
   "execution_count": 142,
   "id": "b9a50dfa",
   "metadata": {},
   "outputs": [
    {
     "data": {
      "text/plain": [
       "(49, 3)"
      ]
     },
     "execution_count": 142,
     "metadata": {},
     "output_type": "execute_result"
    }
   ],
   "source": [
    "words = pd.concat([df_select3, df_select4, df_select5, df_select6, df_select7])\n",
    "words.shape"
   ]
  },
  {
   "cell_type": "code",
   "execution_count": 144,
   "id": "8dede841",
   "metadata": {},
   "outputs": [],
   "source": [
    "words['W'] = [x.lower() for x in list(words['W'])]"
   ]
  },
  {
   "cell_type": "code",
   "execution_count": 145,
   "id": "574a1b07",
   "metadata": {},
   "outputs": [],
   "source": [
    "stims = pd.concat([words, nws, phs])"
   ]
  },
  {
   "cell_type": "code",
   "execution_count": 146,
   "id": "87784919",
   "metadata": {},
   "outputs": [
    {
     "data": {
      "text/plain": [
       "(147, 3)"
      ]
     },
     "execution_count": 146,
     "metadata": {},
     "output_type": "execute_result"
    }
   ],
   "source": [
    "stims.shape"
   ]
  },
  {
   "cell_type": "code",
   "execution_count": 147,
   "id": "3b6a9559",
   "metadata": {},
   "outputs": [
    {
     "data": {
      "text/plain": [
       "49.0"
      ]
     },
     "execution_count": 147,
     "metadata": {},
     "output_type": "execute_result"
    }
   ],
   "source": [
    "147/3"
   ]
  },
  {
   "cell_type": "code",
   "execution_count": 150,
   "id": "140d5e11",
   "metadata": {},
   "outputs": [],
   "source": [
    "stims.to_csv(\"stims.csv\", index=False)"
   ]
  },
  {
   "cell_type": "code",
   "execution_count": null,
   "id": "a1839bfe",
   "metadata": {},
   "outputs": [],
   "source": []
  }
 ],
 "metadata": {
  "kernelspec": {
   "display_name": "Python 3 (ipykernel)",
   "language": "python",
   "name": "python3"
  },
  "language_info": {
   "codemirror_mode": {
    "name": "ipython",
    "version": 3
   },
   "file_extension": ".py",
   "mimetype": "text/x-python",
   "name": "python",
   "nbconvert_exporter": "python",
   "pygments_lexer": "ipython3",
   "version": "3.9.12"
  }
 },
 "nbformat": 4,
 "nbformat_minor": 5
}
