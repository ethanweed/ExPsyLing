{
 "cells": [
  {
   "cell_type": "code",
   "execution_count": 2,
   "metadata": {},
   "outputs": [],
   "source": [
    "import warnings\n",
    "\n",
    "#%pip install jsonlines\n",
    "#%pip install seaborn\n",
    "warnings.filterwarnings(\"ignore\")"
   ]
  },
  {
   "cell_type": "code",
   "execution_count": 3,
   "metadata": {},
   "outputs": [],
   "source": [
    "import jsonlines                        # used to turn the huge glob of data from lab.js into a pandas dataframe\n",
    "import pandas as pd                     # used to organize the data in columns and rows\n",
    "import seaborn as sns                   # used to make pretty pictures :-)\n",
    "from matplotlib import pyplot as plt    # used to touch up the figures that `seaborn`` makes"
   ]
  },
  {
   "cell_type": "code",
   "execution_count": 4,
   "metadata": {},
   "outputs": [],
   "source": [
    "raw = '/Users/ethan/Documents/GitHub/ExPsyLing/Experiments/Experiment 2/Experiment2_rawdata_2024.txt'\n",
    "\n",
    "###########################################################################\n",
    "\n",
    "# I copied this section from here: https://forum.cogsci.nl/discussion/8257/problem-with-jatos-result-conversion\n",
    "# I think I would write it slightly differently, but hey, it works, and I didn't know how to do this before I found this post, so I'm not complaining\n",
    "\n",
    "i = 0                                                          # set counter variable \"i\" to zero\n",
    "\n",
    "with jsonlines.open(raw) as reader:                            # make a \"reader\" variable with the lab.js data (which is stored in \"JSON\" format)\n",
    "    for line in reader:                                        # loop through every line in the lab.js JSON data\n",
    "        if i == 0:                                             # check if i equals zero. If it does, then\n",
    "            df = pd.DataFrame(line)                             # make a new pandas dataframe called \"df\" \n",
    "            i += 1                                              # add 1 to i\n",
    "        else:                                                  # if i does not equal zero \n",
    "            df = pd.concat([df, pd.DataFrame(line)])           # get the next line of the json file, convert it to a dataframe, and stick it on the bottom of \"df\" \n",
    "            i += 1                                            # I don't think you actually  need this line. If it is running, then i already does not equal zero, so what's the point?\n",
    "\n",
    "df['url'] = df['url'].ffill()                                   # fill in the column with the participant ID numbers\n",
    "df['url'] = [int(x['srid']) for x in list(df['url'])]           # get the ID numbers out of the \"dictionaries\" and re-write the url column with the extracted ID numbers\n",
    "df.rename(columns={'url': 'ID'}, inplace=True)                  # rename the url column as \"ID\"\n",
    "del df['meta']                                                  # delete the \"meta\" column. I put this here just to show you how to delete a column"
   ]
  },
  {
   "cell_type": "code",
   "execution_count": 5,
   "metadata": {},
   "outputs": [],
   "source": [
    "# Make a new dataframe with only rows where the \"sender\" column is \"Trial\" and the \"Block\" column is not \"practice\"\n",
    "df = df[(df['sender'] == 'Stimulus') & (df['block'] != 'practice')]\n"
   ]
  },
  {
   "cell_type": "code",
   "execution_count": 9,
   "metadata": {},
   "outputs": [
    {
     "data": {
      "text/html": [
       "<div>\n",
       "<style scoped>\n",
       "    .dataframe tbody tr th:only-of-type {\n",
       "        vertical-align: middle;\n",
       "    }\n",
       "\n",
       "    .dataframe tbody tr th {\n",
       "        vertical-align: top;\n",
       "    }\n",
       "\n",
       "    .dataframe thead th {\n",
       "        text-align: right;\n",
       "    }\n",
       "</style>\n",
       "<table border=\"1\" class=\"dataframe\">\n",
       "  <thead>\n",
       "    <tr style=\"text-align: right;\">\n",
       "      <th></th>\n",
       "      <th>ID</th>\n",
       "      <th>duration</th>\n",
       "      <th>correct</th>\n",
       "      <th>stim</th>\n",
       "      <th>condition</th>\n",
       "    </tr>\n",
       "  </thead>\n",
       "  <tbody>\n",
       "    <tr>\n",
       "      <th>34</th>\n",
       "      <td>4665</td>\n",
       "      <td>649.8</td>\n",
       "      <td>False</td>\n",
       "      <td>limp-tiger</td>\n",
       "      <td>Unrelated</td>\n",
       "    </tr>\n",
       "    <tr>\n",
       "      <th>38</th>\n",
       "      <td>4665</td>\n",
       "      <td>669.2</td>\n",
       "      <td>True</td>\n",
       "      <td>plang-fluwer</td>\n",
       "      <td>Nonword</td>\n",
       "    </tr>\n",
       "    <tr>\n",
       "      <th>42</th>\n",
       "      <td>4665</td>\n",
       "      <td>529.6</td>\n",
       "      <td>True</td>\n",
       "      <td>tall-short</td>\n",
       "      <td>Related</td>\n",
       "    </tr>\n",
       "    <tr>\n",
       "      <th>46</th>\n",
       "      <td>4665</td>\n",
       "      <td>553.7</td>\n",
       "      <td>True</td>\n",
       "      <td>nock-kry</td>\n",
       "      <td>Nonword</td>\n",
       "    </tr>\n",
       "    <tr>\n",
       "      <th>50</th>\n",
       "      <td>4665</td>\n",
       "      <td>561.1</td>\n",
       "      <td>True</td>\n",
       "      <td>yot-colp</td>\n",
       "      <td>Nonword</td>\n",
       "    </tr>\n",
       "  </tbody>\n",
       "</table>\n",
       "</div>"
      ],
      "text/plain": [
       "      ID  duration correct          stim  condition\n",
       "34  4665     649.8   False    limp-tiger  Unrelated\n",
       "38  4665     669.2    True  plang-fluwer    Nonword\n",
       "42  4665     529.6    True    tall-short    Related\n",
       "46  4665     553.7    True      nock-kry    Nonword\n",
       "50  4665     561.1    True      yot-colp    Nonword"
      ]
     },
     "execution_count": 9,
     "metadata": {},
     "output_type": "execute_result"
    }
   ],
   "source": [
    "# Make a new dataframe with only the columns that we want to keep\n",
    "df = df[['ID', 'duration', 'correct', 'stim', 'condition']]\n",
    "df.head(5)"
   ]
  },
  {
   "cell_type": "code",
   "execution_count": 17,
   "metadata": {},
   "outputs": [
    {
     "data": {
      "text/html": [
       "<div>\n",
       "<style scoped>\n",
       "    .dataframe tbody tr th:only-of-type {\n",
       "        vertical-align: middle;\n",
       "    }\n",
       "\n",
       "    .dataframe tbody tr th {\n",
       "        vertical-align: top;\n",
       "    }\n",
       "\n",
       "    .dataframe thead th {\n",
       "        text-align: right;\n",
       "    }\n",
       "</style>\n",
       "<table border=\"1\" class=\"dataframe\">\n",
       "  <thead>\n",
       "    <tr style=\"text-align: right;\">\n",
       "      <th></th>\n",
       "      <th>ID</th>\n",
       "      <th>duration</th>\n",
       "      <th>correct</th>\n",
       "      <th>stim</th>\n",
       "      <th>condition</th>\n",
       "    </tr>\n",
       "  </thead>\n",
       "  <tbody>\n",
       "    <tr>\n",
       "      <th>34</th>\n",
       "      <td>4665</td>\n",
       "      <td>649.8</td>\n",
       "      <td>False</td>\n",
       "      <td>limp-tiger</td>\n",
       "      <td>Unrelated</td>\n",
       "    </tr>\n",
       "    <tr>\n",
       "      <th>38</th>\n",
       "      <td>4665</td>\n",
       "      <td>669.2</td>\n",
       "      <td>True</td>\n",
       "      <td>plang-fluwer</td>\n",
       "      <td>Nonword</td>\n",
       "    </tr>\n",
       "    <tr>\n",
       "      <th>42</th>\n",
       "      <td>4665</td>\n",
       "      <td>529.6</td>\n",
       "      <td>True</td>\n",
       "      <td>tall-short</td>\n",
       "      <td>Related</td>\n",
       "    </tr>\n",
       "    <tr>\n",
       "      <th>46</th>\n",
       "      <td>4665</td>\n",
       "      <td>553.7</td>\n",
       "      <td>True</td>\n",
       "      <td>nock-kry</td>\n",
       "      <td>Nonword</td>\n",
       "    </tr>\n",
       "    <tr>\n",
       "      <th>50</th>\n",
       "      <td>4665</td>\n",
       "      <td>561.1</td>\n",
       "      <td>True</td>\n",
       "      <td>yot-colp</td>\n",
       "      <td>Nonword</td>\n",
       "    </tr>\n",
       "  </tbody>\n",
       "</table>\n",
       "</div>"
      ],
      "text/plain": [
       "      ID  duration correct          stim  condition\n",
       "34  4665     649.8   False    limp-tiger  Unrelated\n",
       "38  4665     669.2    True  plang-fluwer    Nonword\n",
       "42  4665     529.6    True    tall-short    Related\n",
       "46  4665     553.7    True      nock-kry    Nonword\n",
       "50  4665     561.1    True      yot-colp    Nonword"
      ]
     },
     "execution_count": 17,
     "metadata": {},
     "output_type": "execute_result"
    }
   ],
   "source": [
    "df.head()"
   ]
  },
  {
   "cell_type": "code",
   "execution_count": 18,
   "metadata": {},
   "outputs": [
    {
     "data": {
      "text/html": [
       "<div>\n",
       "<style scoped>\n",
       "    .dataframe tbody tr th:only-of-type {\n",
       "        vertical-align: middle;\n",
       "    }\n",
       "\n",
       "    .dataframe tbody tr th {\n",
       "        vertical-align: top;\n",
       "    }\n",
       "\n",
       "    .dataframe thead th {\n",
       "        text-align: right;\n",
       "    }\n",
       "</style>\n",
       "<table border=\"1\" class=\"dataframe\">\n",
       "  <thead>\n",
       "    <tr style=\"text-align: right;\">\n",
       "      <th></th>\n",
       "      <th>ID</th>\n",
       "      <th>duration</th>\n",
       "      <th>correct</th>\n",
       "      <th>stim</th>\n",
       "      <th>condition</th>\n",
       "    </tr>\n",
       "  </thead>\n",
       "  <tbody>\n",
       "    <tr>\n",
       "      <th>38</th>\n",
       "      <td>4665</td>\n",
       "      <td>669.2</td>\n",
       "      <td>True</td>\n",
       "      <td>plang-fluwer</td>\n",
       "      <td>Nonword</td>\n",
       "    </tr>\n",
       "    <tr>\n",
       "      <th>42</th>\n",
       "      <td>4665</td>\n",
       "      <td>529.6</td>\n",
       "      <td>True</td>\n",
       "      <td>tall-short</td>\n",
       "      <td>Related</td>\n",
       "    </tr>\n",
       "    <tr>\n",
       "      <th>46</th>\n",
       "      <td>4665</td>\n",
       "      <td>553.7</td>\n",
       "      <td>True</td>\n",
       "      <td>nock-kry</td>\n",
       "      <td>Nonword</td>\n",
       "    </tr>\n",
       "    <tr>\n",
       "      <th>50</th>\n",
       "      <td>4665</td>\n",
       "      <td>561.1</td>\n",
       "      <td>True</td>\n",
       "      <td>yot-colp</td>\n",
       "      <td>Nonword</td>\n",
       "    </tr>\n",
       "    <tr>\n",
       "      <th>54</th>\n",
       "      <td>4665</td>\n",
       "      <td>582.2</td>\n",
       "      <td>True</td>\n",
       "      <td>luck-key</td>\n",
       "      <td>Unrelated</td>\n",
       "    </tr>\n",
       "  </tbody>\n",
       "</table>\n",
       "</div>"
      ],
      "text/plain": [
       "      ID  duration correct          stim  condition\n",
       "38  4665     669.2    True  plang-fluwer    Nonword\n",
       "42  4665     529.6    True    tall-short    Related\n",
       "46  4665     553.7    True      nock-kry    Nonword\n",
       "50  4665     561.1    True      yot-colp    Nonword\n",
       "54  4665     582.2    True      luck-key  Unrelated"
      ]
     },
     "execution_count": 18,
     "metadata": {},
     "output_type": "execute_result"
    }
   ],
   "source": [
    "# Make a new dataframe d with only the rows where the \"correct\" column is \"True\"\n",
    "d = df[df['correct'] == True]\n",
    "d.head()"
   ]
  },
  {
   "cell_type": "code",
   "execution_count": 21,
   "metadata": {},
   "outputs": [
    {
     "data": {
      "text/plain": [
       "<Axes: xlabel='condition', ylabel='duration'>"
      ]
     },
     "execution_count": 21,
     "metadata": {},
     "output_type": "execute_result"
    },
    {
     "data": {
      "image/png": "[encoded data removed]",
      "text/plain": [
       "<Figure size 640x480 with 1 Axes>"
      ]
     },
     "metadata": {},
     "output_type": "display_data"
    }
   ],
   "source": [
    "# Plot condition vs duration\n",
    "sns.pointplot(x='condition', y='duration', data=d)"
   ]
  },
  {
   "cell_type": "code",
   "execution_count": null,
   "metadata": {},
   "outputs": [],
   "source": []
  }
 ],
 "metadata": {
  "kernelspec": {
   "display_name": "p",
   "language": "python",
   "name": "python3"
  },
  "language_info": {
   "codemirror_mode": {
    "name": "ipython",
    "version": 3
   },
   "file_extension": ".py",
   "mimetype": "text/x-python",
   "name": "python",
   "nbconvert_exporter": "python",
   "pygments_lexer": "ipython3",
   "version": "3.11.3"
  }
 },
 "nbformat": 4,
 "nbformat_minor": 2
}
