{
 "cells": [
  {
   "cell_type": "markdown",
   "metadata": {},
   "source": [
    "## Experiment 2 (semantic priming)\n",
    "\n",
    "Our experiment 2 was based on the first experiment in:\n",
    "\n",
    "Besner, D., Smith, M. C., & MacLeod, C. M. (1990). Visual word recognition: A dissociation of lexical and semantic processing. _Journal of Experimental Psychology: Learning, Memory, and Cognition, 16_(5), 862.\n",
    "\n",
    "If we find the same results that they did, our results should look something like the results reported in their Table 1:\n",
    "\n",
    "<img src=\"https://github.com/ethanweed/ExPsyLing/blob/master/Slides/Images/Besner%20et%20al_1990_Table%201.png?raw=true\" width=\"\"/>\n"
   ]
  },
  {
   "cell_type": "code",
   "execution_count": 1,
   "metadata": {},
   "outputs": [],
   "source": [
    "\n",
    "\n",
    "#%pip install jsonlines\n",
    "\n",
    "import jsonlines\n",
    "import pandas as pd\n",
    "import pingouin as pg\n",
    "import seaborn as sns\n",
    "from matplotlib import pyplot as plt\n",
    "\n",
    "\n",
    "import warnings\n",
    "warnings.filterwarnings('ignore')\n",
    "\n"
   ]
  },
  {
   "cell_type": "code",
   "execution_count": 3,
   "metadata": {},
   "outputs": [],
   "source": [
    "\n",
    "# convert data json blob to csv\n",
    "\n",
    "# the code in this cell comes from michedini and their post at:\n",
    "# https://forum.cogsci.nl/discussion/8257/problem-with-jatos-result-conversion\n",
    "\n",
    "raw = '/Users/ethan/Documents/GitHub/ExPsyLing/Experiments/Experiment2/data/semantic-relatedness_2023.txt'\n",
    "pathout = '/Users/ethan/Documents/GitHub/ExPsyLing/Experiments/Experiment2/data/data.csv'\n",
    "\n",
    "i = 0\n",
    "\n",
    "with jsonlines.open(raw) as reader:\n",
    "    for line in reader:\n",
    "        if i == 0:\n",
    "            df = pd.DataFrame(line)\n",
    "            i += 1\n",
    "        else:\n",
    "            df = pd.concat([df, pd.DataFrame(line)])\n",
    "            i += 1\n",
    "\n",
    "df['url'] = df['url'].ffill()\n",
    "df['url'] = [int(x['srid']) for x in list(df['url'])]\n",
    "del df['meta']\n",
    "\n",
    "df.to_csv(pathout)"
   ]
  },
  {
   "cell_type": "code",
   "execution_count": 4,
   "metadata": {},
   "outputs": [],
   "source": [
    "# read in the data\n",
    "\n",
    "raw = pd.read_csv('/Users/ethan/Documents/GitHub/ExPsyLing/Experiments/Experiment2/data/data.csv')"
   ]
  },
  {
   "cell_type": "code",
   "execution_count": 5,
   "metadata": {},
   "outputs": [
    {
     "data": {
      "text/html": [
       "<div>\n",
       "<style scoped>\n",
       "    .dataframe tbody tr th:only-of-type {\n",
       "        vertical-align: middle;\n",
       "    }\n",
       "\n",
       "    .dataframe tbody tr th {\n",
       "        vertical-align: top;\n",
       "    }\n",
       "\n",
       "    .dataframe thead th {\n",
       "        text-align: right;\n",
       "    }\n",
       "</style>\n",
       "<table border=\"1\" class=\"dataframe\">\n",
       "  <thead>\n",
       "    <tr style=\"text-align: right;\">\n",
       "      <th></th>\n",
       "      <th>url</th>\n",
       "      <th>condition</th>\n",
       "      <th>Unnamed: 0</th>\n",
       "      <th>duration</th>\n",
       "      <th>time_run</th>\n",
       "      <th>time_render</th>\n",
       "      <th>time_show</th>\n",
       "      <th>time_end</th>\n",
       "      <th>time_commit</th>\n",
       "      <th>time_switch</th>\n",
       "      <th>counterbalance</th>\n",
       "      <th>Unnamed: 17</th>\n",
       "    </tr>\n",
       "  </thead>\n",
       "  <tbody>\n",
       "    <tr>\n",
       "      <th>0</th>\n",
       "      <td>2225</td>\n",
       "      <td>Filler</td>\n",
       "      <td>188.600000</td>\n",
       "      <td>742.948000</td>\n",
       "      <td>115093.915000</td>\n",
       "      <td>115089.456000</td>\n",
       "      <td>115106.122000</td>\n",
       "      <td>115849.070000</td>\n",
       "      <td>115852.340000</td>\n",
       "      <td>115868.591500</td>\n",
       "      <td>1.0</td>\n",
       "      <td>NaN</td>\n",
       "    </tr>\n",
       "    <tr>\n",
       "      <th>1</th>\n",
       "      <td>2225</td>\n",
       "      <td>Nonword</td>\n",
       "      <td>166.200000</td>\n",
       "      <td>704.715200</td>\n",
       "      <td>105423.140000</td>\n",
       "      <td>105419.033800</td>\n",
       "      <td>105435.699800</td>\n",
       "      <td>106140.415000</td>\n",
       "      <td>106145.090000</td>\n",
       "      <td>106160.670800</td>\n",
       "      <td>1.0</td>\n",
       "      <td>NaN</td>\n",
       "    </tr>\n",
       "    <tr>\n",
       "      <th>2</th>\n",
       "      <td>2225</td>\n",
       "      <td>Related</td>\n",
       "      <td>164.545455</td>\n",
       "      <td>598.352455</td>\n",
       "      <td>105002.818182</td>\n",
       "      <td>104998.227000</td>\n",
       "      <td>105014.893000</td>\n",
       "      <td>105613.245455</td>\n",
       "      <td>105616.427273</td>\n",
       "      <td>105632.292545</td>\n",
       "      <td>1.0</td>\n",
       "      <td>NaN</td>\n",
       "    </tr>\n",
       "    <tr>\n",
       "      <th>3</th>\n",
       "      <td>2225</td>\n",
       "      <td>Unrelated</td>\n",
       "      <td>153.500000</td>\n",
       "      <td>757.481125</td>\n",
       "      <td>100174.556250</td>\n",
       "      <td>100170.590375</td>\n",
       "      <td>100187.256375</td>\n",
       "      <td>100944.737500</td>\n",
       "      <td>100948.012500</td>\n",
       "      <td>100963.267000</td>\n",
       "      <td>1.0</td>\n",
       "      <td>NaN</td>\n",
       "    </tr>\n",
       "    <tr>\n",
       "      <th>4</th>\n",
       "      <td>2226</td>\n",
       "      <td>Filler</td>\n",
       "      <td>213.250000</td>\n",
       "      <td>640.613000</td>\n",
       "      <td>125703.037500</td>\n",
       "      <td>125700.021000</td>\n",
       "      <td>125716.687000</td>\n",
       "      <td>126357.300000</td>\n",
       "      <td>126364.425000</td>\n",
       "      <td>126377.077250</td>\n",
       "      <td>1.0</td>\n",
       "      <td>NaN</td>\n",
       "    </tr>\n",
       "  </tbody>\n",
       "</table>\n",
       "</div>"
      ],
      "text/plain": [
       "    url  condition  Unnamed: 0    duration       time_run    time_render  \\\n",
       "0  2225     Filler  188.600000  742.948000  115093.915000  115089.456000   \n",
       "1  2225    Nonword  166.200000  704.715200  105423.140000  105419.033800   \n",
       "2  2225    Related  164.545455  598.352455  105002.818182  104998.227000   \n",
       "3  2225  Unrelated  153.500000  757.481125  100174.556250  100170.590375   \n",
       "4  2226     Filler  213.250000  640.613000  125703.037500  125700.021000   \n",
       "\n",
       "       time_show       time_end    time_commit    time_switch  counterbalance  \\\n",
       "0  115106.122000  115849.070000  115852.340000  115868.591500             1.0   \n",
       "1  105435.699800  106140.415000  106145.090000  106160.670800             1.0   \n",
       "2  105014.893000  105613.245455  105616.427273  105632.292545             1.0   \n",
       "3  100187.256375  100944.737500  100948.012500  100963.267000             1.0   \n",
       "4  125716.687000  126357.300000  126364.425000  126377.077250             1.0   \n",
       "\n",
       "   Unnamed: 17  \n",
       "0          NaN  \n",
       "1          NaN  \n",
       "2          NaN  \n",
       "3          NaN  \n",
       "4          NaN  "
      ]
     },
     "execution_count": 5,
     "metadata": {},
     "output_type": "execute_result"
    }
   ],
   "source": [
    "# some preprocessing\n",
    "\n",
    "\n",
    "df = raw[raw['sender'] == 'Stimulus']                               # get only rows with RT data\n",
    "df = df[df['correct'] == True]                                      # get only correct responses\n",
    "\n",
    "data = df[['sender', 'url', 'duration', 'condition']].copy()        # get only the columns we need\n",
    "\n",
    "\n",
    "data_agg = df.groupby(['url', 'condition']).mean().reset_index()    # get aggregated data (RT means per participant per condition)\n",
    "data_agg.head()\n"
   ]
  },
  {
   "cell_type": "code",
   "execution_count": 6,
   "metadata": {},
   "outputs": [
    {
     "data": {
      "text/plain": [
       "<Axes: xlabel='condition', ylabel='duration'>"
      ]
     },
     "execution_count": 6,
     "metadata": {},
     "output_type": "execute_result"
    },
    {
     "data": {
      "image/png": "[encoded data removed]",
      "text/plain": [
       "<Figure size 640x480 with 1 Axes>"
      ]
     },
     "metadata": {},
     "output_type": "display_data"
    }
   ],
   "source": [
    "# inspect the data\n",
    "\n",
    "sns.pointplot(data = data_agg, x='condition', y = 'duration')"
   ]
  },
  {
   "cell_type": "code",
   "execution_count": 35,
   "metadata": {},
   "outputs": [],
   "source": [
    "# Remove filler trials\n",
    "data_agg = data_agg[data_agg['condition'] != 'Filler']"
   ]
  },
  {
   "cell_type": "code",
   "execution_count": 50,
   "metadata": {},
   "outputs": [
    {
     "data": {
      "text/plain": [
       "<Axes: xlabel='condition', ylabel='duration'>"
      ]
     },
     "execution_count": 50,
     "metadata": {},
     "output_type": "execute_result"
    },
    {
     "data": {
      "image/png": "[encoded data removed]",
      "text/plain": [
       "<Figure size 640x480 with 1 Axes>"
      ]
     },
     "metadata": {},
     "output_type": "display_data"
    }
   ],
   "source": [
    "# Look at the means together with the actual datapoints\n",
    "\n",
    "order = ['Nonword', 'Unrelated', 'Related']                                     # define the order we want the x-axis categories to have\n",
    "sns.pointplot(data = data_agg, x='condition', y = 'duration', order=order)\n",
    "sns.stripplot(data = data_agg, x='condition', y = 'duration', order=order)"
   ]
  },
  {
   "cell_type": "code",
   "execution_count": 54,
   "metadata": {},
   "outputs": [
    {
     "data": {
      "text/plain": [
       "<Axes: xlabel='condition', ylabel='duration'>"
      ]
     },
     "execution_count": 54,
     "metadata": {},
     "output_type": "execute_result"
    },
    {
     "data": {
      "image/png": "[encoded data removed]",
      "text/plain": [
       "<Figure size 640x480 with 1 Axes>"
      ]
     },
     "metadata": {},
     "output_type": "display_data"
    }
   ],
   "source": [
    "# Remove outliers\n",
    "\n",
    "# looking at boxplots is one way to identify outliers\n",
    "#sns.boxplot(data = data_agg, x='condition', y = 'duration', order=order)\n",
    "\n",
    "# get only RT's less than 2 seconds\n",
    "data_agg = data_agg[data_agg['duration'] < 2000]\n",
    "\n",
    "order = ['Nonword', 'Unrelated', 'Related']\n",
    "sns.pointplot(data = data_agg, x='condition', y = 'duration', order=order)\n",
    "sns.stripplot(data = data_agg, x='condition', y = 'duration', order=order)"
   ]
  },
  {
   "cell_type": "code",
   "execution_count": 66,
   "metadata": {},
   "outputs": [
    {
     "data": {
      "text/html": [
       "<div>\n",
       "<style scoped>\n",
       "    .dataframe tbody tr th:only-of-type {\n",
       "        vertical-align: middle;\n",
       "    }\n",
       "\n",
       "    .dataframe tbody tr th {\n",
       "        vertical-align: top;\n",
       "    }\n",
       "\n",
       "    .dataframe thead th {\n",
       "        text-align: right;\n",
       "    }\n",
       "</style>\n",
       "<table border=\"1\" class=\"dataframe\">\n",
       "  <thead>\n",
       "    <tr style=\"text-align: right;\">\n",
       "      <th></th>\n",
       "      <th>Source</th>\n",
       "      <th>ddof1</th>\n",
       "      <th>ddof2</th>\n",
       "      <th>F</th>\n",
       "      <th>p-unc</th>\n",
       "      <th>p-GG-corr</th>\n",
       "      <th>ng2</th>\n",
       "      <th>eps</th>\n",
       "      <th>sphericity</th>\n",
       "      <th>W-spher</th>\n",
       "      <th>p-spher</th>\n",
       "    </tr>\n",
       "  </thead>\n",
       "  <tbody>\n",
       "    <tr>\n",
       "      <th>0</th>\n",
       "      <td>condition</td>\n",
       "      <td>2</td>\n",
       "      <td>54</td>\n",
       "      <td>5.082738</td>\n",
       "      <td>0.009495</td>\n",
       "      <td>0.026863</td>\n",
       "      <td>0.041616</td>\n",
       "      <td>0.577301</td>\n",
       "      <td>False</td>\n",
       "      <td>0.267801</td>\n",
       "      <td>3.643858e-08</td>\n",
       "    </tr>\n",
       "  </tbody>\n",
       "</table>\n",
       "</div>"
      ],
      "text/plain": [
       "      Source  ddof1  ddof2         F     p-unc  p-GG-corr       ng2       eps  \\\n",
       "0  condition      2     54  5.082738  0.009495   0.026863  0.041616  0.577301   \n",
       "\n",
       "   sphericity   W-spher       p-spher  \n",
       "0       False  0.267801  3.643858e-08  "
      ]
     },
     "execution_count": 66,
     "metadata": {},
     "output_type": "execute_result"
    }
   ],
   "source": [
    "# Repeated-measures ANOVA\n",
    "# pingouin prefers (requires, I think) the full, non-aggregated dataset for ANOVA, so we'll go back to that \n",
    "data = data[data['condition'] != 'Filler']          # remove filler trials from full dataset\n",
    "\n",
    "pg.rm_anova(data=data[data['duration'] < 2000], within='condition', subject='url', dv = 'duration')     # rm ANOVA after removing outliers"
   ]
  },
  {
   "cell_type": "markdown",
   "metadata": {},
   "source": [
    "Some sanity checks"
   ]
  },
  {
   "cell_type": "code",
   "execution_count": 71,
   "metadata": {},
   "outputs": [
    {
     "data": {
      "text/plain": [
       "28"
      ]
     },
     "execution_count": 71,
     "metadata": {},
     "output_type": "execute_result"
    }
   ],
   "source": [
    "# Number of participants\n",
    "len(data[data['duration'] < 2000]['url'].unique())"
   ]
  },
  {
   "cell_type": "code",
   "execution_count": 72,
   "metadata": {},
   "outputs": [
    {
     "data": {
      "text/plain": [
       "2"
      ]
     },
     "execution_count": 72,
     "metadata": {},
     "output_type": "execute_result"
    }
   ],
   "source": [
    "# ddof1 = number of conditions -1\n",
    "len(data['condition'].unique()) -1"
   ]
  },
  {
   "cell_type": "code",
   "execution_count": 73,
   "metadata": {},
   "outputs": [
    {
     "data": {
      "text/plain": [
       "54"
      ]
     },
     "execution_count": 73,
     "metadata": {},
     "output_type": "execute_result"
    }
   ],
   "source": [
    "\n",
    "# ddof2 = N-1 * number of conditions\n",
    "(len(data['url'].unique()) - 1) * (len(data['condition'].unique())-1)"
   ]
  },
  {
   "cell_type": "code",
   "execution_count": 81,
   "metadata": {},
   "outputs": [
    {
     "name": "stdout",
     "output_type": "stream",
     "text": [
      "Family-wise error rate: 0.1426\n"
     ]
    }
   ],
   "source": [
    "# Family-wise error rate\n",
    "\n",
    "alpha = 0.05\n",
    "number_of_compairisons = 3\n",
    "\n",
    "fwer = 1-((1-alpha)**number_of_compairisons)\n",
    "print('Family-wise error rate:', round(fwer, 4))\n",
    "\n"
   ]
  },
  {
   "cell_type": "code",
   "execution_count": 85,
   "metadata": {},
   "outputs": [
    {
     "data": {
      "text/html": [
       "<div>\n",
       "<style scoped>\n",
       "    .dataframe tbody tr th:only-of-type {\n",
       "        vertical-align: middle;\n",
       "    }\n",
       "\n",
       "    .dataframe tbody tr th {\n",
       "        vertical-align: top;\n",
       "    }\n",
       "\n",
       "    .dataframe thead th {\n",
       "        text-align: right;\n",
       "    }\n",
       "</style>\n",
       "<table border=\"1\" class=\"dataframe\">\n",
       "  <thead>\n",
       "    <tr style=\"text-align: right;\">\n",
       "      <th></th>\n",
       "      <th>Contrast</th>\n",
       "      <th>A</th>\n",
       "      <th>B</th>\n",
       "      <th>Paired</th>\n",
       "      <th>Parametric</th>\n",
       "      <th>T</th>\n",
       "      <th>dof</th>\n",
       "      <th>alternative</th>\n",
       "      <th>p-unc</th>\n",
       "      <th>p-corr</th>\n",
       "      <th>p-adjust</th>\n",
       "      <th>BF10</th>\n",
       "      <th>hedges</th>\n",
       "    </tr>\n",
       "  </thead>\n",
       "  <tbody>\n",
       "    <tr>\n",
       "      <th>0</th>\n",
       "      <td>condition</td>\n",
       "      <td>Nonword</td>\n",
       "      <td>Related</td>\n",
       "      <td>True</td>\n",
       "      <td>True</td>\n",
       "      <td>3.766386</td>\n",
       "      <td>27.0</td>\n",
       "      <td>two-sided</td>\n",
       "      <td>0.000818</td>\n",
       "      <td>0.002455</td>\n",
       "      <td>bonf</td>\n",
       "      <td>40.267</td>\n",
       "      <td>0.426541</td>\n",
       "    </tr>\n",
       "    <tr>\n",
       "      <th>1</th>\n",
       "      <td>condition</td>\n",
       "      <td>Nonword</td>\n",
       "      <td>Unrelated</td>\n",
       "      <td>True</td>\n",
       "      <td>True</td>\n",
       "      <td>1.221283</td>\n",
       "      <td>27.0</td>\n",
       "      <td>two-sided</td>\n",
       "      <td>0.232536</td>\n",
       "      <td>0.697609</td>\n",
       "      <td>bonf</td>\n",
       "      <td>0.392</td>\n",
       "      <td>0.163416</td>\n",
       "    </tr>\n",
       "    <tr>\n",
       "      <th>2</th>\n",
       "      <td>condition</td>\n",
       "      <td>Related</td>\n",
       "      <td>Unrelated</td>\n",
       "      <td>True</td>\n",
       "      <td>True</td>\n",
       "      <td>-4.024971</td>\n",
       "      <td>27.0</td>\n",
       "      <td>two-sided</td>\n",
       "      <td>0.000414</td>\n",
       "      <td>0.001243</td>\n",
       "      <td>bonf</td>\n",
       "      <td>73.637</td>\n",
       "      <td>-0.334434</td>\n",
       "    </tr>\n",
       "  </tbody>\n",
       "</table>\n",
       "</div>"
      ],
      "text/plain": [
       "    Contrast        A          B  Paired  Parametric         T   dof  \\\n",
       "0  condition  Nonword    Related    True        True  3.766386  27.0   \n",
       "1  condition  Nonword  Unrelated    True        True  1.221283  27.0   \n",
       "2  condition  Related  Unrelated    True        True -4.024971  27.0   \n",
       "\n",
       "  alternative     p-unc    p-corr p-adjust    BF10    hedges  \n",
       "0   two-sided  0.000818  0.002455     bonf  40.267  0.426541  \n",
       "1   two-sided  0.232536  0.697609     bonf   0.392  0.163416  \n",
       "2   two-sided  0.000414  0.001243     bonf  73.637 -0.334434  "
      ]
     },
     "execution_count": 85,
     "metadata": {},
     "output_type": "execute_result"
    }
   ],
   "source": [
    "pg.pairwise_tests(data=data, dv='duration', between=None, within='condition', subject='url', alpha=0.05, alternative='two-sided', padjust='bonf')"
   ]
  },
  {
   "cell_type": "code",
   "execution_count": 8,
   "metadata": {},
   "outputs": [
    {
     "data": {
      "text/plain": [
       "True     2094\n",
       "False     222\n",
       "Name: correct, dtype: int64"
      ]
     },
     "execution_count": 8,
     "metadata": {},
     "output_type": "execute_result"
    }
   ],
   "source": [
    "raw.correct.value_counts()"
   ]
  },
  {
   "cell_type": "code",
   "execution_count": 9,
   "metadata": {},
   "outputs": [
    {
     "data": {
      "text/plain": [
       "['Unnamed: 0',\n",
       " 'url',\n",
       " 'sender',\n",
       " 'sender_type',\n",
       " 'sender_id',\n",
       " 'response',\n",
       " 'response_action',\n",
       " 'ended_on',\n",
       " 'duration',\n",
       " 'time_run',\n",
       " 'time_render',\n",
       " 'time_show',\n",
       " 'time_end',\n",
       " 'time_commit',\n",
       " 'timestamp',\n",
       " 'time_switch',\n",
       " 'counterbalance',\n",
       " 'Unnamed: 17',\n",
       " 'stim',\n",
       " 'condition',\n",
       " 'block',\n",
       " 'correct_response',\n",
       " 'correctResponse',\n",
       " 'correct']"
      ]
     },
     "execution_count": 9,
     "metadata": {},
     "output_type": "execute_result"
    }
   ],
   "source": [
    "list(df)"
   ]
  },
  {
   "cell_type": "code",
   "execution_count": null,
   "metadata": {},
   "outputs": [],
   "source": []
  }
 ],
 "metadata": {
  "kernelspec": {
   "display_name": "p",
   "language": "python",
   "name": "python3"
  },
  "language_info": {
   "codemirror_mode": {
    "name": "ipython",
    "version": 3
   },
   "file_extension": ".py",
   "mimetype": "text/x-python",
   "name": "python",
   "nbconvert_exporter": "python",
   "pygments_lexer": "ipython3",
   "version": "3.11.3"
  }
 },
 "nbformat": 4,
 "nbformat_minor": 2
}
