{
 "cells": [
  {
   "cell_type": "markdown",
   "metadata": {},
   "source": [
    "# Experiment 1 \n",
    "## The Influence of Stimulus Onset Asynchrony on Masked Priming Effect in Visual Word Recognition"
   ]
  },
  {
   "cell_type": "markdown",
   "metadata": {},
   "source": [
    "Here is some cleaned up and commented code to replicate what we did in class today.\n",
    "\n",
    "\n",
    "If necessary (e.g. working on UCloud), install the necessary packages"
   ]
  },
  {
   "cell_type": "code",
   "execution_count": 11,
   "metadata": {},
   "outputs": [],
   "source": [
    "import warnings\n",
    "\n",
    "#%pip install jsonlines\n",
    "#%pip install seaborn\n",
    "warnings.filterwarnings(\"ignore\")"
   ]
  },
  {
   "cell_type": "markdown",
   "metadata": {},
   "source": [
    "Import the libraries we will need"
   ]
  },
  {
   "cell_type": "code",
   "execution_count": 2,
   "metadata": {},
   "outputs": [],
   "source": [
    "import jsonlines                        # used to turn the huge glob of data from lab.js into a pandas dataframe\n",
    "import pandas as pd                     # used to organize the data in columns and rows\n",
    "import seaborn as sns                   # used to make pretty pictures :-)\n",
    "from matplotlib import pyplot as plt    # used to touch up the figures that `seaborn`` makes"
   ]
  },
  {
   "cell_type": "markdown",
   "metadata": {},
   "source": [
    "Wrangle the data into a form we can use to make figures with `seaborn`"
   ]
  },
  {
   "cell_type": "code",
   "execution_count": 3,
   "metadata": {},
   "outputs": [],
   "source": [
    "#raw = '/PATH/TO/YOUR/DATA/jatos_results_20230920125013.txt'                                                                 # your path  \n",
    "\n",
    "#raw = '/Users/ethan/Documents/GitHub/ExPsyLingPrivate/Experiments/Experiment1/data/jatos_results_20230920125013.txt'  # my path\n",
    "raw = '/Users/ethan/Documents/GitHub/ExPsyLing/Experiments/Experiment 1/data/data_ExPsyLing_2024.txt'\n",
    "\n",
    "###########################################################################\n",
    "\n",
    "# I copied this section from here: https://forum.cogsci.nl/discussion/8257/problem-with-jatos-result-conversion\n",
    "# I think I would write it slightly differently, but hey, it works, and I didn't know how to do this before I found this post, so I'm not complaining\n",
    "\n",
    "i = 0                                                          # set counter variable \"i\" to zero\n",
    "\n",
    "with jsonlines.open(raw) as reader:                            # make a \"reader\" variable with the lab.js data (which is stored in \"JSON\" format)\n",
    "    for line in reader:                                        # loop through every line in the lab.js JSON data\n",
    "        if i == 0:                                             # check if i equals zero. If it does, then\n",
    "            df = pd.DataFrame(line)                             # make a new pandas dataframe called \"df\" \n",
    "            i += 1                                              # add 1 to i\n",
    "        else:                                                  # if i does not equal zero \n",
    "            df = pd.concat([df, pd.DataFrame(line)])           # get the next line of the json file, convert it to a dataframe, and stick it on the bottom of \"df\" \n",
    "            i += 1                                            # I don't think you actually  need this line. If it is running, then i already does not equal zero, so what's the point?\n",
    "\n",
    "df['url'] = df['url'].ffill()                                   # fill in the column with the participant ID numbers\n",
    "df['url'] = [int(x['srid']) for x in list(df['url'])]           # get the ID numbers out of the \"dictionaries\" and re-write the url column with the extracted ID numbers\n",
    "df.rename(columns={'url': 'ID'}, inplace=True)                  # rename the url column as \"ID\"\n",
    "del df['meta']                                                  # delete the \"meta\" column. I put this here just to show you how to delete a column\n",
    "\n",
    "\n",
    "###########################################################################\n",
    "\n",
    "\n",
    "df = df[df['sender'] == 'target']                           # make a dataframe with only the data from the \"target\" rows\n",
    "df = df[df['condition'] != 'practice']                      # make a dataframe that only includes the \"real\" data (not the data from the practice round)\n",
    "\n",
    "df['response_action'] = df['response_action'].replace('keypress(n)', 'n') \n",
    "df['response_action'] = df['response_action'].replace('keypress(m)', 'm')\n",
    "df['correct'] = df['response_action'] == df['correct_response']\n",
    "\n",
    "\n"
   ]
  },
  {
   "cell_type": "code",
   "execution_count": 20,
   "metadata": {},
   "outputs": [],
   "source": [
    "# inspect the data"
   ]
  },
  {
   "cell_type": "code",
   "execution_count": 65,
   "metadata": {},
   "outputs": [],
   "source": [
    "#df.to_csv('PATH/TP/WHERE/I/WANT/TO/SAVE/MY/DATA/raw_data.csv') # save the raw data as a csv file, if you want"
   ]
  },
  {
   "cell_type": "markdown",
   "metadata": {},
   "source": [
    "Some sanity checks."
   ]
  },
  {
   "cell_type": "code",
   "execution_count": 5,
   "metadata": {},
   "outputs": [],
   "source": [
    "# number of participants\n"
   ]
  },
  {
   "cell_type": "code",
   "execution_count": 6,
   "metadata": {},
   "outputs": [],
   "source": [
    "# are there only data from \"target\" events (when participants responded to the target stimuli)?\n"
   ]
  },
  {
   "cell_type": "code",
   "execution_count": 7,
   "metadata": {},
   "outputs": [],
   "source": [
    "# how many of each combination of conditions are there?"
   ]
  },
  {
   "cell_type": "code",
   "execution_count": 8,
   "metadata": {},
   "outputs": [],
   "source": [
    "# how many correct (True) vs. incorrect answers are there?\n"
   ]
  },
  {
   "cell_type": "markdown",
   "metadata": {},
   "source": [
    "There are other checks you could do. Think of some, and try them!"
   ]
  },
  {
   "cell_type": "code",
   "execution_count": 16,
   "metadata": {},
   "outputs": [],
   "source": [
    "# remove rows with incorrect responses\n",
    "df = df[df['correct'] == True]"
   ]
  },
  {
   "cell_type": "code",
   "execution_count": 19,
   "metadata": {},
   "outputs": [],
   "source": [
    "# Make a plot of the basic effects with seaborn"
   ]
  },
  {
   "cell_type": "markdown",
   "metadata": {},
   "source": [
    "There are a few easy things we could do to improve our plots..."
   ]
  },
  {
   "cell_type": "markdown",
   "metadata": {},
   "source": []
  }
 ],
 "metadata": {
  "kernelspec": {
   "display_name": "p",
   "language": "python",
   "name": "python3"
  },
  "language_info": {
   "codemirror_mode": {
    "name": "ipython",
    "version": 3
   },
   "file_extension": ".py",
   "mimetype": "text/x-python",
   "name": "python",
   "nbconvert_exporter": "python",
   "pygments_lexer": "ipython3",
   "version": "3.11.3"
  },
  "orig_nbformat": 4
 },
 "nbformat": 4,
 "nbformat_minor": 2
}
