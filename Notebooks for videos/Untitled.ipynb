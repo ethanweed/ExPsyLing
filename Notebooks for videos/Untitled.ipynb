{
 "cells": [
  {
   "cell_type": "code",
   "execution_count": 3,
   "id": "ebf0651e",
   "metadata": {},
   "outputs": [],
   "source": [
    "sales = 350"
   ]
  },
  {
   "cell_type": "code",
   "execution_count": 4,
   "id": "5ccbe637",
   "metadata": {},
   "outputs": [
    {
     "data": {
      "text/plain": [
       "350"
      ]
     },
     "execution_count": 4,
     "metadata": {},
     "output_type": "execute_result"
    }
   ],
   "source": [
    "sales"
   ]
  },
  {
   "cell_type": "code",
   "execution_count": 5,
   "id": "6ec6a859",
   "metadata": {},
   "outputs": [],
   "source": [
    "sales = 112"
   ]
  },
  {
   "cell_type": "code",
   "execution_count": 6,
   "id": "8cd85162",
   "metadata": {},
   "outputs": [
    {
     "data": {
      "text/plain": [
       "112"
      ]
     },
     "execution_count": 6,
     "metadata": {},
     "output_type": "execute_result"
    }
   ],
   "source": [
    "sales"
   ]
  },
  {
   "cell_type": "code",
   "execution_count": 7,
   "id": "c3fee26a",
   "metadata": {},
   "outputs": [
    {
     "data": {
      "text/plain": [
       "int"
      ]
     },
     "execution_count": 7,
     "metadata": {},
     "output_type": "execute_result"
    }
   ],
   "source": [
    "type(sales)"
   ]
  },
  {
   "cell_type": "code",
   "execution_count": 9,
   "id": "3154bd53",
   "metadata": {},
   "outputs": [],
   "source": [
    "sales = 112.7"
   ]
  },
  {
   "cell_type": "code",
   "execution_count": 10,
   "id": "2ccdf91b",
   "metadata": {},
   "outputs": [
    {
     "data": {
      "text/plain": [
       "float"
      ]
     },
     "execution_count": 10,
     "metadata": {},
     "output_type": "execute_result"
    }
   ],
   "source": [
    "type(sales)"
   ]
  },
  {
   "cell_type": "code",
   "execution_count": 11,
   "id": "186faca0",
   "metadata": {},
   "outputs": [],
   "source": [
    "sales = \"one\""
   ]
  },
  {
   "cell_type": "code",
   "execution_count": 12,
   "id": "3448a4c6",
   "metadata": {},
   "outputs": [
    {
     "data": {
      "text/plain": [
       "str"
      ]
     },
     "execution_count": 12,
     "metadata": {},
     "output_type": "execute_result"
    }
   ],
   "source": [
    "type(sales)"
   ]
  },
  {
   "cell_type": "code",
   "execution_count": 13,
   "id": "68a22001",
   "metadata": {},
   "outputs": [],
   "source": [
    "sales = 4"
   ]
  },
  {
   "cell_type": "code",
   "execution_count": 14,
   "id": "dbfc375a",
   "metadata": {},
   "outputs": [
    {
     "data": {
      "text/plain": [
       "int"
      ]
     },
     "execution_count": 14,
     "metadata": {},
     "output_type": "execute_result"
    }
   ],
   "source": [
    "type(sales)"
   ]
  },
  {
   "cell_type": "code",
   "execution_count": 15,
   "id": "80cd298a",
   "metadata": {},
   "outputs": [],
   "source": [
    "sales = \"4\""
   ]
  },
  {
   "cell_type": "code",
   "execution_count": 16,
   "id": "780dfd8e",
   "metadata": {},
   "outputs": [
    {
     "data": {
      "text/plain": [
       "str"
      ]
     },
     "execution_count": 16,
     "metadata": {},
     "output_type": "execute_result"
    }
   ],
   "source": [
    "type(sales)"
   ]
  },
  {
   "cell_type": "code",
   "execution_count": 17,
   "id": "bf260194",
   "metadata": {},
   "outputs": [],
   "source": [
    "shopping = [\"apples\", \"pears\", \"bananas\"] # a list strings\n",
    "scores = [90, 65, 100, 82]                # a list of integers\n",
    "mixed = [\"cats\", 7, 309.42]               # a list of mixed strings, integers, and floats\n",
    "combined = [shopping, scores, mixed]      # a list of lists!"
   ]
  },
  {
   "cell_type": "code",
   "execution_count": 18,
   "id": "ec88e61b",
   "metadata": {},
   "outputs": [
    {
     "data": {
      "text/plain": [
       "['apples', 'pears', 'bananas']"
      ]
     },
     "execution_count": 18,
     "metadata": {},
     "output_type": "execute_result"
    }
   ],
   "source": [
    "shopping"
   ]
  },
  {
   "cell_type": "code",
   "execution_count": 19,
   "id": "aa845a21",
   "metadata": {},
   "outputs": [
    {
     "data": {
      "text/plain": [
       "list"
      ]
     },
     "execution_count": 19,
     "metadata": {},
     "output_type": "execute_result"
    }
   ],
   "source": [
    "type(shopping)"
   ]
  },
  {
   "cell_type": "code",
   "execution_count": 20,
   "id": "97dbd3be",
   "metadata": {},
   "outputs": [
    {
     "data": {
      "text/plain": [
       "[90, 65, 100, 82]"
      ]
     },
     "execution_count": 20,
     "metadata": {},
     "output_type": "execute_result"
    }
   ],
   "source": [
    "scores"
   ]
  },
  {
   "cell_type": "code",
   "execution_count": 21,
   "id": "6378d89a",
   "metadata": {},
   "outputs": [
    {
     "data": {
      "text/plain": [
       "['cats', 7, 309.42]"
      ]
     },
     "execution_count": 21,
     "metadata": {},
     "output_type": "execute_result"
    }
   ],
   "source": [
    "mixed"
   ]
  },
  {
   "cell_type": "code",
   "execution_count": 22,
   "id": "a93c70e3",
   "metadata": {},
   "outputs": [
    {
     "data": {
      "text/plain": [
       "[['apples', 'pears', 'bananas'], [90, 65, 100, 82], ['cats', 7, 309.42]]"
      ]
     },
     "execution_count": 22,
     "metadata": {},
     "output_type": "execute_result"
    }
   ],
   "source": [
    "combined"
   ]
  },
  {
   "cell_type": "code",
   "execution_count": 23,
   "id": "57916fca",
   "metadata": {},
   "outputs": [
    {
     "data": {
      "text/plain": [
       "['apples', 'pears', 'bananas']"
      ]
     },
     "execution_count": 23,
     "metadata": {},
     "output_type": "execute_result"
    }
   ],
   "source": [
    "shopping"
   ]
  },
  {
   "cell_type": "code",
   "execution_count": 24,
   "id": "9149aa7f",
   "metadata": {},
   "outputs": [
    {
     "data": {
      "text/plain": [
       "'pears'"
      ]
     },
     "execution_count": 24,
     "metadata": {},
     "output_type": "execute_result"
    }
   ],
   "source": [
    "shopping[1]"
   ]
  },
  {
   "cell_type": "code",
   "execution_count": 25,
   "id": "0e30f4d5",
   "metadata": {},
   "outputs": [
    {
     "data": {
      "text/plain": [
       "'apples'"
      ]
     },
     "execution_count": 25,
     "metadata": {},
     "output_type": "execute_result"
    }
   ],
   "source": [
    "shopping[0]"
   ]
  },
  {
   "cell_type": "code",
   "execution_count": 26,
   "id": "26bb0e2f",
   "metadata": {},
   "outputs": [
    {
     "data": {
      "text/plain": [
       "'apples'"
      ]
     },
     "execution_count": 26,
     "metadata": {},
     "output_type": "execute_result"
    }
   ],
   "source": [
    "shopping[0]"
   ]
  },
  {
   "cell_type": "code",
   "execution_count": 27,
   "id": "1e578d36",
   "metadata": {},
   "outputs": [
    {
     "data": {
      "text/plain": [
       "'pears'"
      ]
     },
     "execution_count": 27,
     "metadata": {},
     "output_type": "execute_result"
    }
   ],
   "source": [
    "shopping[1]"
   ]
  },
  {
   "cell_type": "code",
   "execution_count": 28,
   "id": "bf7b73b3",
   "metadata": {},
   "outputs": [
    {
     "data": {
      "text/plain": [
       "'bananas'"
      ]
     },
     "execution_count": 28,
     "metadata": {},
     "output_type": "execute_result"
    }
   ],
   "source": [
    "shopping[2]"
   ]
  },
  {
   "cell_type": "code",
   "execution_count": 29,
   "id": "cd4fc7dc",
   "metadata": {},
   "outputs": [
    {
     "data": {
      "text/plain": [
       "'bananas'"
      ]
     },
     "execution_count": 29,
     "metadata": {},
     "output_type": "execute_result"
    }
   ],
   "source": [
    "shopping[-1]"
   ]
  },
  {
   "cell_type": "code",
   "execution_count": 30,
   "id": "dedffc48",
   "metadata": {},
   "outputs": [
    {
     "data": {
      "text/plain": [
       "'apples'"
      ]
     },
     "execution_count": 30,
     "metadata": {},
     "output_type": "execute_result"
    }
   ],
   "source": [
    "shopping[-3]"
   ]
  },
  {
   "cell_type": "code",
   "execution_count": 31,
   "id": "976a66d5",
   "metadata": {},
   "outputs": [
    {
     "data": {
      "text/plain": [
       "[['apples', 'pears', 'bananas'], [90, 65, 100, 82], ['cats', 7, 309.42]]"
      ]
     },
     "execution_count": 31,
     "metadata": {},
     "output_type": "execute_result"
    }
   ],
   "source": [
    "combined"
   ]
  },
  {
   "cell_type": "code",
   "execution_count": 32,
   "id": "a179ba9f",
   "metadata": {},
   "outputs": [
    {
     "data": {
      "text/plain": [
       "['apples', 'pears', 'bananas']"
      ]
     },
     "execution_count": 32,
     "metadata": {},
     "output_type": "execute_result"
    }
   ],
   "source": [
    "combined[0]"
   ]
  },
  {
   "cell_type": "code",
   "execution_count": 33,
   "id": "fffbc5bf",
   "metadata": {},
   "outputs": [
    {
     "data": {
      "text/plain": [
       "'apples'"
      ]
     },
     "execution_count": 33,
     "metadata": {},
     "output_type": "execute_result"
    }
   ],
   "source": [
    "combined[0][0]"
   ]
  },
  {
   "cell_type": "code",
   "execution_count": 34,
   "id": "901f3c76",
   "metadata": {},
   "outputs": [
    {
     "data": {
      "text/plain": [
       "list"
      ]
     },
     "execution_count": 34,
     "metadata": {},
     "output_type": "execute_result"
    }
   ],
   "source": [
    "type(combined)"
   ]
  },
  {
   "cell_type": "code",
   "execution_count": 35,
   "id": "e2a072fb",
   "metadata": {},
   "outputs": [
    {
     "data": {
      "text/plain": [
       "list"
      ]
     },
     "execution_count": 35,
     "metadata": {},
     "output_type": "execute_result"
    }
   ],
   "source": [
    "type(combined[0])"
   ]
  },
  {
   "cell_type": "code",
   "execution_count": 36,
   "id": "a48b5d8a",
   "metadata": {},
   "outputs": [
    {
     "data": {
      "text/plain": [
       "str"
      ]
     },
     "execution_count": 36,
     "metadata": {},
     "output_type": "execute_result"
    }
   ],
   "source": [
    "type(combined[0][0])"
   ]
  },
  {
   "cell_type": "code",
   "execution_count": null,
   "id": "5702b8d8",
   "metadata": {},
   "outputs": [],
   "source": []
  }
 ],
 "metadata": {
  "kernelspec": {
   "display_name": "Python 3 (ipykernel)",
   "language": "python",
   "name": "python3"
  },
  "language_info": {
   "codemirror_mode": {
    "name": "ipython",
    "version": 3
   },
   "file_extension": ".py",
   "mimetype": "text/x-python",
   "name": "python",
   "nbconvert_exporter": "python",
   "pygments_lexer": "ipython3",
   "version": "3.10.5"
  }
 },
 "nbformat": 4,
 "nbformat_minor": 5
}
