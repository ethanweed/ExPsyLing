{
 "cells": [
  {
   "cell_type": "markdown",
   "id": "00aba3db",
   "metadata": {},
   "source": [
    "# Lab_05: Explore data visually"
   ]
  },
  {
   "cell_type": "markdown",
   "id": "03c07dca",
   "metadata": {},
   "source": [
    "## Challenge 0: Make a figure for Lab Report 1\n",
    "\n",
    "Now we have explored our own data a little bit, and you have seen lots of examples of different kinds of plots that can be made. Now try to make the plot that best tells the story of these data."
   ]
  },
  {
   "cell_type": "code",
   "execution_count": null,
   "id": "b478b3b4",
   "metadata": {},
   "outputs": [],
   "source": [
    "# Start by importing the data...\n",
    "\n",
    "import pandas as pd\n",
    "import seaborn as sns\n",
    "from matplotlib import pyplot as plt\n",
    "\n",
    "file = 'https://raw.githubusercontent.com/ethanweed/ExPsyLing/master/Experiments/LexicalDecision/LexicalDecision_1/data/Lab_report_01.csv'\n",
    "rawdata = pd.read_csv(file)\n",
    "rawdata.head()"
   ]
  },
  {
   "cell_type": "markdown",
   "id": "3282d7af",
   "metadata": {},
   "source": [
    "## Challenge 1: Explore the MEGALEX data\n",
    "\n",
    "Take a look at the megalex data (described in Ferrand et al, 2010, available in the course site on Brightspace), which tests native French speakers, and compare their results to ours. \n",
    "\n",
    "1. Are they similar or different? \n",
    "2. What could account for any differences?\n",
    "3. Make a plot (or plots) illustrating any simiarities or differences you want to highlight.\n",
    "\n",
    "\n",
    "#### References\n",
    "\n",
    "Ferrand, L., New, B., Brysbaert, M., Keuleers, E., Bonin, P., Méot, A., ... & Pallier, C. (2010). The French Lexicon Project: Lexical decision data for 38,840 French words and 38,840 pseudowords. Behavior research methods, 42(2), 488-496."
   ]
  },
  {
   "cell_type": "code",
   "execution_count": null,
   "id": "a48032f0",
   "metadata": {},
   "outputs": [],
   "source": [
    "import pandas as pd\n",
    "import seaborn as sns\n",
    "from matplotlib import pyplot as plt\n",
    "pd.options.mode.chained_assignment = None  # default='warn' # I found I needed this to get rid of an annoying warning message\n",
    "\n",
    "rawdata_mega = pd.read_csv('https://raw.githubusercontent.com/ethanweed/datasets-for-teaching/main/MEGALEX.csv')\n",
    "rawdata_mega.head()"
   ]
  },
  {
   "cell_type": "code",
   "execution_count": null,
   "id": "a39ccd97",
   "metadata": {},
   "outputs": [],
   "source": []
  }
 ],
 "metadata": {
  "kernelspec": {
   "display_name": "Python 3 (ipykernel)",
   "language": "python",
   "name": "python3"
  },
  "language_info": {
   "codemirror_mode": {
    "name": "ipython",
    "version": 3
   },
   "file_extension": ".py",
   "mimetype": "text/x-python",
   "name": "python",
   "nbconvert_exporter": "python",
   "pygments_lexer": "ipython3",
   "version": "3.9.12"
  }
 },
 "nbformat": 4,
 "nbformat_minor": 5
}
