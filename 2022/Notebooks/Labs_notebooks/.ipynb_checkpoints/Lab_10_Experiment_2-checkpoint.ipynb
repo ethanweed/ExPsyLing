{
 "cells": [
  {
   "cell_type": "code",
   "execution_count": 1,
   "id": "104541b5",
   "metadata": {},
   "outputs": [],
   "source": [
    "import pandas as pd\n",
    "import pingouin as pg\n",
    "import seaborn as sns\n",
    "\n",
    "import warnings\n",
    "warnings.filterwarnings('ignore')"
   ]
  },
  {
   "cell_type": "code",
   "execution_count": 18,
   "id": "dc7178f6",
   "metadata": {},
   "outputs": [
    {
     "data": {
      "text/html": [
       "<div>\n",
       "<style scoped>\n",
       "    .dataframe tbody tr th:only-of-type {\n",
       "        vertical-align: middle;\n",
       "    }\n",
       "\n",
       "    .dataframe tbody tr th {\n",
       "        vertical-align: top;\n",
       "    }\n",
       "\n",
       "    .dataframe thead th {\n",
       "        text-align: right;\n",
       "    }\n",
       "</style>\n",
       "<table border=\"1\" class=\"dataframe\">\n",
       "  <thead>\n",
       "    <tr style=\"text-align: right;\">\n",
       "      <th></th>\n",
       "      <th>Unnamed: 0</th>\n",
       "      <th>id</th>\n",
       "      <th>counter_balance</th>\n",
       "      <th>condition</th>\n",
       "      <th>rt</th>\n",
       "      <th>congruence</th>\n",
       "      <th>soa</th>\n",
       "    </tr>\n",
       "  </thead>\n",
       "  <tbody>\n",
       "    <tr>\n",
       "      <th>0</th>\n",
       "      <td>4</td>\n",
       "      <td>799</td>\n",
       "      <td>A</td>\n",
       "      <td>Con_Synth</td>\n",
       "      <td>824</td>\n",
       "      <td>congruent</td>\n",
       "      <td>short</td>\n",
       "    </tr>\n",
       "    <tr>\n",
       "      <th>1</th>\n",
       "      <td>5</td>\n",
       "      <td>799</td>\n",
       "      <td>A</td>\n",
       "      <td>Con_Nat</td>\n",
       "      <td>796</td>\n",
       "      <td>congruent</td>\n",
       "      <td>short</td>\n",
       "    </tr>\n",
       "    <tr>\n",
       "      <th>2</th>\n",
       "      <td>6</td>\n",
       "      <td>799</td>\n",
       "      <td>A</td>\n",
       "      <td>Inc_Synth_Synth</td>\n",
       "      <td>881</td>\n",
       "      <td>incongruent</td>\n",
       "      <td>short</td>\n",
       "    </tr>\n",
       "    <tr>\n",
       "      <th>3</th>\n",
       "      <td>7</td>\n",
       "      <td>799</td>\n",
       "      <td>A</td>\n",
       "      <td>Con_Synth</td>\n",
       "      <td>1243</td>\n",
       "      <td>congruent</td>\n",
       "      <td>short</td>\n",
       "    </tr>\n",
       "    <tr>\n",
       "      <th>4</th>\n",
       "      <td>8</td>\n",
       "      <td>799</td>\n",
       "      <td>A</td>\n",
       "      <td>Con_Nat</td>\n",
       "      <td>1956</td>\n",
       "      <td>congruent</td>\n",
       "      <td>short</td>\n",
       "    </tr>\n",
       "  </tbody>\n",
       "</table>\n",
       "</div>"
      ],
      "text/plain": [
       "   Unnamed: 0   id counter_balance        condition    rt   congruence    soa\n",
       "0           4  799               A        Con_Synth   824    congruent  short\n",
       "1           5  799               A          Con_Nat   796    congruent  short\n",
       "2           6  799               A  Inc_Synth_Synth   881  incongruent  short\n",
       "3           7  799               A        Con_Synth  1243    congruent  short\n",
       "4           8  799               A          Con_Nat  1956    congruent  short"
      ]
     },
     "execution_count": 18,
     "metadata": {},
     "output_type": "execute_result"
    }
   ],
   "source": [
    "df = pd.read_csv('https://raw.githubusercontent.com/ethanweed/ExPsyLing/master/datasets/Masked_repetition_priming_data-2022')\n",
    "df.head()"
   ]
  },
  {
   "cell_type": "code",
   "execution_count": null,
   "id": "99bc18c2",
   "metadata": {},
   "outputs": [],
   "source": [
    "sns.pointplot(data = df, x = 'soa', y = 'rt', hue = 'congruence')"
   ]
  },
  {
   "cell_type": "code",
   "execution_count": 5,
   "id": "0bf73489",
   "metadata": {},
   "outputs": [
    {
     "data": {
      "image/png": "[encoded data removed]",
      "text/plain": [
       "<Figure size 432x288 with 1 Axes>"
      ]
     },
     "metadata": {
      "needs_background": "light"
     },
     "output_type": "display_data"
    }
   ],
   "source": [
    "sns.boxplot(data = df, x = 'soa', y = 'rt', hue = 'congruence')\n",
    "sns.despine()"
   ]
  },
  {
   "cell_type": "code",
   "execution_count": 9,
   "id": "b7385396",
   "metadata": {},
   "outputs": [
    {
     "data": {
      "text/plain": [
       "<AxesSubplot:xlabel='soa', ylabel='rt'>"
      ]
     },
     "execution_count": 9,
     "metadata": {},
     "output_type": "execute_result"
    },
    {
     "data": {
      "image/png": "[encoded data removed]",
      "text/plain": [
       "<Figure size 432x288 with 1 Axes>"
      ]
     },
     "metadata": {
      "needs_background": "light"
     },
     "output_type": "display_data"
    }
   ],
   "source": [
    "sns.boxplot(data = df.loc[df['rt'] < 1200], x = 'soa', y = 'rt', hue = 'congruence')\n",
    "sns.scatterplot"
   ]
  },
  {
   "cell_type": "code",
   "execution_count": 17,
   "id": "7beb817f",
   "metadata": {},
   "outputs": [
    {
     "data": {
      "text/plain": [
       "<AxesSubplot:xlabel='soa', ylabel='rt'>"
      ]
     },
     "execution_count": 17,
     "metadata": {},
     "output_type": "execute_result"
    },
    {
     "data": {
      "image/png": "[encoded data removed]",
      "text/plain": [
       "<Figure size 432x288 with 1 Axes>"
      ]
     },
     "metadata": {
      "needs_background": "light"
     },
     "output_type": "display_data"
    }
   ],
   "source": [
    "sns.pointplot(data = df.loc[df['rt'] < 1200], x = 'soa', y = 'rt', hue = 'congruence')"
   ]
  },
  {
   "cell_type": "code",
   "execution_count": null,
   "id": "e1189ae7",
   "metadata": {},
   "outputs": [],
   "source": []
  }
 ],
 "metadata": {
  "kernelspec": {
   "display_name": "Python 3",
   "language": "python",
   "name": "python3"
  },
  "language_info": {
   "codemirror_mode": {
    "name": "ipython",
    "version": 3
   },
   "file_extension": ".py",
   "mimetype": "text/x-python",
   "name": "python",
   "nbconvert_exporter": "python",
   "pygments_lexer": "ipython3",
   "version": "3.9.12"
  }
 },
 "nbformat": 4,
 "nbformat_minor": 5
}
