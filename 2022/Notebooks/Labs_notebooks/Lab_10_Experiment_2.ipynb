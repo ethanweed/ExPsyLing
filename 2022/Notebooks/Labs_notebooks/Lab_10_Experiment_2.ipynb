{
 "cells": [
  {
   "cell_type": "code",
   "execution_count": 44,
   "id": "b1447455",
   "metadata": {},
   "outputs": [],
   "source": [
    "import numpy as np\n",
    "import pandas as pd\n",
    "import pingouin as pg\n",
    "import seaborn as sns\n",
    "\n",
    "import warnings\n",
    "warnings.filterwarnings('ignore')"
   ]
  },
  {
   "cell_type": "code",
   "execution_count": null,
   "id": "693b3fd1",
   "metadata": {},
   "outputs": [],
   "source": [
    "raw_a = pd.read_csv(\"MR_A.csv\")\n",
    "raw_b = pd.read_csv(\"MR_B.csv\")\n",
    "\n",
    "df_A = pd.DataFrame({\"id\": raw_a['jatosStudyResultId'],\n",
    "                     \"counter_balance\": raw_a['counterbalance'],\n",
    "                     \"condition\": raw_a['condition'],\n",
    "                     \"rt\": raw_a['response_time'],\n",
    "                     \"congruence\": raw_a['congruence'],\n",
    "                     \"soa\": raw_a['soa_condition']})\n",
    "df_A = df_A.loc[df_A['soa'] != 'practice']\n",
    "df_A.head()\n",
    "\n",
    "\n",
    "df_B = pd.DataFrame({\"id\": raw_b['jatosStudyResultId'],\n",
    "                     \"counter_balance\": raw_b['counterbalance'],\n",
    "                     \"condition\": raw_b['condition'],\n",
    "                     \"rt\": raw_b['response_time'],\n",
    "                     \"congruence\": raw_b['congruence'],\n",
    "                     \"soa\": raw_b['soa_condition']})\n",
    "df_B = df_B.loc[df_B['soa'] != 'practice']\n",
    "df_B.head()\n",
    "\n",
    "df = pd.concat([df_A,df_B])\n"
   ]
  },
  {
   "cell_type": "code",
   "execution_count": 26,
   "id": "6a88726b",
   "metadata": {},
   "outputs": [
    {
     "data": {
      "text/html": [
       "<div>\n",
       "<style scoped>\n",
       "    .dataframe tbody tr th:only-of-type {\n",
       "        vertical-align: middle;\n",
       "    }\n",
       "\n",
       "    .dataframe tbody tr th {\n",
       "        vertical-align: top;\n",
       "    }\n",
       "\n",
       "    .dataframe thead th {\n",
       "        text-align: right;\n",
       "    }\n",
       "</style>\n",
       "<table border=\"1\" class=\"dataframe\">\n",
       "  <thead>\n",
       "    <tr style=\"text-align: right;\">\n",
       "      <th></th>\n",
       "      <th>id</th>\n",
       "      <th>counter_balance</th>\n",
       "      <th>condition</th>\n",
       "      <th>rt</th>\n",
       "      <th>congruence</th>\n",
       "      <th>soa</th>\n",
       "    </tr>\n",
       "  </thead>\n",
       "  <tbody>\n",
       "    <tr>\n",
       "      <th>0</th>\n",
       "      <td>799</td>\n",
       "      <td>A</td>\n",
       "      <td>Con_Synth</td>\n",
       "      <td>824</td>\n",
       "      <td>congruent</td>\n",
       "      <td>short</td>\n",
       "    </tr>\n",
       "    <tr>\n",
       "      <th>1</th>\n",
       "      <td>799</td>\n",
       "      <td>A</td>\n",
       "      <td>Con_Nat</td>\n",
       "      <td>796</td>\n",
       "      <td>congruent</td>\n",
       "      <td>short</td>\n",
       "    </tr>\n",
       "    <tr>\n",
       "      <th>2</th>\n",
       "      <td>799</td>\n",
       "      <td>A</td>\n",
       "      <td>Inc_Synth_Synth</td>\n",
       "      <td>881</td>\n",
       "      <td>incongruent</td>\n",
       "      <td>short</td>\n",
       "    </tr>\n",
       "    <tr>\n",
       "      <th>3</th>\n",
       "      <td>799</td>\n",
       "      <td>A</td>\n",
       "      <td>Con_Synth</td>\n",
       "      <td>1243</td>\n",
       "      <td>congruent</td>\n",
       "      <td>short</td>\n",
       "    </tr>\n",
       "    <tr>\n",
       "      <th>4</th>\n",
       "      <td>799</td>\n",
       "      <td>A</td>\n",
       "      <td>Con_Nat</td>\n",
       "      <td>1956</td>\n",
       "      <td>congruent</td>\n",
       "      <td>short</td>\n",
       "    </tr>\n",
       "    <tr>\n",
       "      <th>...</th>\n",
       "      <td>...</td>\n",
       "      <td>...</td>\n",
       "      <td>...</td>\n",
       "      <td>...</td>\n",
       "      <td>...</td>\n",
       "      <td>...</td>\n",
       "    </tr>\n",
       "    <tr>\n",
       "      <th>2755</th>\n",
       "      <td>773</td>\n",
       "      <td>B</td>\n",
       "      <td>Con_Nat</td>\n",
       "      <td>737</td>\n",
       "      <td>congruent</td>\n",
       "      <td>short</td>\n",
       "    </tr>\n",
       "    <tr>\n",
       "      <th>2756</th>\n",
       "      <td>773</td>\n",
       "      <td>B</td>\n",
       "      <td>Inc_Nat_Synth</td>\n",
       "      <td>788</td>\n",
       "      <td>incongruent</td>\n",
       "      <td>short</td>\n",
       "    </tr>\n",
       "    <tr>\n",
       "      <th>2757</th>\n",
       "      <td>773</td>\n",
       "      <td>B</td>\n",
       "      <td>Con_Synth</td>\n",
       "      <td>1047</td>\n",
       "      <td>congruent</td>\n",
       "      <td>short</td>\n",
       "    </tr>\n",
       "    <tr>\n",
       "      <th>2758</th>\n",
       "      <td>773</td>\n",
       "      <td>B</td>\n",
       "      <td>Con_Synth</td>\n",
       "      <td>955</td>\n",
       "      <td>congruent</td>\n",
       "      <td>short</td>\n",
       "    </tr>\n",
       "    <tr>\n",
       "      <th>2759</th>\n",
       "      <td>773</td>\n",
       "      <td>B</td>\n",
       "      <td>Inc_Synth_Synth</td>\n",
       "      <td>728</td>\n",
       "      <td>incongruent</td>\n",
       "      <td>short</td>\n",
       "    </tr>\n",
       "  </tbody>\n",
       "</table>\n",
       "<p>2760 rows × 6 columns</p>\n",
       "</div>"
      ],
      "text/plain": [
       "       id counter_balance        condition    rt   congruence    soa\n",
       "0     799               A        Con_Synth   824    congruent  short\n",
       "1     799               A          Con_Nat   796    congruent  short\n",
       "2     799               A  Inc_Synth_Synth   881  incongruent  short\n",
       "3     799               A        Con_Synth  1243    congruent  short\n",
       "4     799               A          Con_Nat  1956    congruent  short\n",
       "...   ...             ...              ...   ...          ...    ...\n",
       "2755  773               B          Con_Nat   737    congruent  short\n",
       "2756  773               B    Inc_Nat_Synth   788  incongruent  short\n",
       "2757  773               B        Con_Synth  1047    congruent  short\n",
       "2758  773               B        Con_Synth   955    congruent  short\n",
       "2759  773               B  Inc_Synth_Synth   728  incongruent  short\n",
       "\n",
       "[2760 rows x 6 columns]"
      ]
     },
     "execution_count": 26,
     "metadata": {},
     "output_type": "execute_result"
    }
   ],
   "source": [
    "#df = pd.read_csv('https://raw.githubusercontent.com/ethanweed/ExPsyLing/master/datasets/Masked_repetition_priming_data-2022', index_col = 0).reset_index()\n",
    "#df"
   ]
  },
  {
   "cell_type": "code",
   "execution_count": 27,
   "id": "d4a1f883",
   "metadata": {},
   "outputs": [
    {
     "data": {
      "text/plain": [
       "<AxesSubplot:xlabel='soa', ylabel='rt'>"
      ]
     },
     "execution_count": 27,
     "metadata": {},
     "output_type": "execute_result"
    },
    {
     "data": {
      "image/png": "[encoded data removed]",
      "text/plain": [
       "<Figure size 432x288 with 1 Axes>"
      ]
     },
     "metadata": {
      "needs_background": "light"
     },
     "output_type": "display_data"
    }
   ],
   "source": [
    "sns.pointplot(data = df, x = 'soa', y = 'rt', hue = 'congruence')"
   ]
  },
  {
   "cell_type": "code",
   "execution_count": 28,
   "id": "07789550",
   "metadata": {},
   "outputs": [
    {
     "data": {
      "image/png": "[encoded data removed]",
      "text/plain": [
       "<Figure size 432x288 with 1 Axes>"
      ]
     },
     "metadata": {
      "needs_background": "light"
     },
     "output_type": "display_data"
    }
   ],
   "source": [
    "sns.boxplot(data = df, x = 'soa', y = 'rt', hue = 'congruence')\n",
    "sns.despine()"
   ]
  },
  {
   "cell_type": "code",
   "execution_count": 30,
   "id": "294667d5",
   "metadata": {
    "scrolled": true
   },
   "outputs": [
    {
     "data": {
      "text/plain": [
       "<AxesSubplot:xlabel='soa', ylabel='rt'>"
      ]
     },
     "execution_count": 30,
     "metadata": {},
     "output_type": "execute_result"
    },
    {
     "data": {
      "image/png": "[encoded data removed]",
      "text/plain": [
       "<Figure size 432x288 with 1 Axes>"
      ]
     },
     "metadata": {
      "needs_background": "light"
     },
     "output_type": "display_data"
    }
   ],
   "source": [
    "sns.boxplot(data = df.loc[df['rt'] < 1200], x = 'soa', y = 'rt', hue = 'congruence')"
   ]
  },
  {
   "cell_type": "code",
   "execution_count": 31,
   "id": "9301e862",
   "metadata": {},
   "outputs": [
    {
     "data": {
      "text/plain": [
       "<AxesSubplot:xlabel='soa', ylabel='rt'>"
      ]
     },
     "execution_count": 31,
     "metadata": {},
     "output_type": "execute_result"
    },
    {
     "data": {
      "image/png": "[encoded data removed]",
      "text/plain": [
       "<Figure size 432x288 with 1 Axes>"
      ]
     },
     "metadata": {
      "needs_background": "light"
     },
     "output_type": "display_data"
    }
   ],
   "source": [
    "sns.pointplot(data = df.loc[df['rt'] < 1200], x = 'soa', y = 'rt', hue = 'congruence')"
   ]
  },
  {
   "cell_type": "markdown",
   "id": "7cdd4a35",
   "metadata": {},
   "source": [
    "How many rows of data did we throw away, when we got rid of the \"outliers\"?"
   ]
  },
  {
   "cell_type": "code",
   "execution_count": 34,
   "id": "03cabcf2",
   "metadata": {},
   "outputs": [
    {
     "data": {
      "text/plain": [
       "392"
      ]
     },
     "execution_count": 34,
     "metadata": {},
     "output_type": "execute_result"
    }
   ],
   "source": [
    "df.shape[0] - df.loc[df['rt'] < 1200].shape[0]"
   ]
  },
  {
   "cell_type": "markdown",
   "id": "b344e161",
   "metadata": {},
   "source": [
    "Did all the outliers come from the same person, or lots of different people?"
   ]
  },
  {
   "cell_type": "code",
   "execution_count": 47,
   "id": "eeb0c096",
   "metadata": {},
   "outputs": [
    {
     "data": {
      "text/plain": [
       "array([799, 796, 795, 794, 789, 788, 784, 777, 772, 770, 769, 802, 800,\n",
       "       798, 797, 792, 791, 786, 783, 779, 776, 773])"
      ]
     },
     "execution_count": 47,
     "metadata": {},
     "output_type": "execute_result"
    }
   ],
   "source": [
    "outliers = df[df['rt'] > 1200]\n",
    "outliers['id'].unique()"
   ]
  },
  {
   "cell_type": "markdown",
   "id": "fdb30b73",
   "metadata": {},
   "source": [
    "It looks like it was lots of different people. Did _all_ the participants have some scores above 1200 ms? Let's compare the array of ID's of the participants in the full data set with the ID's of the participants who had some RT's longer than 1200 ms, to see if they are exactly the same:"
   ]
  },
  {
   "cell_type": "code",
   "execution_count": 49,
   "id": "27de1df3",
   "metadata": {},
   "outputs": [
    {
     "data": {
      "text/plain": [
       "False"
      ]
     },
     "execution_count": 49,
     "metadata": {},
     "output_type": "execute_result"
    }
   ],
   "source": [
    "np.array_equal(outliers['id'].unique(), df['id'].unique())"
   ]
  },
  {
   "cell_type": "markdown",
   "id": "3c5c8418",
   "metadata": {},
   "source": [
    "Ok, so there were some participants who never took over 1200 ms. Who were they, and how many of them were there?"
   ]
  },
  {
   "cell_type": "code",
   "execution_count": 50,
   "id": "01984add",
   "metadata": {},
   "outputs": [
    {
     "data": {
      "text/plain": [
       "[785]"
      ]
     },
     "execution_count": 50,
     "metadata": {},
     "output_type": "execute_result"
    }
   ],
   "source": [
    "speed_demons = [x for x in df['id'].unique() if x not in outliers['id'].unique()]\n",
    "speed_demons"
   ]
  },
  {
   "cell_type": "markdown",
   "id": "37a87333",
   "metadata": {},
   "source": [
    "Ok, so there was actually only one participant who didn't have at least one \"outlier\" datapoint. Is there anything else unusual about this person's data? Let's plot participant 785's data together with everybody else's data (with outliers removed)."
   ]
  },
  {
   "cell_type": "code",
   "execution_count": 61,
   "id": "3c9ca053",
   "metadata": {},
   "outputs": [
    {
     "data": {
      "text/plain": [
       "<AxesSubplot:xlabel='soa', ylabel='rt'>"
      ]
     },
     "execution_count": 61,
     "metadata": {},
     "output_type": "execute_result"
    },
    {
     "data": {
      "image/png": "[encoded data removed]",
      "text/plain": [
       "<Figure size 432x288 with 1 Axes>"
      ]
     },
     "metadata": {
      "needs_background": "light"
     },
     "output_type": "display_data"
    }
   ],
   "source": [
    "\n",
    "sns.pointplot(data = df.loc[((df['rt'] < 1200) & (df['id'] != 785))], \n",
    "              x = 'soa', y = 'rt', \n",
    "              hue = 'congruence')\n",
    "sns.pointplot(data = df.loc[df['id'] == 785], x = 'soa', y = 'rt', hue = 'congruence')"
   ]
  },
  {
   "cell_type": "markdown",
   "id": "2dac86d5",
   "metadata": {},
   "source": [
    "No, not really. The overall pattern is the same, they are just substantially faster than everybody else. What about their accuracy? Were they fast, but sloppy?"
   ]
  },
  {
   "cell_type": "code",
   "execution_count": 62,
   "id": "89cf7111",
   "metadata": {},
   "outputs": [
    {
     "data": {
      "text/plain": [
       "['id', 'counter_balance', 'condition', 'rt', 'congruence', 'soa']"
      ]
     },
     "execution_count": 62,
     "metadata": {},
     "output_type": "execute_result"
    }
   ],
   "source": []
  },
  {
   "cell_type": "code",
   "execution_count": null,
   "id": "09274b87",
   "metadata": {},
   "outputs": [],
   "source": []
  }
 ],
 "metadata": {
  "kernelspec": {
   "display_name": "Python 3",
   "language": "python",
   "name": "python3"
  },
  "language_info": {
   "codemirror_mode": {
    "name": "ipython",
    "version": 3
   },
   "file_extension": ".py",
   "mimetype": "text/x-python",
   "name": "python",
   "nbconvert_exporter": "python",
   "pygments_lexer": "ipython3",
   "version": "3.9.12"
  }
 },
 "nbformat": 4,
 "nbformat_minor": 5
}
