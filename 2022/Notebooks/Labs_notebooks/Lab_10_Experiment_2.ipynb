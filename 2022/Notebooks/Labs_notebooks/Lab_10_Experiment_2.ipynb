{
 "cells": [
  {
   "cell_type": "code",
   "execution_count": 1,
   "id": "6f6fb1c7",
   "metadata": {},
   "outputs": [],
   "source": [
    "import pandas as pd\n",
    "import pingouin as pg\n",
    "import seaborn as sns\n",
    "\n",
    "import warnings\n",
    "warnings.filterwarnings('ignore')"
   ]
  },
  {
   "cell_type": "code",
   "execution_count": null,
   "id": "2b0f75a5",
   "metadata": {},
   "outputs": [],
   "source": [
    "group_A = ''\n",
    "\n",
    "raw_a = pd.read_csv(\"MR_A.csv\")\n",
    "raw_b = pd.read_csv(\"MR_B.csv\")\n",
    "\n",
    "df_A = pd.DataFrame({\"id\": raw_a['jatosStudyResultId'],\n",
    "                     \"counter_balance\": raw_a['counterbalance'],\n",
    "                     \"condition\": raw_a['condition'],\n",
    "                     \"rt\": raw_a['response_time'],\n",
    "                     \"congruence\": raw_a['congruence'],\n",
    "                     \"soa\": raw_a['soa_condition']})\n",
    "df_A = df_A.loc[df_A['soa'] != 'practice']\n",
    "df_A.head()\n",
    "\n",
    "\n",
    "df_B = pd.DataFrame({\"id\": raw_b['jatosStudyResultId'],\n",
    "                     \"counter_balance\": raw_b['counterbalance'],\n",
    "                     \"condition\": raw_b['condition'],\n",
    "                     \"rt\": raw_b['response_time'],\n",
    "                     \"congruence\": raw_b['congruence'],\n",
    "                     \"soa\": raw_b['soa_condition']})\n",
    "df_B = df_B.loc[df_B['soa'] != 'practice']\n",
    "df_B.head()\n",
    "\n",
    "df = pd.concat([df_A,df_B])\n",
    "\n",
    "sns.pointplot(data = df, x = 'soa', y = 'rt', hue = 'congruence')\n",
    "sns.despine()"
   ]
  }
 ],
 "metadata": {
  "kernelspec": {
   "display_name": "Python 3",
   "language": "python",
   "name": "python3"
  },
  "language_info": {
   "codemirror_mode": {
    "name": "ipython",
    "version": 3
   },
   "file_extension": ".py",
   "mimetype": "text/x-python",
   "name": "python",
   "nbconvert_exporter": "python",
   "pygments_lexer": "ipython3",
   "version": "3.9.12"
  }
 },
 "nbformat": 4,
 "nbformat_minor": 5
}
