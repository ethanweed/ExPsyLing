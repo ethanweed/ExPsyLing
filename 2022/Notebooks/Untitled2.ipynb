{
 "cells": [
  {
   "cell_type": "code",
   "execution_count": 1,
   "id": "1a852ab5",
   "metadata": {},
   "outputs": [],
   "source": [
    "import pandas as pd\n",
    "df = pd.read_csv('https://raw.githubusercontent.com/ethanweed/ExPsyLing/master/Experiments/LexicalDecision/LexicalDecision_1/stims2.csv')"
   ]
  },
  {
   "cell_type": "code",
   "execution_count": 2,
   "id": "093d1b3e",
   "metadata": {},
   "outputs": [
    {
     "data": {
      "text/html": [
       "<div>\n",
       "<style scoped>\n",
       "    .dataframe tbody tr th:only-of-type {\n",
       "        vertical-align: middle;\n",
       "    }\n",
       "\n",
       "    .dataframe tbody tr th {\n",
       "        vertical-align: top;\n",
       "    }\n",
       "\n",
       "    .dataframe thead th {\n",
       "        text-align: right;\n",
       "    }\n",
       "</style>\n",
       "<table border=\"1\" class=\"dataframe\">\n",
       "  <thead>\n",
       "    <tr style=\"text-align: right;\">\n",
       "      <th></th>\n",
       "      <th>correct_response</th>\n",
       "      <th>condition</th>\n",
       "      <th>stim</th>\n",
       "      <th>n_characters</th>\n",
       "      <th>Block</th>\n",
       "    </tr>\n",
       "  </thead>\n",
       "  <tbody>\n",
       "    <tr>\n",
       "      <th>0</th>\n",
       "      <td>[nonword_response]</td>\n",
       "      <td>NW</td>\n",
       "      <td>twom</td>\n",
       "      <td>4</td>\n",
       "      <td>Block_1</td>\n",
       "    </tr>\n",
       "    <tr>\n",
       "      <th>1</th>\n",
       "      <td>[nonword_response]</td>\n",
       "      <td>NW</td>\n",
       "      <td>kirm</td>\n",
       "      <td>4</td>\n",
       "      <td>Block_1</td>\n",
       "    </tr>\n",
       "    <tr>\n",
       "      <th>2</th>\n",
       "      <td>[nonword_response]</td>\n",
       "      <td>NW</td>\n",
       "      <td>trynes</td>\n",
       "      <td>6</td>\n",
       "      <td>Block_1</td>\n",
       "    </tr>\n",
       "    <tr>\n",
       "      <th>3</th>\n",
       "      <td>[nonword_response]</td>\n",
       "      <td>NW</td>\n",
       "      <td>thwams</td>\n",
       "      <td>6</td>\n",
       "      <td>Block_1</td>\n",
       "    </tr>\n",
       "    <tr>\n",
       "      <th>4</th>\n",
       "      <td>[nonword_response]</td>\n",
       "      <td>NW</td>\n",
       "      <td>cem</td>\n",
       "      <td>3</td>\n",
       "      <td>Block_1</td>\n",
       "    </tr>\n",
       "    <tr>\n",
       "      <th>...</th>\n",
       "      <td>...</td>\n",
       "      <td>...</td>\n",
       "      <td>...</td>\n",
       "      <td>...</td>\n",
       "      <td>...</td>\n",
       "    </tr>\n",
       "    <tr>\n",
       "      <th>191</th>\n",
       "      <td>[word_response]</td>\n",
       "      <td>Word</td>\n",
       "      <td>misery</td>\n",
       "      <td>6</td>\n",
       "      <td>Block_2</td>\n",
       "    </tr>\n",
       "    <tr>\n",
       "      <th>192</th>\n",
       "      <td>[word_response]</td>\n",
       "      <td>Word</td>\n",
       "      <td>pupil</td>\n",
       "      <td>5</td>\n",
       "      <td>Block_2</td>\n",
       "    </tr>\n",
       "    <tr>\n",
       "      <th>193</th>\n",
       "      <td>[word_response]</td>\n",
       "      <td>Word</td>\n",
       "      <td>them</td>\n",
       "      <td>4</td>\n",
       "      <td>Block_2</td>\n",
       "    </tr>\n",
       "    <tr>\n",
       "      <th>194</th>\n",
       "      <td>[word_response]</td>\n",
       "      <td>Word</td>\n",
       "      <td>planet</td>\n",
       "      <td>6</td>\n",
       "      <td>Block_2</td>\n",
       "    </tr>\n",
       "    <tr>\n",
       "      <th>195</th>\n",
       "      <td>[word_response]</td>\n",
       "      <td>Word</td>\n",
       "      <td>vain</td>\n",
       "      <td>4</td>\n",
       "      <td>Block_2</td>\n",
       "    </tr>\n",
       "  </tbody>\n",
       "</table>\n",
       "<p>196 rows × 5 columns</p>\n",
       "</div>"
      ],
      "text/plain": [
       "       correct_response condition    stim  n_characters    Block\n",
       "0    [nonword_response]        NW    twom             4  Block_1\n",
       "1    [nonword_response]        NW    kirm             4  Block_1\n",
       "2    [nonword_response]        NW  trynes             6  Block_1\n",
       "3    [nonword_response]        NW  thwams             6  Block_1\n",
       "4    [nonword_response]        NW     cem             3  Block_1\n",
       "..                  ...       ...     ...           ...      ...\n",
       "191     [word_response]      Word  misery             6  Block_2\n",
       "192     [word_response]      Word   pupil             5  Block_2\n",
       "193     [word_response]      Word    them             4  Block_2\n",
       "194     [word_response]      Word  planet             6  Block_2\n",
       "195     [word_response]      Word    vain             4  Block_2\n",
       "\n",
       "[196 rows x 5 columns]"
      ]
     },
     "execution_count": 2,
     "metadata": {},
     "output_type": "execute_result"
    }
   ],
   "source": []
  },
  {
   "cell_type": "code",
   "execution_count": 7,
   "id": "f2fb350d",
   "metadata": {},
   "outputs": [
    {
     "name": "stdout",
     "output_type": "stream",
     "text": [
      "49\n",
      "49\n",
      "98\n"
     ]
    }
   ],
   "source": [
    "print(len(df.loc[df['condition'] == 'NW']))\n",
    "print(len(df.loc[df['condition'] == 'PH']))\n",
    "print(len(df.loc[df['condition'] == 'Word']))"
   ]
  },
  {
   "cell_type": "code",
   "execution_count": 5,
   "id": "64e05771",
   "metadata": {},
   "outputs": [
    {
     "data": {
      "text/plain": [
       "196"
      ]
     },
     "execution_count": 5,
     "metadata": {},
     "output_type": "execute_result"
    }
   ],
   "source": []
  },
  {
   "cell_type": "code",
   "execution_count": null,
   "id": "9e82742b",
   "metadata": {},
   "outputs": [],
   "source": []
  }
 ],
 "metadata": {
  "kernelspec": {
   "display_name": "Python 3 (ipykernel)",
   "language": "python",
   "name": "python3"
  },
  "language_info": {
   "codemirror_mode": {
    "name": "ipython",
    "version": 3
   },
   "file_extension": ".py",
   "mimetype": "text/x-python",
   "name": "python",
   "nbconvert_exporter": "python",
   "pygments_lexer": "ipython3",
   "version": "3.9.12"
  }
 },
 "nbformat": 4,
 "nbformat_minor": 5
}
