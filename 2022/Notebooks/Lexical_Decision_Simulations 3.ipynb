{
 "cells": [
  {
   "cell_type": "code",
   "execution_count": 44,
   "id": "2f9543cc",
   "metadata": {},
   "outputs": [],
   "source": [
    "import numpy as np\n",
    "import pandas as pd\n",
    "import seaborn as sns\n",
    "import pingouin as png"
   ]
  },
  {
   "cell_type": "code",
   "execution_count": 21,
   "id": "6c71d023",
   "metadata": {},
   "outputs": [],
   "source": [
    "# load data for semiotics and linguistics seperately\n",
    "\n",
    "df_sem_raw = pd.read_csv(\"https://raw.githubusercontent.com/ethanweed/ExPsyLing/master/datasets/Lexical-decision/2021/semiotics_2021_raw.csv\")\n",
    "df_ling_raw = pd.read_csv(\"https://raw.githubusercontent.com/ethanweed/ExPsyLing/master/datasets/Lexical-decision/2021/linguistics_2021_raw.csv\")"
   ]
  },
  {
   "cell_type": "code",
   "execution_count": 22,
   "id": "b9f9d0de",
   "metadata": {},
   "outputs": [],
   "source": [
    "# add a \"group\" column to index semiotics and linguistics data\n",
    "\n",
    "df_sem_raw = df_sem_raw.assign(group = ['semiotics']*df_sem_raw.shape[0])\n",
    "df_ling_raw = df_ling_raw.assign(group = ['linguistics']*df_ling_raw.shape[0])\n",
    "\n",
    "# combine semiotics and linguistics data\n",
    "df = pd.concat([df_sem_raw, df_ling_raw], ignore_index=True)"
   ]
  },
  {
   "cell_type": "code",
   "execution_count": 23,
   "id": "e870e4c6",
   "metadata": {},
   "outputs": [],
   "source": [
    "# define a function to clean up the data:\n",
    "# 1. remove unnecessary columns\n",
    "# 2. add a column indexing whether the answer was correct or incorrect (and make this a string, not a bool)\n",
    "# 3. remove practice runs\n",
    "\n",
    "def clean_data(df):\n",
    "    df_clean = pd.DataFrame(\n",
    "    {'participantID': df['jatosStudyResultId'],\n",
    "     'group': df['group'],\n",
    "     'block': df['block'],\n",
    "     'condition': df['condition'],\n",
    "     'stimulus': df['stim'],\n",
    "     'correct_response': df['correct_response'],\n",
    "     'response': df['response'],\n",
    "     'rt': df['response_time']\n",
    "    })\n",
    "    \n",
    "    # add column for correct / incorrect responses\n",
    "    df_clean['correct_response'] = [x.lower() for x in list(df_clean['correct_response'])]\n",
    "    correct = list(df_clean['correct_response'] == df_clean['response'])\n",
    "    correct = [\"correct\" if x == True else \"incorrect\" for x in correct]\n",
    "    df_clean.insert(loc = 6, column = 'correct', value = correct)\n",
    "    \n",
    "    \n",
    "    # remove practice trials\n",
    "    df_clean = df_clean[df_clean['block'] != 'practice']\n",
    "    \n",
    "    return(df_clean)\n"
   ]
  },
  {
   "cell_type": "code",
   "execution_count": 24,
   "id": "a8653032",
   "metadata": {},
   "outputs": [
    {
     "data": {
      "text/html": [
       "<div>\n",
       "<style scoped>\n",
       "    .dataframe tbody tr th:only-of-type {\n",
       "        vertical-align: middle;\n",
       "    }\n",
       "\n",
       "    .dataframe tbody tr th {\n",
       "        vertical-align: top;\n",
       "    }\n",
       "\n",
       "    .dataframe thead th {\n",
       "        text-align: right;\n",
       "    }\n",
       "</style>\n",
       "<table border=\"1\" class=\"dataframe\">\n",
       "  <thead>\n",
       "    <tr style=\"text-align: right;\">\n",
       "      <th></th>\n",
       "      <th>participantID</th>\n",
       "      <th>group</th>\n",
       "      <th>block</th>\n",
       "      <th>condition</th>\n",
       "      <th>stimulus</th>\n",
       "      <th>correct_response</th>\n",
       "      <th>correct</th>\n",
       "      <th>response</th>\n",
       "      <th>rt</th>\n",
       "    </tr>\n",
       "  </thead>\n",
       "  <tbody>\n",
       "    <tr>\n",
       "      <th>6</th>\n",
       "      <td>239</td>\n",
       "      <td>semiotics</td>\n",
       "      <td>C</td>\n",
       "      <td>Unrelated</td>\n",
       "      <td>peg-yolk</td>\n",
       "      <td>left</td>\n",
       "      <td>incorrect</td>\n",
       "      <td>right</td>\n",
       "      <td>1543</td>\n",
       "    </tr>\n",
       "    <tr>\n",
       "      <th>7</th>\n",
       "      <td>239</td>\n",
       "      <td>semiotics</td>\n",
       "      <td>C</td>\n",
       "      <td>Filler</td>\n",
       "      <td>afraid-scobet</td>\n",
       "      <td>right</td>\n",
       "      <td>correct</td>\n",
       "      <td>right</td>\n",
       "      <td>2268</td>\n",
       "    </tr>\n",
       "    <tr>\n",
       "      <th>8</th>\n",
       "      <td>239</td>\n",
       "      <td>semiotics</td>\n",
       "      <td>C</td>\n",
       "      <td>Nonword</td>\n",
       "      <td>villane-towp</td>\n",
       "      <td>right</td>\n",
       "      <td>correct</td>\n",
       "      <td>right</td>\n",
       "      <td>1830</td>\n",
       "    </tr>\n",
       "    <tr>\n",
       "      <th>9</th>\n",
       "      <td>239</td>\n",
       "      <td>semiotics</td>\n",
       "      <td>C</td>\n",
       "      <td>Nonword</td>\n",
       "      <td>chorch-steeble</td>\n",
       "      <td>right</td>\n",
       "      <td>incorrect</td>\n",
       "      <td>left</td>\n",
       "      <td>1960</td>\n",
       "    </tr>\n",
       "    <tr>\n",
       "      <th>10</th>\n",
       "      <td>239</td>\n",
       "      <td>semiotics</td>\n",
       "      <td>C</td>\n",
       "      <td>Nonword</td>\n",
       "      <td>eas-jood</td>\n",
       "      <td>right</td>\n",
       "      <td>correct</td>\n",
       "      <td>right</td>\n",
       "      <td>1263</td>\n",
       "    </tr>\n",
       "  </tbody>\n",
       "</table>\n",
       "</div>"
      ],
      "text/plain": [
       "    participantID      group block  condition        stimulus  \\\n",
       "6             239  semiotics     C  Unrelated        peg-yolk   \n",
       "7             239  semiotics     C     Filler   afraid-scobet   \n",
       "8             239  semiotics     C    Nonword    villane-towp   \n",
       "9             239  semiotics     C    Nonword  chorch-steeble   \n",
       "10            239  semiotics     C    Nonword        eas-jood   \n",
       "\n",
       "   correct_response    correct response    rt  \n",
       "6              left  incorrect    right  1543  \n",
       "7             right    correct    right  2268  \n",
       "8             right    correct    right  1830  \n",
       "9             right  incorrect     left  1960  \n",
       "10            right    correct    right  1263  "
      ]
     },
     "execution_count": 24,
     "metadata": {},
     "output_type": "execute_result"
    }
   ],
   "source": [
    "df = clean_data(df)\n",
    "df.head()"
   ]
  },
  {
   "cell_type": "code",
   "execution_count": 25,
   "id": "5d386f14",
   "metadata": {},
   "outputs": [],
   "source": [
    "df_correct = df[df['correct'] == 'correct']"
   ]
  },
  {
   "cell_type": "code",
   "execution_count": 52,
   "id": "7a676a22",
   "metadata": {},
   "outputs": [],
   "source": [
    "data = df_correct.groupby(['participantID', 'condition']).mean().reset_index()\n",
    "#data = data.loc[((data['condition'] == 'Nonword') | (data['condition'] == 'Related'))]\n",
    "data = data.loc[((data['condition'] == 'Nonword') | (data['condition'] == 'Related') | (data['condition'] == 'Unrelated'))]"
   ]
  },
  {
   "cell_type": "code",
   "execution_count": 53,
   "id": "5dfc0b2c",
   "metadata": {},
   "outputs": [
    {
     "data": {
      "text/plain": [
       "<AxesSubplot:xlabel='rt', ylabel='Density'>"
      ]
     },
     "execution_count": 53,
     "metadata": {},
     "output_type": "execute_result"
    },
    {
     "data": {
      "image/png": "[encoded data removed]",
      "text/plain": [
       "<Figure size 432x288 with 1 Axes>"
      ]
     },
     "metadata": {
      "needs_background": "light"
     },
     "output_type": "display_data"
    }
   ],
   "source": [
    "sns.kdeplot(data = data, x = 'rt', hue = 'condition')"
   ]
  },
  {
   "cell_type": "code",
   "execution_count": 76,
   "id": "9f0c6c79",
   "metadata": {},
   "outputs": [
    {
     "data": {
      "text/plain": [
       "array([ -41.72239422, -125.51764706,   21.33333333,  -78.51381579,\n",
       "       -150.23687424,  -95.95833333,  -44.56527778,  -99.7665107 ,\n",
       "        -73.46977124,   -6.05799425, -254.57281746,  -51.07269737,\n",
       "         16.82623225, -221.26468254, -168.70277778, -128.86850894,\n",
       "        -41.82232542,  -30.27909357,  -63.50710784, -104.56111111,\n",
       "       -151.20065789,  -39.75622294])"
      ]
     },
     "execution_count": 76,
     "metadata": {},
     "output_type": "execute_result"
    }
   ],
   "source": [
    "\n",
    "pseudoword = np.array(data[data['condition'] == 'Nonword']['rt']) / 2 # divided by two because there were two words\n",
    "#word = np.array(data[data['condition'] == 'Related']['rt'])\n",
    "related = np.array(data[data['condition'] == 'Related']['rt']) / 2 # divided by two because there were two words\n",
    "unrelated = np.array(data[data['condition'] == 'Unrelated']['rt']) / 2 # divided by two because there were two words\n",
    "words = (unrelated + related) / 2 # to get the mean of related and unrelated\n",
    "freq_effect = words - pseudoword\n",
    "freq_effect"
   ]
  },
  {
   "cell_type": "code",
   "execution_count": 77,
   "id": "1ce2696a",
   "metadata": {},
   "outputs": [
    {
     "data": {
      "text/plain": [
       "<matplotlib.lines.Line2D at 0x183349780>"
      ]
     },
     "execution_count": 77,
     "metadata": {},
     "output_type": "execute_result"
    },
    {
     "data": {
      "image/png": "[encoded data removed]",
      "text/plain": [
       "<Figure size 432x288 with 1 Axes>"
      ]
     },
     "metadata": {
      "needs_background": "light"
     },
     "output_type": "display_data"
    }
   ],
   "source": [
    "from matplotlib import pyplot as plt\n",
    "sns.kdeplot(freq_effect)\n",
    "plt.axvline(0)"
   ]
  },
  {
   "cell_type": "code",
   "execution_count": 75,
   "id": "dc5e574a",
   "metadata": {},
   "outputs": [
    {
     "data": {
      "text/plain": [
       "-87.87532072242969"
      ]
     },
     "execution_count": 75,
     "metadata": {},
     "output_type": "execute_result"
    }
   ],
   "source": [
    "np.mean(freq_effect)"
   ]
  },
  {
   "cell_type": "code",
   "execution_count": 74,
   "id": "3207af8f",
   "metadata": {},
   "outputs": [
    {
     "data": {
      "text/plain": [
       "69.79885990993036"
      ]
     },
     "execution_count": 74,
     "metadata": {},
     "output_type": "execute_result"
    }
   ],
   "source": [
    "np.std(freq_effect)"
   ]
  },
  {
   "cell_type": "code",
   "execution_count": null,
   "id": "97e1e4d6",
   "metadata": {},
   "outputs": [],
   "source": []
  }
 ],
 "metadata": {
  "kernelspec": {
   "display_name": "Python 3 (ipykernel)",
   "language": "python",
   "name": "python3"
  },
  "language_info": {
   "codemirror_mode": {
    "name": "ipython",
    "version": 3
   },
   "file_extension": ".py",
   "mimetype": "text/x-python",
   "name": "python",
   "nbconvert_exporter": "python",
   "pygments_lexer": "ipython3",
   "version": "3.10.5"
  }
 },
 "nbformat": 4,
 "nbformat_minor": 5
}
