{
 "cells": [
  {
   "cell_type": "code",
   "execution_count": null,
   "id": "4932361a",
   "metadata": {},
   "outputs": [],
   "source": [
    "import time\n",
    "import random\n",
    "import numpy as np\n",
    "import pandas as pd\n",
    "import seaborn as sns\n",
    "import pingouin as pg\n",
    "from statistics import mean\n",
    "from scipy.stats import norm\n",
    "from matplotlib import pyplot as plt\n",
    "\n",
    "import warnings\n",
    "warnings.filterwarnings(\"ignore\")"
   ]
  },
  {
   "cell_type": "markdown",
   "id": "e14bf51f",
   "metadata": {},
   "source": [
    "# Part 1"
   ]
  },
  {
   "cell_type": "markdown",
   "id": "7b89abe4",
   "metadata": {},
   "source": [
    "## Generate some random numbers"
   ]
  },
  {
   "cell_type": "code",
   "execution_count": null,
   "id": "121e220c",
   "metadata": {},
   "outputs": [],
   "source": [
    "random.sample(range(0,15), 5)"
   ]
  },
  {
   "cell_type": "markdown",
   "id": "7c88243a",
   "metadata": {},
   "source": [
    "## The normal distribution\n",
    "\n",
    "- observed often in nature\n",
    "- From wikipedia: \"Therefore, physical quantities that are expected to be the sum of many independent processes [...] often have distributions that are nearly normal.\"\n",
    "\n",
    "We can test this using coin-flipping. Imagine a group of N people lined up in a row in the middle of a football pitch. We'll call this point zero. They all flip a coin. If they get heads, they take one step to the right. If they get tails, they take one step to the left. Then, they flip the coin again, and repeat the procedure. (example stolen from \"Statistical Rethinking\" by Richard McElreath)"
   ]
  },
  {
   "cell_type": "markdown",
   "id": "f1bd02df",
   "metadata": {},
   "source": [
    "## Generating the normal distribution from coin-flipping"
   ]
  },
  {
   "cell_type": "code",
   "execution_count": null,
   "id": "30d144d8",
   "metadata": {},
   "outputs": [],
   "source": [
    "# number of people on the field\n",
    "n = 100\n",
    "\n",
    "# start them all at the center line\n",
    "positions = np.asarray([0]*n)\n",
    "\n",
    "# function to move them one step to the right or to the left based on virutal coin flip\n",
    "def coin_flip(n):\n",
    "    heads = [random.uniform(0,1) for i in range(n)]\n",
    "    move = [1 if i > 0.5 else -1 for i in heads]\n",
    "    return move\n",
    "\n",
    "\n",
    "ax = sns.swarmplot(positions)\n",
    "ax.set_title(\"People on Field\")\n",
    "\n",
    "\n",
    "sns.despine()"
   ]
  },
  {
   "cell_type": "markdown",
   "id": "a1ec88c7",
   "metadata": {},
   "source": [
    "## Move them one flip at a time.."
   ]
  },
  {
   "cell_type": "code",
   "execution_count": null,
   "id": "b0df90d3",
   "metadata": {},
   "outputs": [],
   "source": [
    "fig, axes = plt.subplots(1, 2, figsize=(15, 5))\n",
    "\n",
    "positions = positions + coin_flip(n)\n",
    "\n",
    "ax1 = sns.swarmplot(positions, ax = axes[0])\n",
    "ax2 = sns.histplot(positions, ax = axes[1])\n",
    "\n",
    "axes[0].set_title(\"People on Field\")\n",
    "axes[1].set_title(\"Number of people at each position\")\n",
    "\n",
    "sns.despine()"
   ]
  },
  {
   "cell_type": "markdown",
   "id": "11bffd7b",
   "metadata": {},
   "source": [
    "## Move them many steps at a time"
   ]
  },
  {
   "cell_type": "code",
   "execution_count": null,
   "id": "c76ca45f",
   "metadata": {
    "scrolled": true
   },
   "outputs": [],
   "source": [
    "n = 100\n",
    "n_flips = 100\n",
    "\n",
    "positions = np.asarray([0]*n)\n",
    "\n",
    "for i in range(n_flips):\n",
    "    positions = positions + coin_flip(n)\n",
    "\n",
    "\n",
    "\n",
    "fig, axes = plt.subplots(1, 2, figsize=(15, 5))\n",
    "ax1 = sns.swarmplot(positions, ax = axes[0])\n",
    "ax2 = sns.histplot(positions, ax = axes[1], kde = True)\n",
    "axes[0].set_title(\"People on Field\")\n",
    "axes[1].set_title(\"Number of people at each position\")\n",
    "\n",
    "sns.despine()"
   ]
  },
  {
   "cell_type": "markdown",
   "id": "80e4f563",
   "metadata": {},
   "source": [
    "## \"The\" normal distribution"
   ]
  },
  {
   "cell_type": "code",
   "execution_count": null,
   "id": "68ee6014",
   "metadata": {},
   "outputs": [],
   "source": [
    "#x-axis ranges from 0 and 100 with .001 steps\n",
    "x = np.arange(-5, 5, 0.001)\n",
    "\n",
    "#plot normal distribution with mean 0 and standard deviation 1\n",
    "plt.plot(x, norm.pdf(x, 0, 1))\n",
    "sns.despine()"
   ]
  },
  {
   "cell_type": "markdown",
   "id": "53636c4c",
   "metadata": {},
   "source": [
    "# Part 2"
   ]
  },
  {
   "cell_type": "markdown",
   "id": "7ece227d",
   "metadata": {},
   "source": [
    "## Sample from a normal distribution\n",
    "\n",
    "np.random.normal(loc, scale, size)\n",
    "\n",
    "- loc: Mean of the distribution. Default is 0.\n",
    "- scale: Standard deviation of the distribution. Default is 1.\n",
    "- size: Sample size.\n"
   ]
  },
  {
   "cell_type": "code",
   "execution_count": null,
   "id": "e7c473b9",
   "metadata": {},
   "outputs": [],
   "source": [
    "\n",
    "nums = np.random.normal(loc = 5, scale = 2, size=10)\n",
    "nums"
   ]
  },
  {
   "cell_type": "markdown",
   "id": "41ac9c0f",
   "metadata": {},
   "source": [
    "## Sample some random numbers from a normal distribution, and plot them\n",
    "\n",
    "Below, there is code to sample from a normal distribution based on three variables, mean, standard deviation (sd), and sample size (n). \n",
    "\n",
    "1. Try holding the mean and stardard deviation constant, and change the sample size. What happens to the distribution of sampled data?\n",
    "2. Now try keeping the mean and sample size constant, and try some different values for the standard deviation. What happens?"
   ]
  },
  {
   "cell_type": "code",
   "execution_count": null,
   "id": "0844ece2",
   "metadata": {},
   "outputs": [],
   "source": [
    "\n",
    "mean = 5\n",
    "sd = 2\n",
    "n = 10\n",
    "nums = np.random.normal(loc = mean, scale = sd, size = n)\n",
    "sns.histplot(nums)\n",
    "\n",
    "\n",
    "sns.despine()"
   ]
  },
  {
   "cell_type": "markdown",
   "id": "a9a52243",
   "metadata": {},
   "source": [
    "## Visualize the mean and the standard deviation\n",
    "\n",
    "Now, add a line to plot showing where the mean and the standard deviations are. The black line in the middle is the mean, and the dotted lines show one standard deviation on either side of the mean.\n",
    "\n",
    "Do the same exercise as above, holding the mean constant and changing the sample size and standard deviations, one at a time. What do you observe? What effect does changing the sample size have? What effect does changing the standard deviation have?"
   ]
  },
  {
   "cell_type": "code",
   "execution_count": null,
   "id": "a209f534",
   "metadata": {},
   "outputs": [],
   "source": [
    "mean = 5\n",
    "sd = 2\n",
    "n = 10000\n",
    "nums = np.random.normal(loc = mean, scale = sd, size = n)\n",
    "ax = sns.histplot(nums)\n",
    "plt.axvline(x = mean, color = 'black')\n",
    "plt.axvline(x = mean - sd, color = 'black', linestyle = 'dotted')\n",
    "plt.axvline(x = mean + sd, color = 'black', linestyle = 'dotted')\n",
    "\n",
    "sns.despine()"
   ]
  },
  {
   "cell_type": "markdown",
   "id": "313fdaaf",
   "metadata": {},
   "source": [
    "# Part 3"
   ]
  },
  {
   "cell_type": "markdown",
   "id": "dae561cb",
   "metadata": {},
   "source": [
    "## Two normal distributions with different means\n",
    "\n",
    "Now let's sample from two normal distributions with different means, but the same sample size and standard deviation.\n",
    "\n",
    "1. Keep mean 1 constant, and try changing mean 2. What do you observe? How much do you need to change mean 2 before there is no overlap between the distributions?\n",
    "2. Set mean 1 to 5 and mean 2 to 9. Now try changing the standard deviation. How much do you need to change it before the distributions no longer overlap?\n",
    "3. What does this tell us about the way t-tests work?"
   ]
  },
  {
   "cell_type": "code",
   "execution_count": null,
   "id": "f5bf877e",
   "metadata": {},
   "outputs": [],
   "source": [
    "mean1 = 5\n",
    "mean2 = 9\n",
    "\n",
    "sd = 2\n",
    "n = 10000\n",
    "nums1 = np.random.normal(loc = mean1, scale = sd, size = n)\n",
    "\n",
    "nums2 = np.random.normal(loc = mean2, scale = sd, size = n)\n",
    "\n",
    "sns.histplot(nums1, alpha  = 0.4)\n",
    "sns.histplot(nums2, alpha  = 0.4)\n",
    "\n",
    "#plt.axvline(x = mean1, color = 'black')\n",
    "#plt.axvline(x = mean2, color = 'black')\n",
    "\n",
    "sns.despine()"
   ]
  },
  {
   "cell_type": "markdown",
   "id": "3f082103",
   "metadata": {},
   "source": [
    "Now try modifying the means, standard deviations, and sample size of both distributions. Try some extreme values. What do you observe?"
   ]
  },
  {
   "cell_type": "code",
   "execution_count": null,
   "id": "33d344e9",
   "metadata": {},
   "outputs": [],
   "source": [
    "mean1 = 5\n",
    "mean2 = 9\n",
    "\n",
    "sd1 = 2\n",
    "sd2 = 2\n",
    "\n",
    "n1 = 10000\n",
    "n2 = 10000\n",
    "\n",
    "nums1 = np.random.normal(loc = mean1, scale = sd1, size = n1)\n",
    "\n",
    "nums2 = np.random.normal(loc = mean2, scale = sd2, size = n2)\n",
    "\n",
    "sns.histplot(nums1, alpha  = 0.4)\n",
    "sns.histplot(nums2, alpha  = 0.4)\n",
    "\n",
    "\n",
    "#plt.axvline(x = mean, color = 'black')\n",
    "#plt.axvline(x = mean - sd, color = 'black', linestyle = 'dotted')\n",
    "#plt.axvline(x = mean + sd, color = 'black', linestyle = 'dotted')\n",
    "\n",
    "\n",
    "sns.despine()"
   ]
  },
  {
   "cell_type": "markdown",
   "id": "225ff9cf",
   "metadata": {},
   "source": [
    "# Part 4"
   ]
  },
  {
   "cell_type": "markdown",
   "id": "917ced47",
   "metadata": {},
   "source": [
    "# Two groups from one sample\n",
    "\n",
    "Now take one single sample from a normal distribution, and divide it into two groups and plot the distributions of the two halves of the sample on top of each other. \n",
    "\n",
    "1. Inspect the means for each of the overlapping histograms.\n",
    "2. Check the difference between the two means\n",
    "3. Try changing the size of the sample (n). What do you observe?"
   ]
  },
  {
   "cell_type": "code",
   "execution_count": null,
   "id": "9c69e195",
   "metadata": {},
   "outputs": [],
   "source": [
    "mean = 5\n",
    "sd = 7\n",
    "n = 10\n",
    "nums = np.random.normal(loc = mean, scale = sd, size = n)\n",
    "\n",
    "# split the sample into two groups\n",
    "\n",
    "Group1 = np.array_split(nums, 2)[0]\n",
    "Group2 = np.array_split(nums, 2)[1]\n",
    "\n",
    "sns.histplot(Group1, alpha  = 0.4)\n",
    "sns.histplot(Group2, alpha  = 0.4)\n",
    "\n",
    "\n",
    "plt.axvline(x = Group1.mean(), color = 'black')\n",
    "plt.axvline(x = Group2.mean(), color = 'black')\n",
    "\n",
    "sns.despine()\n",
    "\n",
    "print('Difference between mean 1 and mean 2:', abs(Group1.mean() - Group2.mean()))"
   ]
  },
  {
   "cell_type": "markdown",
   "id": "5dfefbc2",
   "metadata": {},
   "source": [
    "# Part 5"
   ]
  },
  {
   "cell_type": "markdown",
   "id": "bab7c933",
   "metadata": {},
   "source": [
    "# Simulate Type 1 Errors (false positives)\n",
    "\n",
    "The code below performs the following steps:\n",
    "\n",
    "- Samples from a normal distribution\n",
    "- Divides the sample into 2 groups\n",
    "- Does an independent-samples t-test on the two groups\n",
    "- Plots the distribution of p-values\n",
    "- Plots the distribution of \"significant\" p-values\n",
    "- Compares the number of significiant p-values to the alpha level (0.05)\n",
    "\n",
    "1. Run the code. What do you observe when you inspect the output?\n",
    "2. Try changing the alpha (\"significance\") level. What do you observe?"
   ]
  },
  {
   "cell_type": "code",
   "execution_count": null,
   "id": "b0f8c73f",
   "metadata": {},
   "outputs": [],
   "source": [
    "mean = 5\n",
    "sd = 7\n",
    "n = 100\n",
    "alpha = 0.05\n",
    "\n",
    "ps = []\n",
    "for i in range(1000):\n",
    "        \n",
    "        nums = np.random.normal(loc = mean, scale = sd, size = n)\n",
    "\n",
    "        Group1 = np.array_split(nums, 2)[0]\n",
    "        Group2 = np.array_split(nums, 2)[1]\n",
    "        res = pg.ttest(Group1,Group2)\n",
    "        ps.append(res['p-val'][0])\n",
    "ps = [x for x in ps if x != 'p-val']\n",
    "sig = [x for x in ps if x < alpha]\n",
    "\n",
    "fig, axes = plt.subplots(1, 2, figsize=(15, 5), sharey = True)\n",
    "fig.suptitle('Simulated p-values')\n",
    "\n",
    "sns.histplot(ps, binwidth = 0.001, ax = axes[0])\n",
    "sns.histplot(sig, binwidth = 0.001, ax = axes[1])\n",
    "\n",
    "axes[0].set_title('All p-values')\n",
    "axes[1].set_title('\\\"Significant\\\" p-values')\n",
    "\n",
    "sns.despine()\n",
    "\n",
    "print(str(int(alpha*100))+ '% of the total number of experiments:',int(len(ps)*alpha))\n",
    "print('Number of experiments with a false positive:', len(sig))\n"
   ]
  },
  {
   "cell_type": "markdown",
   "id": "82f837fe",
   "metadata": {},
   "source": [
    "## Distribution of false positives (type 1 errors)\n",
    "\n",
    "The code below:\n",
    "\n",
    "1. draws ``n`` samples from a normal distribution\n",
    "2. divides the samples into two groups (that is, _insures that the null-hypothesis is true_)\n",
    "3. runs an independent samples t-test and computes the p-value\n",
    "4. repeats  this process for the number of times specified in the ``experiments`` variable\n",
    "5. stores all of the p-values from all of the experiments\n",
    "6. calculates the percent of p-values that are smaller than our chosen ``alpha``, that is, false positives\n",
    "7. repeats this procedure the number of times specified in ``runs``\n",
    "8. plots a histogram of the percentage of false positives produced by ``runs`` number of ``experiments`` t-tests\n",
    "    \n",
    "Questions:\n",
    "1. What does the figure tell you?\n",
    "2. What happens if you change ``n``(the number of participants in each experiment) or ``alpha`` (the \"signficance level\")?"
   ]
  },
  {
   "cell_type": "code",
   "execution_count": null,
   "id": "15d1acfb",
   "metadata": {},
   "outputs": [],
   "source": [
    "mean = 5\n",
    "sd = 2\n",
    "n = 100\n",
    "alpha = 0.05\n",
    "\n",
    "runs = 50\n",
    "experiments = 100\n",
    "\n",
    "false_ps = []\n",
    "for i in range(runs):\n",
    "    ps = []\n",
    "    for j in range(experiments):\n",
    "\n",
    "            nums = np.random.normal(loc = mean, scale = sd, size = n)\n",
    "\n",
    "            Group1 = np.array_split(nums, 2)[0]\n",
    "            Group2 = np.array_split(nums, 2)[1]\n",
    "            res = pg.ttest(Group1,Group2)\n",
    "            ps.append(res['p-val'][0])\n",
    "    ps = [x for x in ps if x != 'p-val']\n",
    "    sig = [x for x in ps if x < alpha]\n",
    "    false_ps.append((len(sig)/experiments) * 100)\n",
    "\n",
    "\n",
    "ax = sns.histplot(false_ps)\n",
    "ax.set_title('Percent of false positives')\n",
    "\n",
    "sns.despine()"
   ]
  },
  {
   "cell_type": "code",
   "execution_count": null,
   "id": "a3801311",
   "metadata": {},
   "outputs": [],
   "source": []
  }
 ],
 "metadata": {
  "kernelspec": {
   "display_name": "Python 3",
   "language": "python",
   "name": "python3"
  },
  "language_info": {
   "codemirror_mode": {
    "name": "ipython",
    "version": 3
   },
   "file_extension": ".py",
   "mimetype": "text/x-python",
   "name": "python",
   "nbconvert_exporter": "python",
   "pygments_lexer": "ipython3",
   "version": "3.9.12"
  }
 },
 "nbformat": 4,
 "nbformat_minor": 5
}
