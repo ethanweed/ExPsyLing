{
 "cells": [
  {
   "cell_type": "markdown",
   "id": "63e6dc91",
   "metadata": {},
   "source": [
    "## Consolidate your knowledge. \n",
    "\n",
    "Test yourself on what you know about the following things by writing short scripts or bits of code that demonstrate your knowledge to yourself. It's fine if you don't feel comfortable with all of them, but push yourself a bit to find out how much you do know, and identify things that you haven't yet learned.\n",
    "\n",
    "- variables\n",
    "- variable types (strings, integers, floats, lists, dictionaries, tuples, sets)\n",
    "- loops\n",
    "    - for loops\n",
    "    - while loops\n",
    "    - enumerate()\n",
    "    - appending to a list outside of a loop\n",
    "- list comprehensions\n",
    "- pandas dataframes\n",
    "    - building a dataframe out of dictionaries and lists\n",
    "    - importing csv files into a dataframe\n",
    "    - writing a dataframe to a csv file\n",
    "    - sorting a dataframe\n",
    "    - adding new columns to a dataframe\n",
    "    - converting between wide format and long format data\n",
    "    - selecting a sub-section of a dataframe"
   ]
  },
  {
   "cell_type": "code",
   "execution_count": null,
   "id": "0a651a94",
   "metadata": {},
   "outputs": [],
   "source": []
  }
 ],
 "metadata": {
  "kernelspec": {
   "display_name": "Python 3 (ipykernel)",
   "language": "python",
   "name": "python3"
  },
  "language_info": {
   "codemirror_mode": {
    "name": "ipython",
    "version": 3
   },
   "file_extension": ".py",
   "mimetype": "text/x-python",
   "name": "python",
   "nbconvert_exporter": "python",
   "pygments_lexer": "ipython3",
   "version": "3.9.12"
  }
 },
 "nbformat": 4,
 "nbformat_minor": 5
}
