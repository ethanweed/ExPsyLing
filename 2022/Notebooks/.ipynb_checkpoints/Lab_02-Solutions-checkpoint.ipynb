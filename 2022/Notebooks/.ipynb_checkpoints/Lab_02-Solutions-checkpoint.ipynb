{
 "cells": [
  {
   "cell_type": "markdown",
   "metadata": {},
   "source": [
    "# Fun With Input\n",
    "\n",
    "In this assignment, we're going to explore using loops and strings to input and access data in Python. I hope this exercise will be entertaining, but the main point is to build up your intuitions about variables and data structures.\n",
    "\n",
    "## Input and ouput\n",
    "\n",
    "First, let's ask for some input and generate a response."
   ]
  },
  {
   "cell_type": "code",
   "execution_count": 1,
   "metadata": {},
   "outputs": [
    {
     "name": "stdout",
     "output_type": "stream",
     "text": [
      "What is your name? Superman\n",
      "Cool name!\n"
     ]
    }
   ],
   "source": [
    "name = input(\"What is your name? \")\n",
    "print(\"Cool name!\")"
   ]
  },
  {
   "cell_type": "markdown",
   "metadata": {},
   "source": [
    "Cool! We have just built what is possibly the simplest but most positive chatbot ever. Let's make our chatbot a little more opiniated:"
   ]
  },
  {
   "cell_type": "code",
   "execution_count": 2,
   "metadata": {},
   "outputs": [
    {
     "name": "stdout",
     "output_type": "stream",
     "text": [
      "What is your name? Green Lantern\n",
      "Hmm, too bad your name is not Superman.\n"
     ]
    }
   ],
   "source": [
    "name = input(\"What is your name? \")\n",
    "if name == \"Superman\":\n",
    "    print(\"Cool name!!\")\n",
    "else:\n",
    "    print(\"Hmm, too bad your name is not Superman.\")"
   ]
  },
  {
   "cell_type": "markdown",
   "metadata": {},
   "source": [
    "Ok, this is still incredibly limited, but at the very least, we ask for input, compare the input to something, and then perform an action based on the outcome of the comparison."
   ]
  },
  {
   "cell_type": "markdown",
   "metadata": {},
   "source": [
    "## Meal Planner\n",
    "\n",
    "In the next exercise, let's start building up a very simple meal planner. We want to get organized, so we have decided to make a Python script that will help us plan what we will make for certain meals. But we want to keep it a little flexible, too. We don't want to plan for _all_ meals from now until eternity. We can use ``input`` to tell the planner how many days we want to plan for, and a ``while`` loop to keep asking us for day names until we have given it a name for every day we want to plan for:"
   ]
  },
  {
   "cell_type": "code",
   "execution_count": 3,
   "metadata": {},
   "outputs": [
    {
     "name": "stdout",
     "output_type": "stream",
     "text": [
      "How many days do you want to plan? 3\n",
      "Please enter a day name you want to plan for.. Monday\n",
      "Please enter a day name you want to plan for.. Tuedsday\n",
      "Please enter a day name you want to plan for.. Wednesday\n"
     ]
    }
   ],
   "source": [
    "days = []\n",
    "num_days = input(\"How many days do you want to plan? \")\n",
    "while len(days) < int(num_days):\n",
    "    day = input(\"Please enter a day name you want to plan for.. \")\n",
    "    days.append(day)"
   ]
  },
  {
   "cell_type": "code",
   "execution_count": 4,
   "metadata": {},
   "outputs": [
    {
     "data": {
      "text/plain": [
       "['Monday', 'Tuedsday', 'Wednesday']"
      ]
     },
     "execution_count": 4,
     "metadata": {},
     "output_type": "execute_result"
    }
   ],
   "source": [
    "days"
   ]
  },
  {
   "cell_type": "markdown",
   "metadata": {},
   "source": [
    "## A more flexible list\n",
    "\n",
    "Maybe we don't know ahead of time how many days we want to plan for. Let's make a more flexible list where we don't have to tell it ahead of time how many days we want to plan for. One way to achieve this could be to create an empty string (we'll call it \"temp\"). Then we can use a ``while`` loop to keep asking for day names until we type the word \"done\", at which point the loop stops. Here we use a new way to compare things. We have already used ``==`` to check whether two variables are the same (e.g. above, where we wrote \n",
    "\n",
    "``if name == \"Superman\":\n",
    "    print(\"Cool name!!\")``\n",
    "\n",
    "Now we use ``!=`` to check if two things are _not_ the same. By the way, ``!=`` is pronounced \"bang equals\"."
   ]
  },
  {
   "cell_type": "code",
   "execution_count": 5,
   "metadata": {},
   "outputs": [
    {
     "name": "stdout",
     "output_type": "stream",
     "text": [
      "Enter a day name. If you are done, write \"done\". Tuesday\n",
      "Enter a day name. If you are done, write \"done\". Wednesday\n",
      "Enter a day name. If you are done, write \"done\". Thursday\n",
      "Enter a day name. If you are done, write \"done\". done\n"
     ]
    }
   ],
   "source": [
    "days = []\n",
    "temp = \"\"\n",
    "while temp != \"done\":\n",
    "    temp = input(\"Enter a day name. If you are done, write \\\"done\\\". \")\n",
    "    if temp != \"done\":\n",
    "        days.append(temp)"
   ]
  },
  {
   "cell_type": "markdown",
   "metadata": {},
   "source": [
    "So far, so good. Now we can keep adding the names of days we want to plan for until we are done. We don't need to know ahead of time how many days that will be. But... it's not a very good meal planner if we can't tell it what meals we want to make on each day. And that brings us to **Challenge 0**.."
   ]
  },
  {
   "cell_type": "markdown",
   "metadata": {},
   "source": [
    "## Challenge 0.1\n",
    "\n",
    "Use the starter code below to make a script that first asks for day names, then asks what you will make on each day. E.g., if you enter that you want to plan for Tuesday lunch and Saturday breakfast, make a script that asks you: \"What do you want to make for Tuesday lunch?\" and then asks you \"What do you want to make for Saturday breakfast?\" and then saves your answers in a list of days and a list of meals."
   ]
  },
  {
   "cell_type": "code",
   "execution_count": 12,
   "metadata": {},
   "outputs": [
    {
     "name": "stdout",
     "output_type": "stream",
     "text": [
      "Enter a day name and meal, e.g. \"Thursday lunch\" If you are done, write \"done\".Monday breakfast\n",
      "Enter a day name and meal, e.g. \"Thursday lunch\" If you are done, write \"done\".Tuesday lunch\n",
      "Enter a day name and meal, e.g. \"Thursday lunch\" If you are done, write \"done\".done\n",
      "What do you want to make for Monday breakfast? Toast\n",
      "What do you want to make for Tuesday lunch? Burritos\n"
     ]
    }
   ],
   "source": [
    "days = []\n",
    "temp = \"\"\n",
    "while temp != \"done\":\n",
    "    temp = input(\"Enter a day name and meal, e.g. \\\"Thursday lunch\\\" If you are done, write \\\"done\\\".\")\n",
    "    if temp != \"done\":\n",
    "        days.append(temp)\n",
    "\n",
    "meals = []\n",
    "for day in days:\n",
    "    prompt = \"What do you want to make for \" + day + \"? \"\n",
    "    meal = input(prompt)\n",
    "    meals.append(meal)\n",
    "    \n",
    "\n",
    "\n",
    "    \n",
    "    \n",
    "\n"
   ]
  },
  {
   "cell_type": "markdown",
   "metadata": {},
   "source": [
    "## Challenge 0.2\n",
    "\n",
    "If you complete **Challenge 0.1**, you should now have two lists: one with days, and one with meals. If we have two lists that are the same length, we can \"zip\" them together, like this:"
   ]
  },
  {
   "cell_type": "code",
   "execution_count": 13,
   "metadata": {},
   "outputs": [],
   "source": [
    "list_01 = ['cat', 'dog', 'fish', 'horse']\n",
    "list_02 = [4, 6, 2, 5]\n",
    "zippedlist = zip(list_01, list_02)"
   ]
  },
  {
   "cell_type": "markdown",
   "metadata": {},
   "source": [
    "The two lists are now \"zipped\" together, but we can't directly see what is in the list:"
   ]
  },
  {
   "cell_type": "code",
   "execution_count": 14,
   "metadata": {},
   "outputs": [
    {
     "data": {
      "text/plain": [
       "<zip at 0x108c0c040>"
      ]
     },
     "execution_count": 14,
     "metadata": {},
     "output_type": "execute_result"
    }
   ],
   "source": [
    "zippedlist"
   ]
  },
  {
   "cell_type": "markdown",
   "metadata": {},
   "source": [
    "What we can do instead is to turn the ``zip`` object back into a list, like this:"
   ]
  },
  {
   "cell_type": "code",
   "execution_count": 15,
   "metadata": {},
   "outputs": [
    {
     "data": {
      "text/plain": [
       "[('cat', 4), ('dog', 6), ('fish', 2), ('horse', 5)]"
      ]
     },
     "execution_count": 15,
     "metadata": {},
     "output_type": "execute_result"
    }
   ],
   "source": [
    "list_03 = list(zippedlist)\n",
    "list_03"
   ]
  },
  {
   "cell_type": "markdown",
   "metadata": {},
   "source": [
    "The pairs of data in the list are called `tuples`, by the way. So `list_03` is `list` of `tuples`. We can get e.g. the second `tuple` in the list by \"slicing\" the list:"
   ]
  },
  {
   "cell_type": "code",
   "execution_count": 16,
   "metadata": {},
   "outputs": [
    {
     "data": {
      "text/plain": [
       "('dog', 6)"
      ]
     },
     "execution_count": 16,
     "metadata": {},
     "output_type": "execute_result"
    }
   ],
   "source": [
    "list_03[1]"
   ]
  },
  {
   "cell_type": "markdown",
   "metadata": {},
   "source": [
    "and we can get the first item from the tuple in the second position in the list like this:"
   ]
  },
  {
   "cell_type": "code",
   "execution_count": 17,
   "metadata": {},
   "outputs": [
    {
     "data": {
      "text/plain": [
       "'dog'"
      ]
     },
     "execution_count": 17,
     "metadata": {},
     "output_type": "execute_result"
    }
   ],
   "source": [
    "list_03[1][0]"
   ]
  },
  {
   "cell_type": "markdown",
   "metadata": {},
   "source": [
    "But, it would be nice if we could just ask the computer what we planned to make on any given day, so that we don't need to know which position in the list to look in. We can do this with a `dictionary` variable. We can make a dictionary out of two lists, by first zipping them together and turning them into a `dict`."
   ]
  },
  {
   "cell_type": "code",
   "execution_count": 18,
   "metadata": {},
   "outputs": [
    {
     "data": {
      "text/plain": [
       "{'Tuesday': 'soup', 'Thursday': 'salad', 'Saturday': 'toast'}"
      ]
     },
     "execution_count": 18,
     "metadata": {},
     "output_type": "execute_result"
    }
   ],
   "source": [
    "list_01 = ['Tuesday', 'Thursday', 'Saturday']\n",
    "list_02 = ['soup', 'salad', 'toast']\n",
    "\n",
    "mealplan = dict(zip(list_01, list_02))\n",
    "mealplan"
   ]
  },
  {
   "cell_type": "markdown",
   "metadata": {},
   "source": [
    "You can tell this is a `dictionary` because of the \"curly braces\" or \"curly brackets\" `{}` and the format `key: value`, e.g. `Tuesday: soup`. Now we can get the value assoicated with each key:"
   ]
  },
  {
   "cell_type": "code",
   "execution_count": 19,
   "metadata": {},
   "outputs": [
    {
     "data": {
      "text/plain": [
       "'toast'"
      ]
     },
     "execution_count": 19,
     "metadata": {},
     "output_type": "execute_result"
    }
   ],
   "source": [
    "mealplan.get('Saturday')"
   ]
  },
  {
   "cell_type": "code",
   "execution_count": 20,
   "metadata": {},
   "outputs": [
    {
     "data": {
      "text/plain": [
       "'soup'"
      ]
     },
     "execution_count": 20,
     "metadata": {},
     "output_type": "execute_result"
    }
   ],
   "source": [
    "mealplan.get('Tuesday')"
   ]
  },
  {
   "cell_type": "markdown",
   "metadata": {},
   "source": [
    "If we can't remember what days we planned for, we can ask for a list of the keys:"
   ]
  },
  {
   "cell_type": "code",
   "execution_count": 21,
   "metadata": {},
   "outputs": [
    {
     "data": {
      "text/plain": [
       "['Tuesday', 'Thursday', 'Saturday']"
      ]
     },
     "execution_count": 21,
     "metadata": {},
     "output_type": "execute_result"
    }
   ],
   "source": [
    "days = list(mealplan.keys())\n",
    "days"
   ]
  },
  {
   "cell_type": "markdown",
   "metadata": {},
   "source": [
    "For **Challenge 0.2**, write a script that tells you what days you planned meals for in your script from **Challenge 0.1**, and then asks you which of the days you would like to know the meal for. E.g., the script will tell you: \"You planned meals for Tuesday, Thursday, and Saturday. Which day do you want to know the meal for?\" When you type in \"Saturday\", the meal planner will look in its `dictionary`, and tell you: \"On Saturday you planned to make toast.\""
   ]
  },
  {
   "cell_type": "code",
   "execution_count": 45,
   "metadata": {},
   "outputs": [
    {
     "name": "stdout",
     "output_type": "stream",
     "text": [
      "Enter a day name and meal, e.g. \"Thursday lunch\" If you are done, write \"done\".Monday breakfast\n",
      "Enter a day name and meal, e.g. \"Thursday lunch\" If you are done, write \"done\".Wednesday lunch\n",
      "Enter a day name and meal, e.g. \"Thursday lunch\" If you are done, write \"done\".Friday dinner\n",
      "Enter a day name and meal, e.g. \"Thursday lunch\" If you are done, write \"done\".done\n",
      "What do you want to make for Monday breakfast? bagels with cream cheese\n",
      "What do you want to make for Wednesday lunch? Lentil soup\n",
      "What do you want to make for Friday dinner? Pad Thai\n"
     ]
    }
   ],
   "source": [
    "days = []\n",
    "temp = \"\"\n",
    "while temp != \"done\":\n",
    "    temp = input(\"Enter a day name and meal, e.g. \\\"Thursday lunch\\\" If you are done, write \\\"done\\\".\")\n",
    "    if temp != \"done\":\n",
    "        days.append(temp)\n",
    "\n",
    "meals = []\n",
    "for day in days:\n",
    "    prompt = \"What do you want to make for \" + day + \"? \"\n",
    "    meal = input(prompt)\n",
    "    meals.append(meal)\n",
    "    \n"
   ]
  },
  {
   "cell_type": "code",
   "execution_count": 46,
   "metadata": {},
   "outputs": [
    {
     "data": {
      "text/plain": [
       "['Monday breakfast', 'Wednesday lunch', 'Friday dinner']"
      ]
     },
     "execution_count": 46,
     "metadata": {},
     "output_type": "execute_result"
    }
   ],
   "source": [
    "mealplan = dict(zip(days, meals))\n",
    "list(mealplan.keys())"
   ]
  },
  {
   "cell_type": "code",
   "execution_count": 64,
   "metadata": {},
   "outputs": [
    {
     "name": "stdout",
     "output_type": "stream",
     "text": [
      "You made plans for Monday breakfast, Wednesday lunch and Friday dinner. Which meal would you like more information on? Friday dinner\n",
      "For Friday dinner you planned to make Pad Thai\n"
     ]
    }
   ],
   "source": [
    "meals = list(mealplan.keys())\n",
    "num_meals = len(list(mealplan.keys()))\n",
    "last_meal = meals[num_meals-1]\n",
    "other_meals = meals[0:num_meals-1]\n",
    "prompt = \"You made plans for \" + ', '.join(other_meals) + ' and ' + last_meal + '. Which meal would you like more information on? '\n",
    "key = input(prompt)\n",
    "if key in meals:\n",
    "    print('For', key, 'you planned to make', mealplan[key])\n",
    "else: \n",
    "    print(\"That wasn't one of the meals you planned!\")"
   ]
  },
  {
   "cell_type": "markdown",
   "metadata": {},
   "source": [
    "If you have completed **Challenge 0.1** and **Challenge 0.2** successfully, you can stop if you want. But, to hone your skills, try picking one of the following 3 Challenges, and see how far you can go with it. **Challenge 1** is probably the easiest. The others can be as challenging as you want to make them."
   ]
  },
  {
   "cell_type": "markdown",
   "metadata": {},
   "source": [
    "## Challenge 1: Make a case converter\n",
    "\n",
    "Make a script that takes input from you, then asks if you want to convert it to all caps, all lower case, or title case. The converter should then output the text, correctly converted. Alternatively, if you are familiar with functions, you could define a function that e.g. puts strings in title case into upper case and strings in upper case into title case."
   ]
  },
  {
   "cell_type": "code",
   "execution_count": 130,
   "metadata": {},
   "outputs": [
    {
     "name": "stdout",
     "output_type": "stream",
     "text": [
      "What text do you want to convert?take us to your leader\n",
      "enter either (u)pper, (l)ower, or (t)itlet\n",
      "Take Us To Your Leader\n"
     ]
    }
   ],
   "source": [
    "text = input(\"What text do you want to convert?\")\n",
    "conversion = input(\"enter either (u)pper, (l)ower, or (t)itle\")\n",
    "if conversion == \"u\":\n",
    "    print(text.upper())\n",
    "if conversion == 'l':\n",
    "    print(text.lower())\n",
    "if conversion == 't':\n",
    "    print(text.title())\n",
    "if conversion not in ['u', 'l', 't']:\n",
    "    print(\"You need to choose either \\\"t\\\", \\\"l\\\", or \\\"t\\\"!\")"
   ]
  },
  {
   "cell_type": "code",
   "execution_count": 131,
   "metadata": {},
   "outputs": [],
   "source": [
    "def caseconvert(text, conversion):\n",
    "    if conversion == \"u\":\n",
    "        print(text.upper())\n",
    "    if conversion == 'l':\n",
    "        print(text.lower())\n",
    "    if conversion == 't':\n",
    "        print(text.title())\n",
    "    if conversion not in ['u', 'l', 't']:\n",
    "        print(\"You need to choose either \\\"t\\\", \\\"l\\\", or \\\"t\\\"!\")   "
   ]
  },
  {
   "cell_type": "code",
   "execution_count": 133,
   "metadata": {},
   "outputs": [
    {
     "name": "stdout",
     "output_type": "stream",
     "text": [
      "Take Us To Your Leader\n"
     ]
    }
   ],
   "source": [
    "caseconvert(\"take us to your leader\", \"t\")"
   ]
  },
  {
   "cell_type": "code",
   "execution_count": 134,
   "metadata": {},
   "outputs": [
    {
     "name": "stdout",
     "output_type": "stream",
     "text": [
      "take us to your leader\n"
     ]
    }
   ],
   "source": [
    "caseconvert(\"TAKE US TO YOUR LEADER\", \"l\")"
   ]
  },
  {
   "cell_type": "code",
   "execution_count": 135,
   "metadata": {},
   "outputs": [
    {
     "name": "stdout",
     "output_type": "stream",
     "text": [
      "take us to your leader\n"
     ]
    }
   ],
   "source": [
    "caseconvert(\"Take Us To Your Leader\", \"l\")"
   ]
  },
  {
   "cell_type": "markdown",
   "metadata": {},
   "source": [
    "## Challenge 2: Build a better chatbot\n",
    "\n",
    "Make a script that asks you questions about yourself, and then gives you feedback based on your input. For example, it could ask you your name, and then use your name in its responses. It could ask for your age, and then tell you how many years older or younger than some celebrity you are, etc. Make it as simple or complicated as you want."
   ]
  },
  {
   "cell_type": "code",
   "execution_count": 129,
   "metadata": {
    "scrolled": true
   },
   "outputs": [
    {
     "name": "stdout",
     "output_type": "stream",
     "text": [
      "Hi there! I'm a friendly chatbot named Chatty. What's your name? Thanos\n",
      "Wow! that's such a cool name!\n",
      "How old are you Thanos? 1005\n",
      "Oh cool, you're 945 years older than Thomas Cruise Mapother IV.\n"
     ]
    }
   ],
   "source": [
    "import time\n",
    "import datetime\n",
    "\n",
    "thisyear = int((str(datetime.datetime.now())).split('-')[0])\n",
    "tomsage = thisyear-1962\n",
    "\n",
    "name = input(\"Hi there! I\\'m a friendly chatbot named Chatty. What\\'s your name? \")\n",
    "time.sleep(1)\n",
    "print(\"Wow! that\\'s such a cool name!\")\n",
    "time.sleep(1)\n",
    "age = input(\"How old are you \" + name + \"? \")\n",
    "try:\n",
    "    if int(age) > tomsage:\n",
    "        print(\"Oh cool, you\\'re\", int(age) - tomsage, \"years older than Thomas Cruise Mapother IV.\")\n",
    "    if int(age) < tomsage:\n",
    "        print(\"Oh cool, you\\'re\", tomsage - int(age), \"years younger than Thomas Cruise Mapother IV.\")\n",
    "    if int(age) - tomsage == 0:\n",
    "        print(\"Oh cool, you\\'re the same age as Thomas Cruise Mapother IV!\")\n",
    "except:\n",
    "    print(\"Sorry,\",name, \"I only understand integers for age!\")   \n",
    "\n"
   ]
  },
  {
   "cell_type": "markdown",
   "metadata": {},
   "source": [
    "For more inspiration, see e.g. [eliza](https://github.com/wadetb/eliza)"
   ]
  },
  {
   "cell_type": "markdown",
   "metadata": {},
   "source": [
    "## Challenge 3: Make a better meal planner\n",
    "\n",
    "Our meal planner could be much better. For example, after you make a dictionary of days and meals, you could make it so that it will ask you for and then store the ingredients you need for each meal, and then allow you to look up your shopping list either by day or by meal."
   ]
  },
  {
   "cell_type": "markdown",
   "metadata": {},
   "source": [
    "For inspiration, see e.g. [this python meal planner](https://github.com/Techtesh/Python_meal_planner)"
   ]
  },
  {
   "cell_type": "markdown",
   "metadata": {},
   "source": [
    "## Challenge 4: Challenge yourself!\n",
    "\n",
    "I don't know.. what do you want to build? A text adventure? A random poetry generator? Go for it!"
   ]
  },
  {
   "cell_type": "markdown",
   "metadata": {},
   "source": [
    "[Gustav Styrbjørn Johannessen](https://www.lingoblog.dk/en/author/gustav-johannesen/) took this course in 2021 and decided to take up this challenge. Read about his solution in either [English](https://www.lingoblog.dk/en/rhyme-and-reason/) or [Danish](https://www.lingoblog.dk/versefoedder-og-guleroedder/)."
   ]
  },
  {
   "cell_type": "code",
   "execution_count": null,
   "metadata": {},
   "outputs": [],
   "source": []
  }
 ],
 "metadata": {
  "kernelspec": {
   "display_name": "Python 3 (ipykernel)",
   "language": "python",
   "name": "python3"
  },
  "language_info": {
   "codemirror_mode": {
    "name": "ipython",
    "version": 3
   },
   "file_extension": ".py",
   "mimetype": "text/x-python",
   "name": "python",
   "nbconvert_exporter": "python",
   "pygments_lexer": "ipython3",
   "version": "3.9.12"
  }
 },
 "nbformat": 4,
 "nbformat_minor": 4
}
