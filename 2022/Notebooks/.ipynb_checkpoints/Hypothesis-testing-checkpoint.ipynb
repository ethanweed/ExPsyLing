{
 "cells": [
  {
   "cell_type": "code",
   "execution_count": null,
   "id": "988f2a60",
   "metadata": {},
   "outputs": [],
   "source": []
  },
  {
   "cell_type": "code",
   "execution_count": 75,
   "id": "0aa8ad21",
   "metadata": {},
   "outputs": [
    {
     "data": {
      "text/plain": [
       "50"
      ]
     },
     "execution_count": 75,
     "metadata": {},
     "output_type": "execute_result"
    }
   ],
   "source": [
    "sum(x > 40 for x in data)"
   ]
  },
  {
   "cell_type": "markdown",
   "id": "61a6bd03",
   "metadata": {
    "slideshow": {
     "slide_type": "slide"
    }
   },
   "source": [
    "## Two types of errors\n",
    "\n",
    "|             | retain H0        | reject H0        |\n",
    "|-------------|------------------|------------------|\n",
    "| H0 is true  | correct decision | error (type I)   |\n",
    "| H0 is false | error (type II)  | correct decision |"
   ]
  },
  {
   "cell_type": "markdown",
   "id": "7ca5214c",
   "metadata": {},
   "source": [
    "|             | retain H0                                     | reject H0                     |\n",
    "|-------------|-----------------------------------------------|-------------------------------|\n",
    "| H0 is true  | $1-\\alpha$ (probability of correct retention) | $\\alpha$ (type I error rate)  |\n",
    "| H0 is false | $\\beta$ (type II error rate)                  | $1-\\beta$  (power of the test)|"
   ]
  },
  {
   "cell_type": "markdown",
   "id": "1777a2ef",
   "metadata": {},
   "source": [
    "| Value of $\\alpha$ | 0.05 | 0.04 | 0.03 | 0.02 | 0.01 |\n",
    "|--------------------|------|------|------|------|------|\n",
    "| Reject the null?   | Yes  | Yes  | Yes  | No   | No   |"
   ]
  },
  {
   "cell_type": "markdown",
   "id": "a879eb1f",
   "metadata": {},
   "source": [
    "## The $p$ value of a test\n",
    "\n",
    "- Neymann  \n",
    "- Fischer  \n",
    "- A common mistake"
   ]
  },
  {
   "cell_type": "markdown",
   "id": "c126ba5f",
   "metadata": {},
   "source": [
    "Reporting the results of a hypothesis test"
   ]
  },
  {
   "cell_type": "code",
   "execution_count": 25,
   "id": "52828b28",
   "metadata": {},
   "outputs": [
    {
     "data": {
      "image/png": "[encoded data removed]",
      "text/plain": [
       "<Figure size 432x288 with 1 Axes>"
      ]
     },
     "metadata": {
      "needs_background": "light"
     },
     "output_type": "display_data"
    }
   ],
   "source": [
    "# McElreath globe exercise\n",
    "\n",
    "\n",
    "\n",
    "import matplotlib.pyplot as plt\n",
    "import numpy as np\n",
    "import scipy\n",
    "\n",
    "number_water = 9\n",
    "spins = 23\n",
    "\n",
    "\n",
    "prob = np.linspace(0, 1, num=10)\n",
    "y = scipy.stats.binom.pmf(number_water, spins, prob)\n",
    "\n",
    "fig, ax = plt.subplots()\n",
    "ax.plot(prob, y)\n",
    "\n",
    "ax.set(xlabel='probability', ylabel='binomial liklihood',\n",
    "       title='Estimate of water proportion')\n",
    "ax.grid()"
   ]
  },
  {
   "cell_type": "code",
   "execution_count": null,
   "id": "4aa8999b",
   "metadata": {},
   "outputs": [],
   "source": []
  },
  {
   "cell_type": "code",
   "execution_count": null,
   "id": "a030412d",
   "metadata": {},
   "outputs": [],
   "source": []
  },
  {
   "cell_type": "code",
   "execution_count": null,
   "id": "71bebf06",
   "metadata": {},
   "outputs": [],
   "source": []
  },
  {
   "cell_type": "code",
   "execution_count": 26,
   "id": "cdd00c0d",
   "metadata": {},
   "outputs": [
    {
     "name": "stdout",
     "output_type": "stream",
     "text": [
      "probability of measuring values as extreme as our data if the null hypothesis is true, aka the p-value: 0.4048728942871094\n"
     ]
    }
   ],
   "source": [
    "# Frequentist test\n",
    "\n",
    "from scipy.stats import binom_test\n",
    "pvalue = binom_test(x = number_water, n = spins, p = 0.5, alternative = 'two-sided')\n",
    "print(\"probability of measuring values as extreme as our data if the null hypothesis is true, aka the p-value:\", pvalue)"
   ]
  },
  {
   "cell_type": "code",
   "execution_count": 27,
   "id": "b5ff1e6a",
   "metadata": {},
   "outputs": [
    {
     "name": "stdout",
     "output_type": "stream",
     "text": [
      "BF-null: 2.338, BF-alt: 0.428\n"
     ]
    },
    {
     "name": "stderr",
     "output_type": "stream",
     "text": [
      "/Users/ethan/opt/miniconda3/lib/python3.9/site-packages/outdated/utils.py:14: OutdatedPackageWarning: The package outdated is out of date. Your version is 0.2.1, the latest is 0.2.2.\n",
      "Set the environment variable OUTDATED_IGNORE=1 to disable these warnings.\n",
      "  return warn(\n"
     ]
    }
   ],
   "source": [
    "# Bayes factor\n",
    "\n",
    "import pingouin as pg\n",
    "bf = float(pg.bayesfactor_binom(k = number_water, n = spins, p=0.5))\n",
    "print(\"BF-null: %.3f, BF-alt: %.3f\" % (1 / bf, bf))"
   ]
  },
  {
   "cell_type": "code",
   "execution_count": null,
   "id": "12ae9fad",
   "metadata": {},
   "outputs": [],
   "source": []
  }
 ],
 "metadata": {
  "celltoolbar": "Slideshow",
  "kernelspec": {
   "display_name": "Python 3",
   "language": "python",
   "name": "python3"
  },
  "language_info": {
   "codemirror_mode": {
    "name": "ipython",
    "version": 3
   },
   "file_extension": ".py",
   "mimetype": "text/x-python",
   "name": "python",
   "nbconvert_exporter": "python",
   "pygments_lexer": "ipython3",
   "version": "3.9.12"
  }
 },
 "nbformat": 4,
 "nbformat_minor": 5
}
