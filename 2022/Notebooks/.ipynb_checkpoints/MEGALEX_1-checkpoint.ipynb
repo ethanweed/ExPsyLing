{
 "cells": [
  {
   "cell_type": "code",
   "execution_count": 1,
   "id": "65a2e888",
   "metadata": {},
   "outputs": [],
   "source": [
    "import numpy as np\n",
    "import seaborn as sns\n",
    "import pingouin as pg\n",
    "from matplotlib import pyplot as plt\n",
    "import pandas as pd\n",
    "pd.options.mode.chained_assignment = None  # default='warn'"
   ]
  },
  {
   "cell_type": "code",
   "execution_count": 2,
   "id": "3199c1c3",
   "metadata": {},
   "outputs": [],
   "source": [
    "\n",
    "df = pd.read_csv('https://raw.githubusercontent.com/ethanweed/datasets-for-teaching/main/MEGALEX.csv')\n"
   ]
  },
  {
   "cell_type": "code",
   "execution_count": 3,
   "id": "54dc0a91",
   "metadata": {},
   "outputs": [
    {
     "data": {
      "text/html": [
       "<div>\n",
       "<style scoped>\n",
       "    .dataframe tbody tr th:only-of-type {\n",
       "        vertical-align: middle;\n",
       "    }\n",
       "\n",
       "    .dataframe tbody tr th {\n",
       "        vertical-align: top;\n",
       "    }\n",
       "\n",
       "    .dataframe thead th {\n",
       "        text-align: right;\n",
       "    }\n",
       "</style>\n",
       "<table border=\"1\" class=\"dataframe\">\n",
       "  <thead>\n",
       "    <tr style=\"text-align: right;\">\n",
       "      <th></th>\n",
       "      <th>item</th>\n",
       "      <th>n_trials</th>\n",
       "      <th>err</th>\n",
       "      <th>rt</th>\n",
       "      <th>sd</th>\n",
       "      <th>rtz</th>\n",
       "      <th>n_used</th>\n",
       "      <th>c_freq_movies</th>\n",
       "      <th>lc_freq_movies</th>\n",
       "      <th>c_freq_books</th>\n",
       "      <th>lc_freq_books</th>\n",
       "      <th>n_letters</th>\n",
       "      <th>n_syllables</th>\n",
       "    </tr>\n",
       "  </thead>\n",
       "  <tbody>\n",
       "    <tr>\n",
       "      <th>0</th>\n",
       "      <td>abaissa</td>\n",
       "      <td>25</td>\n",
       "      <td>0.04</td>\n",
       "      <td>721.833333</td>\n",
       "      <td>106.416191</td>\n",
       "      <td>-0.035017</td>\n",
       "      <td>24</td>\n",
       "      <td>0.00</td>\n",
       "      <td>#NAME?</td>\n",
       "      <td>2.64</td>\n",
       "      <td>0.421603927</td>\n",
       "      <td>7</td>\n",
       "      <td>3</td>\n",
       "    </tr>\n",
       "    <tr>\n",
       "      <th>1</th>\n",
       "      <td>abaissait</td>\n",
       "      <td>25</td>\n",
       "      <td>0.08</td>\n",
       "      <td>836.782609</td>\n",
       "      <td>257.778086</td>\n",
       "      <td>0.366517</td>\n",
       "      <td>23</td>\n",
       "      <td>0.02</td>\n",
       "      <td>-1.698970004</td>\n",
       "      <td>2.50</td>\n",
       "      <td>0.397940009</td>\n",
       "      <td>9</td>\n",
       "      <td>3</td>\n",
       "    </tr>\n",
       "    <tr>\n",
       "      <th>2</th>\n",
       "      <td>abaissant</td>\n",
       "      <td>26</td>\n",
       "      <td>0.00</td>\n",
       "      <td>773.840000</td>\n",
       "      <td>224.378713</td>\n",
       "      <td>0.254392</td>\n",
       "      <td>25</td>\n",
       "      <td>0.04</td>\n",
       "      <td>-1.397940009</td>\n",
       "      <td>2.77</td>\n",
       "      <td>0.442479769</td>\n",
       "      <td>9</td>\n",
       "      <td>3</td>\n",
       "    </tr>\n",
       "    <tr>\n",
       "      <th>3</th>\n",
       "      <td>abaisse</td>\n",
       "      <td>25</td>\n",
       "      <td>0.04</td>\n",
       "      <td>698.826087</td>\n",
       "      <td>246.667913</td>\n",
       "      <td>-0.216788</td>\n",
       "      <td>23</td>\n",
       "      <td>1.30</td>\n",
       "      <td>0.113943352</td>\n",
       "      <td>3.45</td>\n",
       "      <td>0.537819095</td>\n",
       "      <td>7</td>\n",
       "      <td>2</td>\n",
       "    </tr>\n",
       "    <tr>\n",
       "      <th>4</th>\n",
       "      <td>abaissé</td>\n",
       "      <td>25</td>\n",
       "      <td>0.00</td>\n",
       "      <td>656.782609</td>\n",
       "      <td>177.024897</td>\n",
       "      <td>-0.434544</td>\n",
       "      <td>23</td>\n",
       "      <td>0.77</td>\n",
       "      <td>-0.113509275</td>\n",
       "      <td>1.55</td>\n",
       "      <td>0.190331698</td>\n",
       "      <td>7</td>\n",
       "      <td>3</td>\n",
       "    </tr>\n",
       "  </tbody>\n",
       "</table>\n",
       "</div>"
      ],
      "text/plain": [
       "        item  n_trials   err          rt          sd       rtz  n_used  \\\n",
       "0    abaissa        25  0.04  721.833333  106.416191 -0.035017      24   \n",
       "1  abaissait        25  0.08  836.782609  257.778086  0.366517      23   \n",
       "2  abaissant        26  0.00  773.840000  224.378713  0.254392      25   \n",
       "3    abaisse        25  0.04  698.826087  246.667913 -0.216788      23   \n",
       "4    abaissé        25  0.00  656.782609  177.024897 -0.434544      23   \n",
       "\n",
       "   c_freq_movies lc_freq_movies  c_freq_books lc_freq_books  n_letters  \\\n",
       "0           0.00         #NAME?          2.64   0.421603927          7   \n",
       "1           0.02   -1.698970004          2.50   0.397940009          9   \n",
       "2           0.04   -1.397940009          2.77   0.442479769          9   \n",
       "3           1.30    0.113943352          3.45   0.537819095          7   \n",
       "4           0.77   -0.113509275          1.55   0.190331698          7   \n",
       "\n",
       "   n_syllables  \n",
       "0            3  \n",
       "1            3  \n",
       "2            3  \n",
       "3            2  \n",
       "4            3  "
      ]
     },
     "execution_count": 3,
     "metadata": {},
     "output_type": "execute_result"
    }
   ],
   "source": [
    "df.head()"
   ]
  },
  {
   "cell_type": "code",
   "execution_count": 4,
   "id": "0a339397",
   "metadata": {},
   "outputs": [],
   "source": [
    "# remove missing data\n",
    "data = df.loc[(df['lc_freq_books'] != '#NAME?')]\n",
    "data['lc_freq_books'] = pd.to_numeric(data['lc_freq_books'], downcast='float')"
   ]
  },
  {
   "cell_type": "code",
   "execution_count": 5,
   "id": "ce43794f",
   "metadata": {
    "scrolled": true
   },
   "outputs": [
    {
     "data": {
      "text/plain": [
       "<AxesSubplot:xlabel='n_letters', ylabel='rt'>"
      ]
     },
     "execution_count": 5,
     "metadata": {},
     "output_type": "execute_result"
    },
    {
     "data": {
      "image/png": "[encoded data removed]",
      "text/plain": [
       "<Figure size 432x288 with 1 Axes>"
      ]
     },
     "metadata": {
      "needs_background": "light"
     },
     "output_type": "display_data"
    }
   ],
   "source": [
    "sns.regplot(data = data, x = 'n_letters', y = 'rt')"
   ]
  },
  {
   "cell_type": "code",
   "execution_count": 6,
   "id": "d347a03c",
   "metadata": {},
   "outputs": [
    {
     "data": {
      "text/html": [
       "<div>\n",
       "<style scoped>\n",
       "    .dataframe tbody tr th:only-of-type {\n",
       "        vertical-align: middle;\n",
       "    }\n",
       "\n",
       "    .dataframe tbody tr th {\n",
       "        vertical-align: top;\n",
       "    }\n",
       "\n",
       "    .dataframe thead th {\n",
       "        text-align: right;\n",
       "    }\n",
       "</style>\n",
       "<table border=\"1\" class=\"dataframe\">\n",
       "  <thead>\n",
       "    <tr style=\"text-align: right;\">\n",
       "      <th></th>\n",
       "      <th>item</th>\n",
       "      <th>n_trials</th>\n",
       "      <th>err</th>\n",
       "      <th>rt</th>\n",
       "      <th>sd</th>\n",
       "      <th>rtz</th>\n",
       "      <th>n_used</th>\n",
       "      <th>c_freq_movies</th>\n",
       "      <th>lc_freq_movies</th>\n",
       "      <th>c_freq_books</th>\n",
       "      <th>lc_freq_books</th>\n",
       "      <th>n_letters</th>\n",
       "      <th>n_syllables</th>\n",
       "    </tr>\n",
       "  </thead>\n",
       "  <tbody>\n",
       "    <tr>\n",
       "      <th>0</th>\n",
       "      <td>abaissa</td>\n",
       "      <td>25</td>\n",
       "      <td>0.04</td>\n",
       "      <td>721.833333</td>\n",
       "      <td>106.416191</td>\n",
       "      <td>-0.035017</td>\n",
       "      <td>24</td>\n",
       "      <td>0.00</td>\n",
       "      <td>#NAME?</td>\n",
       "      <td>2.64</td>\n",
       "      <td>0.421604</td>\n",
       "      <td>7</td>\n",
       "      <td>3</td>\n",
       "    </tr>\n",
       "    <tr>\n",
       "      <th>1</th>\n",
       "      <td>abaissait</td>\n",
       "      <td>25</td>\n",
       "      <td>0.08</td>\n",
       "      <td>836.782609</td>\n",
       "      <td>257.778086</td>\n",
       "      <td>0.366517</td>\n",
       "      <td>23</td>\n",
       "      <td>0.02</td>\n",
       "      <td>-1.698970004</td>\n",
       "      <td>2.50</td>\n",
       "      <td>0.397940</td>\n",
       "      <td>9</td>\n",
       "      <td>3</td>\n",
       "    </tr>\n",
       "    <tr>\n",
       "      <th>2</th>\n",
       "      <td>abaissant</td>\n",
       "      <td>26</td>\n",
       "      <td>0.00</td>\n",
       "      <td>773.840000</td>\n",
       "      <td>224.378713</td>\n",
       "      <td>0.254392</td>\n",
       "      <td>25</td>\n",
       "      <td>0.04</td>\n",
       "      <td>-1.397940009</td>\n",
       "      <td>2.77</td>\n",
       "      <td>0.442480</td>\n",
       "      <td>9</td>\n",
       "      <td>3</td>\n",
       "    </tr>\n",
       "    <tr>\n",
       "      <th>3</th>\n",
       "      <td>abaisse</td>\n",
       "      <td>25</td>\n",
       "      <td>0.04</td>\n",
       "      <td>698.826087</td>\n",
       "      <td>246.667913</td>\n",
       "      <td>-0.216788</td>\n",
       "      <td>23</td>\n",
       "      <td>1.30</td>\n",
       "      <td>0.113943352</td>\n",
       "      <td>3.45</td>\n",
       "      <td>0.537819</td>\n",
       "      <td>7</td>\n",
       "      <td>2</td>\n",
       "    </tr>\n",
       "    <tr>\n",
       "      <th>4</th>\n",
       "      <td>abaissé</td>\n",
       "      <td>25</td>\n",
       "      <td>0.00</td>\n",
       "      <td>656.782609</td>\n",
       "      <td>177.024897</td>\n",
       "      <td>-0.434544</td>\n",
       "      <td>23</td>\n",
       "      <td>0.77</td>\n",
       "      <td>-0.113509275</td>\n",
       "      <td>1.55</td>\n",
       "      <td>0.190332</td>\n",
       "      <td>7</td>\n",
       "      <td>3</td>\n",
       "    </tr>\n",
       "  </tbody>\n",
       "</table>\n",
       "</div>"
      ],
      "text/plain": [
       "        item  n_trials   err          rt          sd       rtz  n_used  \\\n",
       "0    abaissa        25  0.04  721.833333  106.416191 -0.035017      24   \n",
       "1  abaissait        25  0.08  836.782609  257.778086  0.366517      23   \n",
       "2  abaissant        26  0.00  773.840000  224.378713  0.254392      25   \n",
       "3    abaisse        25  0.04  698.826087  246.667913 -0.216788      23   \n",
       "4    abaissé        25  0.00  656.782609  177.024897 -0.434544      23   \n",
       "\n",
       "   c_freq_movies lc_freq_movies  c_freq_books  lc_freq_books  n_letters  \\\n",
       "0           0.00         #NAME?          2.64       0.421604          7   \n",
       "1           0.02   -1.698970004          2.50       0.397940          9   \n",
       "2           0.04   -1.397940009          2.77       0.442480          9   \n",
       "3           1.30    0.113943352          3.45       0.537819          7   \n",
       "4           0.77   -0.113509275          1.55       0.190332          7   \n",
       "\n",
       "   n_syllables  \n",
       "0            3  \n",
       "1            3  \n",
       "2            3  \n",
       "3            2  \n",
       "4            3  "
      ]
     },
     "execution_count": 6,
     "metadata": {},
     "output_type": "execute_result"
    }
   ],
   "source": [
    "\n",
    "data = df.loc[(df['lc_freq_books'] != '#NAME?')]\n",
    "data.loc[:,'lc_freq_books'] = pd.to_numeric(data.loc[:,'lc_freq_books'], downcast='float')\n",
    "data.head()"
   ]
  },
  {
   "cell_type": "code",
   "execution_count": 7,
   "id": "bff7d47d",
   "metadata": {},
   "outputs": [
    {
     "data": {
      "text/plain": [
       "<AxesSubplot:xlabel='c_freq_movies', ylabel='c_freq_books'>"
      ]
     },
     "execution_count": 7,
     "metadata": {},
     "output_type": "execute_result"
    },
    {
     "data": {
      "image/png": "[encoded data removed]",
      "text/plain": [
       "<Figure size 432x288 with 1 Axes>"
      ]
     },
     "metadata": {
      "needs_background": "light"
     },
     "output_type": "display_data"
    }
   ],
   "source": [
    "sns.scatterplot(data = data, x = 'c_freq_movies', y = 'c_freq_books')\n",
    "\n",
    "# challenge: add labels to the outlier points"
   ]
  },
  {
   "cell_type": "code",
   "execution_count": 8,
   "id": "fb5249b8",
   "metadata": {},
   "outputs": [
    {
     "data": {
      "text/html": [
       "<div>\n",
       "<style scoped>\n",
       "    .dataframe tbody tr th:only-of-type {\n",
       "        vertical-align: middle;\n",
       "    }\n",
       "\n",
       "    .dataframe tbody tr th {\n",
       "        vertical-align: top;\n",
       "    }\n",
       "\n",
       "    .dataframe thead th {\n",
       "        text-align: right;\n",
       "    }\n",
       "</style>\n",
       "<table border=\"1\" class=\"dataframe\">\n",
       "  <thead>\n",
       "    <tr style=\"text-align: right;\">\n",
       "      <th></th>\n",
       "      <th>item</th>\n",
       "      <th>n_trials</th>\n",
       "      <th>err</th>\n",
       "      <th>rt</th>\n",
       "      <th>sd</th>\n",
       "      <th>rtz</th>\n",
       "      <th>n_used</th>\n",
       "      <th>c_freq_movies</th>\n",
       "      <th>lc_freq_movies</th>\n",
       "      <th>c_freq_books</th>\n",
       "      <th>lc_freq_books</th>\n",
       "      <th>n_letters</th>\n",
       "      <th>n_syllables</th>\n",
       "    </tr>\n",
       "  </thead>\n",
       "  <tbody>\n",
       "    <tr>\n",
       "      <th>9271</th>\n",
       "      <td>de</td>\n",
       "      <td>25</td>\n",
       "      <td>0.080000</td>\n",
       "      <td>615.409091</td>\n",
       "      <td>81.500020</td>\n",
       "      <td>-0.467695</td>\n",
       "      <td>22</td>\n",
       "      <td>25220.96</td>\n",
       "      <td>4.401761613</td>\n",
       "      <td>38928.92</td>\n",
       "      <td>4.590272</td>\n",
       "      <td>2</td>\n",
       "      <td>1</td>\n",
       "    </tr>\n",
       "    <tr>\n",
       "      <th>21052</th>\n",
       "      <td>la</td>\n",
       "      <td>25</td>\n",
       "      <td>0.000000</td>\n",
       "      <td>727.760000</td>\n",
       "      <td>233.664517</td>\n",
       "      <td>-0.097423</td>\n",
       "      <td>25</td>\n",
       "      <td>16028.08</td>\n",
       "      <td>4.204881501</td>\n",
       "      <td>24877.30</td>\n",
       "      <td>4.395803</td>\n",
       "      <td>2</td>\n",
       "      <td>1</td>\n",
       "    </tr>\n",
       "    <tr>\n",
       "      <th>14633</th>\n",
       "      <td>et</td>\n",
       "      <td>24</td>\n",
       "      <td>0.166667</td>\n",
       "      <td>649.250000</td>\n",
       "      <td>145.831509</td>\n",
       "      <td>-0.521128</td>\n",
       "      <td>20</td>\n",
       "      <td>12909.08</td>\n",
       "      <td>4.110895292</td>\n",
       "      <td>20879.73</td>\n",
       "      <td>4.319725</td>\n",
       "      <td>2</td>\n",
       "      <td>1</td>\n",
       "    </tr>\n",
       "    <tr>\n",
       "      <th>21325</th>\n",
       "      <td>le</td>\n",
       "      <td>25</td>\n",
       "      <td>0.040000</td>\n",
       "      <td>597.791667</td>\n",
       "      <td>105.954863</td>\n",
       "      <td>-0.591781</td>\n",
       "      <td>24</td>\n",
       "      <td>16953.50</td>\n",
       "      <td>4.229259371</td>\n",
       "      <td>20735.14</td>\n",
       "      <td>4.316707</td>\n",
       "      <td>2</td>\n",
       "      <td>1</td>\n",
       "    </tr>\n",
       "    <tr>\n",
       "      <th>21405</th>\n",
       "      <td>les</td>\n",
       "      <td>26</td>\n",
       "      <td>0.000000</td>\n",
       "      <td>661.269231</td>\n",
       "      <td>161.770840</td>\n",
       "      <td>-0.257769</td>\n",
       "      <td>26</td>\n",
       "      <td>9961.13</td>\n",
       "      <td>3.998308608</td>\n",
       "      <td>16074.53</td>\n",
       "      <td>4.206138</td>\n",
       "      <td>3</td>\n",
       "      <td>1</td>\n",
       "    </tr>\n",
       "  </tbody>\n",
       "</table>\n",
       "</div>"
      ],
      "text/plain": [
       "      item  n_trials       err          rt          sd       rtz  n_used  \\\n",
       "9271    de        25  0.080000  615.409091   81.500020 -0.467695      22   \n",
       "21052   la        25  0.000000  727.760000  233.664517 -0.097423      25   \n",
       "14633   et        24  0.166667  649.250000  145.831509 -0.521128      20   \n",
       "21325   le        25  0.040000  597.791667  105.954863 -0.591781      24   \n",
       "21405  les        26  0.000000  661.269231  161.770840 -0.257769      26   \n",
       "\n",
       "       c_freq_movies lc_freq_movies  c_freq_books  lc_freq_books  n_letters  \\\n",
       "9271        25220.96    4.401761613      38928.92       4.590272          2   \n",
       "21052       16028.08    4.204881501      24877.30       4.395803          2   \n",
       "14633       12909.08    4.110895292      20879.73       4.319725          2   \n",
       "21325       16953.50    4.229259371      20735.14       4.316707          2   \n",
       "21405        9961.13    3.998308608      16074.53       4.206138          3   \n",
       "\n",
       "       n_syllables  \n",
       "9271             1  \n",
       "21052            1  \n",
       "14633            1  \n",
       "21325            1  \n",
       "21405            1  "
      ]
     },
     "execution_count": 8,
     "metadata": {},
     "output_type": "execute_result"
    }
   ],
   "source": [
    "data = data.sort_values(by=['c_freq_books'], ascending=False)\n",
    "data.head()"
   ]
  },
  {
   "cell_type": "code",
   "execution_count": 9,
   "id": "6165261a",
   "metadata": {},
   "outputs": [
    {
     "data": {
      "text/plain": [
       "[('de', 38928.92),\n",
       " ('la', 24877.3),\n",
       " ('et', 20879.73),\n",
       " ('le', 20735.14),\n",
       " ('les', 16074.53),\n",
       " ('il', 15832.16),\n",
       " ('un', 13946.36),\n",
       " ('en', 11402.97),\n",
       " ('je', 10862.77),\n",
       " ('des', 10624.93),\n",
       " ('une', 9830.81),\n",
       " ('pas', 9129.33),\n",
       " ('dans', 8296.08),\n",
       " ('est', 7984.12),\n",
       " ('qui', 7923.25),\n",
       " ('ne', 7752.09),\n",
       " ('elle', 6991.49),\n",
       " ('du', 6882.16),\n",
       " ('pour', 6214.19),\n",
       " ('ce', 5395.13)]"
      ]
     },
     "execution_count": 9,
     "metadata": {},
     "output_type": "execute_result"
    }
   ],
   "source": [
    "words = list(data['item'])\n",
    "freq = list(data['c_freq_books'])\n",
    "\n",
    "list(zip(words, freq))[0:20]"
   ]
  },
  {
   "cell_type": "code",
   "execution_count": 10,
   "id": "a1a51287",
   "metadata": {},
   "outputs": [
    {
     "data": {
      "text/plain": [
       "<AxesSubplot:>"
      ]
     },
     "execution_count": 10,
     "metadata": {},
     "output_type": "execute_result"
    },
    {
     "data": {
      "image/png": "[encoded data removed]",
      "text/plain": [
       "<Figure size 432x288 with 1 Axes>"
      ]
     },
     "metadata": {
      "needs_background": "light"
     },
     "output_type": "display_data"
    }
   ],
   "source": [
    "sns.scatterplot(x = [i for i in range(len(freq))], y = freq)"
   ]
  },
  {
   "cell_type": "code",
   "execution_count": 11,
   "id": "9db14620",
   "metadata": {},
   "outputs": [
    {
     "data": {
      "text/plain": [
       "<AxesSubplot:>"
      ]
     },
     "execution_count": 11,
     "metadata": {},
     "output_type": "execute_result"
    },
    {
     "data": {
      "image/png": "[encoded data removed]",
      "text/plain": [
       "<Figure size 432x288 with 1 Axes>"
      ]
     },
     "metadata": {
      "needs_background": "light"
     },
     "output_type": "display_data"
    }
   ],
   "source": [
    "# Zipf's law\n",
    "\n",
    "HF = freq[0:40]\n",
    "sns.scatterplot(x = [i for i in range(len(HF))], y = HF)"
   ]
  },
  {
   "cell_type": "code",
   "execution_count": 12,
   "id": "41eba8b9",
   "metadata": {},
   "outputs": [
    {
     "data": {
      "text/plain": [
       "<AxesSubplot:xlabel='lc_freq_books', ylabel='rt'>"
      ]
     },
     "execution_count": 12,
     "metadata": {},
     "output_type": "execute_result"
    },
    {
     "data": {
      "image/png": "[encoded data removed]",
      "text/plain": [
       "<Figure size 432x288 with 1 Axes>"
      ]
     },
     "metadata": {
      "needs_background": "light"
     },
     "output_type": "display_data"
    }
   ],
   "source": [
    "sns.regplot(data = data, x = 'lc_freq_books', y = 'rt')"
   ]
  },
  {
   "cell_type": "code",
   "execution_count": 13,
   "id": "6ad2bce3",
   "metadata": {},
   "outputs": [
    {
     "data": {
      "text/html": [
       "<div>\n",
       "<style scoped>\n",
       "    .dataframe tbody tr th:only-of-type {\n",
       "        vertical-align: middle;\n",
       "    }\n",
       "\n",
       "    .dataframe tbody tr th {\n",
       "        vertical-align: top;\n",
       "    }\n",
       "\n",
       "    .dataframe thead th {\n",
       "        text-align: right;\n",
       "    }\n",
       "</style>\n",
       "<table border=\"1\" class=\"dataframe\">\n",
       "  <thead>\n",
       "    <tr style=\"text-align: right;\">\n",
       "      <th></th>\n",
       "      <th>item</th>\n",
       "      <th>n_trials</th>\n",
       "      <th>err</th>\n",
       "      <th>rt</th>\n",
       "      <th>sd</th>\n",
       "      <th>rtz</th>\n",
       "      <th>n_used</th>\n",
       "      <th>c_freq_movies</th>\n",
       "      <th>lc_freq_movies</th>\n",
       "      <th>c_freq_books</th>\n",
       "      <th>lc_freq_books</th>\n",
       "      <th>n_letters</th>\n",
       "      <th>n_syllables</th>\n",
       "    </tr>\n",
       "  </thead>\n",
       "  <tbody>\n",
       "    <tr>\n",
       "      <th>0</th>\n",
       "      <td>abaissa</td>\n",
       "      <td>25</td>\n",
       "      <td>0.04</td>\n",
       "      <td>721.833333</td>\n",
       "      <td>106.416191</td>\n",
       "      <td>-0.035017</td>\n",
       "      <td>24</td>\n",
       "      <td>0.00</td>\n",
       "      <td>#NAME?</td>\n",
       "      <td>2.64</td>\n",
       "      <td>0.421603927</td>\n",
       "      <td>7</td>\n",
       "      <td>3</td>\n",
       "    </tr>\n",
       "    <tr>\n",
       "      <th>1</th>\n",
       "      <td>abaissait</td>\n",
       "      <td>25</td>\n",
       "      <td>0.08</td>\n",
       "      <td>836.782609</td>\n",
       "      <td>257.778086</td>\n",
       "      <td>0.366517</td>\n",
       "      <td>23</td>\n",
       "      <td>0.02</td>\n",
       "      <td>-1.698970004</td>\n",
       "      <td>2.50</td>\n",
       "      <td>0.397940009</td>\n",
       "      <td>9</td>\n",
       "      <td>3</td>\n",
       "    </tr>\n",
       "    <tr>\n",
       "      <th>2</th>\n",
       "      <td>abaissant</td>\n",
       "      <td>26</td>\n",
       "      <td>0.00</td>\n",
       "      <td>773.840000</td>\n",
       "      <td>224.378713</td>\n",
       "      <td>0.254392</td>\n",
       "      <td>25</td>\n",
       "      <td>0.04</td>\n",
       "      <td>-1.397940009</td>\n",
       "      <td>2.77</td>\n",
       "      <td>0.442479769</td>\n",
       "      <td>9</td>\n",
       "      <td>3</td>\n",
       "    </tr>\n",
       "    <tr>\n",
       "      <th>3</th>\n",
       "      <td>abaisse</td>\n",
       "      <td>25</td>\n",
       "      <td>0.04</td>\n",
       "      <td>698.826087</td>\n",
       "      <td>246.667913</td>\n",
       "      <td>-0.216788</td>\n",
       "      <td>23</td>\n",
       "      <td>1.30</td>\n",
       "      <td>0.113943352</td>\n",
       "      <td>3.45</td>\n",
       "      <td>0.537819095</td>\n",
       "      <td>7</td>\n",
       "      <td>2</td>\n",
       "    </tr>\n",
       "    <tr>\n",
       "      <th>4</th>\n",
       "      <td>abaissé</td>\n",
       "      <td>25</td>\n",
       "      <td>0.00</td>\n",
       "      <td>656.782609</td>\n",
       "      <td>177.024897</td>\n",
       "      <td>-0.434544</td>\n",
       "      <td>23</td>\n",
       "      <td>0.77</td>\n",
       "      <td>-0.113509275</td>\n",
       "      <td>1.55</td>\n",
       "      <td>0.190331698</td>\n",
       "      <td>7</td>\n",
       "      <td>3</td>\n",
       "    </tr>\n",
       "  </tbody>\n",
       "</table>\n",
       "</div>"
      ],
      "text/plain": [
       "        item  n_trials   err          rt          sd       rtz  n_used  \\\n",
       "0    abaissa        25  0.04  721.833333  106.416191 -0.035017      24   \n",
       "1  abaissait        25  0.08  836.782609  257.778086  0.366517      23   \n",
       "2  abaissant        26  0.00  773.840000  224.378713  0.254392      25   \n",
       "3    abaisse        25  0.04  698.826087  246.667913 -0.216788      23   \n",
       "4    abaissé        25  0.00  656.782609  177.024897 -0.434544      23   \n",
       "\n",
       "   c_freq_movies lc_freq_movies  c_freq_books lc_freq_books  n_letters  \\\n",
       "0           0.00         #NAME?          2.64   0.421603927          7   \n",
       "1           0.02   -1.698970004          2.50   0.397940009          9   \n",
       "2           0.04   -1.397940009          2.77   0.442479769          9   \n",
       "3           1.30    0.113943352          3.45   0.537819095          7   \n",
       "4           0.77   -0.113509275          1.55   0.190331698          7   \n",
       "\n",
       "   n_syllables  \n",
       "0            3  \n",
       "1            3  \n",
       "2            3  \n",
       "3            2  \n",
       "4            3  "
      ]
     },
     "execution_count": 13,
     "metadata": {},
     "output_type": "execute_result"
    }
   ],
   "source": [
    "data = df.loc[(df['c_freq_books'] != '#NAME?')]\n",
    "data = data.loc[(data['c_freq_movies'] != '#NAME?')]\n",
    "\n",
    "data.loc[:,'c_freq_books'] = pd.to_numeric(data.loc[:,'c_freq_books'], downcast='float')\n",
    "data.loc[:,'c_freq_movies'] = pd.to_numeric(data.loc[:,'c_freq_movies'], downcast='float')\n",
    "data.head()"
   ]
  },
  {
   "cell_type": "code",
   "execution_count": 14,
   "id": "8ff07e4e",
   "metadata": {},
   "outputs": [
    {
     "data": {
      "text/plain": [
       "<AxesSubplot:xlabel='n_syllables', ylabel='rt'>"
      ]
     },
     "execution_count": 14,
     "metadata": {},
     "output_type": "execute_result"
    },
    {
     "data": {
      "image/png": "[encoded data removed]",
      "text/plain": [
       "<Figure size 432x288 with 1 Axes>"
      ]
     },
     "metadata": {
      "needs_background": "light"
     },
     "output_type": "display_data"
    }
   ],
   "source": [
    "sns.regplot(data = data, x = 'n_syllables', y = 'rt')\n",
    "# text box with correlation coefficient"
   ]
  },
  {
   "cell_type": "code",
   "execution_count": 15,
   "id": "3c1c92e0",
   "metadata": {},
   "outputs": [
    {
     "data": {
      "text/html": [
       "<div>\n",
       "<style scoped>\n",
       "    .dataframe tbody tr th:only-of-type {\n",
       "        vertical-align: middle;\n",
       "    }\n",
       "\n",
       "    .dataframe tbody tr th {\n",
       "        vertical-align: top;\n",
       "    }\n",
       "\n",
       "    .dataframe thead th {\n",
       "        text-align: right;\n",
       "    }\n",
       "</style>\n",
       "<table border=\"1\" class=\"dataframe\">\n",
       "  <thead>\n",
       "    <tr style=\"text-align: right;\">\n",
       "      <th></th>\n",
       "      <th>names</th>\n",
       "      <th>coef</th>\n",
       "      <th>se</th>\n",
       "      <th>T</th>\n",
       "      <th>pval</th>\n",
       "      <th>r2</th>\n",
       "      <th>adj_r2</th>\n",
       "      <th>CI[2.5%]</th>\n",
       "      <th>CI[97.5%]</th>\n",
       "    </tr>\n",
       "  </thead>\n",
       "  <tbody>\n",
       "    <tr>\n",
       "      <th>0</th>\n",
       "      <td>Intercept</td>\n",
       "      <td>647.245505</td>\n",
       "      <td>1.445660</td>\n",
       "      <td>447.716182</td>\n",
       "      <td>0.0</td>\n",
       "      <td>0.107434</td>\n",
       "      <td>0.107411</td>\n",
       "      <td>644.411973</td>\n",
       "      <td>650.079037</td>\n",
       "    </tr>\n",
       "    <tr>\n",
       "      <th>1</th>\n",
       "      <td>n_syllables</td>\n",
       "      <td>36.446271</td>\n",
       "      <td>0.536556</td>\n",
       "      <td>67.926294</td>\n",
       "      <td>0.0</td>\n",
       "      <td>0.107434</td>\n",
       "      <td>0.107411</td>\n",
       "      <td>35.394607</td>\n",
       "      <td>37.497935</td>\n",
       "    </tr>\n",
       "  </tbody>\n",
       "</table>\n",
       "</div>"
      ],
      "text/plain": [
       "         names        coef        se           T  pval        r2    adj_r2  \\\n",
       "0    Intercept  647.245505  1.445660  447.716182   0.0  0.107434  0.107411   \n",
       "1  n_syllables   36.446271  0.536556   67.926294   0.0  0.107434  0.107411   \n",
       "\n",
       "     CI[2.5%]   CI[97.5%]  \n",
       "0  644.411973  650.079037  \n",
       "1   35.394607   37.497935  "
      ]
     },
     "execution_count": 15,
     "metadata": {},
     "output_type": "execute_result"
    }
   ],
   "source": [
    "pg.linear_regression(data['n_syllables'], data['rt'])"
   ]
  },
  {
   "cell_type": "code",
   "execution_count": 16,
   "id": "7568e729",
   "metadata": {},
   "outputs": [
    {
     "data": {
      "image/png": "[encoded data removed]",
      "text/plain": [
       "<Figure size 1080x360 with 2 Axes>"
      ]
     },
     "metadata": {
      "needs_background": "light"
     },
     "output_type": "display_data"
    }
   ],
   "source": [
    "fig, axes = plt.subplots(1, 2, figsize=(15, 5))\n",
    "\n",
    "ax0 = sns.regplot(data = data, x = 'n_syllables', y = 'rt', ax=axes[0])\n",
    "ax1 = sns.regplot(data = data, x = 'n_letters', y = 'rt', ax=axes[1])"
   ]
  },
  {
   "cell_type": "code",
   "execution_count": 17,
   "id": "0e018f63",
   "metadata": {},
   "outputs": [
    {
     "data": {
      "text/html": [
       "<div>\n",
       "<style scoped>\n",
       "    .dataframe tbody tr th:only-of-type {\n",
       "        vertical-align: middle;\n",
       "    }\n",
       "\n",
       "    .dataframe tbody tr th {\n",
       "        vertical-align: top;\n",
       "    }\n",
       "\n",
       "    .dataframe thead th {\n",
       "        text-align: right;\n",
       "    }\n",
       "</style>\n",
       "<table border=\"1\" class=\"dataframe\">\n",
       "  <thead>\n",
       "    <tr style=\"text-align: right;\">\n",
       "      <th></th>\n",
       "      <th>names</th>\n",
       "      <th>coef</th>\n",
       "      <th>se</th>\n",
       "      <th>T</th>\n",
       "      <th>pval</th>\n",
       "      <th>r2</th>\n",
       "      <th>adj_r2</th>\n",
       "      <th>CI[2.5%]</th>\n",
       "      <th>CI[97.5%]</th>\n",
       "    </tr>\n",
       "  </thead>\n",
       "  <tbody>\n",
       "    <tr>\n",
       "      <th>0</th>\n",
       "      <td>Intercept</td>\n",
       "      <td>597.156619</td>\n",
       "      <td>1.723831</td>\n",
       "      <td>346.412446</td>\n",
       "      <td>0.000000e+00</td>\n",
       "      <td>0.16181</td>\n",
       "      <td>0.161766</td>\n",
       "      <td>593.777865</td>\n",
       "      <td>600.535373</td>\n",
       "    </tr>\n",
       "    <tr>\n",
       "      <th>1</th>\n",
       "      <td>n_syllables</td>\n",
       "      <td>8.275544</td>\n",
       "      <td>0.767786</td>\n",
       "      <td>10.778448</td>\n",
       "      <td>4.758422e-27</td>\n",
       "      <td>0.16181</td>\n",
       "      <td>0.161766</td>\n",
       "      <td>6.770663</td>\n",
       "      <td>9.780425</td>\n",
       "    </tr>\n",
       "    <tr>\n",
       "      <th>2</th>\n",
       "      <td>n_letters</td>\n",
       "      <td>14.804351</td>\n",
       "      <td>0.296878</td>\n",
       "      <td>49.866746</td>\n",
       "      <td>0.000000e+00</td>\n",
       "      <td>0.16181</td>\n",
       "      <td>0.161766</td>\n",
       "      <td>14.222462</td>\n",
       "      <td>15.386240</td>\n",
       "    </tr>\n",
       "  </tbody>\n",
       "</table>\n",
       "</div>"
      ],
      "text/plain": [
       "         names        coef        se           T          pval       r2  \\\n",
       "0    Intercept  597.156619  1.723831  346.412446  0.000000e+00  0.16181   \n",
       "1  n_syllables    8.275544  0.767786   10.778448  4.758422e-27  0.16181   \n",
       "2    n_letters   14.804351  0.296878   49.866746  0.000000e+00  0.16181   \n",
       "\n",
       "     adj_r2    CI[2.5%]   CI[97.5%]  \n",
       "0  0.161766  593.777865  600.535373  \n",
       "1  0.161766    6.770663    9.780425  \n",
       "2  0.161766   14.222462   15.386240  "
      ]
     },
     "execution_count": 17,
     "metadata": {},
     "output_type": "execute_result"
    }
   ],
   "source": [
    "pg.linear_regression(data[['n_syllables', 'n_letters']], data['rt'])"
   ]
  },
  {
   "cell_type": "code",
   "execution_count": 18,
   "id": "6e262ea8",
   "metadata": {},
   "outputs": [
    {
     "data": {
      "text/plain": [
       "<AxesSubplot:xlabel='rt', ylabel='Density'>"
      ]
     },
     "execution_count": 18,
     "metadata": {},
     "output_type": "execute_result"
    },
    {
     "data": {
      "image/png": "[encoded data removed]",
      "text/plain": [
       "<Figure size 432x288 with 1 Axes>"
      ]
     },
     "metadata": {
      "needs_background": "light"
     },
     "output_type": "display_data"
    }
   ],
   "source": [
    "sns.kdeplot(data = data, x = 'rt', hue = 'n_letters')"
   ]
  },
  {
   "cell_type": "code",
   "execution_count": null,
   "id": "a4a18be5",
   "metadata": {},
   "outputs": [],
   "source": []
  }
 ],
 "metadata": {
  "kernelspec": {
   "display_name": "Python 3 (ipykernel)",
   "language": "python",
   "name": "python3"
  },
  "language_info": {
   "codemirror_mode": {
    "name": "ipython",
    "version": 3
   },
   "file_extension": ".py",
   "mimetype": "text/x-python",
   "name": "python",
   "nbconvert_exporter": "python",
   "pygments_lexer": "ipython3",
   "version": "3.9.12"
  }
 },
 "nbformat": 4,
 "nbformat_minor": 5
}
