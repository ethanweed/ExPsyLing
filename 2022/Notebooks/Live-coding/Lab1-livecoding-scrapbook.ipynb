{
 "cells": [
  {
   "cell_type": "markdown",
   "id": "ea1e398a",
   "metadata": {},
   "source": [
    "# Variables and variable types\n",
    "\n",
    "## \"Regular\" variables\n",
    "\n",
    "1. strings\n",
    "1. integers\n",
    "1. floats\n",
    "\n",
    "## \"Collection\" variables\n",
    "\n",
    "1. tuples\n",
    "1. lists\n",
    "1. sets\n",
    "1. dictionaries\n",
    "\n",
    "From https://www.w3schools.com:\n",
    "\n",
    "- **List** is a collection which is ordered and changeable. Allows duplicate members.\n",
    "- **Tuple** is a collection which is ordered and unchangeable. Allows duplicate members.\n",
    "- **Set** is a collection which is unordered, \"unchangeable\", and unindexed. No duplicate members.\n",
    "- **Dictionary** is a collection which is ordered and changeable. No duplicate members."
   ]
  },
  {
   "cell_type": "code",
   "execution_count": 8,
   "id": "c69bd20c",
   "metadata": {},
   "outputs": [],
   "source": [
    "mytuple = (\"cats\", \"dogs\", \"horses\")\n",
    "mylist = [\"cats\", \"dogs\", \"horses\"]"
   ]
  },
  {
   "cell_type": "code",
   "execution_count": 9,
   "id": "245b1851",
   "metadata": {},
   "outputs": [
    {
     "data": {
      "text/plain": [
       "('cats', 'dogs', 'horses')"
      ]
     },
     "execution_count": 9,
     "metadata": {},
     "output_type": "execute_result"
    }
   ],
   "source": [
    "mytuple"
   ]
  },
  {
   "cell_type": "code",
   "execution_count": 10,
   "id": "cc70483c",
   "metadata": {},
   "outputs": [
    {
     "data": {
      "text/plain": [
       "['cats', 'dogs', 'horses']"
      ]
     },
     "execution_count": 10,
     "metadata": {},
     "output_type": "execute_result"
    }
   ],
   "source": [
    "mylist"
   ]
  },
  {
   "cell_type": "code",
   "execution_count": 11,
   "id": "844f7639",
   "metadata": {},
   "outputs": [
    {
     "data": {
      "text/plain": [
       "'horses'"
      ]
     },
     "execution_count": 11,
     "metadata": {},
     "output_type": "execute_result"
    }
   ],
   "source": [
    "mytuple[2]"
   ]
  },
  {
   "cell_type": "code",
   "execution_count": 12,
   "id": "1206287b",
   "metadata": {},
   "outputs": [
    {
     "data": {
      "text/plain": [
       "'horses'"
      ]
     },
     "execution_count": 12,
     "metadata": {},
     "output_type": "execute_result"
    }
   ],
   "source": [
    "mylist[2]"
   ]
  },
  {
   "cell_type": "code",
   "execution_count": 13,
   "id": "228e972e",
   "metadata": {},
   "outputs": [
    {
     "ename": "TypeError",
     "evalue": "'tuple' object does not support item assignment",
     "output_type": "error",
     "traceback": [
      "\u001b[0;31m---------------------------------------------------------------------------\u001b[0m",
      "\u001b[0;31mTypeError\u001b[0m                                 Traceback (most recent call last)",
      "Input \u001b[0;32mIn [13]\u001b[0m, in \u001b[0;36m<cell line: 1>\u001b[0;34m()\u001b[0m\n\u001b[0;32m----> 1\u001b[0m \u001b[43mmytuple\u001b[49m\u001b[43m[\u001b[49m\u001b[38;5;241;43m2\u001b[39;49m\u001b[43m]\u001b[49m\u001b[38;5;241m=\u001b[39m\u001b[38;5;124m\"\u001b[39m\u001b[38;5;124mpigs\u001b[39m\u001b[38;5;124m\"\u001b[39m\n",
      "\u001b[0;31mTypeError\u001b[0m: 'tuple' object does not support item assignment"
     ]
    }
   ],
   "source": [
    "mytuple[2]=\"pigs\""
   ]
  },
  {
   "cell_type": "code",
   "execution_count": 14,
   "id": "186e9c2e",
   "metadata": {},
   "outputs": [],
   "source": [
    "mylist[2]=\"pigs\""
   ]
  },
  {
   "cell_type": "code",
   "execution_count": 15,
   "id": "ecd69059",
   "metadata": {},
   "outputs": [
    {
     "data": {
      "text/plain": [
       "('cats', 'dogs', 'horses')"
      ]
     },
     "execution_count": 15,
     "metadata": {},
     "output_type": "execute_result"
    }
   ],
   "source": [
    "mytuple"
   ]
  },
  {
   "cell_type": "code",
   "execution_count": 16,
   "id": "6a2cac22",
   "metadata": {},
   "outputs": [
    {
     "data": {
      "text/plain": [
       "['cats', 'dogs', 'pigs']"
      ]
     },
     "execution_count": 16,
     "metadata": {},
     "output_type": "execute_result"
    }
   ],
   "source": [
    "mylist"
   ]
  },
  {
   "cell_type": "code",
   "execution_count": 17,
   "id": "3556e941",
   "metadata": {},
   "outputs": [
    {
     "data": {
      "text/plain": [
       "{'cats', 'dogs', 'horses'}"
      ]
     },
     "execution_count": 17,
     "metadata": {},
     "output_type": "execute_result"
    }
   ],
   "source": [
    "myset = set(mytuple)\n",
    "myset"
   ]
  },
  {
   "cell_type": "code",
   "execution_count": 18,
   "id": "c7ec3a28",
   "metadata": {},
   "outputs": [
    {
     "data": {
      "text/plain": [
       "{'cats', 'dogs', 'pigs'}"
      ]
     },
     "execution_count": 18,
     "metadata": {},
     "output_type": "execute_result"
    }
   ],
   "source": [
    "myset = set(mylist)\n",
    "myset"
   ]
  },
  {
   "cell_type": "code",
   "execution_count": 19,
   "id": "728c8024",
   "metadata": {},
   "outputs": [
    {
     "data": {
      "text/plain": [
       "{' ', 'I', 'a', 'c', 'e', 'm', 'n', 's', 't'}"
      ]
     },
     "execution_count": 19,
     "metadata": {},
     "output_type": "execute_result"
    }
   ],
   "source": [
    "data = \"I am a sentence\"\n",
    "set(data)"
   ]
  },
  {
   "cell_type": "code",
   "execution_count": 25,
   "id": "f85cb39b",
   "metadata": {},
   "outputs": [],
   "source": [
    " myteacher = {\n",
    "  \"name\": \"Ethan\",\n",
    "  \"subject\": \"Experimental Psycholinguistics\",\n",
    "  \"year_of_birth\": 1973,\n",
    "  \"hair_color\": \"grey\",\n",
    "  \"favorite_fruits\": ['apples', 'grapes', 'oranges']   \n",
    "}"
   ]
  },
  {
   "cell_type": "code",
   "execution_count": 22,
   "id": "d7d45083",
   "metadata": {},
   "outputs": [
    {
     "data": {
      "text/plain": [
       "{'teacher': 'Ethan',\n",
       " 'subject': 'Experimental Psycholinguistics',\n",
       " 'year_of_birth': 1973,\n",
       " 'hair_color': 'grey',\n",
       " 'favorite_fruits': ['apples', 'grapes', 'oranges']}"
      ]
     },
     "execution_count": 22,
     "metadata": {},
     "output_type": "execute_result"
    }
   ],
   "source": [
    "myteacher"
   ]
  },
  {
   "cell_type": "code",
   "execution_count": 26,
   "id": "e6803f22",
   "metadata": {},
   "outputs": [
    {
     "data": {
      "text/plain": [
       "'Ethan'"
      ]
     },
     "execution_count": 26,
     "metadata": {},
     "output_type": "execute_result"
    }
   ],
   "source": [
    "myteacher['name']"
   ]
  },
  {
   "cell_type": "markdown",
   "id": "7840b5fb",
   "metadata": {},
   "source": [
    "## Vocabulary Richness"
   ]
  },
  {
   "cell_type": "code",
   "execution_count": 64,
   "id": "2e164cdf",
   "metadata": {},
   "outputs": [],
   "source": [
    "file = '/Users/ethan/Documents/GitHub/ExPsyLing/datasets/FinnegansWake.txt'\n",
    "\n",
    "from string import punctuation\n",
    "with open(file,'r') as f:\n",
    "    finnegan = f.read()\n",
    "    finnegan = finnegan.replace('\\n', ' ')\n",
    "    finnegan = [x for x in finnegan if x not in punctuation]\n",
    "    finnegan = ''.join(finnegan)\n",
    "    finnegan = finnegan.split(' ')\n",
    "    \n",
    "\n",
    "file = '/Users/ethan/Documents/GitHub/ExPsyLing/datasets/GeenEggsAndHam.txt'\n",
    "\n",
    "with open(file,'r') as f:\n",
    "    eggs = f.read()\n",
    "    eggs = eggs.replace('\\n', ' ')\n",
    "    eggs = [x for x in eggs if x not in punctuation]\n",
    "    eggs = ''.join(eggs)\n",
    "    eggs = eggs.split(' ')"
   ]
  },
  {
   "cell_type": "code",
   "execution_count": 69,
   "id": "8625c2b5",
   "metadata": {},
   "outputs": [],
   "source": [
    "VocabRichnessEggs = len(set(eggs))/(len(eggs))\n",
    "VocabRichnessFinnegan = len(set(finnegan))/(len(finnegan))"
   ]
  },
  {
   "cell_type": "code",
   "execution_count": 78,
   "id": "8cf0c04c",
   "metadata": {},
   "outputs": [
    {
     "name": "stdout",
     "output_type": "stream",
     "text": [
      "Green Eggs and Ham: 7.65\n",
      "Finnegan's Wake: 28.77\n"
     ]
    }
   ],
   "source": [
    "print('Green Eggs and Ham:', round(VocabRichnessEggs * 100, 2))\n",
    "print('Finnegan\\'s Wake:',round(VocabRichnessFinnegan * 100, 2))"
   ]
  },
  {
   "cell_type": "markdown",
   "id": "4486274f",
   "metadata": {},
   "source": [
    "What would this scale mean?\n",
    "100 = 100% of the words in the book are unique: no repetitions\n",
    "0 would be impossible, as long as the book has any words at all, but 0.01 would mean that 1% of the words are unique."
   ]
  },
  {
   "cell_type": "code",
   "execution_count": null,
   "id": "9e95a1e3",
   "metadata": {},
   "outputs": [],
   "source": []
  }
 ],
 "metadata": {
  "kernelspec": {
   "display_name": "Python 3 (ipykernel)",
   "language": "python",
   "name": "python3"
  },
  "language_info": {
   "codemirror_mode": {
    "name": "ipython",
    "version": 3
   },
   "file_extension": ".py",
   "mimetype": "text/x-python",
   "name": "python",
   "nbconvert_exporter": "python",
   "pygments_lexer": "ipython3",
   "version": "3.9.12"
  }
 },
 "nbformat": 4,
 "nbformat_minor": 5
}
