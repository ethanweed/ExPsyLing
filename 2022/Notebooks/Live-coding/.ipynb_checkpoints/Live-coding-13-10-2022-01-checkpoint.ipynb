{
 "cells": [
  {
   "cell_type": "markdown",
   "id": "2166aabb",
   "metadata": {},
   "source": [
    "1. Point estimates vs. distributions\n",
    "2. Measures of variance\n",
    "3. Using resampling (simulation) to bootstrap intuitions about results\n",
    "4. Questions about Lab Report 1"
   ]
  },
  {
   "cell_type": "code",
   "execution_count": 2,
   "id": "17dfb376",
   "metadata": {},
   "outputs": [
    {
     "data": {
      "text/html": [
       "<div>\n",
       "<style scoped>\n",
       "    .dataframe tbody tr th:only-of-type {\n",
       "        vertical-align: middle;\n",
       "    }\n",
       "\n",
       "    .dataframe tbody tr th {\n",
       "        vertical-align: top;\n",
       "    }\n",
       "\n",
       "    .dataframe thead th {\n",
       "        text-align: right;\n",
       "    }\n",
       "</style>\n",
       "<table border=\"1\" class=\"dataframe\">\n",
       "  <thead>\n",
       "    <tr style=\"text-align: right;\">\n",
       "      <th></th>\n",
       "      <th>Participant.ID</th>\n",
       "      <th>Version</th>\n",
       "      <th>Set</th>\n",
       "      <th>Subset</th>\n",
       "      <th>Baseword</th>\n",
       "      <th>Diversity</th>\n",
       "      <th>Item</th>\n",
       "      <th>Question</th>\n",
       "      <th>Response.Box</th>\n",
       "      <th>Response</th>\n",
       "      <th>Score</th>\n",
       "    </tr>\n",
       "  </thead>\n",
       "  <tbody>\n",
       "    <tr>\n",
       "      <th>0</th>\n",
       "      <td>1</td>\n",
       "      <td>B2</td>\n",
       "      <td>B</td>\n",
       "      <td>2</td>\n",
       "      <td>shirt</td>\n",
       "      <td>low</td>\n",
       "      <td>hust</td>\n",
       "      <td>Earlier you read about a type of shirt that wa...</td>\n",
       "      <td>1</td>\n",
       "      <td>stretchy</td>\n",
       "      <td>3.0</td>\n",
       "    </tr>\n",
       "    <tr>\n",
       "      <th>1</th>\n",
       "      <td>1</td>\n",
       "      <td>B2</td>\n",
       "      <td>B</td>\n",
       "      <td>2</td>\n",
       "      <td>shirt</td>\n",
       "      <td>low</td>\n",
       "      <td>hust</td>\n",
       "      <td>Earlier you read about a type of shirt that wa...</td>\n",
       "      <td>2</td>\n",
       "      <td>can't be torn</td>\n",
       "      <td>NaN</td>\n",
       "    </tr>\n",
       "    <tr>\n",
       "      <th>2</th>\n",
       "      <td>1</td>\n",
       "      <td>B2</td>\n",
       "      <td>B</td>\n",
       "      <td>2</td>\n",
       "      <td>shirt</td>\n",
       "      <td>low</td>\n",
       "      <td>hust</td>\n",
       "      <td>Earlier you read about a type of shirt that wa...</td>\n",
       "      <td>3</td>\n",
       "      <td>stain proof</td>\n",
       "      <td>NaN</td>\n",
       "    </tr>\n",
       "    <tr>\n",
       "      <th>3</th>\n",
       "      <td>1</td>\n",
       "      <td>B2</td>\n",
       "      <td>B</td>\n",
       "      <td>2</td>\n",
       "      <td>shirt</td>\n",
       "      <td>low</td>\n",
       "      <td>hust</td>\n",
       "      <td>Earlier you read about a type of shirt that wa...</td>\n",
       "      <td>4</td>\n",
       "      <td>NaN</td>\n",
       "      <td>NaN</td>\n",
       "    </tr>\n",
       "    <tr>\n",
       "      <th>4</th>\n",
       "      <td>1</td>\n",
       "      <td>B2</td>\n",
       "      <td>B</td>\n",
       "      <td>2</td>\n",
       "      <td>shirt</td>\n",
       "      <td>low</td>\n",
       "      <td>hust</td>\n",
       "      <td>Earlier you read about a type of shirt that wa...</td>\n",
       "      <td>5</td>\n",
       "      <td>NaN</td>\n",
       "      <td>NaN</td>\n",
       "    </tr>\n",
       "    <tr>\n",
       "      <th>...</th>\n",
       "      <td>...</td>\n",
       "      <td>...</td>\n",
       "      <td>...</td>\n",
       "      <td>...</td>\n",
       "      <td>...</td>\n",
       "      <td>...</td>\n",
       "      <td>...</td>\n",
       "      <td>...</td>\n",
       "      <td>...</td>\n",
       "      <td>...</td>\n",
       "      <td>...</td>\n",
       "    </tr>\n",
       "    <tr>\n",
       "      <th>5595</th>\n",
       "      <td>103</td>\n",
       "      <td>A1</td>\n",
       "      <td>A</td>\n",
       "      <td>2</td>\n",
       "      <td>umbrella</td>\n",
       "      <td>high</td>\n",
       "      <td>tace</td>\n",
       "      <td>Earlier you read about a type of umbrella that...</td>\n",
       "      <td>3</td>\n",
       "      <td>NaN</td>\n",
       "      <td>NaN</td>\n",
       "    </tr>\n",
       "    <tr>\n",
       "      <th>5596</th>\n",
       "      <td>103</td>\n",
       "      <td>A1</td>\n",
       "      <td>A</td>\n",
       "      <td>2</td>\n",
       "      <td>umbrella</td>\n",
       "      <td>high</td>\n",
       "      <td>tace</td>\n",
       "      <td>Earlier you read about a type of umbrella that...</td>\n",
       "      <td>4</td>\n",
       "      <td>NaN</td>\n",
       "      <td>NaN</td>\n",
       "    </tr>\n",
       "    <tr>\n",
       "      <th>5597</th>\n",
       "      <td>103</td>\n",
       "      <td>A1</td>\n",
       "      <td>A</td>\n",
       "      <td>2</td>\n",
       "      <td>umbrella</td>\n",
       "      <td>high</td>\n",
       "      <td>tace</td>\n",
       "      <td>Earlier you read about a type of umbrella that...</td>\n",
       "      <td>5</td>\n",
       "      <td>NaN</td>\n",
       "      <td>NaN</td>\n",
       "    </tr>\n",
       "    <tr>\n",
       "      <th>5598</th>\n",
       "      <td>103</td>\n",
       "      <td>A1</td>\n",
       "      <td>A</td>\n",
       "      <td>2</td>\n",
       "      <td>umbrella</td>\n",
       "      <td>high</td>\n",
       "      <td>tace</td>\n",
       "      <td>Earlier you read about a type of umbrella that...</td>\n",
       "      <td>6</td>\n",
       "      <td>NaN</td>\n",
       "      <td>NaN</td>\n",
       "    </tr>\n",
       "    <tr>\n",
       "      <th>5599</th>\n",
       "      <td>103</td>\n",
       "      <td>A1</td>\n",
       "      <td>A</td>\n",
       "      <td>2</td>\n",
       "      <td>umbrella</td>\n",
       "      <td>high</td>\n",
       "      <td>tace</td>\n",
       "      <td>Earlier you read about a type of umbrella that...</td>\n",
       "      <td>7</td>\n",
       "      <td>NaN</td>\n",
       "      <td>NaN</td>\n",
       "    </tr>\n",
       "  </tbody>\n",
       "</table>\n",
       "<p>5600 rows × 11 columns</p>\n",
       "</div>"
      ],
      "text/plain": [
       "      Participant.ID Version Set  Subset  Baseword Diversity  Item  \\\n",
       "0                  1      B2   B       2     shirt       low  hust   \n",
       "1                  1      B2   B       2     shirt       low  hust   \n",
       "2                  1      B2   B       2     shirt       low  hust   \n",
       "3                  1      B2   B       2     shirt       low  hust   \n",
       "4                  1      B2   B       2     shirt       low  hust   \n",
       "...              ...     ...  ..     ...       ...       ...   ...   \n",
       "5595             103      A1   A       2  umbrella      high  tace   \n",
       "5596             103      A1   A       2  umbrella      high  tace   \n",
       "5597             103      A1   A       2  umbrella      high  tace   \n",
       "5598             103      A1   A       2  umbrella      high  tace   \n",
       "5599             103      A1   A       2  umbrella      high  tace   \n",
       "\n",
       "                                               Question  Response.Box  \\\n",
       "0     Earlier you read about a type of shirt that wa...             1   \n",
       "1     Earlier you read about a type of shirt that wa...             2   \n",
       "2     Earlier you read about a type of shirt that wa...             3   \n",
       "3     Earlier you read about a type of shirt that wa...             4   \n",
       "4     Earlier you read about a type of shirt that wa...             5   \n",
       "...                                                 ...           ...   \n",
       "5595  Earlier you read about a type of umbrella that...             3   \n",
       "5596  Earlier you read about a type of umbrella that...             4   \n",
       "5597  Earlier you read about a type of umbrella that...             5   \n",
       "5598  Earlier you read about a type of umbrella that...             6   \n",
       "5599  Earlier you read about a type of umbrella that...             7   \n",
       "\n",
       "           Response  Score  \n",
       "0          stretchy    3.0  \n",
       "1     can't be torn    NaN  \n",
       "2       stain proof    NaN  \n",
       "3               NaN    NaN  \n",
       "4               NaN    NaN  \n",
       "...             ...    ...  \n",
       "5595            NaN    NaN  \n",
       "5596            NaN    NaN  \n",
       "5597            NaN    NaN  \n",
       "5598            NaN    NaN  \n",
       "5599            NaN    NaN  \n",
       "\n",
       "[5600 rows x 11 columns]"
      ]
     },
     "execution_count": 2,
     "metadata": {},
     "output_type": "execute_result"
    }
   ],
   "source": [
    "import pandas as pd\n",
    "import seaborn as sns\n",
    "from matplotlib import pyplot as plt\n",
    "\n",
    "url = 'https://osf.io/download/r7udh/'\n",
    "\n",
    "df = pd.read_csv(url)\n",
    "df"
   ]
  },
  {
   "cell_type": "code",
   "execution_count": 3,
   "id": "e216d5a4",
   "metadata": {},
   "outputs": [
    {
     "data": {
      "text/plain": [
       "100"
      ]
     },
     "execution_count": 3,
     "metadata": {},
     "output_type": "execute_result"
    }
   ],
   "source": [
    "len(set(df['Participant.ID']))"
   ]
  },
  {
   "cell_type": "code",
   "execution_count": 4,
   "id": "74bc71c5",
   "metadata": {},
   "outputs": [],
   "source": [
    "df = df.dropna()"
   ]
  },
  {
   "cell_type": "code",
   "execution_count": 5,
   "id": "9c443dab",
   "metadata": {},
   "outputs": [
    {
     "data": {
      "text/plain": [
       "(800, 11)"
      ]
     },
     "execution_count": 5,
     "metadata": {},
     "output_type": "execute_result"
    }
   ],
   "source": [
    "df.shape"
   ]
  },
  {
   "cell_type": "code",
   "execution_count": 6,
   "id": "1af01cdf",
   "metadata": {},
   "outputs": [
    {
     "data": {
      "text/plain": [
       "['Participant.ID',\n",
       " 'Version',\n",
       " 'Set',\n",
       " 'Subset',\n",
       " 'Baseword',\n",
       " 'Diversity',\n",
       " 'Item',\n",
       " 'Question',\n",
       " 'Response.Box',\n",
       " 'Response',\n",
       " 'Score']"
      ]
     },
     "execution_count": 6,
     "metadata": {},
     "output_type": "execute_result"
    }
   ],
   "source": [
    "list(df)"
   ]
  },
  {
   "cell_type": "code",
   "execution_count": 8,
   "id": "4e4ec004",
   "metadata": {},
   "outputs": [
    {
     "data": {
      "text/plain": [
       "<AxesSubplot:xlabel='Score', ylabel='Count'>"
      ]
     },
     "execution_count": 8,
     "metadata": {},
     "output_type": "execute_result"
    },
    {
     "data": {
      "image/png": "[encoded data removed]",
      "text/plain": [
       "<Figure size 432x288 with 1 Axes>"
      ]
     },
     "metadata": {
      "needs_background": "light"
     },
     "output_type": "display_data"
    }
   ],
   "source": [
    "sns.histplot(data = df, x = 'Score')"
   ]
  },
  {
   "cell_type": "code",
   "execution_count": 9,
   "id": "5f746cb8",
   "metadata": {},
   "outputs": [
    {
     "data": {
      "text/plain": [
       "<AxesSubplot:xlabel='Score', ylabel='Density'>"
      ]
     },
     "execution_count": 9,
     "metadata": {},
     "output_type": "execute_result"
    },
    {
     "data": {
      "image/png": "[encoded data removed]",
      "text/plain": [
       "<Figure size 432x288 with 1 Axes>"
      ]
     },
     "metadata": {
      "needs_background": "light"
     },
     "output_type": "display_data"
    }
   ],
   "source": [
    "sns.kdeplot(data = df, x = 'Score', hue = 'Diversity')"
   ]
  },
  {
   "cell_type": "code",
   "execution_count": 10,
   "id": "db3e49e4",
   "metadata": {},
   "outputs": [
    {
     "data": {
      "text/plain": [
       "<seaborn.axisgrid.FacetGrid at 0x28b34a0d0>"
      ]
     },
     "execution_count": 10,
     "metadata": {},
     "output_type": "execute_result"
    },
    {
     "data": {
      "image/png": "[encoded data removed]",
      "text/plain": [
       "<Figure size 360x360 with 1 Axes>"
      ]
     },
     "metadata": {
      "needs_background": "light"
     },
     "output_type": "display_data"
    }
   ],
   "source": [
    "sns.catplot(data = df, x = 'Diversity', y = 'Score', kind = 'violin')"
   ]
  },
  {
   "cell_type": "code",
   "execution_count": 11,
   "id": "3d4fcbef",
   "metadata": {},
   "outputs": [
    {
     "data": {
      "text/plain": [
       "<seaborn.axisgrid.FacetGrid at 0x28b4cb880>"
      ]
     },
     "execution_count": 11,
     "metadata": {},
     "output_type": "execute_result"
    },
    {
     "data": {
      "image/png": "[encoded data removed]",
      "text/plain": [
       "<Figure size 360x360 with 1 Axes>"
      ]
     },
     "metadata": {
      "needs_background": "light"
     },
     "output_type": "display_data"
    }
   ],
   "source": [
    "sns.catplot(data = df, x = 'Diversity', y = 'Score', kind = 'point')"
   ]
  },
  {
   "cell_type": "code",
   "execution_count": 12,
   "id": "b096a210",
   "metadata": {},
   "outputs": [],
   "source": [
    "df_low = df.loc[df['Diversity'] == 'low']\n",
    "df_high = df.loc[df['Diversity'] == 'high']"
   ]
  },
  {
   "cell_type": "code",
   "execution_count": 13,
   "id": "8493d1c8",
   "metadata": {},
   "outputs": [
    {
     "name": "stdout",
     "output_type": "stream",
     "text": [
      "2.76\n",
      "2.3925\n"
     ]
    }
   ],
   "source": [
    "print(df_low['Score'].mean())\n",
    "print(df_high['Score'].mean())"
   ]
  },
  {
   "cell_type": "code",
   "execution_count": 14,
   "id": "05dbccab",
   "metadata": {},
   "outputs": [],
   "source": [
    "import numpy as np\n",
    "\n",
    "sim_low = []\n",
    "for i in range(10):\n",
    "    sim_low.append(np.random.choice(df_low['Score'], 50, replace = True))\n",
    "\n",
    "sim_high = []\n",
    "for i in range(10):\n",
    "    sim_high.append(np.random.choice(df_high['Score'], 50, replace = True))\n"
   ]
  },
  {
   "cell_type": "code",
   "execution_count": 15,
   "id": "0c4a7fe4",
   "metadata": {},
   "outputs": [
    {
     "data": {
      "text/plain": [
       "[array([4., 1., 5., 4., 5., 3., 4., 1., 2., 2., 2., 2., 4., 3., 1., 3., 3.,\n",
       "        3., 4., 2., 4., 4., 2., 1., 2., 3., 4., 1., 2., 2., 3., 4., 3., 2.,\n",
       "        2., 2., 1., 3., 4., 0., 1., 1., 5., 3., 3., 2., 4., 0., 2., 5.]),\n",
       " array([4., 2., 1., 5., 4., 3., 2., 4., 4., 3., 1., 1., 1., 4., 4., 4., 2.,\n",
       "        3., 4., 4., 4., 1., 2., 2., 4., 2., 0., 3., 4., 4., 5., 3., 4., 1.,\n",
       "        3., 1., 3., 3., 4., 3., 3., 4., 4., 3., 3., 4., 2., 1., 1., 1.]),\n",
       " array([4., 5., 3., 1., 1., 3., 3., 4., 4., 3., 3., 1., 4., 3., 1., 5., 3.,\n",
       "        4., 2., 5., 3., 3., 3., 4., 3., 4., 3., 3., 2., 3., 3., 2., 2., 5.,\n",
       "        3., 4., 2., 5., 1., 2., 3., 2., 0., 4., 2., 4., 3., 5., 2., 4.]),\n",
       " array([1., 4., 3., 3., 2., 2., 3., 4., 2., 3., 1., 3., 4., 4., 3., 0., 3.,\n",
       "        5., 1., 3., 2., 4., 3., 4., 3., 4., 4., 2., 4., 0., 0., 0., 3., 0.,\n",
       "        3., 4., 4., 3., 5., 0., 4., 3., 5., 4., 0., 5., 5., 2., 4., 1.]),\n",
       " array([5., 1., 2., 2., 2., 4., 5., 3., 1., 5., 2., 3., 2., 2., 5., 4., 2.,\n",
       "        2., 3., 1., 3., 2., 2., 2., 4., 1., 2., 0., 0., 3., 3., 3., 0., 3.,\n",
       "        5., 2., 3., 3., 4., 3., 4., 1., 3., 3., 2., 0., 2., 0., 0., 3.]),\n",
       " array([0., 4., 4., 2., 3., 3., 2., 2., 3., 1., 4., 1., 5., 2., 2., 1., 2.,\n",
       "        4., 2., 3., 3., 5., 4., 3., 2., 0., 1., 2., 3., 2., 4., 0., 2., 2.,\n",
       "        3., 2., 3., 2., 5., 1., 2., 5., 2., 4., 0., 4., 3., 4., 2., 3.]),\n",
       " array([3., 5., 5., 0., 4., 2., 2., 2., 2., 5., 3., 2., 4., 2., 2., 3., 3.,\n",
       "        2., 2., 3., 4., 0., 2., 1., 4., 3., 3., 3., 4., 3., 3., 5., 4., 3.,\n",
       "        3., 3., 3., 4., 2., 2., 0., 2., 2., 2., 2., 2., 4., 0., 4., 4.]),\n",
       " array([4., 3., 4., 1., 2., 5., 2., 4., 3., 3., 4., 3., 1., 4., 3., 1., 1.,\n",
       "        4., 4., 2., 5., 4., 2., 2., 4., 0., 1., 3., 4., 1., 0., 3., 4., 4.,\n",
       "        4., 4., 2., 4., 2., 1., 3., 2., 1., 0., 4., 2., 5., 0., 3., 0.]),\n",
       " array([3., 4., 3., 4., 3., 2., 3., 3., 3., 2., 2., 4., 1., 2., 4., 5., 3.,\n",
       "        4., 3., 4., 4., 2., 1., 4., 4., 2., 5., 4., 0., 0., 3., 4., 0., 3.,\n",
       "        2., 2., 1., 5., 4., 1., 3., 0., 2., 3., 3., 4., 2., 1., 1., 2.]),\n",
       " array([1., 5., 3., 2., 2., 4., 2., 3., 1., 3., 5., 1., 0., 4., 2., 3., 4.,\n",
       "        3., 4., 4., 3., 3., 1., 4., 1., 1., 4., 2., 3., 1., 3., 4., 4., 3.,\n",
       "        4., 5., 4., 4., 4., 4., 3., 2., 2., 4., 1., 3., 0., 4., 4., 3.])]"
      ]
     },
     "execution_count": 15,
     "metadata": {},
     "output_type": "execute_result"
    }
   ],
   "source": [
    "sim_low"
   ]
  },
  {
   "cell_type": "code",
   "execution_count": 16,
   "id": "e24925fa",
   "metadata": {},
   "outputs": [
    {
     "data": {
      "text/plain": [
       "<AxesSubplot:xlabel='id', ylabel='score'>"
      ]
     },
     "execution_count": 16,
     "metadata": {},
     "output_type": "execute_result"
    },
    {
     "data": {
      "image/png": "[encoded data removed]",
      "text/plain": [
       "<Figure size 432x288 with 1 Axes>"
      ]
     },
     "metadata": {
      "needs_background": "light"
     },
     "output_type": "display_data"
    }
   ],
   "source": [
    "import numpy as np\n",
    "\n",
    "sim_low = []\n",
    "for i in range(10):\n",
    "    sim_low.append(np.random.choice(df_low['Score'], 50, replace = True))\n",
    "\n",
    "sim_high = []\n",
    "for i in range(10):\n",
    "    sim_high.append(np.random.choice(df_high['Score'], 50, replace = True))\n",
    "\n",
    "sim_data_low = pd.DataFrame(sim_low)\n",
    "sim_means_low = sim_data_low.mean()\n",
    "\n",
    "sim_data_high = pd.DataFrame(sim_high)\n",
    "sim_means_high = sim_data_high.mean()\n",
    "\n",
    "sim_data_low = sim_data_low.melt(var_name = 'id', value_name = 'score')\n",
    "sim_data_high = sim_data_high.melt(var_name = 'id', value_name = 'score')\n",
    "\n",
    "sim_data_low['Diversity'] = ['low']*len(sim_data_low)\n",
    "sim_data_high['Diversity'] = ['high']*len(sim_data_high)\n",
    "\n",
    "sim_data_long = pd.concat([sim_data_low,sim_data_high])\n",
    "\n",
    "sns.pointplot(data = sim_data_long, x = 'id', y = 'score', hue = 'Diversity', linestyle = ' ')\n",
    "\n"
   ]
  },
  {
   "cell_type": "code",
   "execution_count": 17,
   "id": "6281f9e9",
   "metadata": {},
   "outputs": [
    {
     "data": {
      "text/html": [
       "<div>\n",
       "<style scoped>\n",
       "    .dataframe tbody tr th:only-of-type {\n",
       "        vertical-align: middle;\n",
       "    }\n",
       "\n",
       "    .dataframe tbody tr th {\n",
       "        vertical-align: top;\n",
       "    }\n",
       "\n",
       "    .dataframe thead th {\n",
       "        text-align: right;\n",
       "    }\n",
       "</style>\n",
       "<table border=\"1\" class=\"dataframe\">\n",
       "  <thead>\n",
       "    <tr style=\"text-align: right;\">\n",
       "      <th></th>\n",
       "      <th>id</th>\n",
       "      <th>Diversity</th>\n",
       "      <th>score</th>\n",
       "    </tr>\n",
       "  </thead>\n",
       "  <tbody>\n",
       "    <tr>\n",
       "      <th>0</th>\n",
       "      <td>0</td>\n",
       "      <td>high</td>\n",
       "      <td>2.6</td>\n",
       "    </tr>\n",
       "    <tr>\n",
       "      <th>1</th>\n",
       "      <td>0</td>\n",
       "      <td>low</td>\n",
       "      <td>3.2</td>\n",
       "    </tr>\n",
       "    <tr>\n",
       "      <th>2</th>\n",
       "      <td>1</td>\n",
       "      <td>high</td>\n",
       "      <td>2.3</td>\n",
       "    </tr>\n",
       "    <tr>\n",
       "      <th>3</th>\n",
       "      <td>1</td>\n",
       "      <td>low</td>\n",
       "      <td>2.8</td>\n",
       "    </tr>\n",
       "    <tr>\n",
       "      <th>4</th>\n",
       "      <td>2</td>\n",
       "      <td>high</td>\n",
       "      <td>2.1</td>\n",
       "    </tr>\n",
       "    <tr>\n",
       "      <th>...</th>\n",
       "      <td>...</td>\n",
       "      <td>...</td>\n",
       "      <td>...</td>\n",
       "    </tr>\n",
       "    <tr>\n",
       "      <th>95</th>\n",
       "      <td>47</td>\n",
       "      <td>low</td>\n",
       "      <td>3.1</td>\n",
       "    </tr>\n",
       "    <tr>\n",
       "      <th>96</th>\n",
       "      <td>48</td>\n",
       "      <td>high</td>\n",
       "      <td>2.2</td>\n",
       "    </tr>\n",
       "    <tr>\n",
       "      <th>97</th>\n",
       "      <td>48</td>\n",
       "      <td>low</td>\n",
       "      <td>2.8</td>\n",
       "    </tr>\n",
       "    <tr>\n",
       "      <th>98</th>\n",
       "      <td>49</td>\n",
       "      <td>high</td>\n",
       "      <td>3.0</td>\n",
       "    </tr>\n",
       "    <tr>\n",
       "      <th>99</th>\n",
       "      <td>49</td>\n",
       "      <td>low</td>\n",
       "      <td>2.1</td>\n",
       "    </tr>\n",
       "  </tbody>\n",
       "</table>\n",
       "<p>100 rows × 3 columns</p>\n",
       "</div>"
      ],
      "text/plain": [
       "    id Diversity  score\n",
       "0    0      high    2.6\n",
       "1    0       low    3.2\n",
       "2    1      high    2.3\n",
       "3    1       low    2.8\n",
       "4    2      high    2.1\n",
       "..  ..       ...    ...\n",
       "95  47       low    3.1\n",
       "96  48      high    2.2\n",
       "97  48       low    2.8\n",
       "98  49      high    3.0\n",
       "99  49       low    2.1\n",
       "\n",
       "[100 rows x 3 columns]"
      ]
     },
     "execution_count": 17,
     "metadata": {},
     "output_type": "execute_result"
    }
   ],
   "source": [
    "sim_low = []\n",
    "for i in range(10):\n",
    "    sim_low.append(np.random.choice(df_low['Score'], 50, replace = True))\n",
    "\n",
    "sim_high = []\n",
    "for i in range(10):\n",
    "    sim_high.append(np.random.choice(df_high['Score'], 50, replace = True))\n",
    "\n",
    "sim_data_low = pd.DataFrame(sim_low)\n",
    "sim_means_low = sim_data_low.mean()\n",
    "\n",
    "sim_data_high = pd.DataFrame(sim_high)\n",
    "sim_means_high = sim_data_high.mean()\n",
    "\n",
    "sim_data_low = sim_data_low.melt(var_name = 'id', value_name = 'score')\n",
    "sim_data_high = sim_data_high.melt(var_name = 'id', value_name = 'score')\n",
    "\n",
    "sim_data_low['Diversity'] = ['low']*len(sim_data_low)\n",
    "sim_data_high['Diversity'] = ['high']*len(sim_data_high)\n",
    "\n",
    "sim_data_long = pd.concat([sim_data_low,sim_data_high])\n",
    "\n",
    "#sns.pointplot(data = sim_data_long, x = 'id', y = 'score', hue = 'Diversity', linestyle = ' ')\n",
    "\n",
    "sim_data_long = sim_data_long.groupby(['id', 'Diversity']).mean()\n",
    "sim_data_long.reset_index(inplace = True)\n",
    "sim_data_long"
   ]
  },
  {
   "cell_type": "code",
   "execution_count": 18,
   "id": "3ac62539",
   "metadata": {},
   "outputs": [
    {
     "data": {
      "image/png": "[encoded data removed]",
      "text/plain": [
       "<Figure size 432x288 with 1 Axes>"
      ]
     },
     "metadata": {
      "needs_background": "light"
     },
     "output_type": "display_data"
    }
   ],
   "source": [
    "sns.pointplot(data = sim_data_long, \n",
    "              x = 'id', \n",
    "              y = 'score', \n",
    "              hue = 'Diversity')\n",
    "sns.despine()"
   ]
  },
  {
   "cell_type": "code",
   "execution_count": 19,
   "id": "7c928efd",
   "metadata": {},
   "outputs": [
    {
     "data": {
      "text/plain": [
       "[(2.6, 3.2),\n",
       " (2.3, 2.8),\n",
       " (2.1, 2.3),\n",
       " (2.0, 3.3),\n",
       " (2.3, 2.7),\n",
       " (2.9, 2.9),\n",
       " (2.7, 2.0),\n",
       " (2.2, 3.1),\n",
       " (2.1, 2.5),\n",
       " (2.4, 2.8),\n",
       " (2.7, 2.4),\n",
       " (2.8, 2.9),\n",
       " (2.4, 3.2),\n",
       " (2.6, 2.0),\n",
       " (2.2, 3.0),\n",
       " (3.1, 2.5),\n",
       " (2.6, 2.9),\n",
       " (1.8, 2.9),\n",
       " (3.2, 3.0),\n",
       " (2.0, 2.5),\n",
       " (3.1, 3.0),\n",
       " (2.8, 3.2),\n",
       " (2.7, 3.1),\n",
       " (2.3, 3.8),\n",
       " (3.0, 2.6),\n",
       " (2.5, 3.5),\n",
       " (2.5, 3.5),\n",
       " (2.0, 2.3),\n",
       " (2.5, 3.5),\n",
       " (1.6, 2.5),\n",
       " (2.1, 3.2),\n",
       " (2.5, 2.6),\n",
       " (2.8, 2.3),\n",
       " (2.0, 2.9),\n",
       " (3.4, 2.4),\n",
       " (2.9, 2.5),\n",
       " (2.5, 3.2),\n",
       " (2.9, 2.6),\n",
       " (3.1, 3.6),\n",
       " (2.4, 2.6),\n",
       " (2.6, 4.1),\n",
       " (1.8, 2.9),\n",
       " (2.7, 2.7),\n",
       " (2.8, 3.2),\n",
       " (2.8, 3.5),\n",
       " (2.8, 2.9),\n",
       " (2.7, 2.3),\n",
       " (2.8, 3.1),\n",
       " (2.2, 2.8),\n",
       " (3.0, 2.1)]"
      ]
     },
     "execution_count": 19,
     "metadata": {},
     "output_type": "execute_result"
    }
   ],
   "source": [
    "compare = zip(sim_data_long.loc[sim_data_long['Diversity'] == 'high']['score'],\n",
    "              sim_data_long.loc[sim_data_long['Diversity'] == 'low']['score'])\n",
    "compare = list(compare)\n",
    "compare"
   ]
  },
  {
   "cell_type": "code",
   "execution_count": 20,
   "id": "aaca454e",
   "metadata": {},
   "outputs": [
    {
     "name": "stdout",
     "output_type": "stream",
     "text": [
      "13\n",
      "35\n",
      "2\n"
     ]
    }
   ],
   "source": [
    "highs = [1 for x in compare if x[0]>x[1]]\n",
    "lows = [1 for x in compare if x[0]<x[1]]\n",
    "same = [1 for x in compare if x[0]==x[1]]\n",
    "print(sum(highs))\n",
    "print(sum(lows))\n",
    "print(sum(same))"
   ]
  },
  {
   "cell_type": "code",
   "execution_count": null,
   "id": "041b418c",
   "metadata": {},
   "outputs": [],
   "source": []
  }
 ],
 "metadata": {
  "kernelspec": {
   "display_name": "Python 3 (ipykernel)",
   "language": "python",
   "name": "python3"
  },
  "language_info": {
   "codemirror_mode": {
    "name": "ipython",
    "version": 3
   },
   "file_extension": ".py",
   "mimetype": "text/x-python",
   "name": "python",
   "nbconvert_exporter": "python",
   "pygments_lexer": "ipython3",
   "version": "3.9.12"
  }
 },
 "nbformat": 4,
 "nbformat_minor": 5
}
