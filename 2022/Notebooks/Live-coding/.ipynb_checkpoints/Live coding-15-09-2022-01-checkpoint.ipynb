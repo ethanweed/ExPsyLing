{
 "cells": [
  {
   "cell_type": "code",
   "execution_count": 90,
   "id": "5a6e02dd",
   "metadata": {},
   "outputs": [
    {
     "data": {
      "text/plain": [
       "True"
      ]
     },
     "execution_count": 90,
     "metadata": {},
     "output_type": "execute_result"
    }
   ],
   "source": [
    "4.00000000000000000000000001 == 4"
   ]
  },
  {
   "cell_type": "code",
   "execution_count": 91,
   "id": "3744620c",
   "metadata": {},
   "outputs": [],
   "source": [
    "a = ['apples', 'grapes', 'pears']\n",
    "b = [3, 2, 7]\n",
    "c = ['Netto', 'Brugsen', 'Fakta']"
   ]
  },
  {
   "cell_type": "code",
   "execution_count": 92,
   "id": "19fe82cf",
   "metadata": {},
   "outputs": [],
   "source": [
    "d = zip(a,b,c)\n",
    "e = list(d)"
   ]
  },
  {
   "cell_type": "code",
   "execution_count": 93,
   "id": "9bbf8114",
   "metadata": {},
   "outputs": [],
   "source": [
    "f = e[2]"
   ]
  },
  {
   "cell_type": "code",
   "execution_count": 94,
   "id": "f5c84c18",
   "metadata": {},
   "outputs": [
    {
     "data": {
      "text/plain": [
       "('pears', 7, 'Fakta')"
      ]
     },
     "execution_count": 94,
     "metadata": {},
     "output_type": "execute_result"
    }
   ],
   "source": [
    "f"
   ]
  },
  {
   "cell_type": "code",
   "execution_count": 95,
   "id": "9500d635",
   "metadata": {},
   "outputs": [],
   "source": [
    "books = {'Emma': 'Austen',\n",
    "        'Pride and Predjudice': 'Austen',\n",
    "        'Moby Dick': 'Melville',\n",
    "        'Linguistics: An Introduction': 'McGregor'}"
   ]
  },
  {
   "cell_type": "code",
   "execution_count": 96,
   "id": "0cff4979",
   "metadata": {},
   "outputs": [
    {
     "data": {
      "text/plain": [
       "'McGregor'"
      ]
     },
     "execution_count": 96,
     "metadata": {},
     "output_type": "execute_result"
    }
   ],
   "source": [
    "books['Linguistics: An Introduction']"
   ]
  },
  {
   "cell_type": "code",
   "execution_count": 97,
   "id": "30c7c173",
   "metadata": {},
   "outputs": [],
   "source": [
    "authors = {'Austen': ['Emma', 'Pride and Predjudice', 'Sense and Sensibility'],\n",
    "          'Shakespeare': ['Hamlet', 'King Lear', 'Much Ado About Nothing']}"
   ]
  },
  {
   "cell_type": "code",
   "execution_count": 98,
   "id": "53e6c723",
   "metadata": {},
   "outputs": [
    {
     "data": {
      "text/plain": [
       "['Emma', 'Pride and Predjudice', 'Sense and Sensibility']"
      ]
     },
     "execution_count": 98,
     "metadata": {},
     "output_type": "execute_result"
    }
   ],
   "source": [
    "authors['Austen']"
   ]
  },
  {
   "cell_type": "code",
   "execution_count": 99,
   "id": "ffe8e7e0",
   "metadata": {},
   "outputs": [],
   "source": [
    "# %pip install pandas\n",
    "import pandas as pd"
   ]
  },
  {
   "cell_type": "code",
   "execution_count": 100,
   "id": "f2dab9c4",
   "metadata": {},
   "outputs": [],
   "source": [
    "author_data = pd.DataFrame(authors)"
   ]
  },
  {
   "cell_type": "code",
   "execution_count": 101,
   "id": "2e59b79a",
   "metadata": {},
   "outputs": [
    {
     "data": {
      "text/html": [
       "<div>\n",
       "<style scoped>\n",
       "    .dataframe tbody tr th:only-of-type {\n",
       "        vertical-align: middle;\n",
       "    }\n",
       "\n",
       "    .dataframe tbody tr th {\n",
       "        vertical-align: top;\n",
       "    }\n",
       "\n",
       "    .dataframe thead th {\n",
       "        text-align: right;\n",
       "    }\n",
       "</style>\n",
       "<table border=\"1\" class=\"dataframe\">\n",
       "  <thead>\n",
       "    <tr style=\"text-align: right;\">\n",
       "      <th></th>\n",
       "      <th>Austen</th>\n",
       "      <th>Shakespeare</th>\n",
       "    </tr>\n",
       "  </thead>\n",
       "  <tbody>\n",
       "    <tr>\n",
       "      <th>0</th>\n",
       "      <td>Emma</td>\n",
       "      <td>Hamlet</td>\n",
       "    </tr>\n",
       "    <tr>\n",
       "      <th>1</th>\n",
       "      <td>Pride and Predjudice</td>\n",
       "      <td>King Lear</td>\n",
       "    </tr>\n",
       "    <tr>\n",
       "      <th>2</th>\n",
       "      <td>Sense and Sensibility</td>\n",
       "      <td>Much Ado About Nothing</td>\n",
       "    </tr>\n",
       "  </tbody>\n",
       "</table>\n",
       "</div>"
      ],
      "text/plain": [
       "                  Austen             Shakespeare\n",
       "0                   Emma                  Hamlet\n",
       "1   Pride and Predjudice               King Lear\n",
       "2  Sense and Sensibility  Much Ado About Nothing"
      ]
     },
     "execution_count": 101,
     "metadata": {},
     "output_type": "execute_result"
    }
   ],
   "source": [
    "author_data"
   ]
  },
  {
   "cell_type": "code",
   "execution_count": 102,
   "id": "51f22fa7",
   "metadata": {},
   "outputs": [
    {
     "data": {
      "text/html": [
       "<div>\n",
       "<style scoped>\n",
       "    .dataframe tbody tr th:only-of-type {\n",
       "        vertical-align: middle;\n",
       "    }\n",
       "\n",
       "    .dataframe tbody tr th {\n",
       "        vertical-align: top;\n",
       "    }\n",
       "\n",
       "    .dataframe thead th {\n",
       "        text-align: right;\n",
       "    }\n",
       "</style>\n",
       "<table border=\"1\" class=\"dataframe\">\n",
       "  <thead>\n",
       "    <tr style=\"text-align: right;\">\n",
       "      <th></th>\n",
       "      <th>items</th>\n",
       "      <th>quantity</th>\n",
       "      <th>store</th>\n",
       "    </tr>\n",
       "  </thead>\n",
       "  <tbody>\n",
       "    <tr>\n",
       "      <th>0</th>\n",
       "      <td>apples</td>\n",
       "      <td>3</td>\n",
       "      <td>Netto</td>\n",
       "    </tr>\n",
       "    <tr>\n",
       "      <th>1</th>\n",
       "      <td>grapes</td>\n",
       "      <td>2</td>\n",
       "      <td>Brugsen</td>\n",
       "    </tr>\n",
       "    <tr>\n",
       "      <th>2</th>\n",
       "      <td>pears</td>\n",
       "      <td>7</td>\n",
       "      <td>Fakta</td>\n",
       "    </tr>\n",
       "  </tbody>\n",
       "</table>\n",
       "</div>"
      ],
      "text/plain": [
       "    items  quantity    store\n",
       "0  apples         3    Netto\n",
       "1  grapes         2  Brugsen\n",
       "2   pears         7    Fakta"
      ]
     },
     "execution_count": 102,
     "metadata": {},
     "output_type": "execute_result"
    }
   ],
   "source": [
    "# enter data\n",
    "items = ['apples', 'grapes', 'pears']\n",
    "quantity = [3, 2, 7]\n",
    "store = ['Netto', 'Brugsen', 'Fakta']\n",
    "\n",
    "# collect in dataframe\n",
    "shopping = pd.DataFrame({'items': items,\n",
    "                        'quantity': quantity,\n",
    "                        'store': store})\n",
    "# view dataframe\n",
    "shopping"
   ]
  },
  {
   "cell_type": "markdown",
   "id": "489ec31b",
   "metadata": {},
   "source": [
    "# enumerate()"
   ]
  },
  {
   "cell_type": "code",
   "execution_count": 103,
   "id": "cd8161ad",
   "metadata": {},
   "outputs": [],
   "source": [
    "items = ['apples', 'grapes', 'pears']"
   ]
  },
  {
   "cell_type": "code",
   "execution_count": 104,
   "id": "da3609c0",
   "metadata": {},
   "outputs": [
    {
     "data": {
      "text/plain": [
       "[(0, 'apples'), (1, 'grapes'), (2, 'pears')]"
      ]
     },
     "execution_count": 104,
     "metadata": {},
     "output_type": "execute_result"
    }
   ],
   "source": [
    "list(enumerate(items))"
   ]
  },
  {
   "cell_type": "markdown",
   "id": "e98a848e",
   "metadata": {},
   "source": [
    "# loops\n",
    "\n",
    "## `while` loop"
   ]
  },
  {
   "cell_type": "code",
   "execution_count": 105,
   "id": "636bf1c6",
   "metadata": {},
   "outputs": [
    {
     "name": "stdout",
     "output_type": "stream",
     "text": [
      "1\n",
      "2\n",
      "3\n",
      "4\n",
      "5\n",
      "6\n",
      "7\n",
      "8\n",
      "9\n",
      "10\n"
     ]
    }
   ],
   "source": [
    "counter = 0\n",
    "\n",
    "while counter < 10:\n",
    "    counter = counter + 1\n",
    "    print(counter)"
   ]
  },
  {
   "cell_type": "markdown",
   "id": "22306276",
   "metadata": {},
   "source": [
    "## `for` loop"
   ]
  },
  {
   "cell_type": "code",
   "execution_count": 106,
   "id": "ad0ac1a7",
   "metadata": {},
   "outputs": [
    {
     "name": "stdout",
     "output_type": "stream",
     "text": [
      "Shakespeare wrote Hamlet\n",
      "Shakespeare wrote King Lear\n",
      "Shakespeare wrote Much Ado About Nothing\n",
      "Shakespeare wrote Macbeth\n"
     ]
    }
   ],
   "source": [
    "shakespeare = ['Hamlet', 'King Lear', 'Much Ado About Nothing', 'Macbeth']\n",
    "\n",
    "for play in shakespeare:\n",
    "    print('Shakespeare wrote', play)"
   ]
  },
  {
   "cell_type": "code",
   "execution_count": 107,
   "id": "12ae767f",
   "metadata": {},
   "outputs": [
    {
     "data": {
      "text/plain": [
       "range(0, 5)"
      ]
     },
     "execution_count": 107,
     "metadata": {},
     "output_type": "execute_result"
    }
   ],
   "source": [
    "range(5)"
   ]
  },
  {
   "cell_type": "code",
   "execution_count": 108,
   "id": "4aa68389",
   "metadata": {},
   "outputs": [
    {
     "name": "stdout",
     "output_type": "stream",
     "text": [
      "0\n",
      "1\n",
      "2\n",
      "3\n",
      "4\n"
     ]
    }
   ],
   "source": [
    "for i in range(5):\n",
    "    print(i)"
   ]
  },
  {
   "cell_type": "code",
   "execution_count": 109,
   "id": "c22d0a34",
   "metadata": {},
   "outputs": [
    {
     "name": "stdout",
     "output_type": "stream",
     "text": [
      "1\n",
      "2\n",
      "3\n",
      "4\n"
     ]
    }
   ],
   "source": [
    "for i in range(1,5):\n",
    "    print(i)"
   ]
  },
  {
   "cell_type": "code",
   "execution_count": 110,
   "id": "3195bbee",
   "metadata": {},
   "outputs": [
    {
     "name": "stdout",
     "output_type": "stream",
     "text": [
      "0\n",
      "2\n",
      "4\n",
      "6\n",
      "8\n",
      "10\n"
     ]
    }
   ],
   "source": [
    "for i in range(0,11,2):\n",
    "    print(i)"
   ]
  },
  {
   "cell_type": "code",
   "execution_count": 111,
   "id": "86d8f660",
   "metadata": {},
   "outputs": [
    {
     "name": "stdout",
     "output_type": "stream",
     "text": [
      "11\n",
      "9\n",
      "7\n",
      "5\n",
      "3\n",
      "1\n"
     ]
    }
   ],
   "source": [
    "for i in range(11,0,-2):\n",
    "    print(i)"
   ]
  },
  {
   "cell_type": "code",
   "execution_count": 112,
   "id": "6ff326b0",
   "metadata": {},
   "outputs": [
    {
     "name": "stdout",
     "output_type": "stream",
     "text": [
      "0 Hamlet\n",
      "1 King Lear\n",
      "2 Much Ado About Nothing\n",
      "3 Macbeth\n"
     ]
    }
   ],
   "source": [
    "shakespeare = ['Hamlet', 'King Lear', 'Much Ado About Nothing', 'Macbeth']\n",
    "\n",
    "for index, value in enumerate(shakespeare):\n",
    "    print(index, value)"
   ]
  },
  {
   "cell_type": "code",
   "execution_count": 113,
   "id": "0ac8ffe7",
   "metadata": {},
   "outputs": [],
   "source": [
    "linguists = ['Saussure', 'McGregor', 'Sapir', 'Whorf', 'Chomsky', 'Tomasello', 'Bickerton']\n",
    "born = [1857, 1952, 1884, 1897, 1928, 1950, 1926]"
   ]
  },
  {
   "cell_type": "code",
   "execution_count": 114,
   "id": "4e0ef7ef",
   "metadata": {},
   "outputs": [
    {
     "name": "stdout",
     "output_type": "stream",
     "text": [
      "Saussure\n",
      "Sapir\n",
      "Whorf\n"
     ]
    }
   ],
   "source": [
    "for index, value in enumerate(born):\n",
    "    if value < 1900:\n",
    "        print(linguists[index])\n"
   ]
  },
  {
   "cell_type": "code",
   "execution_count": 115,
   "id": "00112431",
   "metadata": {},
   "outputs": [],
   "source": [
    "before_1900 = []\n",
    "after_1900 = []\n",
    "for num, val in enumerate(born):\n",
    "    if val < 1900:\n",
    "        before_1900.append(linguists[num])\n",
    "    if val >= 1900:\n",
    "        after_1900.append(linguists[num])\n",
    "\n"
   ]
  },
  {
   "cell_type": "code",
   "execution_count": 116,
   "id": "403265df",
   "metadata": {},
   "outputs": [
    {
     "name": "stdout",
     "output_type": "stream",
     "text": [
      "['Saussure', 'Sapir', 'Whorf']\n",
      "['McGregor', 'Chomsky', 'Tomasello', 'Bickerton']\n"
     ]
    }
   ],
   "source": [
    "print(before_1900)\n",
    "print(after_1900)"
   ]
  },
  {
   "cell_type": "code",
   "execution_count": 121,
   "id": "bcac7779",
   "metadata": {},
   "outputs": [
    {
     "data": {
      "text/plain": [
       "['Saussure', 'Sapir', 'Whorf', '']"
      ]
     },
     "execution_count": 121,
     "metadata": {},
     "output_type": "execute_result"
    }
   ],
   "source": [
    "# add an extra blank space to the end before_1900, so it is the same length as after_1900\n",
    "# I think this was Agnes' solution, right?\n",
    "\n",
    "while len(before_1900) < len(after_1900):\n",
    "    before_1900.append('')\n",
    "\n",
    "before_1900"
   ]
  },
  {
   "cell_type": "code",
   "execution_count": 119,
   "id": "eb0e221c",
   "metadata": {},
   "outputs": [
    {
     "name": "stdout",
     "output_type": "stream",
     "text": [
      "['Saussure', 'Sapir', 'Whorf', '']\n",
      "['McGregor', 'Chomsky', 'Tomasello', 'Bickerton']\n"
     ]
    }
   ],
   "source": [
    "print(before_1900)\n",
    "print(after_1900)"
   ]
  },
  {
   "cell_type": "code",
   "execution_count": 120,
   "id": "edf2fd9d",
   "metadata": {},
   "outputs": [
    {
     "data": {
      "text/html": [
       "<div>\n",
       "<style scoped>\n",
       "    .dataframe tbody tr th:only-of-type {\n",
       "        vertical-align: middle;\n",
       "    }\n",
       "\n",
       "    .dataframe tbody tr th {\n",
       "        vertical-align: top;\n",
       "    }\n",
       "\n",
       "    .dataframe thead th {\n",
       "        text-align: right;\n",
       "    }\n",
       "</style>\n",
       "<table border=\"1\" class=\"dataframe\">\n",
       "  <thead>\n",
       "    <tr style=\"text-align: right;\">\n",
       "      <th></th>\n",
       "      <th>before_1900</th>\n",
       "      <th>after_1900</th>\n",
       "    </tr>\n",
       "  </thead>\n",
       "  <tbody>\n",
       "    <tr>\n",
       "      <th>0</th>\n",
       "      <td>Saussure</td>\n",
       "      <td>McGregor</td>\n",
       "    </tr>\n",
       "    <tr>\n",
       "      <th>1</th>\n",
       "      <td>Sapir</td>\n",
       "      <td>Chomsky</td>\n",
       "    </tr>\n",
       "    <tr>\n",
       "      <th>2</th>\n",
       "      <td>Whorf</td>\n",
       "      <td>Tomasello</td>\n",
       "    </tr>\n",
       "    <tr>\n",
       "      <th>3</th>\n",
       "      <td></td>\n",
       "      <td>Bickerton</td>\n",
       "    </tr>\n",
       "  </tbody>\n",
       "</table>\n",
       "</div>"
      ],
      "text/plain": [
       "  before_1900 after_1900\n",
       "0    Saussure   McGregor\n",
       "1       Sapir    Chomsky\n",
       "2       Whorf  Tomasello\n",
       "3              Bickerton"
      ]
     },
     "execution_count": 120,
     "metadata": {},
     "output_type": "execute_result"
    }
   ],
   "source": [
    "df_linguists = pd.DataFrame({'before_1900': before_1900,\n",
    "                            'after_1900': after_1900})\n",
    "df_linguists"
   ]
  },
  {
   "cell_type": "code",
   "execution_count": 88,
   "id": "3d4b1071",
   "metadata": {},
   "outputs": [
    {
     "name": "stdout",
     "output_type": "stream",
     "text": [
      "What is your name? Ethan\n",
      "Cool name!\n"
     ]
    }
   ],
   "source": [
    "name = input(\"What is your name? \")\n",
    "print(\"Cool name!\")"
   ]
  },
  {
   "cell_type": "code",
   "execution_count": 89,
   "id": "64800e35",
   "metadata": {},
   "outputs": [
    {
     "name": "stdout",
     "output_type": "stream",
     "text": [
      "What is your name? Ethan\n",
      "Hmm, too bad your name is not Superman.\n"
     ]
    }
   ],
   "source": [
    "name = input(\"What is your name? \")\n",
    "if name == \"Superman\":\n",
    "    print(\"Cool name!!\")\n",
    "else:\n",
    "    print(\"Hmm, too bad your name is not Superman.\")"
   ]
  },
  {
   "cell_type": "code",
   "execution_count": null,
   "id": "1615cb5d",
   "metadata": {},
   "outputs": [],
   "source": []
  }
 ],
 "metadata": {
  "kernelspec": {
   "display_name": "Python 3 (ipykernel)",
   "language": "python",
   "name": "python3"
  },
  "language_info": {
   "codemirror_mode": {
    "name": "ipython",
    "version": 3
   },
   "file_extension": ".py",
   "mimetype": "text/x-python",
   "name": "python",
   "nbconvert_exporter": "python",
   "pygments_lexer": "ipython3",
   "version": "3.9.12"
  }
 },
 "nbformat": 4,
 "nbformat_minor": 5
}
