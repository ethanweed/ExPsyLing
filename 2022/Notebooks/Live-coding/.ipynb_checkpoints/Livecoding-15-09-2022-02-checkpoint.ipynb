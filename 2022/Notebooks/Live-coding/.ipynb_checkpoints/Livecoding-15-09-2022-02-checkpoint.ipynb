{
 "cells": [
  {
   "cell_type": "markdown",
   "id": "e36fb5da",
   "metadata": {},
   "source": [
    "## The limits of floats"
   ]
  },
  {
   "cell_type": "code",
   "execution_count": 2,
   "id": "503ba4e2",
   "metadata": {},
   "outputs": [
    {
     "data": {
      "text/plain": [
       "False"
      ]
     },
     "execution_count": 2,
     "metadata": {},
     "output_type": "execute_result"
    }
   ],
   "source": [
    "4 == 4.000001"
   ]
  },
  {
   "cell_type": "code",
   "execution_count": null,
   "id": "320e8b51",
   "metadata": {},
   "outputs": [],
   "source": []
  },
  {
   "cell_type": "code",
   "execution_count": null,
   "id": "4803d568",
   "metadata": {},
   "outputs": [],
   "source": []
  },
  {
   "cell_type": "markdown",
   "id": "d912dd2f",
   "metadata": {},
   "source": [
    "## Zipping lists\n"
   ]
  },
  {
   "cell_type": "code",
   "execution_count": 27,
   "id": "80e6cb85",
   "metadata": {},
   "outputs": [],
   "source": [
    "a = ['apples', 'grapes', 'pears']\n",
    "b = [3, 2, 7]\n",
    "c = ['Netto', 'Brugsen', 'Rema', 'Fakta']"
   ]
  },
  {
   "cell_type": "code",
   "execution_count": 28,
   "id": "5463ee64",
   "metadata": {},
   "outputs": [],
   "source": [
    "d = list(zip(a,b,c))\n"
   ]
  },
  {
   "cell_type": "code",
   "execution_count": 29,
   "id": "bac03071",
   "metadata": {},
   "outputs": [
    {
     "data": {
      "text/plain": [
       "[('apples', 3, 'Netto'), ('grapes', 2, 'Brugsen'), ('pears', 7, 'Rema')]"
      ]
     },
     "execution_count": 29,
     "metadata": {},
     "output_type": "execute_result"
    }
   ],
   "source": [
    "d"
   ]
  },
  {
   "cell_type": "code",
   "execution_count": 24,
   "id": "0eaa6c48",
   "metadata": {},
   "outputs": [
    {
     "data": {
      "text/plain": [
       "tuple"
      ]
     },
     "execution_count": 24,
     "metadata": {},
     "output_type": "execute_result"
    }
   ],
   "source": [
    "type(d[0])"
   ]
  },
  {
   "cell_type": "markdown",
   "id": "40186e65",
   "metadata": {},
   "source": [
    "## Dictionaries"
   ]
  },
  {
   "cell_type": "code",
   "execution_count": 30,
   "id": "de9a856f",
   "metadata": {},
   "outputs": [],
   "source": [
    "books = {'Emma': 'Austen',\n",
    "        'Pride and Predjudice': 'Austen',\n",
    "        'Moby Dick': 'Melville',\n",
    "        'Linguistics: An Introduction': 'McGregor'}"
   ]
  },
  {
   "cell_type": "code",
   "execution_count": 38,
   "id": "c869e38f",
   "metadata": {},
   "outputs": [
    {
     "data": {
      "text/plain": [
       "'Austen'"
      ]
     },
     "execution_count": 38,
     "metadata": {},
     "output_type": "execute_result"
    }
   ],
   "source": [
    "books['Emma']"
   ]
  },
  {
   "cell_type": "code",
   "execution_count": 33,
   "id": "440c4c19",
   "metadata": {},
   "outputs": [],
   "source": [
    "authors = {'Austen': ['Emma', ' Pride and Predjudice', 'Sense and Sensibility'],\n",
    "          'Shakespeare': ['Hamlet', 'King Lear', 'Much Ado About Nothing']}"
   ]
  },
  {
   "cell_type": "code",
   "execution_count": 40,
   "id": "10dec7f4",
   "metadata": {},
   "outputs": [
    {
     "data": {
      "text/plain": [
       "['Emma', ' Pride and Predjudice', 'Sense and Sensibility']"
      ]
     },
     "execution_count": 40,
     "metadata": {},
     "output_type": "execute_result"
    }
   ],
   "source": [
    "authors['Austen']"
   ]
  },
  {
   "cell_type": "code",
   "execution_count": 41,
   "id": "3f526a1b",
   "metadata": {},
   "outputs": [
    {
     "data": {
      "text/plain": [
       "'Emma'"
      ]
     },
     "execution_count": 41,
     "metadata": {},
     "output_type": "execute_result"
    }
   ],
   "source": [
    "authors['Austen'][0]"
   ]
  },
  {
   "cell_type": "code",
   "execution_count": 49,
   "id": "a57aa922",
   "metadata": {},
   "outputs": [],
   "source": [
    "items = ['apples', 'grapes', 'pears']\n",
    "quantity = [3, 2, 7]\n",
    "store = ['Netto', 'Brugsen', 'Rema']"
   ]
  },
  {
   "cell_type": "code",
   "execution_count": 50,
   "id": "7334e620",
   "metadata": {},
   "outputs": [],
   "source": [
    "shopping = {'items': items,\n",
    "        'quantity': quantity,\n",
    "        'store': store}"
   ]
  },
  {
   "cell_type": "code",
   "execution_count": null,
   "id": "88423979",
   "metadata": {},
   "outputs": [],
   "source": []
  },
  {
   "cell_type": "markdown",
   "id": "4c929a84",
   "metadata": {},
   "source": [
    "# dataframes"
   ]
  },
  {
   "cell_type": "code",
   "execution_count": 51,
   "id": "40834fe9",
   "metadata": {},
   "outputs": [],
   "source": [
    "#%pip install pandas"
   ]
  },
  {
   "cell_type": "code",
   "execution_count": 52,
   "id": "6365f3b9",
   "metadata": {},
   "outputs": [],
   "source": [
    "import pandas as pd"
   ]
  },
  {
   "cell_type": "code",
   "execution_count": 53,
   "id": "84a8a97f",
   "metadata": {},
   "outputs": [],
   "source": [
    "df_shopping = pd.DataFrame(shopping)"
   ]
  },
  {
   "cell_type": "code",
   "execution_count": 54,
   "id": "1b954d3e",
   "metadata": {},
   "outputs": [
    {
     "data": {
      "text/html": [
       "<div>\n",
       "<style scoped>\n",
       "    .dataframe tbody tr th:only-of-type {\n",
       "        vertical-align: middle;\n",
       "    }\n",
       "\n",
       "    .dataframe tbody tr th {\n",
       "        vertical-align: top;\n",
       "    }\n",
       "\n",
       "    .dataframe thead th {\n",
       "        text-align: right;\n",
       "    }\n",
       "</style>\n",
       "<table border=\"1\" class=\"dataframe\">\n",
       "  <thead>\n",
       "    <tr style=\"text-align: right;\">\n",
       "      <th></th>\n",
       "      <th>items</th>\n",
       "      <th>quantity</th>\n",
       "      <th>store</th>\n",
       "    </tr>\n",
       "  </thead>\n",
       "  <tbody>\n",
       "    <tr>\n",
       "      <th>0</th>\n",
       "      <td>apples</td>\n",
       "      <td>3</td>\n",
       "      <td>Netto</td>\n",
       "    </tr>\n",
       "    <tr>\n",
       "      <th>1</th>\n",
       "      <td>grapes</td>\n",
       "      <td>2</td>\n",
       "      <td>Brugsen</td>\n",
       "    </tr>\n",
       "    <tr>\n",
       "      <th>2</th>\n",
       "      <td>pears</td>\n",
       "      <td>7</td>\n",
       "      <td>Rema</td>\n",
       "    </tr>\n",
       "  </tbody>\n",
       "</table>\n",
       "</div>"
      ],
      "text/plain": [
       "    items  quantity    store\n",
       "0  apples         3    Netto\n",
       "1  grapes         2  Brugsen\n",
       "2   pears         7     Rema"
      ]
     },
     "execution_count": 54,
     "metadata": {},
     "output_type": "execute_result"
    }
   ],
   "source": [
    "df_shopping"
   ]
  },
  {
   "cell_type": "markdown",
   "id": "f3cca7d3",
   "metadata": {},
   "source": [
    "# enumerate()"
   ]
  },
  {
   "cell_type": "code",
   "execution_count": 55,
   "id": "dbc51859",
   "metadata": {},
   "outputs": [],
   "source": [
    "shakespeare = ['Hamlet', 'King Lear', 'Much Ado About Nothing', 'Macbeth']"
   ]
  },
  {
   "cell_type": "code",
   "execution_count": 59,
   "id": "bac1fb0f",
   "metadata": {},
   "outputs": [
    {
     "data": {
      "text/plain": [
       "[(0, 'Hamlet'),\n",
       " (1, 'King Lear'),\n",
       " (2, 'Much Ado About Nothing'),\n",
       " (3, 'Macbeth')]"
      ]
     },
     "execution_count": 59,
     "metadata": {},
     "output_type": "execute_result"
    }
   ],
   "source": [
    "plays = list(enumerate(shakespeare))\n",
    "plays"
   ]
  },
  {
   "cell_type": "code",
   "execution_count": null,
   "id": "31e3ec81",
   "metadata": {},
   "outputs": [],
   "source": []
  },
  {
   "cell_type": "markdown",
   "id": "ecb0bb5f",
   "metadata": {},
   "source": [
    "# Loops\n",
    "\n",
    "## `while` loops"
   ]
  },
  {
   "cell_type": "code",
   "execution_count": 62,
   "id": "83f6c8e4",
   "metadata": {},
   "outputs": [
    {
     "name": "stdout",
     "output_type": "stream",
     "text": [
      "1\n",
      "2\n",
      "3\n",
      "4\n",
      "5\n",
      "6\n",
      "7\n",
      "8\n",
      "9\n",
      "10\n"
     ]
    }
   ],
   "source": [
    "counter = 0\n",
    "\n",
    "while counter < 10:\n",
    "    counter = counter + 1\n",
    "    print(counter)"
   ]
  },
  {
   "cell_type": "code",
   "execution_count": null,
   "id": "3e3d4bec",
   "metadata": {},
   "outputs": [],
   "source": [
    "\n",
    "\n"
   ]
  },
  {
   "cell_type": "code",
   "execution_count": null,
   "id": "039aacbe",
   "metadata": {},
   "outputs": [],
   "source": []
  },
  {
   "cell_type": "code",
   "execution_count": null,
   "id": "06115ca6",
   "metadata": {},
   "outputs": [],
   "source": []
  },
  {
   "cell_type": "code",
   "execution_count": null,
   "id": "596e36ba",
   "metadata": {},
   "outputs": [],
   "source": []
  },
  {
   "cell_type": "markdown",
   "id": "2ce52f65",
   "metadata": {},
   "source": [
    "## `for` loops"
   ]
  },
  {
   "cell_type": "code",
   "execution_count": 65,
   "id": "faf08e09",
   "metadata": {},
   "outputs": [
    {
     "name": "stdout",
     "output_type": "stream",
     "text": [
      "King Lear\n",
      "Much Ado About Nothing\n",
      "Macbeth\n"
     ]
    }
   ],
   "source": [
    "shakespeare = ['Hamlet', 'King Lear', 'Much Ado About Nothing', 'Macbeth']\n",
    "\n",
    "for play in shakespeare:\n",
    "    if len(play) > 6:\n",
    "        print(play)"
   ]
  },
  {
   "cell_type": "code",
   "execution_count": 66,
   "id": "57998ccc",
   "metadata": {},
   "outputs": [
    {
     "name": "stdout",
     "output_type": "stream",
     "text": [
      "Shakespeare wrote Hamlet\n",
      "Shakespeare wrote King Lear\n",
      "Shakespeare wrote Much Ado About Nothing\n",
      "Shakespeare wrote Macbeth\n"
     ]
    }
   ],
   "source": [
    "shakespeare = ['Hamlet', 'King Lear', 'Much Ado About Nothing', 'Macbeth']\n",
    "\n",
    "for play in shakespeare:\n",
    "    print('Shakespeare wrote', play)"
   ]
  },
  {
   "cell_type": "code",
   "execution_count": null,
   "id": "85f46f4d",
   "metadata": {},
   "outputs": [],
   "source": []
  },
  {
   "cell_type": "code",
   "execution_count": null,
   "id": "999f8513",
   "metadata": {},
   "outputs": [],
   "source": []
  },
  {
   "cell_type": "code",
   "execution_count": null,
   "id": "7244f547",
   "metadata": {},
   "outputs": [],
   "source": []
  },
  {
   "cell_type": "code",
   "execution_count": null,
   "id": "68836073",
   "metadata": {},
   "outputs": [],
   "source": []
  },
  {
   "cell_type": "markdown",
   "id": "78e1979f",
   "metadata": {},
   "source": [
    "## range()"
   ]
  },
  {
   "cell_type": "code",
   "execution_count": 67,
   "id": "ab5ad85c",
   "metadata": {},
   "outputs": [
    {
     "data": {
      "text/plain": [
       "range(0, 5)"
      ]
     },
     "execution_count": 67,
     "metadata": {},
     "output_type": "execute_result"
    }
   ],
   "source": [
    "range(5)"
   ]
  },
  {
   "cell_type": "code",
   "execution_count": 68,
   "id": "c87c93e9",
   "metadata": {},
   "outputs": [
    {
     "name": "stdout",
     "output_type": "stream",
     "text": [
      "0\n",
      "1\n",
      "2\n",
      "3\n",
      "4\n"
     ]
    }
   ],
   "source": [
    "# range(start, stop, step)\n",
    "\n",
    "for i in range(5):\n",
    "    print(i)"
   ]
  },
  {
   "cell_type": "code",
   "execution_count": 70,
   "id": "b6046e9c",
   "metadata": {},
   "outputs": [
    {
     "name": "stdout",
     "output_type": "stream",
     "text": [
      "1\n",
      "2\n",
      "3\n",
      "4\n",
      "5\n"
     ]
    }
   ],
   "source": [
    "# range(start, stop, step)\n",
    "\n",
    "for i in range(1, 6):\n",
    "    print(i)"
   ]
  },
  {
   "cell_type": "code",
   "execution_count": 71,
   "id": "3e42e2b4",
   "metadata": {},
   "outputs": [
    {
     "name": "stdout",
     "output_type": "stream",
     "text": [
      "0\n",
      "2\n",
      "4\n",
      "6\n",
      "8\n",
      "10\n"
     ]
    }
   ],
   "source": [
    "# range(start, stop, step)\n",
    "\n",
    "for i in range(0,11,2):\n",
    "    print(i)"
   ]
  },
  {
   "cell_type": "code",
   "execution_count": 72,
   "id": "24b165d9",
   "metadata": {},
   "outputs": [
    {
     "name": "stdout",
     "output_type": "stream",
     "text": [
      "11\n",
      "9\n",
      "7\n",
      "5\n",
      "3\n",
      "1\n"
     ]
    }
   ],
   "source": [
    "# range(start, stop, step)\n",
    "\n",
    "for i in range(11,0,-2):\n",
    "    print(i)"
   ]
  },
  {
   "cell_type": "code",
   "execution_count": 74,
   "id": "4d30dde0",
   "metadata": {},
   "outputs": [
    {
     "data": {
      "text/plain": [
       "[11, 9, 7, 5, 3, 1]"
      ]
     },
     "execution_count": 74,
     "metadata": {},
     "output_type": "execute_result"
    }
   ],
   "source": [
    "a = list(range(1,len(authors),2))\n",
    "a"
   ]
  },
  {
   "cell_type": "markdown",
   "id": "76b4d757",
   "metadata": {},
   "source": [
    "## enumerate() again"
   ]
  },
  {
   "cell_type": "code",
   "execution_count": 75,
   "id": "6ebb3ea9",
   "metadata": {},
   "outputs": [],
   "source": [
    "linguists = ['Saussure', 'McGregor', 'Sapir', 'Whorf', 'Chomsky', 'Tomasello', 'Bickerton']\n",
    "born = [1857, 1952, 1884, 1897, 1928, 1950, 1926]"
   ]
  },
  {
   "cell_type": "code",
   "execution_count": 78,
   "id": "b7edced9",
   "metadata": {},
   "outputs": [
    {
     "name": "stdout",
     "output_type": "stream",
     "text": [
      "Saussure\n",
      "Sapir\n",
      "Whorf\n"
     ]
    }
   ],
   "source": [
    "for index, value in enumerate(born):\n",
    "    if value < 1900:\n",
    "        print(linguists[index])\n"
   ]
  },
  {
   "cell_type": "code",
   "execution_count": 77,
   "id": "1dafaec9",
   "metadata": {},
   "outputs": [
    {
     "data": {
      "text/plain": [
       "[(0, 1857), (1, 1952), (2, 1884), (3, 1897), (4, 1928), (5, 1950), (6, 1926)]"
      ]
     },
     "execution_count": 77,
     "metadata": {},
     "output_type": "execute_result"
    }
   ],
   "source": [
    "list(enumerate(born))"
   ]
  },
  {
   "cell_type": "code",
   "execution_count": 79,
   "id": "c56b213c",
   "metadata": {},
   "outputs": [
    {
     "name": "stdout",
     "output_type": "stream",
     "text": [
      "Linguists born in the 19th century: ['Saussure', 'Sapir', 'Whorf']\n",
      "Linguists born in the 20th century: ['McGregor', 'Chomsky', 'Tomasello', 'Bickerton']\n"
     ]
    }
   ],
   "source": [
    "before_1900 = []\n",
    "after_1900 = []\n",
    "\n",
    "for num, val in enumerate(born):\n",
    "    if val < 1900:\n",
    "        before_1900.append(linguists[num])\n",
    "    if val >= 1900:\n",
    "        after_1900.append(linguists[num])\n",
    "print('Linguists born in the 19th century:', before_1900)\n",
    "print('Linguists born in the 20th century:', after_1900)"
   ]
  },
  {
   "cell_type": "code",
   "execution_count": 80,
   "id": "58e9edc5",
   "metadata": {},
   "outputs": [
    {
     "data": {
      "text/plain": [
       "['Saussure', 'Sapir', 'Whorf', '9999999999999']"
      ]
     },
     "execution_count": 80,
     "metadata": {},
     "output_type": "execute_result"
    }
   ],
   "source": [
    "before_1900.append('9999999999999')\n",
    "before_1900"
   ]
  },
  {
   "cell_type": "code",
   "execution_count": 83,
   "id": "77b4590a",
   "metadata": {},
   "outputs": [],
   "source": [
    "all_linguists = {'19th century': before_1900,\n",
    "                '20th century': after_1900}\n",
    "\n",
    "df_linguists = pd.DataFrame(all_linguists)"
   ]
  },
  {
   "cell_type": "code",
   "execution_count": 84,
   "id": "8adaac35",
   "metadata": {},
   "outputs": [
    {
     "data": {
      "text/html": [
       "<div>\n",
       "<style scoped>\n",
       "    .dataframe tbody tr th:only-of-type {\n",
       "        vertical-align: middle;\n",
       "    }\n",
       "\n",
       "    .dataframe tbody tr th {\n",
       "        vertical-align: top;\n",
       "    }\n",
       "\n",
       "    .dataframe thead th {\n",
       "        text-align: right;\n",
       "    }\n",
       "</style>\n",
       "<table border=\"1\" class=\"dataframe\">\n",
       "  <thead>\n",
       "    <tr style=\"text-align: right;\">\n",
       "      <th></th>\n",
       "      <th>19th century</th>\n",
       "      <th>20th century</th>\n",
       "    </tr>\n",
       "  </thead>\n",
       "  <tbody>\n",
       "    <tr>\n",
       "      <th>0</th>\n",
       "      <td>Saussure</td>\n",
       "      <td>McGregor</td>\n",
       "    </tr>\n",
       "    <tr>\n",
       "      <th>1</th>\n",
       "      <td>Sapir</td>\n",
       "      <td>Chomsky</td>\n",
       "    </tr>\n",
       "    <tr>\n",
       "      <th>2</th>\n",
       "      <td>Whorf</td>\n",
       "      <td>Tomasello</td>\n",
       "    </tr>\n",
       "    <tr>\n",
       "      <th>3</th>\n",
       "      <td>9999999999999</td>\n",
       "      <td>Bickerton</td>\n",
       "    </tr>\n",
       "  </tbody>\n",
       "</table>\n",
       "</div>"
      ],
      "text/plain": [
       "    19th century 20th century\n",
       "0       Saussure     McGregor\n",
       "1          Sapir      Chomsky\n",
       "2          Whorf    Tomasello\n",
       "3  9999999999999    Bickerton"
      ]
     },
     "execution_count": 84,
     "metadata": {},
     "output_type": "execute_result"
    }
   ],
   "source": [
    "df_linguists"
   ]
  },
  {
   "cell_type": "markdown",
   "id": "ce248942",
   "metadata": {},
   "source": [
    "## input()"
   ]
  },
  {
   "cell_type": "code",
   "execution_count": 85,
   "id": "1a4d2ad4",
   "metadata": {},
   "outputs": [
    {
     "name": "stdout",
     "output_type": "stream",
     "text": [
      "What is your name? Aquaman\n",
      "Cool name!\n"
     ]
    }
   ],
   "source": [
    "name = input(\"What is your name? \")\n",
    "print(\"Cool name!\")"
   ]
  },
  {
   "cell_type": "code",
   "execution_count": 86,
   "id": "56154e61",
   "metadata": {},
   "outputs": [
    {
     "name": "stdout",
     "output_type": "stream",
     "text": [
      "What is your name? Aquaman\n",
      "Hmm, too bad your name is not Superman.\n"
     ]
    }
   ],
   "source": [
    "name = input(\"What is your name? \")\n",
    "if name == \"Superman\":\n",
    "    print(\"Cool name!!\")\n",
    "else:\n",
    "    print(\"Hmm, too bad your name is not Superman.\")"
   ]
  },
  {
   "cell_type": "code",
   "execution_count": null,
   "id": "9271c1a9",
   "metadata": {},
   "outputs": [],
   "source": []
  },
  {
   "cell_type": "code",
   "execution_count": null,
   "id": "3441b2d2",
   "metadata": {},
   "outputs": [],
   "source": []
  }
 ],
 "metadata": {
  "kernelspec": {
   "display_name": "Python 3 (ipykernel)",
   "language": "python",
   "name": "python3"
  },
  "language_info": {
   "codemirror_mode": {
    "name": "ipython",
    "version": 3
   },
   "file_extension": ".py",
   "mimetype": "text/x-python",
   "name": "python",
   "nbconvert_exporter": "python",
   "pygments_lexer": "ipython3",
   "version": "3.9.12"
  }
 },
 "nbformat": 4,
 "nbformat_minor": 5
}
