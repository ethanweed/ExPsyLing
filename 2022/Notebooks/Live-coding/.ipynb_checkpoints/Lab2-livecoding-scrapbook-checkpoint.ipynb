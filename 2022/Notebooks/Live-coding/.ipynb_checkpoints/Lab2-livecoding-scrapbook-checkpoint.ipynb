{
 "cells": [
  {
   "cell_type": "markdown",
   "id": "af26b277",
   "metadata": {},
   "source": [
    "## The limits of floats"
   ]
  },
  {
   "cell_type": "code",
   "execution_count": 20,
   "id": "1c5ff7eb",
   "metadata": {},
   "outputs": [
    {
     "data": {
      "text/plain": [
       "True"
      ]
     },
     "execution_count": 20,
     "metadata": {},
     "output_type": "execute_result"
    }
   ],
   "source": [
    "# in a 64 bit CPU, the computer can only store a number up to 15 decimal places long. So it ignores everything after that\n",
    "# there are 2 kinds of numbers with decimal points: floats and doubles.\n",
    "# Python uses doubles, but calls them floats\n",
    "# doubles take up twice as much memory as floats (8 bytes vs 4 bytes)\n",
    "# Python ignores everything after 15 decimal places\n",
    "4.0000000000000001 == 4"
   ]
  },
  {
   "cell_type": "code",
   "execution_count": 28,
   "id": "e68040f8",
   "metadata": {},
   "outputs": [
    {
     "name": "stdout",
     "output_type": "stream",
     "text": [
      "4.0\n",
      "4\n"
     ]
    },
    {
     "data": {
      "text/plain": [
       "'4.0'"
      ]
     },
     "execution_count": 28,
     "metadata": {},
     "output_type": "execute_result"
    }
   ],
   "source": [
    "print(float(\"4\"))\n",
    "print(int(\"4\"))\n",
    "str(4.0)"
   ]
  },
  {
   "cell_type": "markdown",
   "id": "50ac0c29",
   "metadata": {},
   "source": [
    "## Zipping lists"
   ]
  },
  {
   "cell_type": "code",
   "execution_count": 10,
   "id": "800d62d1",
   "metadata": {},
   "outputs": [],
   "source": [
    "a = ['apples', 'grapes', 'pears']\n",
    "b = [3, 2, 7, 9]\n",
    "\n",
    "c = zip(a,b)"
   ]
  },
  {
   "cell_type": "code",
   "execution_count": 11,
   "id": "24163cae",
   "metadata": {},
   "outputs": [
    {
     "data": {
      "text/plain": [
       "[('apples', 3), ('grapes', 2), ('pears', 7)]"
      ]
     },
     "execution_count": 11,
     "metadata": {},
     "output_type": "execute_result"
    }
   ],
   "source": [
    "list(c)"
   ]
  },
  {
   "cell_type": "code",
   "execution_count": 9,
   "id": "14b6e2cd",
   "metadata": {},
   "outputs": [
    {
     "data": {
      "text/plain": [
       "['apples_fruit', 'grapes_fruit', 'pears_fruit']"
      ]
     },
     "execution_count": 9,
     "metadata": {},
     "output_type": "execute_result"
    }
   ],
   "source": [
    "d = [x+'_fruit' for x in a]\n",
    "d"
   ]
  },
  {
   "cell_type": "code",
   "execution_count": 32,
   "id": "46444b9f",
   "metadata": {},
   "outputs": [
    {
     "data": {
      "text/plain": [
       "('apples', 3, ('pigs', 2))"
      ]
     },
     "execution_count": 32,
     "metadata": {},
     "output_type": "execute_result"
    }
   ],
   "source": [
    "a = ['apples', 'grapes', 'pears']\n",
    "b = [3, 2, 7]\n",
    "c = [('pigs', 2), ('horses', 5), ('dogs', 9)]\n",
    "list(zip(a,b,c))[0]"
   ]
  },
  {
   "cell_type": "markdown",
   "id": "d92e8b0f",
   "metadata": {},
   "source": [
    "## Dictionaries"
   ]
  },
  {
   "cell_type": "code",
   "execution_count": 34,
   "id": "f0469589",
   "metadata": {},
   "outputs": [],
   "source": [
    "books = {'Emma': 'Austen',\n",
    "        'Pride and Predjudice': 'Austen',\n",
    "        'Moby Dick': 'Melville',\n",
    "        'Linguistics: An Introduction': 'McGregor'}"
   ]
  },
  {
   "cell_type": "code",
   "execution_count": 35,
   "id": "647245eb",
   "metadata": {},
   "outputs": [
    {
     "data": {
      "text/plain": [
       "'Austen'"
      ]
     },
     "execution_count": 35,
     "metadata": {},
     "output_type": "execute_result"
    }
   ],
   "source": [
    "books['Emma']"
   ]
  },
  {
   "cell_type": "code",
   "execution_count": 36,
   "id": "5d25ea5b",
   "metadata": {},
   "outputs": [
    {
     "data": {
      "text/plain": [
       "'McGregor'"
      ]
     },
     "execution_count": 36,
     "metadata": {},
     "output_type": "execute_result"
    }
   ],
   "source": [
    "books['Linguistics: An Introduction']"
   ]
  },
  {
   "cell_type": "code",
   "execution_count": 41,
   "id": "305d67b9",
   "metadata": {},
   "outputs": [],
   "source": [
    "authors = {'Austen': ['Emma', 'Pride and Predjudice', 'Sense and Sensibility'],\n",
    "          'Shakespeare': ['Hamlet', 'King Lear', 'Much Ado About Nothing']}"
   ]
  },
  {
   "cell_type": "code",
   "execution_count": 42,
   "id": "5d6ac0d1",
   "metadata": {},
   "outputs": [
    {
     "data": {
      "text/plain": [
       "['Hamlet', 'King Lear', 'Much Ado About Nothing']"
      ]
     },
     "execution_count": 42,
     "metadata": {},
     "output_type": "execute_result"
    }
   ],
   "source": [
    "authors['Shakespeare']"
   ]
  },
  {
   "cell_type": "code",
   "execution_count": 43,
   "id": "75418959",
   "metadata": {},
   "outputs": [],
   "source": [
    "import pandas as pd"
   ]
  },
  {
   "cell_type": "code",
   "execution_count": 46,
   "id": "233f8533",
   "metadata": {},
   "outputs": [],
   "source": [
    "author_data = pd.DataFrame(authors)\n",
    "\n",
    "# NB: This will only work if the lists are the same length!! All cells in the dataframe need to be filled"
   ]
  },
  {
   "cell_type": "code",
   "execution_count": 47,
   "id": "a9b7ddcc",
   "metadata": {},
   "outputs": [
    {
     "data": {
      "text/html": [
       "<div>\n",
       "<style scoped>\n",
       "    .dataframe tbody tr th:only-of-type {\n",
       "        vertical-align: middle;\n",
       "    }\n",
       "\n",
       "    .dataframe tbody tr th {\n",
       "        vertical-align: top;\n",
       "    }\n",
       "\n",
       "    .dataframe thead th {\n",
       "        text-align: right;\n",
       "    }\n",
       "</style>\n",
       "<table border=\"1\" class=\"dataframe\">\n",
       "  <thead>\n",
       "    <tr style=\"text-align: right;\">\n",
       "      <th></th>\n",
       "      <th>Austen</th>\n",
       "      <th>Shakespeare</th>\n",
       "    </tr>\n",
       "  </thead>\n",
       "  <tbody>\n",
       "    <tr>\n",
       "      <th>0</th>\n",
       "      <td>Emma</td>\n",
       "      <td>Hamlet</td>\n",
       "    </tr>\n",
       "    <tr>\n",
       "      <th>1</th>\n",
       "      <td>Pride and Predjudice</td>\n",
       "      <td>King Lear</td>\n",
       "    </tr>\n",
       "    <tr>\n",
       "      <th>2</th>\n",
       "      <td>Sense and Sensibility</td>\n",
       "      <td>Much Ado About Nothing</td>\n",
       "    </tr>\n",
       "  </tbody>\n",
       "</table>\n",
       "</div>"
      ],
      "text/plain": [
       "                  Austen             Shakespeare\n",
       "0                   Emma                  Hamlet\n",
       "1   Pride and Predjudice               King Lear\n",
       "2  Sense and Sensibility  Much Ado About Nothing"
      ]
     },
     "execution_count": 47,
     "metadata": {},
     "output_type": "execute_result"
    }
   ],
   "source": [
    "author_data"
   ]
  },
  {
   "cell_type": "markdown",
   "id": "2a096585",
   "metadata": {},
   "source": [
    "## enumerate()"
   ]
  },
  {
   "cell_type": "code",
   "execution_count": 48,
   "id": "9402ade0",
   "metadata": {},
   "outputs": [],
   "source": [
    "shakespeare = ['Hamlet', 'King Lear', 'Much Ado About Nothing', 'Macbeth']"
   ]
  },
  {
   "cell_type": "code",
   "execution_count": 49,
   "id": "bd7fcde4",
   "metadata": {},
   "outputs": [
    {
     "data": {
      "text/plain": [
       "<enumerate at 0x12c746f80>"
      ]
     },
     "execution_count": 49,
     "metadata": {},
     "output_type": "execute_result"
    }
   ],
   "source": [
    "enumerate(shakespeare)"
   ]
  },
  {
   "cell_type": "code",
   "execution_count": 50,
   "id": "81233f19",
   "metadata": {},
   "outputs": [
    {
     "data": {
      "text/plain": [
       "[(0, 'Hamlet'),\n",
       " (1, 'King Lear'),\n",
       " (2, 'Much Ado About Nothing'),\n",
       " (3, 'Macbeth')]"
      ]
     },
     "execution_count": 50,
     "metadata": {},
     "output_type": "execute_result"
    }
   ],
   "source": [
    "list(enumerate(shakespeare))"
   ]
  },
  {
   "cell_type": "markdown",
   "id": "b7bb8679",
   "metadata": {},
   "source": [
    "# Loops"
   ]
  },
  {
   "cell_type": "markdown",
   "id": "b3defe28",
   "metadata": {},
   "source": [
    "## `while` loops"
   ]
  },
  {
   "cell_type": "code",
   "execution_count": 53,
   "id": "fb0499af",
   "metadata": {},
   "outputs": [
    {
     "name": "stdout",
     "output_type": "stream",
     "text": [
      "1\n",
      "2\n",
      "3\n",
      "4\n",
      "5\n",
      "6\n",
      "7\n",
      "8\n",
      "9\n",
      "10\n"
     ]
    }
   ],
   "source": [
    "counter = 0\n",
    "while counter < 10:\n",
    "    counter = counter + 1\n",
    "    print(counter)\n"
   ]
  },
  {
   "cell_type": "markdown",
   "id": "d5d89c17",
   "metadata": {},
   "source": [
    "## `for` loops"
   ]
  },
  {
   "cell_type": "code",
   "execution_count": 54,
   "id": "a36ea12c",
   "metadata": {},
   "outputs": [
    {
     "name": "stdout",
     "output_type": "stream",
     "text": [
      "Hamlet\n",
      "King Lear\n",
      "Much Ado About Nothing\n",
      "Macbeth\n"
     ]
    }
   ],
   "source": [
    "shakespeare = ['Hamlet', 'King Lear', 'Much Ado About Nothing', 'Macbeth']\n",
    "\n",
    "for play in shakespeare:\n",
    "    print(play)"
   ]
  },
  {
   "cell_type": "code",
   "execution_count": 55,
   "id": "ed820c90",
   "metadata": {},
   "outputs": [
    {
     "name": "stdout",
     "output_type": "stream",
     "text": [
      "Shakespeare wrote Hamlet\n",
      "Shakespeare wrote King Lear\n",
      "Shakespeare wrote Much Ado About Nothing\n",
      "Shakespeare wrote Macbeth\n"
     ]
    }
   ],
   "source": [
    "shakespeare = ['Hamlet', 'King Lear', 'Much Ado About Nothing', 'Macbeth']\n",
    "\n",
    "for play in shakespeare:\n",
    "    print('Shakespeare wrote', play)"
   ]
  },
  {
   "cell_type": "code",
   "execution_count": 60,
   "id": "5a4d66da",
   "metadata": {},
   "outputs": [
    {
     "data": {
      "text/plain": [
       "range(0, 5)"
      ]
     },
     "execution_count": 60,
     "metadata": {},
     "output_type": "execute_result"
    }
   ],
   "source": [
    "range(5)"
   ]
  },
  {
   "cell_type": "code",
   "execution_count": 61,
   "id": "90be7983",
   "metadata": {},
   "outputs": [
    {
     "name": "stdout",
     "output_type": "stream",
     "text": [
      "0\n",
      "1\n",
      "2\n",
      "3\n",
      "4\n"
     ]
    }
   ],
   "source": [
    "for i in range(5):\n",
    "    print(i)"
   ]
  },
  {
   "cell_type": "code",
   "execution_count": 62,
   "id": "7995785f",
   "metadata": {},
   "outputs": [
    {
     "name": "stdout",
     "output_type": "stream",
     "text": [
      "1\n",
      "2\n",
      "3\n",
      "4\n"
     ]
    }
   ],
   "source": [
    "for i in range(1,5):\n",
    "    print(i)"
   ]
  },
  {
   "cell_type": "code",
   "execution_count": 65,
   "id": "10b25935",
   "metadata": {},
   "outputs": [
    {
     "name": "stdout",
     "output_type": "stream",
     "text": [
      "0\n",
      "2\n",
      "4\n",
      "6\n",
      "8\n",
      "10\n"
     ]
    }
   ],
   "source": [
    "for i in range(0,11,2):\n",
    "    print(i)"
   ]
  },
  {
   "cell_type": "code",
   "execution_count": 67,
   "id": "badd196f",
   "metadata": {},
   "outputs": [
    {
     "name": "stdout",
     "output_type": "stream",
     "text": [
      "11\n",
      "9\n",
      "7\n",
      "5\n",
      "3\n",
      "1\n"
     ]
    }
   ],
   "source": [
    "for i in range(11,0,-2):\n",
    "    print(i)"
   ]
  },
  {
   "cell_type": "code",
   "execution_count": 68,
   "id": "0795d021",
   "metadata": {},
   "outputs": [
    {
     "name": "stdout",
     "output_type": "stream",
     "text": [
      "0 Hamlet\n",
      "1 King Lear\n",
      "2 Much Ado About Nothing\n",
      "3 Macbeth\n"
     ]
    }
   ],
   "source": [
    "shakespeare = ['Hamlet', 'King Lear', 'Much Ado About Nothing', 'Macbeth']\n",
    "\n",
    "for index, value in enumerate(shakespeare):\n",
    "    print(index, value)"
   ]
  },
  {
   "cell_type": "code",
   "execution_count": 69,
   "id": "2a300989",
   "metadata": {},
   "outputs": [],
   "source": [
    "linguists = ['Saussure', 'McGregor', 'Sapir', 'Whorf', 'Chomsky', 'Tomasello', 'Bickerton']\n",
    "born = [1857, 1952, 1884, 1897, 1928, 1950, 1926]"
   ]
  },
  {
   "cell_type": "code",
   "execution_count": 77,
   "id": "ecf710aa",
   "metadata": {},
   "outputs": [
    {
     "name": "stdout",
     "output_type": "stream",
     "text": [
      "Saussure\n",
      "Sapir\n",
      "Whorf\n"
     ]
    }
   ],
   "source": [
    "for num, val in enumerate(born):\n",
    "    if val < 1900:\n",
    "        print(linguists[num])\n",
    "        "
   ]
  },
  {
   "cell_type": "code",
   "execution_count": 79,
   "id": "af0c8e6a",
   "metadata": {},
   "outputs": [
    {
     "name": "stdout",
     "output_type": "stream",
     "text": [
      "Linguists born in the 19th century: ['Saussure', 'Sapir', 'Whorf']\n",
      "Linguists born in the 20th century: ['McGregor', 'Chomsky', 'Tomasello', 'Bickerton']\n"
     ]
    }
   ],
   "source": [
    "before_1900 = []\n",
    "after_1900 = []\n",
    "for num, val in enumerate(born):\n",
    "    if val < 1900:\n",
    "        before_1900.append(linguists[num])\n",
    "    if val >= 1900:\n",
    "        after_1900.append(linguists[num])\n",
    "print('Linguists born in the 19th century:', before_1900)\n",
    "print('Linguists born in the 20th century:', after_1900)"
   ]
  },
  {
   "cell_type": "code",
   "execution_count": 95,
   "id": "b15a9957",
   "metadata": {},
   "outputs": [
    {
     "name": "stdout",
     "output_type": "stream",
     "text": [
      "Linguists born in the 19th century: Saussure, Sapir, Whorf\n",
      "Linguists born in the 20th century: McGregor, Chomsky, Tomasello, Bickerton\n"
     ]
    }
   ],
   "source": [
    "before_1900 = []\n",
    "after_1900 = []\n",
    "for num, val in enumerate(born):\n",
    "    if val < 1900:\n",
    "        before_1900.append(linguists[num])\n",
    "    if val >= 1900:\n",
    "        after_1900.append(linguists[num])\n",
    "print('Linguists born in the 19th century:', ', '.join(before_1900))\n",
    "print('Linguists born in the 20th century:', ', '.join(after_1900))"
   ]
  },
  {
   "cell_type": "code",
   "execution_count": 96,
   "id": "d41c9617",
   "metadata": {},
   "outputs": [
    {
     "data": {
      "text/plain": [
       "['Saussure', 'Sapir', 'Whorf', '']"
      ]
     },
     "execution_count": 96,
     "metadata": {},
     "output_type": "execute_result"
    }
   ],
   "source": [
    "difference = len(after_1900) - len(before_1900)\n",
    "before_1900.append('' * difference)\n",
    "before_1900 "
   ]
  },
  {
   "cell_type": "code",
   "execution_count": 97,
   "id": "73aa6a2e",
   "metadata": {},
   "outputs": [
    {
     "data": {
      "text/html": [
       "<div>\n",
       "<style scoped>\n",
       "    .dataframe tbody tr th:only-of-type {\n",
       "        vertical-align: middle;\n",
       "    }\n",
       "\n",
       "    .dataframe tbody tr th {\n",
       "        vertical-align: top;\n",
       "    }\n",
       "\n",
       "    .dataframe thead th {\n",
       "        text-align: right;\n",
       "    }\n",
       "</style>\n",
       "<table border=\"1\" class=\"dataframe\">\n",
       "  <thead>\n",
       "    <tr style=\"text-align: right;\">\n",
       "      <th></th>\n",
       "      <th>19th century linguists</th>\n",
       "      <th>20th century linguists</th>\n",
       "    </tr>\n",
       "  </thead>\n",
       "  <tbody>\n",
       "    <tr>\n",
       "      <th>0</th>\n",
       "      <td>Saussure</td>\n",
       "      <td>McGregor</td>\n",
       "    </tr>\n",
       "    <tr>\n",
       "      <th>1</th>\n",
       "      <td>Sapir</td>\n",
       "      <td>Chomsky</td>\n",
       "    </tr>\n",
       "    <tr>\n",
       "      <th>2</th>\n",
       "      <td>Whorf</td>\n",
       "      <td>Tomasello</td>\n",
       "    </tr>\n",
       "    <tr>\n",
       "      <th>3</th>\n",
       "      <td></td>\n",
       "      <td>Bickerton</td>\n",
       "    </tr>\n",
       "  </tbody>\n",
       "</table>\n",
       "</div>"
      ],
      "text/plain": [
       "  19th century linguists 20th century linguists\n",
       "0               Saussure               McGregor\n",
       "1                  Sapir                Chomsky\n",
       "2                  Whorf              Tomasello\n",
       "3                                     Bickerton"
      ]
     },
     "execution_count": 97,
     "metadata": {},
     "output_type": "execute_result"
    }
   ],
   "source": [
    "df_linguists = pd.DataFrame({'19th century linguists': before_1900,\n",
    "                            '20th century linguists': after_1900})\n",
    "df_linguists"
   ]
  },
  {
   "cell_type": "markdown",
   "id": "965973b1",
   "metadata": {},
   "source": [
    "## input()"
   ]
  },
  {
   "cell_type": "code",
   "execution_count": 98,
   "id": "3941d8a6",
   "metadata": {},
   "outputs": [
    {
     "name": "stdout",
     "output_type": "stream",
     "text": [
      "What is your name? Superman\n",
      "Cool name!\n"
     ]
    }
   ],
   "source": [
    "name = input(\"What is your name? \")\n",
    "print(\"Cool name!\")"
   ]
  },
  {
   "cell_type": "code",
   "execution_count": 99,
   "id": "833d517a",
   "metadata": {},
   "outputs": [
    {
     "name": "stdout",
     "output_type": "stream",
     "text": [
      "What is your name? Wonder Woman\n",
      "Hmm, too bad your name is not Superman.\n"
     ]
    }
   ],
   "source": [
    "name = input(\"What is your name? \")\n",
    "if name == \"Superman\":\n",
    "    print(\"Cool name!!\")\n",
    "else:\n",
    "    print(\"Hmm, too bad your name is not Superman.\")"
   ]
  },
  {
   "cell_type": "code",
   "execution_count": 100,
   "id": "87a71489",
   "metadata": {},
   "outputs": [
    {
     "name": "stdout",
     "output_type": "stream",
     "text": [
      "How many days do you want to plan? 2\n",
      "Please enter a day name you want to plan for.. Monday\n",
      "Please enter a day name you want to plan for.. Tuesday\n"
     ]
    }
   ],
   "source": [
    "days = []\n",
    "num_days = input(\"How many days do you want to plan? \")\n",
    "while len(days) < int(num_days):\n",
    "    day = input(\"Please enter a day name you want to plan for.. \")\n",
    "    days.append(day)"
   ]
  },
  {
   "cell_type": "code",
   "execution_count": 101,
   "id": "cc5b6676",
   "metadata": {},
   "outputs": [
    {
     "data": {
      "text/plain": [
       "['Monday', 'Tuesday']"
      ]
     },
     "execution_count": 101,
     "metadata": {},
     "output_type": "execute_result"
    }
   ],
   "source": [
    "days"
   ]
  },
  {
   "cell_type": "code",
   "execution_count": 102,
   "id": "4a25fd4b",
   "metadata": {},
   "outputs": [
    {
     "name": "stdout",
     "output_type": "stream",
     "text": [
      "Enter a day name. If you are done, write \"done\". Monday\n",
      "Enter a day name. If you are done, write \"done\". Tuesday\n",
      "Enter a day name. If you are done, write \"done\". Wednesday\n",
      "Enter a day name. If you are done, write \"done\". done\n"
     ]
    }
   ],
   "source": [
    "days = []\n",
    "temp = \"\"\n",
    "while temp != \"done\":\n",
    "    temp = input(\"Enter a day name. If you are done, write \\\"done\\\". \")\n",
    "    if temp != \"done\":\n",
    "        days.append(temp)"
   ]
  },
  {
   "cell_type": "code",
   "execution_count": 103,
   "id": "57d56a83",
   "metadata": {},
   "outputs": [
    {
     "data": {
      "text/plain": [
       "['Monday', 'Tuesday', 'Wednesday']"
      ]
     },
     "execution_count": 103,
     "metadata": {},
     "output_type": "execute_result"
    }
   ],
   "source": [
    "days"
   ]
  },
  {
   "cell_type": "code",
   "execution_count": null,
   "id": "b8f1fe1f",
   "metadata": {},
   "outputs": [],
   "source": []
  }
 ],
 "metadata": {
  "kernelspec": {
   "display_name": "Python 3 (ipykernel)",
   "language": "python",
   "name": "python3"
  },
  "language_info": {
   "codemirror_mode": {
    "name": "ipython",
    "version": 3
   },
   "file_extension": ".py",
   "mimetype": "text/x-python",
   "name": "python",
   "nbconvert_exporter": "python",
   "pygments_lexer": "ipython3",
   "version": "3.9.12"
  }
 },
 "nbformat": 4,
 "nbformat_minor": 5
}
