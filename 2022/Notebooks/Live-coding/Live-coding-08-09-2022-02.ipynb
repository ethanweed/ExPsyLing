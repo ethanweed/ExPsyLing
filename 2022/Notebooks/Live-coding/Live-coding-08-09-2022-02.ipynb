{
 "cells": [
  {
   "cell_type": "markdown",
   "id": "960e6349",
   "metadata": {},
   "source": [
    "# Variables and variable types\n",
    "\n",
    "## \"Regular\" variables\n",
    "\n",
    "1. strings\n",
    "1. integers\n",
    "1. floats\n",
    "\n",
    "## \"Collection\" variables\n",
    "\n",
    "1. tuples\n",
    "1. lists\n",
    "1. sets\n",
    "1. dictionaries"
   ]
  },
  {
   "cell_type": "code",
   "execution_count": 3,
   "id": "f97b8897",
   "metadata": {},
   "outputs": [
    {
     "data": {
      "text/plain": [
       "'I am a string'"
      ]
     },
     "execution_count": 3,
     "metadata": {},
     "output_type": "execute_result"
    }
   ],
   "source": [
    "mystring = \"I am a string\"\n",
    "mystring"
   ]
  },
  {
   "cell_type": "code",
   "execution_count": 4,
   "id": "7886ce7a",
   "metadata": {},
   "outputs": [
    {
     "data": {
      "text/plain": [
       "3"
      ]
     },
     "execution_count": 4,
     "metadata": {},
     "output_type": "execute_result"
    }
   ],
   "source": [
    "myint = 3\n",
    "myint"
   ]
  },
  {
   "cell_type": "code",
   "execution_count": 12,
   "id": "d0cf8a11",
   "metadata": {},
   "outputs": [
    {
     "data": {
      "text/plain": [
       "'I am cool! 2'"
      ]
     },
     "execution_count": 12,
     "metadata": {},
     "output_type": "execute_result"
    }
   ],
   "source": [
    "x = \"I am cool! \"\n",
    "y = \"2\"\n",
    "x+y"
   ]
  },
  {
   "cell_type": "code",
   "execution_count": 13,
   "id": "0fae0e35",
   "metadata": {},
   "outputs": [
    {
     "data": {
      "text/plain": [
       "'I am cool! I am cool! I am cool! I am cool! I am cool! '"
      ]
     },
     "execution_count": 13,
     "metadata": {},
     "output_type": "execute_result"
    }
   ],
   "source": [
    "x*5"
   ]
  },
  {
   "cell_type": "code",
   "execution_count": 15,
   "id": "13cf88da",
   "metadata": {},
   "outputs": [],
   "source": [
    "myfloat = 1/2"
   ]
  },
  {
   "cell_type": "code",
   "execution_count": 16,
   "id": "39b64e5c",
   "metadata": {},
   "outputs": [
    {
     "data": {
      "text/plain": [
       "0.5"
      ]
     },
     "execution_count": 16,
     "metadata": {},
     "output_type": "execute_result"
    }
   ],
   "source": [
    "myfloat"
   ]
  },
  {
   "cell_type": "code",
   "execution_count": 17,
   "id": "99e85e1a",
   "metadata": {},
   "outputs": [
    {
     "data": {
      "text/plain": [
       "int"
      ]
     },
     "execution_count": 17,
     "metadata": {},
     "output_type": "execute_result"
    }
   ],
   "source": [
    "type(myint)"
   ]
  },
  {
   "cell_type": "code",
   "execution_count": 22,
   "id": "cb48991d",
   "metadata": {},
   "outputs": [],
   "source": [
    "prices = [32.4, 54.1]"
   ]
  },
  {
   "cell_type": "code",
   "execution_count": 26,
   "id": "3116eb59",
   "metadata": {},
   "outputs": [
    {
     "data": {
      "text/plain": [
       "['apples', 'oranges', 'grapes']"
      ]
     },
     "execution_count": 26,
     "metadata": {},
     "output_type": "execute_result"
    }
   ],
   "source": [
    "mylist = [\"apples\", \"oranges\", \"grapes\"]\n",
    "mylist"
   ]
  },
  {
   "cell_type": "code",
   "execution_count": 24,
   "id": "9db4aec9",
   "metadata": {},
   "outputs": [
    {
     "data": {
      "text/plain": [
       "['apples', 'oranges', [32.4, 54.1], 32.4, 54.1]"
      ]
     },
     "execution_count": 24,
     "metadata": {},
     "output_type": "execute_result"
    }
   ],
   "source": [
    "mylist + prices"
   ]
  },
  {
   "cell_type": "code",
   "execution_count": 25,
   "id": "442649a6",
   "metadata": {},
   "outputs": [
    {
     "data": {
      "text/plain": [
       "list"
      ]
     },
     "execution_count": 25,
     "metadata": {},
     "output_type": "execute_result"
    }
   ],
   "source": [
    "type(mylist)"
   ]
  },
  {
   "cell_type": "code",
   "execution_count": 27,
   "id": "951043b7",
   "metadata": {},
   "outputs": [
    {
     "data": {
      "text/plain": [
       "['apples', 'oranges', 'grapes']"
      ]
     },
     "execution_count": 27,
     "metadata": {},
     "output_type": "execute_result"
    }
   ],
   "source": [
    "mylist"
   ]
  },
  {
   "cell_type": "code",
   "execution_count": 33,
   "id": "c39e6569",
   "metadata": {},
   "outputs": [
    {
     "data": {
      "text/plain": [
       "'oranges'"
      ]
     },
     "execution_count": 33,
     "metadata": {},
     "output_type": "execute_result"
    }
   ],
   "source": [
    "mylist[1]"
   ]
  },
  {
   "cell_type": "code",
   "execution_count": 34,
   "id": "e1977070",
   "metadata": {},
   "outputs": [
    {
     "data": {
      "text/plain": [
       "'grapes'"
      ]
     },
     "execution_count": 34,
     "metadata": {},
     "output_type": "execute_result"
    }
   ],
   "source": [
    "mylist[-1]"
   ]
  },
  {
   "cell_type": "code",
   "execution_count": 37,
   "id": "ea7fa00d",
   "metadata": {},
   "outputs": [
    {
     "data": {
      "text/plain": [
       "['apples', 'pickles', 'grapes']"
      ]
     },
     "execution_count": 37,
     "metadata": {},
     "output_type": "execute_result"
    }
   ],
   "source": [
    "mylist"
   ]
  },
  {
   "cell_type": "code",
   "execution_count": 36,
   "id": "e5a59683",
   "metadata": {},
   "outputs": [],
   "source": [
    "mylist[1] = \"pickles\""
   ]
  },
  {
   "cell_type": "code",
   "execution_count": 38,
   "id": "3496f56a",
   "metadata": {},
   "outputs": [
    {
     "data": {
      "text/plain": [
       "('apples', 'oranges', 'grapes')"
      ]
     },
     "execution_count": 38,
     "metadata": {},
     "output_type": "execute_result"
    }
   ],
   "source": [
    "mytuple = (\"apples\", \"oranges\", \"grapes\")\n",
    "mytuple"
   ]
  },
  {
   "cell_type": "code",
   "execution_count": 39,
   "id": "949c34ae",
   "metadata": {},
   "outputs": [
    {
     "ename": "TypeError",
     "evalue": "'tuple' object does not support item assignment",
     "output_type": "error",
     "traceback": [
      "\u001b[0;31m---------------------------------------------------------------------------\u001b[0m",
      "\u001b[0;31mTypeError\u001b[0m                                 Traceback (most recent call last)",
      "Input \u001b[0;32mIn [39]\u001b[0m, in \u001b[0;36m<cell line: 1>\u001b[0;34m()\u001b[0m\n\u001b[0;32m----> 1\u001b[0m \u001b[43mmytuple\u001b[49m\u001b[43m[\u001b[49m\u001b[38;5;241;43m1\u001b[39;49m\u001b[43m]\u001b[49m \u001b[38;5;241m=\u001b[39m \u001b[38;5;124m\"\u001b[39m\u001b[38;5;124mpickles\u001b[39m\u001b[38;5;124m\"\u001b[39m\n",
      "\u001b[0;31mTypeError\u001b[0m: 'tuple' object does not support item assignment"
     ]
    }
   ],
   "source": [
    "mytuple[1] = \"pickles\""
   ]
  },
  {
   "cell_type": "code",
   "execution_count": 53,
   "id": "fe0ea67e",
   "metadata": {},
   "outputs": [],
   "source": [
    "sentence = \"It was a dark and stormy morning and the cat was a dog\""
   ]
  },
  {
   "cell_type": "code",
   "execution_count": 41,
   "id": "23576c60",
   "metadata": {},
   "outputs": [
    {
     "data": {
      "text/plain": [
       "str"
      ]
     },
     "execution_count": 41,
     "metadata": {},
     "output_type": "execute_result"
    }
   ],
   "source": [
    "type(sentence)"
   ]
  },
  {
   "cell_type": "code",
   "execution_count": 42,
   "id": "9db9a5ac",
   "metadata": {},
   "outputs": [
    {
     "data": {
      "text/plain": [
       "32"
      ]
     },
     "execution_count": 42,
     "metadata": {},
     "output_type": "execute_result"
    }
   ],
   "source": [
    "len(sentence)"
   ]
  },
  {
   "cell_type": "code",
   "execution_count": 43,
   "id": "44c092a2",
   "metadata": {},
   "outputs": [
    {
     "data": {
      "text/plain": [
       "{' ', 'I', 'a', 'd', 'g', 'i', 'k', 'm', 'n', 'o', 'r', 's', 't', 'w', 'y'}"
      ]
     },
     "execution_count": 43,
     "metadata": {},
     "output_type": "execute_result"
    }
   ],
   "source": [
    "set(sentence)"
   ]
  },
  {
   "cell_type": "code",
   "execution_count": 54,
   "id": "547a4620",
   "metadata": {},
   "outputs": [],
   "source": [
    "words = sentence.split()"
   ]
  },
  {
   "cell_type": "code",
   "execution_count": 58,
   "id": "cd34a1be",
   "metadata": {},
   "outputs": [
    {
     "data": {
      "text/plain": [
       "13"
      ]
     },
     "execution_count": 58,
     "metadata": {},
     "output_type": "execute_result"
    }
   ],
   "source": [
    "len(words)"
   ]
  },
  {
   "cell_type": "code",
   "execution_count": 57,
   "id": "28a99eb6",
   "metadata": {},
   "outputs": [
    {
     "data": {
      "text/plain": [
       "10"
      ]
     },
     "execution_count": 57,
     "metadata": {},
     "output_type": "execute_result"
    }
   ],
   "source": [
    "len(set(words))"
   ]
  },
  {
   "cell_type": "code",
   "execution_count": 73,
   "id": "8e8a35ee",
   "metadata": {},
   "outputs": [],
   "source": [
    "text1 = \"It was a dark and stormy night. The rain beat down on the roof.\"\n",
    "text2 = \"I ate a bean. I ate a fig. I drank a soda.\""
   ]
  },
  {
   "cell_type": "code",
   "execution_count": 74,
   "id": "1e78569b",
   "metadata": {},
   "outputs": [
    {
     "name": "stdout",
     "output_type": "stream",
     "text": [
      "It was a dark and stormy night. The rain beat down on the roof.I ate a bean. I ate a fig. I drank a soda.\n"
     ]
    }
   ],
   "source": [
    "textcombined = text1 + text2\n",
    "print(textcombined)"
   ]
  },
  {
   "cell_type": "code",
   "execution_count": 88,
   "id": "da66efb5",
   "metadata": {},
   "outputs": [
    {
     "name": "stdout",
     "output_type": "stream",
     "text": [
      "0.9285714285714286\n",
      "0.5833333333333334\n"
     ]
    }
   ],
   "source": [
    "text1 = \"It was a dark and stormy night. The rain beat down on the roof.\"\n",
    "text1 = text1.lower()\n",
    "\n",
    "text2 = \"I ate a bean. I ate a fig. I drank a soda.\"\n",
    "text2 = text2.lower()\n",
    "\n",
    "text1list = text1.split()\n",
    "text1set = set(text1list)\n",
    "vocab_richness_1 = len(text1set) / len(text1list)\n",
    "\n",
    "\n",
    "text2list = text2.split()\n",
    "text2set = set(text2list)\n",
    "vocab_richness_2 = len(text2set) / len(text2list)\n",
    "\n",
    "print(vocab_richness_1)\n",
    "print(vocab_richness_2)"
   ]
  },
  {
   "cell_type": "code",
   "execution_count": 78,
   "id": "fe02d7a9",
   "metadata": {},
   "outputs": [
    {
     "data": {
      "text/plain": [
       "{1, 2, 3}"
      ]
     },
     "execution_count": 78,
     "metadata": {},
     "output_type": "execute_result"
    }
   ],
   "source": []
  },
  {
   "cell_type": "code",
   "execution_count": 80,
   "id": "768aeca3",
   "metadata": {},
   "outputs": [],
   "source": [
    "text1 = \"It was a dark and stormy night. The rain beat down on the roof.\""
   ]
  },
  {
   "cell_type": "code",
   "execution_count": 82,
   "id": "ab88ec22",
   "metadata": {},
   "outputs": [
    {
     "data": {
      "text/plain": [
       "'it was a dark and stormy night. the rain beat down on the roof.'"
      ]
     },
     "execution_count": 82,
     "metadata": {},
     "output_type": "execute_result"
    }
   ],
   "source": [
    "text1.lower()"
   ]
  },
  {
   "cell_type": "code",
   "execution_count": 89,
   "id": "f4bbd8a7",
   "metadata": {},
   "outputs": [],
   "source": [
    "mylist = []"
   ]
  },
  {
   "cell_type": "code",
   "execution_count": null,
   "id": "5f78152f",
   "metadata": {},
   "outputs": [],
   "source": []
  }
 ],
 "metadata": {
  "kernelspec": {
   "display_name": "Python 3 (ipykernel)",
   "language": "python",
   "name": "python3"
  },
  "language_info": {
   "codemirror_mode": {
    "name": "ipython",
    "version": 3
   },
   "file_extension": ".py",
   "mimetype": "text/x-python",
   "name": "python",
   "nbconvert_exporter": "python",
   "pygments_lexer": "ipython3",
   "version": "3.9.12"
  }
 },
 "nbformat": 4,
 "nbformat_minor": 5
}
