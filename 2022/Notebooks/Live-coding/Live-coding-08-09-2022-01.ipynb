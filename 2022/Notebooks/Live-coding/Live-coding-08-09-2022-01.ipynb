{
 "cells": [
  {
   "cell_type": "markdown",
   "id": "abf90e56",
   "metadata": {},
   "source": [
    "# Variables and variable types\n",
    "\n",
    "## \"Regular\" variables\n",
    "\n",
    "1. strings\n",
    "1. integers\n",
    "1. floats\n",
    "\n",
    "## \"Collection\" variables\n",
    "\n",
    "1. tuples\n",
    "1. lists\n",
    "1. sets\n",
    "1. dictionaries"
   ]
  },
  {
   "cell_type": "code",
   "execution_count": 1,
   "id": "994ce58f",
   "metadata": {},
   "outputs": [
    {
     "data": {
      "text/plain": [
       "'I am a sting!'"
      ]
     },
     "execution_count": 1,
     "metadata": {},
     "output_type": "execute_result"
    }
   ],
   "source": [
    "mystring = 'I am a sting!'\n",
    "mystring"
   ]
  },
  {
   "cell_type": "code",
   "execution_count": 2,
   "id": "952b3301",
   "metadata": {},
   "outputs": [
    {
     "data": {
      "text/plain": [
       "4"
      ]
     },
     "execution_count": 2,
     "metadata": {},
     "output_type": "execute_result"
    }
   ],
   "source": [
    "myint = 4\n",
    "myint"
   ]
  },
  {
   "cell_type": "code",
   "execution_count": 7,
   "id": "2cd8c293",
   "metadata": {},
   "outputs": [
    {
     "data": {
      "text/plain": [
       "4.0"
      ]
     },
     "execution_count": 7,
     "metadata": {},
     "output_type": "execute_result"
    }
   ],
   "source": [
    "myfloat = 4.0\n",
    "myfloat"
   ]
  },
  {
   "cell_type": "code",
   "execution_count": 4,
   "id": "b8db47f7",
   "metadata": {},
   "outputs": [
    {
     "data": {
      "text/plain": [
       "str"
      ]
     },
     "execution_count": 4,
     "metadata": {},
     "output_type": "execute_result"
    }
   ],
   "source": [
    "type(mystring)"
   ]
  },
  {
   "cell_type": "code",
   "execution_count": 5,
   "id": "cff5c2be",
   "metadata": {},
   "outputs": [
    {
     "data": {
      "text/plain": [
       "int"
      ]
     },
     "execution_count": 5,
     "metadata": {},
     "output_type": "execute_result"
    }
   ],
   "source": [
    "type(myint)"
   ]
  },
  {
   "cell_type": "code",
   "execution_count": 8,
   "id": "b7558285",
   "metadata": {},
   "outputs": [
    {
     "data": {
      "text/plain": [
       "float"
      ]
     },
     "execution_count": 8,
     "metadata": {},
     "output_type": "execute_result"
    }
   ],
   "source": [
    "type(myfloat)"
   ]
  },
  {
   "cell_type": "code",
   "execution_count": 9,
   "id": "4423d4f3",
   "metadata": {},
   "outputs": [
    {
     "data": {
      "text/plain": [
       "True"
      ]
     },
     "execution_count": 9,
     "metadata": {},
     "output_type": "execute_result"
    }
   ],
   "source": [
    "myint == myfloat"
   ]
  },
  {
   "cell_type": "code",
   "execution_count": 14,
   "id": "eb42cbf4",
   "metadata": {},
   "outputs": [],
   "source": [
    "mylist = [\"apples\", \"oranges\", 3, myfloat]"
   ]
  },
  {
   "cell_type": "code",
   "execution_count": 15,
   "id": "0ba1e037",
   "metadata": {},
   "outputs": [
    {
     "data": {
      "text/plain": [
       "['apples', 'oranges', 3, 4.0]"
      ]
     },
     "execution_count": 15,
     "metadata": {},
     "output_type": "execute_result"
    }
   ],
   "source": [
    "mylist"
   ]
  },
  {
   "cell_type": "code",
   "execution_count": 16,
   "id": "ebfa6ecb",
   "metadata": {},
   "outputs": [],
   "source": [
    "myotherlist = [\"apples\", mylist]"
   ]
  },
  {
   "cell_type": "code",
   "execution_count": 17,
   "id": "61329deb",
   "metadata": {},
   "outputs": [
    {
     "data": {
      "text/plain": [
       "['apples', ['apples', 'oranges', 3, 4.0]]"
      ]
     },
     "execution_count": 17,
     "metadata": {},
     "output_type": "execute_result"
    }
   ],
   "source": [
    "myotherlist"
   ]
  },
  {
   "cell_type": "code",
   "execution_count": 18,
   "id": "40c73670",
   "metadata": {},
   "outputs": [
    {
     "data": {
      "text/plain": [
       "['apples', 'oranges', 3, 4.0]"
      ]
     },
     "execution_count": 18,
     "metadata": {},
     "output_type": "execute_result"
    }
   ],
   "source": [
    "mylist"
   ]
  },
  {
   "cell_type": "code",
   "execution_count": 19,
   "id": "4e7e6654",
   "metadata": {},
   "outputs": [
    {
     "data": {
      "text/plain": [
       "'oranges'"
      ]
     },
     "execution_count": 19,
     "metadata": {},
     "output_type": "execute_result"
    }
   ],
   "source": [
    "mylist[1]"
   ]
  },
  {
   "cell_type": "code",
   "execution_count": 20,
   "id": "8b7b2253",
   "metadata": {},
   "outputs": [
    {
     "data": {
      "text/plain": [
       "4.0"
      ]
     },
     "execution_count": 20,
     "metadata": {},
     "output_type": "execute_result"
    }
   ],
   "source": [
    "mylist[-1]"
   ]
  },
  {
   "cell_type": "code",
   "execution_count": 21,
   "id": "53ae989a",
   "metadata": {},
   "outputs": [],
   "source": [
    "mylist[0] = \"grapes\""
   ]
  },
  {
   "cell_type": "code",
   "execution_count": 22,
   "id": "df97fb75",
   "metadata": {},
   "outputs": [
    {
     "data": {
      "text/plain": [
       "['grapes', 'oranges', 3, 4.0]"
      ]
     },
     "execution_count": 22,
     "metadata": {},
     "output_type": "execute_result"
    }
   ],
   "source": [
    "mylist"
   ]
  },
  {
   "cell_type": "code",
   "execution_count": 23,
   "id": "0e7b7165",
   "metadata": {},
   "outputs": [],
   "source": [
    "mytuple = (\"cats\", \"dogs\", \"horses\")\n",
    "mylist = [\"cats\", \"dogs\", \"horses\"]"
   ]
  },
  {
   "cell_type": "code",
   "execution_count": 24,
   "id": "466940ce",
   "metadata": {},
   "outputs": [
    {
     "data": {
      "text/plain": [
       "['cats', 'pigs', 'horses']"
      ]
     },
     "execution_count": 24,
     "metadata": {},
     "output_type": "execute_result"
    }
   ],
   "source": [
    "mylist[1] = \"pigs\"\n",
    "mylist"
   ]
  },
  {
   "cell_type": "code",
   "execution_count": 25,
   "id": "b23c6c90",
   "metadata": {},
   "outputs": [
    {
     "data": {
      "text/plain": [
       "('cats', 'dogs', 'horses')"
      ]
     },
     "execution_count": 25,
     "metadata": {},
     "output_type": "execute_result"
    }
   ],
   "source": [
    "mytuple"
   ]
  },
  {
   "cell_type": "code",
   "execution_count": 27,
   "id": "215330ae",
   "metadata": {},
   "outputs": [
    {
     "ename": "TypeError",
     "evalue": "'tuple' object does not support item assignment",
     "output_type": "error",
     "traceback": [
      "\u001b[0;31m---------------------------------------------------------------------------\u001b[0m",
      "\u001b[0;31mTypeError\u001b[0m                                 Traceback (most recent call last)",
      "Input \u001b[0;32mIn [27]\u001b[0m, in \u001b[0;36m<cell line: 1>\u001b[0;34m()\u001b[0m\n\u001b[0;32m----> 1\u001b[0m \u001b[43mmytuple\u001b[49m\u001b[43m[\u001b[49m\u001b[38;5;241;43m1\u001b[39;49m\u001b[43m]\u001b[49m \u001b[38;5;241m=\u001b[39m \u001b[38;5;124m\"\u001b[39m\u001b[38;5;124mpigs\u001b[39m\u001b[38;5;124m\"\u001b[39m\n",
      "\u001b[0;31mTypeError\u001b[0m: 'tuple' object does not support item assignment"
     ]
    }
   ],
   "source": [
    "mytuple[1] = \"pigs\""
   ]
  },
  {
   "cell_type": "code",
   "execution_count": 28,
   "id": "3f6f58e6",
   "metadata": {},
   "outputs": [
    {
     "data": {
      "text/plain": [
       "'I am a sting!'"
      ]
     },
     "execution_count": 28,
     "metadata": {},
     "output_type": "execute_result"
    }
   ],
   "source": [
    "mystring"
   ]
  },
  {
   "cell_type": "code",
   "execution_count": 29,
   "id": "dc8a0eb4",
   "metadata": {},
   "outputs": [
    {
     "data": {
      "text/plain": [
       "{' ', '!', 'I', 'a', 'g', 'i', 'm', 'n', 's', 't'}"
      ]
     },
     "execution_count": 29,
     "metadata": {},
     "output_type": "execute_result"
    }
   ],
   "source": [
    "set(mystring)"
   ]
  },
  {
   "cell_type": "code",
   "execution_count": 30,
   "id": "ce1f3613",
   "metadata": {},
   "outputs": [],
   "source": [
    "mystring = \"I am Sam Sam am I am\""
   ]
  },
  {
   "cell_type": "code",
   "execution_count": 35,
   "id": "aa8f28f8",
   "metadata": {},
   "outputs": [
    {
     "data": {
      "text/plain": [
       "'I am Sam Sam am I am'"
      ]
     },
     "execution_count": 35,
     "metadata": {},
     "output_type": "execute_result"
    }
   ],
   "source": [
    "mystring"
   ]
  },
  {
   "cell_type": "code",
   "execution_count": 38,
   "id": "3c0d0739",
   "metadata": {},
   "outputs": [
    {
     "data": {
      "text/plain": [
       "['I', 'am', 'Sam', 'Sam', 'am', 'I', 'am']"
      ]
     },
     "execution_count": 38,
     "metadata": {},
     "output_type": "execute_result"
    }
   ],
   "source": [
    "mylist = mystring.split()\n",
    "mylist"
   ]
  },
  {
   "cell_type": "code",
   "execution_count": 40,
   "id": "e3d4a8ba",
   "metadata": {},
   "outputs": [
    {
     "data": {
      "text/plain": [
       "3"
      ]
     },
     "execution_count": 40,
     "metadata": {},
     "output_type": "execute_result"
    }
   ],
   "source": [
    "len(set(mylist))"
   ]
  },
  {
   "cell_type": "code",
   "execution_count": 42,
   "id": "25e0ebc8",
   "metadata": {},
   "outputs": [],
   "source": [
    "text1 = \"It was a dark and stormy night. The rain beat down on the roof of the house, and the cat hid under the bed\"\n",
    "text2 = \"I ate a bean. I ate a fig. I drank a soda.\""
   ]
  },
  {
   "cell_type": "code",
   "execution_count": 50,
   "id": "0faf48ed",
   "metadata": {},
   "outputs": [],
   "source": [
    "textsplit = text1.split()\n",
    "textset = set(textsplit)\n",
    "lentextset = len(textset)\n",
    "vocab_richness_text1 = lentextset / len(textsplit)"
   ]
  },
  {
   "cell_type": "code",
   "execution_count": 52,
   "id": "b43445d8",
   "metadata": {},
   "outputs": [
    {
     "data": {
      "text/plain": [
       "0.8333333333333334"
      ]
     },
     "execution_count": 52,
     "metadata": {},
     "output_type": "execute_result"
    }
   ],
   "source": [
    "vocab_richness_text1"
   ]
  },
  {
   "cell_type": "code",
   "execution_count": 53,
   "id": "1c1f85ca",
   "metadata": {},
   "outputs": [],
   "source": [
    "textsplit = text2.split()\n",
    "textset = set(textsplit)\n",
    "lentextset = len(textset)\n",
    "vocab_richness_text2 = lentextset / len(textsplit)"
   ]
  },
  {
   "cell_type": "code",
   "execution_count": 54,
   "id": "e5ff2786",
   "metadata": {},
   "outputs": [
    {
     "data": {
      "text/plain": [
       "0.5833333333333334"
      ]
     },
     "execution_count": 54,
     "metadata": {},
     "output_type": "execute_result"
    }
   ],
   "source": [
    "vocab_richness_text2"
   ]
  },
  {
   "cell_type": "code",
   "execution_count": null,
   "id": "264e5f51",
   "metadata": {},
   "outputs": [],
   "source": []
  }
 ],
 "metadata": {
  "kernelspec": {
   "display_name": "Python 3 (ipykernel)",
   "language": "python",
   "name": "python3"
  },
  "language_info": {
   "codemirror_mode": {
    "name": "ipython",
    "version": 3
   },
   "file_extension": ".py",
   "mimetype": "text/x-python",
   "name": "python",
   "nbconvert_exporter": "python",
   "pygments_lexer": "ipython3",
   "version": "3.9.12"
  }
 },
 "nbformat": 4,
 "nbformat_minor": 5
}
