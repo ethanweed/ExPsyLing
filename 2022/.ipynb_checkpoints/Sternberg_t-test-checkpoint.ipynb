{
 "cells": [
  {
   "cell_type": "code",
   "execution_count": 52,
   "id": "3b54b064",
   "metadata": {},
   "outputs": [],
   "source": [
    "import pandas as pd\n",
    "import numpy as np\n",
    "import pingouin as pg\n",
    "import seaborn as sns\n",
    "from matplotlib import pyplot as plt\n",
    "\n",
    "sns.set_context(\"notebook\", font_scale=1.5)\n",
    "\n",
    "file = 'https://raw.githubusercontent.com/ethanweed/ExPsyLing/master/datasets/Sternberg/2021/Sternberg_cleaned.csv'\n",
    "\n",
    "data = pd.read_csv(file)\n"
   ]
  },
  {
   "cell_type": "code",
   "execution_count": 53,
   "id": "1407775f",
   "metadata": {},
   "outputs": [
    {
     "data": {
      "text/html": [
       "<div>\n",
       "<style scoped>\n",
       "    .dataframe tbody tr th:only-of-type {\n",
       "        vertical-align: middle;\n",
       "    }\n",
       "\n",
       "    .dataframe tbody tr th {\n",
       "        vertical-align: top;\n",
       "    }\n",
       "\n",
       "    .dataframe thead th {\n",
       "        text-align: right;\n",
       "    }\n",
       "</style>\n",
       "<table border=\"1\" class=\"dataframe\">\n",
       "  <thead>\n",
       "    <tr style=\"text-align: right;\">\n",
       "      <th></th>\n",
       "      <th>setSize</th>\n",
       "      <th>present</th>\n",
       "      <th>id</th>\n",
       "      <th>rt</th>\n",
       "    </tr>\n",
       "  </thead>\n",
       "  <tbody>\n",
       "    <tr>\n",
       "      <th>0</th>\n",
       "      <td>1</td>\n",
       "      <td>n</td>\n",
       "      <td>1</td>\n",
       "      <td>407.000000</td>\n",
       "    </tr>\n",
       "    <tr>\n",
       "      <th>1</th>\n",
       "      <td>1</td>\n",
       "      <td>n</td>\n",
       "      <td>2</td>\n",
       "      <td>848.500000</td>\n",
       "    </tr>\n",
       "    <tr>\n",
       "      <th>2</th>\n",
       "      <td>1</td>\n",
       "      <td>n</td>\n",
       "      <td>3</td>\n",
       "      <td>549.333333</td>\n",
       "    </tr>\n",
       "    <tr>\n",
       "      <th>3</th>\n",
       "      <td>1</td>\n",
       "      <td>n</td>\n",
       "      <td>4</td>\n",
       "      <td>982.333333</td>\n",
       "    </tr>\n",
       "    <tr>\n",
       "      <th>4</th>\n",
       "      <td>1</td>\n",
       "      <td>n</td>\n",
       "      <td>5</td>\n",
       "      <td>568.000000</td>\n",
       "    </tr>\n",
       "  </tbody>\n",
       "</table>\n",
       "</div>"
      ],
      "text/plain": [
       "   setSize present  id          rt\n",
       "0        1       n   1  407.000000\n",
       "1        1       n   2  848.500000\n",
       "2        1       n   3  549.333333\n",
       "3        1       n   4  982.333333\n",
       "4        1       n   5  568.000000"
      ]
     },
     "execution_count": 53,
     "metadata": {},
     "output_type": "execute_result"
    }
   ],
   "source": [
    "data.head()"
   ]
  },
  {
   "cell_type": "code",
   "execution_count": 74,
   "id": "6c9df728",
   "metadata": {},
   "outputs": [
    {
     "data": {
      "text/html": [
       "<div>\n",
       "<style scoped>\n",
       "    .dataframe tbody tr th:only-of-type {\n",
       "        vertical-align: middle;\n",
       "    }\n",
       "\n",
       "    .dataframe tbody tr th {\n",
       "        vertical-align: top;\n",
       "    }\n",
       "\n",
       "    .dataframe thead th {\n",
       "        text-align: right;\n",
       "    }\n",
       "</style>\n",
       "<table border=\"1\" class=\"dataframe\">\n",
       "  <thead>\n",
       "    <tr style=\"text-align: right;\">\n",
       "      <th></th>\n",
       "      <th>present</th>\n",
       "      <th>not_present</th>\n",
       "    </tr>\n",
       "    <tr>\n",
       "      <th>id</th>\n",
       "      <th></th>\n",
       "      <th></th>\n",
       "    </tr>\n",
       "  </thead>\n",
       "  <tbody>\n",
       "    <tr>\n",
       "      <th>1</th>\n",
       "      <td>508.923791</td>\n",
       "      <td>531.404528</td>\n",
       "    </tr>\n",
       "    <tr>\n",
       "      <th>2</th>\n",
       "      <td>932.158333</td>\n",
       "      <td>983.713500</td>\n",
       "    </tr>\n",
       "    <tr>\n",
       "      <th>3</th>\n",
       "      <td>625.247421</td>\n",
       "      <td>634.329594</td>\n",
       "    </tr>\n",
       "    <tr>\n",
       "      <th>4</th>\n",
       "      <td>973.936329</td>\n",
       "      <td>880.637294</td>\n",
       "    </tr>\n",
       "    <tr>\n",
       "      <th>5</th>\n",
       "      <td>634.115741</td>\n",
       "      <td>672.302941</td>\n",
       "    </tr>\n",
       "  </tbody>\n",
       "</table>\n",
       "</div>"
      ],
      "text/plain": [
       "       present  not_present\n",
       "id                         \n",
       "1   508.923791   531.404528\n",
       "2   932.158333   983.713500\n",
       "3   625.247421   634.329594\n",
       "4   973.936329   880.637294\n",
       "5   634.115741   672.302941"
      ]
     },
     "execution_count": 74,
     "metadata": {},
     "output_type": "execute_result"
    }
   ],
   "source": [
    "df_p = data[data['present'] == \"y\"]\n",
    "df_n = data[data['present'] == \"n\"]\n",
    "\n",
    "df = pd.DataFrame({'present': df_p.groupby('id').mean()['rt'],\n",
    "                  'not_present': df_n.groupby('id').mean()['rt']})\n",
    "\n",
    "df.head()"
   ]
  },
  {
   "cell_type": "code",
   "execution_count": 75,
   "id": "355088ce",
   "metadata": {},
   "outputs": [
    {
     "data": {
      "image/png": "[encoded data removed]",
      "text/plain": [
       "<Figure size 1080x360 with 1 Axes>"
      ]
     },
     "metadata": {
      "needs_background": "light"
     },
     "output_type": "display_data"
    }
   ],
   "source": [
    "fig, ax = plt.subplots(figsize=(15, 5))\n",
    "\n",
    "sns.kdeplot(data = df['present'], ax=ax, fill=True, label='present')\n",
    "sns.kdeplot(data = df['not_present'], ax=ax, fill=True, label='not present')\n",
    "\n",
    "plt.axvline(np.mean(df['present']), color = 'blue')\n",
    "plt.axvline(np.mean(df['not_present']), color = 'red')\n",
    "\n",
    "\n",
    "plt.axvline(np.mean(df['present'])-(np.std(df['present'])*2), color = 'blue', linestyle = '--')\n",
    "plt.axvline(np.mean(df['present'])+(np.std(df['present'])*2), color = 'blue', linestyle = '--')\n",
    "\n",
    "plt.axvline(np.mean(df['not_present'])-(np.std(df['not_present'])*2), color = 'red', linestyle = '--')\n",
    "plt.axvline(np.mean(df['not_present'])+(np.std(df['not_present'])*2), color = 'red', linestyle = '--')\n",
    "\n",
    "\n",
    "sns.despine()"
   ]
  },
  {
   "cell_type": "code",
   "execution_count": 76,
   "id": "a8edf34e",
   "metadata": {},
   "outputs": [
    {
     "data": {
      "text/html": [
       "<div>\n",
       "<style scoped>\n",
       "    .dataframe tbody tr th:only-of-type {\n",
       "        vertical-align: middle;\n",
       "    }\n",
       "\n",
       "    .dataframe tbody tr th {\n",
       "        vertical-align: top;\n",
       "    }\n",
       "\n",
       "    .dataframe thead th {\n",
       "        text-align: right;\n",
       "    }\n",
       "</style>\n",
       "<table border=\"1\" class=\"dataframe\">\n",
       "  <thead>\n",
       "    <tr style=\"text-align: right;\">\n",
       "      <th></th>\n",
       "      <th>T</th>\n",
       "      <th>dof</th>\n",
       "      <th>alternative</th>\n",
       "      <th>p-val</th>\n",
       "      <th>CI95%</th>\n",
       "      <th>cohen-d</th>\n",
       "      <th>BF10</th>\n",
       "      <th>power</th>\n",
       "    </tr>\n",
       "  </thead>\n",
       "  <tbody>\n",
       "    <tr>\n",
       "      <th>T-test</th>\n",
       "      <td>-1.957664</td>\n",
       "      <td>20</td>\n",
       "      <td>two-sided</td>\n",
       "      <td>0.06437</td>\n",
       "      <td>[-50.38, 1.6]</td>\n",
       "      <td>0.149927</td>\n",
       "      <td>1.122</td>\n",
       "      <td>0.100349</td>\n",
       "    </tr>\n",
       "  </tbody>\n",
       "</table>\n",
       "</div>"
      ],
      "text/plain": [
       "               T  dof alternative    p-val          CI95%   cohen-d   BF10  \\\n",
       "T-test -1.957664   20   two-sided  0.06437  [-50.38, 1.6]  0.149927  1.122   \n",
       "\n",
       "           power  \n",
       "T-test  0.100349  "
      ]
     },
     "execution_count": 76,
     "metadata": {},
     "output_type": "execute_result"
    }
   ],
   "source": [
    "pg.ttest(df['present'], df['not_present'], paired = True, alternative = 'two-sided')"
   ]
  },
  {
   "cell_type": "code",
   "execution_count": 77,
   "id": "6f2686ad",
   "metadata": {},
   "outputs": [
    {
     "data": {
      "text/plain": [
       "<AxesSubplot:>"
      ]
     },
     "execution_count": 77,
     "metadata": {},
     "output_type": "execute_result"
    },
    {
     "data": {
      "image/png": "[encoded data removed]",
      "text/plain": [
       "<Figure size 432x288 with 1 Axes>"
      ]
     },
     "metadata": {
      "needs_background": "light"
     },
     "output_type": "display_data"
    }
   ],
   "source": [
    "sns.pointplot(data = df)"
   ]
  },
  {
   "cell_type": "code",
   "execution_count": null,
   "id": "3e747ece",
   "metadata": {},
   "outputs": [],
   "source": []
  }
 ],
 "metadata": {
  "kernelspec": {
   "display_name": "Python 3",
   "language": "python",
   "name": "python3"
  },
  "language_info": {
   "codemirror_mode": {
    "name": "ipython",
    "version": 3
   },
   "file_extension": ".py",
   "mimetype": "text/x-python",
   "name": "python",
   "nbconvert_exporter": "python",
   "pygments_lexer": "ipython3",
   "version": "3.7.10"
  }
 },
 "nbformat": 4,
 "nbformat_minor": 5
}
