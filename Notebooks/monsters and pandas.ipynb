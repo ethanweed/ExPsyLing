{
 "cells": [
  {
   "cell_type": "code",
   "execution_count": null,
   "id": "443cb334-0d59-4aac-a261-8f1433e161b1",
   "metadata": {},
   "outputs": [],
   "source": [
    "# to scrape data from wikipedia, we need install the package called lxml\n",
    "# we can do that here from our notebook or, if we think we will use it often, we could modify our \"install_packages\"\n",
    "# shell script to install it automatically each time we start a job in UCloud\n",
    "%pip install lxml\n",
    "\n",
    "# import pandas so we can put data in a nice dataframe\n",
    "# we'll abbreviate pandas as pd, because that's what everybody does\n",
    "import pandas as pd"
   ]
  },
  {
   "cell_type": "markdown",
   "id": "bb4de222-44e1-4518-bd74-4b76682c2633",
   "metadata": {},
   "source": [
    "## Scraping data from the web\n",
    "Using `pandas.read_html`, we can read data from websites where data is presented in a table-like format. Wikipedia has lots of these, and is a great source for data to play with. Below, we'll look at data from the [List of Sesame Street Muppets](https://en.wikipedia.org/wiki/List_of_Sesame_Street_Muppets)"
   ]
  },
  {
   "cell_type": "code",
   "execution_count": null,
   "id": "5f2c640f-1f6d-48ba-b619-27c775a999ac",
   "metadata": {},
   "outputs": [],
   "source": [
    "# scrape table data from websites\n",
    "\n",
    "rawdata = pd.read_html(\"https://en.wikipedia.org/wiki/List_of_Sesame_Street_Muppets\")\n",
    "df = rawdata[1]\n",
    "df"
   ]
  },
  {
   "cell_type": "code",
   "execution_count": null,
   "id": "c2d7a4e2",
   "metadata": {},
   "outputs": [],
   "source": [
    "list(df)"
   ]
  },
  {
   "cell_type": "markdown",
   "id": "c0c33e79",
   "metadata": {},
   "source": [
    "## Removing an unwanted column\n",
    "Below are several ways to get rid of the final column (there are more ways to do this!) If you find the \"axis = 1\" part in the first method confusing, well, I do too, and [we are not alone](https://stackoverflow.com/questions/22149584/what-does-axis-in-pandas-mean)! My advice for now is to just accept it and move on. Probably the easiest method is to use `pop` (method 3)"
   ]
  },
  {
   "cell_type": "code",
   "execution_count": null,
   "id": "3e35bf47",
   "metadata": {},
   "outputs": [],
   "source": [
    "\n",
    "# method 1\n",
    "df = df.drop(['Unnamed: 3'], axis = 1)\n",
    "df"
   ]
  },
  {
   "cell_type": "code",
   "execution_count": null,
   "id": "61f26c38",
   "metadata": {},
   "outputs": [],
   "source": [
    "\n",
    "# method 2\n",
    "df = df.loc[:,list(df)[0:3]] \n",
    "df"
   ]
  },
  {
   "cell_type": "code",
   "execution_count": null,
   "id": "487a997b",
   "metadata": {},
   "outputs": [],
   "source": [
    "# method 3\n",
    "df.pop('Unnamed: 3')\n",
    "df"
   ]
  },
  {
   "cell_type": "code",
   "execution_count": null,
   "id": "55b5a3fd-9925-4b5f-a0c1-d4c8e5e31e8d",
   "metadata": {},
   "outputs": [],
   "source": [
    "# take a column from a dataframe and assign it to a list variable\n"
   ]
  },
  {
   "cell_type": "code",
   "execution_count": null,
   "id": "8cb1c65e-261b-49f2-928a-7c5aa512ccd4",
   "metadata": {},
   "outputs": [],
   "source": [
    "# find the first four items in the list\n"
   ]
  },
  {
   "cell_type": "code",
   "execution_count": null,
   "id": "eff3b26b-7766-454f-b899-4637f87acb3e",
   "metadata": {},
   "outputs": [],
   "source": [
    "# find the last three items in the list\n"
   ]
  },
  {
   "cell_type": "code",
   "execution_count": null,
   "id": "6a28c318-38d8-44f8-9fff-f17eb4a1743b",
   "metadata": {},
   "outputs": [],
   "source": [
    "# find items in the middle of the list\n"
   ]
  },
  {
   "cell_type": "code",
   "execution_count": null,
   "id": "77e93e13-bc56-4402-a087-b71cc05e7de7",
   "metadata": {},
   "outputs": [],
   "source": [
    "# select the first 20 items from a list\n"
   ]
  },
  {
   "cell_type": "code",
   "execution_count": null,
   "id": "d7da6eff-131f-40e3-bbb2-1bb38b4c95a7",
   "metadata": {},
   "outputs": [],
   "source": [
    "# remove the last item in a list\n"
   ]
  },
  {
   "cell_type": "code",
   "execution_count": null,
   "id": "48dcba7c-f68f-402d-adc0-4dee866f76fb",
   "metadata": {},
   "outputs": [],
   "source": [
    "# inpsect the list to make sure the last item was removed\n"
   ]
  },
  {
   "cell_type": "code",
   "execution_count": null,
   "id": "6385cddf",
   "metadata": {},
   "outputs": [],
   "source": [
    "# remove a specific item from the list\n"
   ]
  },
  {
   "cell_type": "code",
   "execution_count": null,
   "id": "39f536a3-c619-42da-8143-22a8d69ed7af",
   "metadata": {},
   "outputs": [],
   "source": [
    "# stick a Kermit on the end of the list"
   ]
  },
  {
   "cell_type": "code",
   "execution_count": null,
   "id": "813f8e19-83ec-419a-b5c9-81cad7fe6200",
   "metadata": {},
   "outputs": [],
   "source": [
    "# inspect the list to make sure Kermit was added\n"
   ]
  },
  {
   "cell_type": "code",
   "execution_count": null,
   "id": "3e46498b-fe8d-4046-ae41-72751a0f779d",
   "metadata": {},
   "outputs": [],
   "source": [
    "# insert an item into a list at a particular position\n"
   ]
  },
  {
   "cell_type": "code",
   "execution_count": null,
   "id": "0630ae1d-d520-471e-be91-4ee57e1b289a",
   "metadata": {},
   "outputs": [],
   "source": [
    "# replace an item in a list\n"
   ]
  },
  {
   "cell_type": "code",
   "execution_count": null,
   "id": "4fe79de9-218b-4bbb-ab17-8461ed5a6ff0",
   "metadata": {},
   "outputs": [],
   "source": [
    "# make a new list which adds \"is a cute monster\" to each item in the list\n"
   ]
  },
  {
   "cell_type": "code",
   "execution_count": null,
   "id": "b589c607-f626-41b8-925b-3e5bb5c65648",
   "metadata": {},
   "outputs": [],
   "source": [
    "# reset list b to original first 20 items from list a\n"
   ]
  },
  {
   "cell_type": "code",
   "execution_count": null,
   "id": "3c684c32-ebd4-464c-9360-5d7de776c949",
   "metadata": {},
   "outputs": [],
   "source": [
    "# make a list of your favorite monsters, and then make a new list which only includes the monsters \n",
    "# from list b that are also in your favorites list\n"
   ]
  },
  {
   "cell_type": "code",
   "execution_count": null,
   "id": "34fe6e55-ffc2-4301-9235-8081338cd1e7",
   "metadata": {},
   "outputs": [],
   "source": [
    "# make a new list which includes the monsters from list b that are not in your favorites list\n",
    "\n",
    "\n"
   ]
  },
  {
   "cell_type": "markdown",
   "id": "34204737",
   "metadata": {},
   "source": [
    "## More fun with lists"
   ]
  },
  {
   "cell_type": "code",
   "execution_count": null,
   "id": "cdc578cc-0789-4ecb-84db-2faffa4e7b1d",
   "metadata": {},
   "outputs": [],
   "source": [
    "# add 10 to each number in d\n"
   ]
  },
  {
   "cell_type": "code",
   "execution_count": null,
   "id": "e0d972db-0713-44cd-9cba-4d82d32b725c",
   "metadata": {},
   "outputs": [],
   "source": [
    "# divide each number in d by 2\n"
   ]
  },
  {
   "cell_type": "markdown",
   "id": "b8fbc6db",
   "metadata": {},
   "source": [
    "## Dataframe manipulation"
   ]
  },
  {
   "cell_type": "code",
   "execution_count": null,
   "id": "99580398-5dcd-449e-9f61-e200d0f13af0",
   "metadata": {},
   "outputs": [],
   "source": [
    "# download the student sleep data\n",
    "df = pd.read_csv(\"https://raw.githubusercontent.com/ethanweed/ExPsyLing/master/Data/StudentSleep.csv\")\n",
    "df"
   ]
  },
  {
   "cell_type": "code",
   "execution_count": null,
   "id": "26dc3edb-632b-4d18-9f02-06c0bfb27355",
   "metadata": {},
   "outputs": [],
   "source": [
    "# find the number of rows and columns in the dataframe\n"
   ]
  },
  {
   "cell_type": "code",
   "execution_count": null,
   "id": "ab0b74e4-14ec-4f77-8cd0-80c06f9da671",
   "metadata": {},
   "outputs": [],
   "source": [
    "# make a new dataframe df1 which only includes the first 4 rows of the original dataframe\n"
   ]
  },
  {
   "cell_type": "code",
   "execution_count": null,
   "id": "520d1003-8f1c-4588-b39a-f597116e9889",
   "metadata": {},
   "outputs": [],
   "source": [
    "# make another new dataframe df2 which only includes rows 5 through the end of the original dataframe\n"
   ]
  },
  {
   "cell_type": "code",
   "execution_count": null,
   "id": "c7a77dbf-e5ea-4d30-ab3d-e2c1a08be22b",
   "metadata": {},
   "outputs": [],
   "source": [
    "# make a third dataframe df3 with df2 on top of df1 (hint: use pd.concat)\n"
   ]
  },
  {
   "cell_type": "code",
   "execution_count": null,
   "id": "098a9132-25ce-43b8-9db0-83812bb8ac2d",
   "metadata": {},
   "outputs": [],
   "source": [
    "# overwrite df3 with df1 and df2 back in their original order\n"
   ]
  },
  {
   "cell_type": "code",
   "execution_count": null,
   "id": "df30707f-fbca-4349-ad7f-4508c7b631d5",
   "metadata": {},
   "outputs": [],
   "source": [
    "# make a new column called \"average\" which is the mean of the other columns for each row\n",
    "df3['average'] = df3.mean(axis = 1)\n",
    "df3"
   ]
  },
  {
   "cell_type": "code",
   "execution_count": null,
   "id": "2caec236-f736-4918-856e-3be7f34d33a8",
   "metadata": {},
   "outputs": [],
   "source": [
    "# remove the average column from the dataframe\n",
    "df3.pop('average')\n",
    "df3"
   ]
  },
  {
   "cell_type": "code",
   "execution_count": null,
   "id": "6e71e2ae-4e53-49ae-a292-2b24b7b2c5f8",
   "metadata": {},
   "outputs": [],
   "source": [
    "# make a list of the means of each column in the dataframe\n",
    "column_means = list(df3.mean())\n",
    "column_means"
   ]
  },
  {
   "cell_type": "code",
   "execution_count": null,
   "id": "1b1bf318-b667-4802-a4e0-38971decce39",
   "metadata": {},
   "outputs": [],
   "source": [
    "# make a list of the means of each row in the dataframe\n",
    "colnames = list(df3)\n",
    "colnames"
   ]
  },
  {
   "cell_type": "code",
   "execution_count": null,
   "id": "fb4fa3d4-7761-4e98-b579-bf46327b6ea5",
   "metadata": {},
   "outputs": [],
   "source": [
    "list(zip(colnames, column_means))"
   ]
  },
  {
   "cell_type": "code",
   "execution_count": null,
   "id": "b6d41143",
   "metadata": {},
   "outputs": [],
   "source": [
    "student_means = dict(zip(colnames, column_means))\n",
    "student_means"
   ]
  },
  {
   "cell_type": "code",
   "execution_count": null,
   "id": "ff5e8649",
   "metadata": {},
   "outputs": [],
   "source": [
    "print('Student 4\\'s average:', round(student_means['Student 4'], 3))"
   ]
  },
  {
   "cell_type": "code",
   "execution_count": null,
   "id": "ba2bc27e-0baf-4da4-97d0-cb22708a474f",
   "metadata": {},
   "outputs": [],
   "source": [
    "# make a dataframe the mean hours of sleep for each student\n",
    "df_means = pd.DataFrame(zip(colnames, column_means))\n",
    "df_means.columns = ['Students', 'Sleep Hours']\n",
    "df_means"
   ]
  },
  {
   "cell_type": "code",
   "execution_count": null,
   "id": "fc814f3a-0a8f-42f9-a02f-1b84a8e271be",
   "metadata": {},
   "outputs": [],
   "source": [
    "# transpose the dataframe\n",
    "df_transposed = df3.transpose()\n",
    "df_transposed"
   ]
  },
  {
   "cell_type": "code",
   "execution_count": null,
   "id": "e7d9d62c-ea87-49c8-b902-a10b9a6e6957",
   "metadata": {},
   "outputs": [],
   "source": [
    "colnames = list(df_transposed)\n",
    "colnames"
   ]
  },
  {
   "cell_type": "code",
   "execution_count": null,
   "id": "255df225-3929-4549-be81-c2e2a2255d98",
   "metadata": {},
   "outputs": [],
   "source": [
    "newcols = ['Day ' + str(x+1) for x in colnames]\n",
    "newcols"
   ]
  },
  {
   "cell_type": "code",
   "execution_count": null,
   "id": "28298144-a4e6-4a91-b317-89e7d98875c7",
   "metadata": {},
   "outputs": [],
   "source": [
    "df_transposed.columns = newcols\n",
    "df_transposed"
   ]
  },
  {
   "cell_type": "code",
   "execution_count": null,
   "id": "d844db6f-2ecd-4cff-8a65-85199946be99",
   "metadata": {},
   "outputs": [],
   "source": [
    "df_transposed.index.name = 'student'\n",
    "df_transposed"
   ]
  },
  {
   "cell_type": "code",
   "execution_count": null,
   "id": "cc0f02fe-a6e5-417a-99c7-6fb0e03681ce",
   "metadata": {},
   "outputs": [],
   "source": [
    "df_transposed.reset_index(inplace = True)\n",
    "df_transposed"
   ]
  },
  {
   "cell_type": "code",
   "execution_count": null,
   "id": "09c3830e-1b7a-48c0-b253-1300f9a6d722",
   "metadata": {},
   "outputs": [],
   "source": [
    "df_long = pd.melt(df_transposed, id_vars = 'student')\n",
    "df_long"
   ]
  },
  {
   "cell_type": "code",
   "execution_count": null,
   "id": "2f8fe670-9c0c-462e-b55c-0f249f213d82",
   "metadata": {},
   "outputs": [],
   "source": []
  },
  {
   "cell_type": "code",
   "execution_count": null,
   "id": "24a4efbb",
   "metadata": {},
   "outputs": [],
   "source": []
  }
 ],
 "metadata": {
  "kernelspec": {
   "display_name": "Python 3 ",
   "language": "python",
   "name": "python3"
  },
  "language_info": {
   "codemirror_mode": {
    "name": "ipython",
    "version": 3
   },
   "file_extension": ".py",
   "mimetype": "text/x-python",
   "name": "python",
   "nbconvert_exporter": "python",
   "pygments_lexer": "ipython3",
   "version": "3.11.3"
  }
 },
 "nbformat": 4,
 "nbformat_minor": 5
}
