{
 "cells": [
  {
   "cell_type": "code",
   "execution_count": 1,
   "id": "f1e6da6a-f878-449f-b2b9-9719eb7675f0",
   "metadata": {},
   "outputs": [
    {
     "name": "stdout",
     "output_type": "stream",
     "text": [
      "github test\n"
     ]
    }
   ],
   "source": [
    "print(\"github test\")"
   ]
  },
  {
   "cell_type": "code",
   "execution_count": null,
   "id": "1aa8e629-6535-4d98-b234-0c61ff25b851",
   "metadata": {},
   "outputs": [],
   "source": []
  }
 ],
 "metadata": {
  "kernelspec": {
   "display_name": "Python 3 ",
   "language": "python",
   "name": "python3"
  },
  "language_info": {
   "codemirror_mode": {
    "name": "ipython",
    "version": 3
   },
   "file_extension": ".py",
   "mimetype": "text/x-python",
   "name": "python",
   "nbconvert_exporter": "python",
   "pygments_lexer": "ipython3",
   "version": "3.10.14"
  }
 },
 "nbformat": 4,
 "nbformat_minor": 5
}
