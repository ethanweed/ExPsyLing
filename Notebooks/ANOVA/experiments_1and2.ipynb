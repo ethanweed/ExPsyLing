{
 "cells": [
  {
   "cell_type": "code",
   "execution_count": null,
   "metadata": {},
   "outputs": [],
   "source": [
    "# remember to pip install any of these that you need. seaborn and pingouin, I think, right?\n",
    "\n",
    "import pandas as pd\n",
    "import seaborn as sns\n",
    "import pingouin as pg\n",
    "from matplotlib import pyplot as plt\n",
    "\n",
    "import warnings\n",
    "warnings.filterwarnings('ignore')"
   ]
  },
  {
   "cell_type": "markdown",
   "metadata": {},
   "source": [
    "# Experiment 1"
   ]
  },
  {
   "cell_type": "code",
   "execution_count": null,
   "metadata": {},
   "outputs": [],
   "source": [
    "df_Ex1 = pd.read_csv('https://raw.githubusercontent.com/ethanweed/ExPsyLing/master/Notebooks/ANOVA/data_Experiment_1.csv')\n",
    "#df_Ex1 = df_Ex1[df_Ex1['duration'] < 1296.708]\n",
    "df_Ex1.head()"
   ]
  },
  {
   "cell_type": "code",
   "execution_count": null,
   "metadata": {},
   "outputs": [],
   "source": [
    "ax = sns.pointplot(data = df_Ex1, x = 'soa_condition', y = 'duration', hue = 'congruence')  # make the plot\n",
    "ax.set(xlabel='Stimulus Onset Asynchrony', ylabel='RT (milliseconds)')                  # give the axes more understandable labels\n",
    "plt.legend(frameon = False)                                                             # remove the box and move the legend so it doesn't obscure the data\n",
    "sns.despine()"
   ]
  },
  {
   "cell_type": "code",
   "execution_count": null,
   "metadata": {},
   "outputs": [],
   "source": [
    "df_Ex1_agg = df_Ex1.groupby(['ID', 'congruence', 'soa_condition']).mean().reset_index()    # get aggregated data (RT means per participant per condition)\n",
    "df_Ex1_agg"
   ]
  },
  {
   "cell_type": "code",
   "execution_count": null,
   "metadata": {},
   "outputs": [],
   "source": [
    "order = ['short', 'long']  \n",
    "ax = sns.boxplot(data = df_Ex1_agg, x = 'soa_condition', y = 'duration', hue = 'congruence', order=order)  # make the plot\n",
    "ax.set(xlabel='Stimulus Onset Asynchrony', ylabel='RT (milliseconds)')                  # give the axes more understandable labels\n",
    "plt.legend(frameon = False)                                                             # remove the box and move the legend so it doesn't obscure the data\n",
    "sns.despine()   "
   ]
  },
  {
   "cell_type": "code",
   "execution_count": null,
   "metadata": {},
   "outputs": [],
   "source": [
    "Q1 = df_Ex1_agg['duration'].quantile(0.25)\n",
    "Q3 = df_Ex1_agg['duration'].quantile(0.75)\n",
    "    \n",
    "IQR = Q3 - Q1\n",
    "\n",
    "print('Q1:', Q1)\n",
    "print('Q3:', Q3)\n",
    "print('IQR:', IQR)\n",
    "print('Outliers:', Q1 - (1.5 * IQR), Q3 + (1.5 * IQR))"
   ]
  },
  {
   "cell_type": "code",
   "execution_count": null,
   "metadata": {},
   "outputs": [],
   "source": [
    "\n",
    "short_cong = df_Ex1_agg.loc[((df_Ex1_agg['soa_condition'] == 'short') & (df_Ex1_agg['congruence'] == 'congruent'))]['duration']\n",
    "short_incong = df_Ex1_agg.loc[((df_Ex1_agg['soa_condition'] == 'short') & (df_Ex1_agg['congruence'] == 'incongruent'))]['duration']\n",
    "\n",
    "print('congruent:', short_cong.mean())\n",
    "print('incongruent:', short_incong.mean())\n",
    "print('difference:', short_incong.mean() - short_cong.mean())\n",
    "\n",
    "pg.ttest(short_cong, short_incong, paired=True)\n"
   ]
  },
  {
   "cell_type": "code",
   "execution_count": null,
   "metadata": {},
   "outputs": [],
   "source": [
    "ax = sns.pointplot(data = df_Ex1, x = 'soa_condition', y = 'duration', hue = 'congruence')  # make the plot\n",
    "ax.set(xlabel='Stimulus Onset Asynchrony', ylabel='RT (milliseconds)')                  # give the axes more understandable labels\n",
    "plt.legend(frameon = False)                                                             # remove the box and move the legend so it doesn't obscure the data\n",
    "sns.despine()"
   ]
  },
  {
   "cell_type": "code",
   "execution_count": null,
   "metadata": {},
   "outputs": [],
   "source": [
    "# Family-wise error rate\n",
    "\n",
    "alpha = 0.05\n",
    "number_of_compairisons = 1\n",
    "\n",
    "fwer = 1-((1-alpha)**number_of_compairisons)\n",
    "print('Family-wise error rate:', round(fwer, 4))"
   ]
  },
  {
   "cell_type": "code",
   "execution_count": null,
   "metadata": {},
   "outputs": [],
   "source": [
    "# Repeated-measures ANOVA\n",
    "# Note! pg.rm_anova wants the FULL dataset, not the aggregated one!\n",
    "\n",
    "pg.rm_anova(data=df_Ex1, dv='duration', within=['congruence', 'soa_condition'], subject='ID').round(2)"
   ]
  },
  {
   "cell_type": "markdown",
   "metadata": {},
   "source": [
    "We conducted a repeated-measures 2-way analysis of variance. There was a significant main effect of congruence (F(1,30) = 12.18, p = 0.0001). There was no main effect of soa length (F(1,30) = 0.23, p = 0.63). There was a significant interaction between congruence and soa length (F(1,30 = 8.26, p = 0.01))."
   ]
  },
  {
   "cell_type": "markdown",
   "metadata": {},
   "source": [
    "# Experiment 2"
   ]
  },
  {
   "cell_type": "code",
   "execution_count": null,
   "metadata": {},
   "outputs": [],
   "source": [
    "import pandas as pd\n",
    "import seaborn as sns\n",
    "import pingouin as pg\n",
    "from matplotlib import pyplot as plt\n",
    "\n",
    "import warnings\n",
    "warnings.filterwarnings('ignore')"
   ]
  },
  {
   "cell_type": "code",
   "execution_count": null,
   "metadata": {},
   "outputs": [],
   "source": [
    "df_Ex2 = pd.read_csv('https://raw.githubusercontent.com/ethanweed/ExPsyLing/master/Notebooks/ANOVA/data_Experiment_2.csv')\n",
    "df_Ex2.head()"
   ]
  },
  {
   "cell_type": "code",
   "execution_count": null,
   "metadata": {},
   "outputs": [],
   "source": [
    "# some preprocessing\n",
    "\n",
    "df = df_Ex2[df_Ex2['sender'] == 'Stimulus']                         # get only rows with RT data\n",
    "df = df[df['correct'] == True]                                      # get only correct responses\n",
    "\n",
    "data = df[['sender', 'url', 'duration', 'condition']].copy()        # get only the columns we need\n",
    "\n",
    "data = data[data['condition'] != 'Filler']                          # remove filler trials\n",
    "\n",
    "data = data[data['duration'] < 2000]                                # remove outliers\n",
    "\n",
    "data_agg = data.groupby(['url', 'condition']).mean().reset_index()    # get aggregated data (RT means per participant per condition)\n",
    "\n",
    "\n",
    "data_agg.head()"
   ]
  },
  {
   "cell_type": "code",
   "execution_count": null,
   "metadata": {},
   "outputs": [],
   "source": [
    "# plot the data\n",
    "\n",
    "order = ['Nonword', 'Unrelated', 'Related']\n",
    "sns.pointplot(data = data_agg, x='condition', y = 'duration', order=order)\n",
    "sns.stripplot(data = data_agg, x='condition', y = 'duration', order=order)"
   ]
  },
  {
   "cell_type": "code",
   "execution_count": null,
   "metadata": {},
   "outputs": [],
   "source": [
    "# remember, pingouin wants the full dataset for ANOVA\n",
    "pg.rm_anova(data = XXX, dv = XXX, within = XXX, subject = XXX)"
   ]
  },
  {
   "cell_type": "code",
   "execution_count": null,
   "metadata": {},
   "outputs": [],
   "source": [
    "# we need the aggregated dataset for t-tests\n",
    "related = data_agg[data_agg['condition'] == 'Related']['duration']\n",
    "unrelated = data_agg[data_agg['condition'] == 'Unrelated']['duration']\n",
    "\n",
    "pg.ttest(related, unrelated, paired=True)"
   ]
  },
  {
   "cell_type": "code",
   "execution_count": null,
   "metadata": {},
   "outputs": [],
   "source": []
  },
  {
   "cell_type": "code",
   "execution_count": null,
   "metadata": {},
   "outputs": [],
   "source": []
  }
 ],
 "metadata": {
  "kernelspec": {
   "display_name": "p",
   "language": "python",
   "name": "python3"
  },
  "language_info": {
   "codemirror_mode": {
    "name": "ipython",
    "version": 3
   },
   "file_extension": ".py",
   "mimetype": "text/x-python",
   "name": "python",
   "nbconvert_exporter": "python",
   "pygments_lexer": "ipython3",
   "version": "3.11.3"
  }
 },
 "nbformat": 4,
 "nbformat_minor": 2
}
