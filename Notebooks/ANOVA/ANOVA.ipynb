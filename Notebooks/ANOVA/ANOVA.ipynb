{
 "cells": [
  {
   "cell_type": "markdown",
   "id": "b2d45867",
   "metadata": {},
   "source": [
    "# ANOVA"
   ]
  },
  {
   "cell_type": "code",
   "execution_count": 2,
   "id": "d6ac4c0a",
   "metadata": {},
   "outputs": [],
   "source": [
    "import pandas as pd\n",
    "import pingouin as pg\n",
    "import seaborn as sns\n",
    "from matplotlib import pyplot as plt\n",
    "\n",
    "import warnings\n",
    "warnings.filterwarnings('ignore')"
   ]
  },
  {
   "cell_type": "markdown",
   "id": "57ec4860",
   "metadata": {},
   "source": [
    "A glass of beer with the head having receded, leaving behind noticeable lacing\n",
    "\n",
    "<img src=\"https://upload.wikimedia.org/wikipedia/commons/thumb/a/a9/Mai_2012_Weißbier.JPG/1920px-Mai_2012_Weißbier.JPG\" width=\"200\"/>\n",
    "\n",
    "Image credit: Mai Weißbier, 2012"
   ]
  },
  {
   "cell_type": "markdown",
   "id": "ba98ac3f",
   "metadata": {},
   "source": [
    "## Beer Head Retention\n",
    "\n",
    "There's nothing like a good foamy head on a cold beer, but [it needs to be just right](https://en.wikipedia.org/wiki/Beer_head): not too much, not too little. That means there is a financial incentive for brewers to get the foam just right every time, and that means: science! Below, you can read the abstract from a study by Ault et al (1967), who devised a means to measure beer head retention (how much foam there is, how long it lasts, and how much it sticks to the glass) in a way that would as closely as possible mimic the consumer's experience."
   ]
  },
  {
   "cell_type": "markdown",
   "id": "4681ffa3",
   "metadata": {},
   "source": [
    "<img src=\"https://github.com/ethanweed/datasets-for-teaching/blob/main/Beer%20Head%20Retention/image_abstract.png?raw=true\" width=\"500\"/>"
   ]
  },
  {
   "cell_type": "markdown",
   "id": "5d112ee2",
   "metadata": {},
   "source": [
    "Below, you can see a schematic drawing of the device used for measuring beer head retention."
   ]
  },
  {
   "cell_type": "markdown",
   "id": "bfc56312",
   "metadata": {},
   "source": [
    "<img src=\"https://github.com/ethanweed/datasets-for-teaching/blob/main/Beer%20Head%20Retention/image_head_retention_apparatus.png?raw=true\" width=\"400\"/>"
   ]
  },
  {
   "cell_type": "markdown",
   "id": "5133af74",
   "metadata": {},
   "source": [
    "Ault et al (1967) measured [sixty bottles of beer](https://en.wikipedia.org/wiki/99_Bottles_of_Beer) from three different bottlings: \n",
    "\n",
    "1. Bottling: the batch of beers bottled at the same time\n",
    "2. Bottle: the bottle id number for each bottling\n",
    "3. Head_Formation: the distance from the top of the glass to the top of the foam after 5 seconds plus the distance from the previous top of the foam to the top of the foam after 30 seconds (see Ault et al, 1967, for details)\n",
    "4. Percent_Adhesion: The amount of \"lacing\", that is, foam stuck to the glass after the foam collapses\n",
    "5. Percent_Collapse: Essentially, how much foam is left after 240 seconds.\n",
    "\n",
    "Assignment: \n",
    "\n",
    "1. Compare the different bottling batches on each of the three outcome measures: Head_Formation, Percent_Adhesion, and Percent_Collapse, and report your results in APA format. Using the names from ``pingouin`` output, this could be \"A one-way ANOVA showed a significant effect of / no significant effect of SOURCE on DV (F(DDOF1, DDOF2) = F, p = p\".\n",
    "2. Make figures illustrating your results\n",
    "3. If you drink beer, based on your own preferences, which bottling had the best balance of formation, adhesion, and collapse?"
   ]
  },
  {
   "cell_type": "code",
   "execution_count": 4,
   "id": "a52e75cd",
   "metadata": {},
   "outputs": [],
   "source": [
    "df = pd.read_csv(\"https://raw.githubusercontent.com/ethanweed/datasets-for-teaching/main/Beer%20Head%20Retention/beer-head-data.csv\")"
   ]
  },
  {
   "cell_type": "markdown",
   "id": "c94a08c0",
   "metadata": {},
   "source": [
    "## Barking sea lions"
   ]
  },
  {
   "cell_type": "markdown",
   "id": "9000640c",
   "metadata": {},
   "source": [
    "California sea lion (Zalophus californianus) and a Western gull (Larus occidentalis) in Scripps Park in La Jolla (San Diego, California).\n",
    "\n",
    "<img src=\"https://upload.wikimedia.org/wikipedia/commons/thumb/7/74/California_sea_lion_in_La_Jolla_%2870568%29.jpg/2560px-California_sea_lion_in_La_Jolla_%2870568%29.jpg\" width=\"300\"/>\n",
    "\n",
    "Image credit: Rhododendrites (2016)"
   ]
  },
  {
   "cell_type": "markdown",
   "id": "33505ffb",
   "metadata": {},
   "source": [
    "Sea lions love to make noise, and in the sea lion business, the noise they make is called \"barking\". To the untrained ear, all sea lions may sound the same, but in fact, there may be local \"dialects\". Ahonen et al (2014) carried out a study of sea lion barks, measuring, among other things, the duration of the barks at seven different locations in Australia (see map below).\n",
    "\n",
    "<img src=\"https://github.com/ethanweed/datasets-for-teaching/blob/main/Durations%20of%20Seal%20Lion%20Barking%20Calls/image_locations.png?raw=true\" width=\"550\"/>"
   ]
  },
  {
   "cell_type": "markdown",
   "id": "1f757b47",
   "metadata": {},
   "source": [
    "Below, you can read the article abstract:\n",
    "\n",
    "<img src=\"https://github.com/ethanweed/datasets-for-teaching/blob/main/Durations%20of%20Seal%20Lion%20Barking%20Calls/image_abstract.png?raw=true\" width=\"\"/>"
   ]
  },
  {
   "cell_type": "markdown",
   "id": "a494f961",
   "metadata": {},
   "source": [
    "Assignment:\n",
    "\n",
    "1. Use the dataset below to check the researchers' results. Was there a signficant difference in barking duration between the different locations?\n",
    "2. Report your findings using the APA format (see beer example above)\n",
    "3. Reproduce panel A from figure 4, below. Sadly, we don't have the data for the interbark durations, so you can't do panel B. You can use the location numbers, but for an extra challenge, use Python to replace the numbers with the location names. You can see the location names in table 2 below, which are ordered in the same order as the location numbers in the data:\n",
    "\n",
    "<img src=\"https://github.com/ethanweed/datasets-for-teaching/blob/main/Durations%20of%20Seal%20Lion%20Barking%20Calls/image_table2.png?raw=true\" width=\"\"/>"
   ]
  },
  {
   "cell_type": "markdown",
   "id": "1f94ed0f",
   "metadata": {},
   "source": [
    "<img src=\"https://github.com/ethanweed/datasets-for-teaching/blob/main/Durations%20of%20Seal%20Lion%20Barking%20Calls/image_figure4.png?raw=true\" width=\"\"/>"
   ]
  },
  {
   "cell_type": "markdown",
   "id": "224e865a",
   "metadata": {},
   "source": [
    "## References\n",
    "\n",
    "Ahonen, H., Stow, A. J., Harcourt, R. G., & Charrier, I. (2014). Adult male Australian sea lion barking calls reveal clear geographical variations. Animal Behaviour, 97, 229-239.\n",
    "\n",
    "Ault, R. G., Hudson, E. J., Linehan, D. J., & Woodward, J. D. (1967). A practical approach to the assessment of head retention of bottled beers. Journal of the Institute of Brewing, 73(6), 558-566.\n",
    "\n"
   ]
  },
  {
   "cell_type": "markdown",
   "id": "21cdae3a",
   "metadata": {},
   "source": [
    "## Lexical Priming\n",
    "\n",
    "In 2021, Peel et al studied the effects of word repetition, case, and stimulus onset asynchrony in a semantic categorization task. The abstract for the paper is below:"
   ]
  },
  {
   "cell_type": "markdown",
   "id": "c54bbd8e",
   "metadata": {},
   "source": [
    "<img src=\"https://github.com/ethanweed/ExPsyLing/blob/master/Experiments/Experiment%201/Peel_abstract.png?raw=true\" width=\"\"/>\n",
    "\n"
   ]
  },
  {
   "cell_type": "markdown",
   "id": "37fc9d7f",
   "metadata": {},
   "source": [
    "In 2024, a group of researchers in Aarhus, Denmark conducted a partial replication study, in which they used the same materials to test the effects of word repetition and soa on response time and accuracy in a semantic categorization task. As in Peel et (2021), participants were asked to categorize a word flashed on the screen as either natural or man-made. Each word was preceeded by a prime, which was either the same word (congruent condition) or a different word (incongruent condition). Stimuli were furthermore presented in two blocks, with either short (immediate presentation) or long (80 ms delay) stimulus onset asynchrony (SOA). All participants completed each block.\n",
    "\n",
    "Use a repeated-measures ANOVA to test whether there was:\n",
    "\n",
    "1. A main effect of repetition\n",
    "2. A main effect of SOA\n",
    "3. An interaction between repetition and SOA"
   ]
  },
  {
   "cell_type": "code",
   "execution_count": 5,
   "id": "d7653102",
   "metadata": {},
   "outputs": [
    {
     "data": {
      "text/html": [
       "<div>\n",
       "<style scoped>\n",
       "    .dataframe tbody tr th:only-of-type {\n",
       "        vertical-align: middle;\n",
       "    }\n",
       "\n",
       "    .dataframe tbody tr th {\n",
       "        vertical-align: top;\n",
       "    }\n",
       "\n",
       "    .dataframe thead th {\n",
       "        text-align: right;\n",
       "    }\n",
       "</style>\n",
       "<table border=\"1\" class=\"dataframe\">\n",
       "  <thead>\n",
       "    <tr style=\"text-align: right;\">\n",
       "      <th></th>\n",
       "      <th>url</th>\n",
       "      <th>sender</th>\n",
       "      <th>sender_type</th>\n",
       "      <th>sender_id</th>\n",
       "      <th>ended_on</th>\n",
       "      <th>duration</th>\n",
       "      <th>time_run</th>\n",
       "      <th>time_render</th>\n",
       "      <th>time_show</th>\n",
       "      <th>time_end</th>\n",
       "      <th>...</th>\n",
       "      <th>response</th>\n",
       "      <th>response_action</th>\n",
       "      <th>prime</th>\n",
       "      <th>target</th>\n",
       "      <th>condition</th>\n",
       "      <th>soa_condition</th>\n",
       "      <th>congruence</th>\n",
       "      <th>correct_response</th>\n",
       "      <th>correctResponse</th>\n",
       "      <th>correct</th>\n",
       "    </tr>\n",
       "  </thead>\n",
       "  <tbody>\n",
       "    <tr>\n",
       "      <th>0</th>\n",
       "      <td>4482</td>\n",
       "      <td>Wecome0</td>\n",
       "      <td>canvas.Screen</td>\n",
       "      <td>0</td>\n",
       "      <td>timeout</td>\n",
       "      <td>500.0</td>\n",
       "      <td>1198.0</td>\n",
       "      <td>1199.0</td>\n",
       "      <td>1217.0</td>\n",
       "      <td>1701.0</td>\n",
       "      <td>...</td>\n",
       "      <td>NaN</td>\n",
       "      <td>NaN</td>\n",
       "      <td>NaN</td>\n",
       "      <td>NaN</td>\n",
       "      <td>NaN</td>\n",
       "      <td>NaN</td>\n",
       "      <td>NaN</td>\n",
       "      <td>NaN</td>\n",
       "      <td>NaN</td>\n",
       "      <td>NaN</td>\n",
       "    </tr>\n",
       "    <tr>\n",
       "      <th>1</th>\n",
       "      <td>4482</td>\n",
       "      <td>Wecome1</td>\n",
       "      <td>canvas.Screen</td>\n",
       "      <td>1</td>\n",
       "      <td>timeout</td>\n",
       "      <td>500.0</td>\n",
       "      <td>1705.0</td>\n",
       "      <td>1701.0</td>\n",
       "      <td>1717.0</td>\n",
       "      <td>2201.0</td>\n",
       "      <td>...</td>\n",
       "      <td>NaN</td>\n",
       "      <td>NaN</td>\n",
       "      <td>NaN</td>\n",
       "      <td>NaN</td>\n",
       "      <td>NaN</td>\n",
       "      <td>NaN</td>\n",
       "      <td>NaN</td>\n",
       "      <td>NaN</td>\n",
       "      <td>NaN</td>\n",
       "      <td>NaN</td>\n",
       "    </tr>\n",
       "    <tr>\n",
       "      <th>2</th>\n",
       "      <td>4482</td>\n",
       "      <td>Wecome2</td>\n",
       "      <td>canvas.Screen</td>\n",
       "      <td>2</td>\n",
       "      <td>timeout</td>\n",
       "      <td>500.0</td>\n",
       "      <td>2202.0</td>\n",
       "      <td>2201.0</td>\n",
       "      <td>2217.0</td>\n",
       "      <td>2701.0</td>\n",
       "      <td>...</td>\n",
       "      <td>NaN</td>\n",
       "      <td>NaN</td>\n",
       "      <td>NaN</td>\n",
       "      <td>NaN</td>\n",
       "      <td>NaN</td>\n",
       "      <td>NaN</td>\n",
       "      <td>NaN</td>\n",
       "      <td>NaN</td>\n",
       "      <td>NaN</td>\n",
       "      <td>NaN</td>\n",
       "    </tr>\n",
       "    <tr>\n",
       "      <th>3</th>\n",
       "      <td>4482</td>\n",
       "      <td>Wecome3</td>\n",
       "      <td>canvas.Screen</td>\n",
       "      <td>3</td>\n",
       "      <td>timeout</td>\n",
       "      <td>500.0</td>\n",
       "      <td>2702.0</td>\n",
       "      <td>2701.0</td>\n",
       "      <td>2717.0</td>\n",
       "      <td>3201.0</td>\n",
       "      <td>...</td>\n",
       "      <td>NaN</td>\n",
       "      <td>NaN</td>\n",
       "      <td>NaN</td>\n",
       "      <td>NaN</td>\n",
       "      <td>NaN</td>\n",
       "      <td>NaN</td>\n",
       "      <td>NaN</td>\n",
       "      <td>NaN</td>\n",
       "      <td>NaN</td>\n",
       "      <td>NaN</td>\n",
       "    </tr>\n",
       "    <tr>\n",
       "      <th>4</th>\n",
       "      <td>4482</td>\n",
       "      <td>Instructions1</td>\n",
       "      <td>canvas.Screen</td>\n",
       "      <td>4</td>\n",
       "      <td>response</td>\n",
       "      <td>13495.0</td>\n",
       "      <td>3202.0</td>\n",
       "      <td>3201.0</td>\n",
       "      <td>3217.0</td>\n",
       "      <td>16696.0</td>\n",
       "      <td>...</td>\n",
       "      <td>NaN</td>\n",
       "      <td>keypress</td>\n",
       "      <td>NaN</td>\n",
       "      <td>NaN</td>\n",
       "      <td>NaN</td>\n",
       "      <td>NaN</td>\n",
       "      <td>NaN</td>\n",
       "      <td>NaN</td>\n",
       "      <td>NaN</td>\n",
       "      <td>NaN</td>\n",
       "    </tr>\n",
       "  </tbody>\n",
       "</table>\n",
       "<p>5 rows × 23 columns</p>\n",
       "</div>"
      ],
      "text/plain": [
       "    url         sender    sender_type sender_id  ended_on  duration  time_run  \\\n",
       "0  4482        Wecome0  canvas.Screen         0   timeout     500.0    1198.0   \n",
       "1  4482        Wecome1  canvas.Screen         1   timeout     500.0    1705.0   \n",
       "2  4482        Wecome2  canvas.Screen         2   timeout     500.0    2202.0   \n",
       "3  4482        Wecome3  canvas.Screen         3   timeout     500.0    2702.0   \n",
       "4  4482  Instructions1  canvas.Screen         4  response   13495.0    3202.0   \n",
       "\n",
       "   time_render  time_show  time_end  ...  response response_action  prime  \\\n",
       "0       1199.0     1217.0    1701.0  ...       NaN             NaN    NaN   \n",
       "1       1701.0     1717.0    2201.0  ...       NaN             NaN    NaN   \n",
       "2       2201.0     2217.0    2701.0  ...       NaN             NaN    NaN   \n",
       "3       2701.0     2717.0    3201.0  ...       NaN             NaN    NaN   \n",
       "4       3201.0     3217.0   16696.0  ...       NaN        keypress    NaN   \n",
       "\n",
       "  target condition soa_condition congruence correct_response correctResponse  \\\n",
       "0    NaN       NaN           NaN        NaN              NaN             NaN   \n",
       "1    NaN       NaN           NaN        NaN              NaN             NaN   \n",
       "2    NaN       NaN           NaN        NaN              NaN             NaN   \n",
       "3    NaN       NaN           NaN        NaN              NaN             NaN   \n",
       "4    NaN       NaN           NaN        NaN              NaN             NaN   \n",
       "\n",
       "  correct  \n",
       "0     NaN  \n",
       "1     NaN  \n",
       "2     NaN  \n",
       "3     NaN  \n",
       "4     NaN  \n",
       "\n",
       "[5 rows x 23 columns]"
      ]
     },
     "execution_count": 5,
     "metadata": {},
     "output_type": "execute_result"
    }
   ],
   "source": [
    "df = pd.read_csv('https://raw.githubusercontent.com/ethanweed/ExPsyLing/refs/heads/master/Experiments/Experiment%201/data/data_ExPsyLing_2024.csv')\n",
    "df.head()"
   ]
  },
  {
   "cell_type": "markdown",
   "id": "fc8aa52a",
   "metadata": {},
   "source": [
    "Peel et al (2021) present their main results in a figure, seen below:\n",
    "\n",
    "<img src=\"https://github.com/ethanweed/ExPsyLing/blob/master/Experiments/Experiment%201/Peel-et-al_2022-results.png?raw=true\" width=\"\"/>"
   ]
  },
  {
   "cell_type": "markdown",
   "id": "e5882d50",
   "metadata": {},
   "source": [
    "The Aarhus researchers did not collect data measuring the effect of same vs. different case (the primes were always in a lower case, and the target words in upper case), so we cannot reproduce the entire figure. To the best of your ability, however, try to reproduce Peel et al's figure 1, panels a and c."
   ]
  }
 ],
 "metadata": {
  "kernelspec": {
   "display_name": "p",
   "language": "python",
   "name": "python3"
  },
  "language_info": {
   "codemirror_mode": {
    "name": "ipython",
    "version": 3
   },
   "file_extension": ".py",
   "mimetype": "text/x-python",
   "name": "python",
   "nbconvert_exporter": "python",
   "pygments_lexer": "ipython3",
   "version": "3.11.3"
  }
 },
 "nbformat": 4,
 "nbformat_minor": 5
}
