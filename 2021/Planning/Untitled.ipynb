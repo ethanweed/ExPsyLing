{
 "cells": [
  {
   "cell_type": "markdown",
   "metadata": {},
   "source": [
    "## Title\n",
    "Here is some text\n",
    "\n",
    "---\n",
    "\n",
    "## Here is another title\n",
    "And some more text\n",
    "\n",
    "---\n",
    "\n",
    "## Here is a list\n",
    "\n",
    "1. thing\n",
    "2. another thing\n",
    "3. a third thing\n",
    "\n",
    "---\n",
    "\n",
    "## Thanks!\n",
    "\n",
    "\n",
    "\n",
    "\n"
   ]
  },
  {
   "cell_type": "code",
   "execution_count": null,
   "metadata": {},
   "outputs": [],
   "source": []
  }
 ],
 "metadata": {
  "kernelspec": {
   "display_name": "Python 3",
   "language": "python",
   "name": "python3"
  },
  "language_info": {
   "codemirror_mode": {
    "name": "ipython",
    "version": 3
   },
   "file_extension": ".py",
   "mimetype": "text/x-python",
   "name": "python",
   "nbconvert_exporter": "python",
   "pygments_lexer": "ipython3",
   "version": "3.7.6"
  }
 },
 "nbformat": 4,
 "nbformat_minor": 4
}
