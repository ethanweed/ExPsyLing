{
 "cells": [
  {
   "cell_type": "code",
   "execution_count": 53,
   "metadata": {},
   "outputs": [
    {
     "name": "stdout",
     "output_type": "stream",
     "text": [
      "What is your name? Ethan\n",
      "Hmm. Too bad your name is not Aquaman\n"
     ]
    }
   ],
   "source": [
    "name = input(\"What is your name? \")\n",
    "if name == \"Aquaman\":\n",
    "    print(\"Cool! That is a nice name!!\")\n",
    "else:\n",
    "    print(\"Hmm. Too bad your name is not Aquaman\")"
   ]
  },
  {
   "cell_type": "code",
   "execution_count": 58,
   "metadata": {},
   "outputs": [
    {
     "name": "stdout",
     "output_type": "stream",
     "text": [
      "How many days do you want to plan for? 4\n",
      "Please enter a day name.. Tuesday\n",
      "Please enter a day name.. Wednesday\n",
      "Please enter a day name.. Saturday\n",
      "Please enter a day name.. Sunday\n"
     ]
    }
   ],
   "source": [
    "num_days = int(input(\"How many days do you want to plan for? \"))\n",
    "\n",
    "days = []\n",
    "for i in range(num_days):\n",
    "    temp = input(\"Please enter a day name.. \")\n",
    "    days.append(temp)"
   ]
  },
  {
   "cell_type": "code",
   "execution_count": 86,
   "metadata": {},
   "outputs": [
    {
     "name": "stdout",
     "output_type": "stream",
     "text": [
      "0\n",
      "1\n",
      "2\n",
      "3\n",
      "4\n"
     ]
    }
   ],
   "source": [
    "a = 0\n",
    "\n",
    "while a < 5:\n",
    "    print(a)\n",
    "    a = a+1"
   ]
  },
  {
   "cell_type": "code",
   "execution_count": 103,
   "metadata": {},
   "outputs": [
    {
     "name": "stdout",
     "output_type": "stream",
     "text": [
      "Please enter a day name.. Monday lunch\n",
      "Please enter a day name.. Tuesday dinner\n",
      "Please enter a day name.. Saturday breakfast\n",
      "Please enter a day name.. done\n"
     ]
    }
   ],
   "source": [
    "temp = \"\"\n",
    "days = []\n",
    "while temp != \"done\":\n",
    "    temp = input(\"Please enter a day name.. \")\n",
    "    if temp != \"done\":\n",
    "        days.append(temp)\n",
    "    \n"
   ]
  },
  {
   "cell_type": "code",
   "execution_count": 104,
   "metadata": {},
   "outputs": [
    {
     "data": {
      "text/plain": [
       "['Monday lunch', 'Tuesday dinner', 'Saturday breakfast']"
      ]
     },
     "execution_count": 104,
     "metadata": {},
     "output_type": "execute_result"
    }
   ],
   "source": [
    "days"
   ]
  },
  {
   "cell_type": "code",
   "execution_count": 113,
   "metadata": {},
   "outputs": [
    {
     "name": "stdout",
     "output_type": "stream",
     "text": [
      "What do you want for make on Monday lunch? soup\n",
      "What do you want for make on Tuesday dinner? salad\n",
      "What do you want for make on Saturday breakfast? pancakes\n"
     ]
    }
   ],
   "source": [
    "meals = []\n",
    "for x, val in enumerate (days):\n",
    "    meal = input(\"What do you want for make on \" + days[x] + \"? \")\n",
    "    meals.append(meal)"
   ]
  },
  {
   "cell_type": "code",
   "execution_count": 114,
   "metadata": {},
   "outputs": [
    {
     "data": {
      "text/plain": [
       "['Monday lunch', 'Tuesday dinner', 'Saturday breakfast']"
      ]
     },
     "execution_count": 114,
     "metadata": {},
     "output_type": "execute_result"
    }
   ],
   "source": [
    "days"
   ]
  },
  {
   "cell_type": "code",
   "execution_count": 115,
   "metadata": {},
   "outputs": [
    {
     "data": {
      "text/plain": [
       "['soup', 'salad', 'pancakes']"
      ]
     },
     "execution_count": 115,
     "metadata": {},
     "output_type": "execute_result"
    }
   ],
   "source": [
    "meals"
   ]
  },
  {
   "cell_type": "code",
   "execution_count": null,
   "metadata": {},
   "outputs": [],
   "source": []
  }
 ],
 "metadata": {
  "kernelspec": {
   "display_name": "Python 3",
   "language": "python",
   "name": "python3"
  },
  "language_info": {
   "codemirror_mode": {
    "name": "ipython",
    "version": 3
   },
   "file_extension": ".py",
   "mimetype": "text/x-python",
   "name": "python",
   "nbconvert_exporter": "python",
   "pygments_lexer": "ipython3",
   "version": "3.7.6"
  }
 },
 "nbformat": 4,
 "nbformat_minor": 4
}
