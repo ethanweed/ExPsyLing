{
 "cells": [
  {
   "cell_type": "markdown",
   "metadata": {},
   "source": [
    "Using the tips and tricks in the Lab_04 notebook, do the following:"
   ]
  },
  {
   "cell_type": "markdown",
   "metadata": {},
   "source": [
    "## Clean up our working memory data"
   ]
  },
  {
   "cell_type": "code",
   "execution_count": 2,
   "metadata": {},
   "outputs": [],
   "source": [
    "# import pandas and scrape the data from the web\n",
    "import pandas as pd\n",
    "rawdata = pd.read_html(\"https://github.com/ethanweed/ExPsyLing/blob/master/datasets/DigitSpan_2021.csv\")"
   ]
  },
  {
   "cell_type": "markdown",
   "metadata": {},
   "source": [
    "1. Make a dataframe from the data\n",
    "2. Inspect the data\n",
    "3. Tidy up the dataframe"
   ]
  },
  {
   "cell_type": "markdown",
   "metadata": {},
   "source": [
    "## Clean up data from 2019"
   ]
  },
  {
   "cell_type": "markdown",
   "metadata": {},
   "source": [
    "The data are located here:\n",
    "\n",
    "https://github.com/ethanweed/ExPsyLing/blob/master/datasets/DigitSpan_2021.csv\n",
    "\n",
    "1. Inspect and tidy up the data\n",
    "2. Make a new column where there is just a \"1\" for \"native danish speaker\" and a \"0\" for non-native, instead of saying what language is their native language "
   ]
  },
  {
   "cell_type": "markdown",
   "metadata": {},
   "source": [
    "## Combine the two data sets\n",
    "\n",
    "1. To the extent possible, make a single dataframe containing forward and backward working memory spans\n",
    "2. Make a column indicating which year the data come from"
   ]
  },
  {
   "cell_type": "markdown",
   "metadata": {},
   "source": [
    "## Explore other data\n",
    "\n",
    "1. Find some interesting data online, either from wikipedia or elsewhere.\n",
    "2. Clean up the data\n",
    "3. Explore the data"
   ]
  }
 ],
 "metadata": {
  "kernelspec": {
   "display_name": "Python 3",
   "language": "python",
   "name": "python3"
  },
  "language_info": {
   "codemirror_mode": {
    "name": "ipython",
    "version": 3
   },
   "file_extension": ".py",
   "mimetype": "text/x-python",
   "name": "python",
   "nbconvert_exporter": "python",
   "pygments_lexer": "ipython3",
   "version": "3.7.6"
  }
 },
 "nbformat": 4,
 "nbformat_minor": 4
}
