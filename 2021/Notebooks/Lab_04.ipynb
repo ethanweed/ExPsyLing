{
 "cells": [
  {
   "cell_type": "markdown",
   "metadata": {},
   "source": [
    "#### Import pandas to make dataframes"
   ]
  },
  {
   "cell_type": "code",
   "execution_count": 230,
   "metadata": {},
   "outputs": [
    {
     "name": "stdout",
     "output_type": "stream",
     "text": [
      "Enter a day name. If you are done, write \"done\".Monday\n",
      "Enter a day name. If you are done, write \"done\".Tuesday\n",
      "Enter a day name. If you are done, write \"done\".Friday\n",
      "Enter a day name. If you are done, write \"done\".done\n",
      "What would you like to make on Monday? tacos\n",
      "What would you like to make on Tuesday? pizza\n",
      "What would you like to make on Friday? smoothies\n"
     ]
    }
   ],
   "source": [
    "import pandas as pd\n",
    "\n",
    "\n",
    "days = []\n",
    "temp = \"\"\n",
    "while temp != \"done\":\n",
    "    temp = input(\"Enter a day name. If you are done, write \\\"done\\\".\")\n",
    "    if temp != \"done\":\n",
    "        days.append(temp)\n",
    "\n",
    "\n",
    "meals = []\n",
    "for day in days:\n",
    "    meals.append(input(\"What would you like to make on \" + day + \"? \"))\n",
    "    \n",
    "df = pd.DataFrame(\n",
    "    {'days': days,\n",
    "     'meals': meals\n",
    "    })\n",
    "\n"
   ]
  },
  {
   "cell_type": "markdown",
   "metadata": {},
   "source": [
    "#### Dataframes structure your data"
   ]
  },
  {
   "cell_type": "code",
   "execution_count": 231,
   "metadata": {},
   "outputs": [
    {
     "data": {
      "text/html": [
       "<div>\n",
       "<style scoped>\n",
       "    .dataframe tbody tr th:only-of-type {\n",
       "        vertical-align: middle;\n",
       "    }\n",
       "\n",
       "    .dataframe tbody tr th {\n",
       "        vertical-align: top;\n",
       "    }\n",
       "\n",
       "    .dataframe thead th {\n",
       "        text-align: right;\n",
       "    }\n",
       "</style>\n",
       "<table border=\"1\" class=\"dataframe\">\n",
       "  <thead>\n",
       "    <tr style=\"text-align: right;\">\n",
       "      <th></th>\n",
       "      <th>days</th>\n",
       "      <th>meals</th>\n",
       "    </tr>\n",
       "  </thead>\n",
       "  <tbody>\n",
       "    <tr>\n",
       "      <th>0</th>\n",
       "      <td>Monday</td>\n",
       "      <td>tacos</td>\n",
       "    </tr>\n",
       "    <tr>\n",
       "      <th>1</th>\n",
       "      <td>Tuesday</td>\n",
       "      <td>pizza</td>\n",
       "    </tr>\n",
       "    <tr>\n",
       "      <th>2</th>\n",
       "      <td>Friday</td>\n",
       "      <td>smoothies</td>\n",
       "    </tr>\n",
       "  </tbody>\n",
       "</table>\n",
       "</div>"
      ],
      "text/plain": [
       "      days      meals\n",
       "0   Monday      tacos\n",
       "1  Tuesday      pizza\n",
       "2   Friday  smoothies"
      ]
     },
     "execution_count": 231,
     "metadata": {},
     "output_type": "execute_result"
    }
   ],
   "source": [
    "df"
   ]
  },
  {
   "cell_type": "markdown",
   "metadata": {},
   "source": [
    "#### You can add new columns to the dataframe\n",
    "\n",
    "... so long as the number of rows stays the same"
   ]
  },
  {
   "cell_type": "code",
   "execution_count": 235,
   "metadata": {},
   "outputs": [
    {
     "name": "stdout",
     "output_type": "stream",
     "text": [
      "What do you need to buy to make tacos ? lettuce, tortillas, beans\n",
      "What do you need to buy to make pizza ? tomato sauce, mushrooms\n",
      "What do you need to buy to make smoothies ? berries\n"
     ]
    }
   ],
   "source": [
    "shopping = []\n",
    "for meal in df['meals']:\n",
    "    shopping.append(input(\"What do you need to buy to make \" + meal + \" ? \"))\n",
    "\n",
    "df['shopping'] = shopping"
   ]
  },
  {
   "cell_type": "code",
   "execution_count": 236,
   "metadata": {},
   "outputs": [
    {
     "data": {
      "text/html": [
       "<div>\n",
       "<style scoped>\n",
       "    .dataframe tbody tr th:only-of-type {\n",
       "        vertical-align: middle;\n",
       "    }\n",
       "\n",
       "    .dataframe tbody tr th {\n",
       "        vertical-align: top;\n",
       "    }\n",
       "\n",
       "    .dataframe thead th {\n",
       "        text-align: right;\n",
       "    }\n",
       "</style>\n",
       "<table border=\"1\" class=\"dataframe\">\n",
       "  <thead>\n",
       "    <tr style=\"text-align: right;\">\n",
       "      <th></th>\n",
       "      <th>days</th>\n",
       "      <th>meals</th>\n",
       "      <th>shopping</th>\n",
       "    </tr>\n",
       "  </thead>\n",
       "  <tbody>\n",
       "    <tr>\n",
       "      <th>0</th>\n",
       "      <td>Monday</td>\n",
       "      <td>tacos</td>\n",
       "      <td>lettuce, tortillas, beans</td>\n",
       "    </tr>\n",
       "    <tr>\n",
       "      <th>1</th>\n",
       "      <td>Tuesday</td>\n",
       "      <td>pizza</td>\n",
       "      <td>tomato sauce, mushrooms</td>\n",
       "    </tr>\n",
       "    <tr>\n",
       "      <th>2</th>\n",
       "      <td>Friday</td>\n",
       "      <td>smoothies</td>\n",
       "      <td>berries</td>\n",
       "    </tr>\n",
       "  </tbody>\n",
       "</table>\n",
       "</div>"
      ],
      "text/plain": [
       "      days      meals                   shopping\n",
       "0   Monday      tacos  lettuce, tortillas, beans\n",
       "1  Tuesday      pizza    tomato sauce, mushrooms\n",
       "2   Friday  smoothies                    berries"
      ]
     },
     "execution_count": 236,
     "metadata": {},
     "output_type": "execute_result"
    }
   ],
   "source": [
    "df"
   ]
  },
  {
   "cell_type": "markdown",
   "metadata": {},
   "source": [
    "#### You can access the columns like this:"
   ]
  },
  {
   "cell_type": "code",
   "execution_count": 24,
   "metadata": {},
   "outputs": [
    {
     "data": {
      "text/plain": [
       "0     Soup\n",
       "1    Salad\n",
       "2    Pizza\n",
       "Name: meals, dtype: object"
      ]
     },
     "execution_count": 24,
     "metadata": {},
     "output_type": "execute_result"
    }
   ],
   "source": [
    "df['meals']"
   ]
  },
  {
   "cell_type": "markdown",
   "metadata": {},
   "source": [
    "#### You can turn columns back into lists"
   ]
  },
  {
   "cell_type": "code",
   "execution_count": 237,
   "metadata": {},
   "outputs": [
    {
     "data": {
      "text/plain": [
       "['tacos', 'pizza', 'smoothies']"
      ]
     },
     "execution_count": 237,
     "metadata": {},
     "output_type": "execute_result"
    }
   ],
   "source": [
    "list(df['meals'])"
   ]
  },
  {
   "cell_type": "markdown",
   "metadata": {},
   "source": [
    "#### Use ``iloc`` to get rows"
   ]
  },
  {
   "cell_type": "code",
   "execution_count": 238,
   "metadata": {},
   "outputs": [
    {
     "data": {
      "text/plain": [
       "days           Friday\n",
       "meals       smoothies\n",
       "shopping      berries\n",
       "Name: 2, dtype: object"
      ]
     },
     "execution_count": 238,
     "metadata": {},
     "output_type": "execute_result"
    }
   ],
   "source": [
    "df.iloc[2]"
   ]
  },
  {
   "cell_type": "markdown",
   "metadata": {},
   "source": [
    "#### You can turn lists back into rows too"
   ]
  },
  {
   "cell_type": "code",
   "execution_count": 239,
   "metadata": {},
   "outputs": [
    {
     "data": {
      "text/plain": [
       "['Friday', 'smoothies', 'berries']"
      ]
     },
     "execution_count": 239,
     "metadata": {},
     "output_type": "execute_result"
    }
   ],
   "source": [
    "list(df.loc[2])"
   ]
  },
  {
   "cell_type": "markdown",
   "metadata": {},
   "source": [
    "#### pandas has tools for scraping data from the web"
   ]
  },
  {
   "cell_type": "code",
   "execution_count": 322,
   "metadata": {},
   "outputs": [],
   "source": [
    "rawdata = pd.read_html(\"https://en.wikipedia.org/wiki/List_of_best-selling_albums\")"
   ]
  },
  {
   "cell_type": "code",
   "execution_count": 323,
   "metadata": {},
   "outputs": [
    {
     "data": {
      "text/plain": [
       "list"
      ]
     },
     "execution_count": 323,
     "metadata": {},
     "output_type": "execute_result"
    }
   ],
   "source": [
    "# what format is this data scraped from wikipedia?\n",
    "type(rawdata)"
   ]
  },
  {
   "cell_type": "code",
   "execution_count": 324,
   "metadata": {},
   "outputs": [
    {
     "data": {
      "text/html": [
       "<div>\n",
       "<style scoped>\n",
       "    .dataframe tbody tr th:only-of-type {\n",
       "        vertical-align: middle;\n",
       "    }\n",
       "\n",
       "    .dataframe tbody tr th {\n",
       "        vertical-align: top;\n",
       "    }\n",
       "\n",
       "    .dataframe thead th {\n",
       "        text-align: right;\n",
       "    }\n",
       "</style>\n",
       "<table border=\"1\" class=\"dataframe\">\n",
       "  <thead>\n",
       "    <tr style=\"text-align: right;\">\n",
       "      <th></th>\n",
       "      <th>Colors</th>\n",
       "      <th>Colors.1</th>\n",
       "    </tr>\n",
       "  </thead>\n",
       "  <tbody>\n",
       "    <tr>\n",
       "      <th>0</th>\n",
       "      <td>NaN</td>\n",
       "      <td>Studio albums</td>\n",
       "    </tr>\n",
       "    <tr>\n",
       "      <th>1</th>\n",
       "      <td>NaN</td>\n",
       "      <td>Greatest hits and compilations</td>\n",
       "    </tr>\n",
       "    <tr>\n",
       "      <th>2</th>\n",
       "      <td>NaN</td>\n",
       "      <td>Soundtracks</td>\n",
       "    </tr>\n",
       "    <tr>\n",
       "      <th>3</th>\n",
       "      <td>NaN</td>\n",
       "      <td>Live albums</td>\n",
       "    </tr>\n",
       "  </tbody>\n",
       "</table>\n",
       "</div>"
      ],
      "text/plain": [
       "   Colors                        Colors.1\n",
       "0     NaN                   Studio albums\n",
       "1     NaN  Greatest hits and compilations\n",
       "2     NaN                     Soundtracks\n",
       "3     NaN                     Live albums"
      ]
     },
     "execution_count": 324,
     "metadata": {},
     "output_type": "execute_result"
    }
   ],
   "source": [
    "# what is in this list?\n",
    "rawdata[0].head()\n",
    "#rawdata[1].head()"
   ]
  },
  {
   "cell_type": "markdown",
   "metadata": {},
   "source": [
    "#### Use `shape` to find out how many rows and column there are in the dataframe"
   ]
  },
  {
   "cell_type": "code",
   "execution_count": 325,
   "metadata": {},
   "outputs": [
    {
     "data": {
      "text/plain": [
       "(10, 7)"
      ]
     },
     "execution_count": 325,
     "metadata": {},
     "output_type": "execute_result"
    }
   ],
   "source": [
    "rawdata[1].shape"
   ]
  },
  {
   "cell_type": "markdown",
   "metadata": {},
   "source": [
    "#### Concatenate dataframes\n",
    "\n",
    "If more than one dataframe has the same number of columns, and the column names are the same, we can stick them on top of each other and make one big dataframe."
   ]
  },
  {
   "cell_type": "code",
   "execution_count": 326,
   "metadata": {},
   "outputs": [
    {
     "data": {
      "text/html": [
       "<div>\n",
       "<style scoped>\n",
       "    .dataframe tbody tr th:only-of-type {\n",
       "        vertical-align: middle;\n",
       "    }\n",
       "\n",
       "    .dataframe tbody tr th {\n",
       "        vertical-align: top;\n",
       "    }\n",
       "\n",
       "    .dataframe thead th {\n",
       "        text-align: right;\n",
       "    }\n",
       "</style>\n",
       "<table border=\"1\" class=\"dataframe\">\n",
       "  <thead>\n",
       "    <tr style=\"text-align: right;\">\n",
       "      <th></th>\n",
       "      <th>Artist</th>\n",
       "      <th>Album</th>\n",
       "      <th>Released</th>\n",
       "      <th>Genre</th>\n",
       "      <th>Total certified copies(from available markets)*</th>\n",
       "      <th>Claimed sales*</th>\n",
       "      <th>Ref(s)</th>\n",
       "    </tr>\n",
       "  </thead>\n",
       "  <tbody>\n",
       "    <tr>\n",
       "      <th>0</th>\n",
       "      <td>Michael Jackson</td>\n",
       "      <td>Thriller</td>\n",
       "      <td>1982</td>\n",
       "      <td>Pop, post-disco, funk, rock</td>\n",
       "      <td>48.9 US: 34 million[9] JPN: 100,000[10] UK: 4....</td>\n",
       "      <td>70</td>\n",
       "      <td>[4][5]</td>\n",
       "    </tr>\n",
       "    <tr>\n",
       "      <th>1</th>\n",
       "      <td>AC/DC</td>\n",
       "      <td>Back in Black</td>\n",
       "      <td>1980</td>\n",
       "      <td>Hard rock</td>\n",
       "      <td>29.6 US: 25 million[9] UK: 600,000[11] GER: 1 ...</td>\n",
       "      <td>50</td>\n",
       "      <td>[32]</td>\n",
       "    </tr>\n",
       "    <tr>\n",
       "      <th>2</th>\n",
       "      <td>Whitney Houston / various artists</td>\n",
       "      <td>The Bodyguard</td>\n",
       "      <td>1992</td>\n",
       "      <td>R&amp;B, soul, pop, soundtrack</td>\n",
       "      <td>32.4 US: 18 million[9] JPN: 3 million[33] UK: ...</td>\n",
       "      <td>45</td>\n",
       "      <td>[37]</td>\n",
       "    </tr>\n",
       "    <tr>\n",
       "      <th>3</th>\n",
       "      <td>Meat Loaf</td>\n",
       "      <td>Bat Out of Hell</td>\n",
       "      <td>1977</td>\n",
       "      <td>Hard rock, glam rock, progressive rock</td>\n",
       "      <td>21.7 US: 14 million[9] UK: 3.3 million[11] GER...</td>\n",
       "      <td>45</td>\n",
       "      <td>[39]</td>\n",
       "    </tr>\n",
       "    <tr>\n",
       "      <th>4</th>\n",
       "      <td>Eagles</td>\n",
       "      <td>Their Greatest Hits (1971–1975)</td>\n",
       "      <td>1976</td>\n",
       "      <td>Country rock, soft rock, folk rock</td>\n",
       "      <td>41.2 US: 38 million[9] UK: 600,000[11] CAN: 2 ...</td>\n",
       "      <td>44</td>\n",
       "      <td>[40]</td>\n",
       "    </tr>\n",
       "  </tbody>\n",
       "</table>\n",
       "</div>"
      ],
      "text/plain": [
       "                              Artist                            Album  \\\n",
       "0                    Michael Jackson                         Thriller   \n",
       "1                              AC/DC                    Back in Black   \n",
       "2  Whitney Houston / various artists                    The Bodyguard   \n",
       "3                          Meat Loaf                  Bat Out of Hell   \n",
       "4                             Eagles  Their Greatest Hits (1971–1975)   \n",
       "\n",
       "   Released                                   Genre  \\\n",
       "0      1982             Pop, post-disco, funk, rock   \n",
       "1      1980                               Hard rock   \n",
       "2      1992              R&B, soul, pop, soundtrack   \n",
       "3      1977  Hard rock, glam rock, progressive rock   \n",
       "4      1976      Country rock, soft rock, folk rock   \n",
       "\n",
       "     Total certified copies(from available markets)*  Claimed sales*  Ref(s)  \n",
       "0  48.9 US: 34 million[9] JPN: 100,000[10] UK: 4....              70  [4][5]  \n",
       "1  29.6 US: 25 million[9] UK: 600,000[11] GER: 1 ...              50    [32]  \n",
       "2  32.4 US: 18 million[9] JPN: 3 million[33] UK: ...              45    [37]  \n",
       "3  21.7 US: 14 million[9] UK: 3.3 million[11] GER...              45    [39]  \n",
       "4  41.2 US: 38 million[9] UK: 600,000[11] CAN: 2 ...              44    [40]  "
      ]
     },
     "execution_count": 326,
     "metadata": {},
     "output_type": "execute_result"
    }
   ],
   "source": [
    "data = pd.concat([rawdata[1], rawdata[2], rawdata[3]])\n",
    "data.head()"
   ]
  },
  {
   "cell_type": "code",
   "execution_count": 327,
   "metadata": {},
   "outputs": [
    {
     "data": {
      "text/plain": [
       "(81, 7)"
      ]
     },
     "execution_count": 327,
     "metadata": {},
     "output_type": "execute_result"
    }
   ],
   "source": [
    "# same number of columns, now with more rows\n",
    "data.shape"
   ]
  },
  {
   "cell_type": "markdown",
   "metadata": {},
   "source": [
    "#### Rename columns"
   ]
  },
  {
   "cell_type": "code",
   "execution_count": 328,
   "metadata": {},
   "outputs": [
    {
     "data": {
      "text/plain": [
       "['Artist',\n",
       " 'Album',\n",
       " 'Released',\n",
       " 'Genre',\n",
       " 'Total certified copies(from available markets)*',\n",
       " 'Claimed sales*',\n",
       " 'Ref(s)']"
      ]
     },
     "execution_count": 328,
     "metadata": {},
     "output_type": "execute_result"
    }
   ],
   "source": [
    "# first, get a list of all the column names\n",
    "cols = list(data.columns)\n",
    "cols"
   ]
  },
  {
   "cell_type": "code",
   "execution_count": 329,
   "metadata": {},
   "outputs": [
    {
     "data": {
      "text/plain": [
       "['Artist',\n",
       " 'Album',\n",
       " 'Released',\n",
       " 'Genre',\n",
       " 'Total copies',\n",
       " 'Claimed sales',\n",
       " 'Ref(s)']"
      ]
     },
     "execution_count": 329,
     "metadata": {},
     "output_type": "execute_result"
    }
   ],
   "source": [
    "# now, change the names however you want\n",
    "cols[4] = \"Total copies\"\n",
    "cols[5] = \"Claimed sales\"\n",
    "cols"
   ]
  },
  {
   "cell_type": "code",
   "execution_count": 330,
   "metadata": {},
   "outputs": [
    {
     "data": {
      "text/html": [
       "<div>\n",
       "<style scoped>\n",
       "    .dataframe tbody tr th:only-of-type {\n",
       "        vertical-align: middle;\n",
       "    }\n",
       "\n",
       "    .dataframe tbody tr th {\n",
       "        vertical-align: top;\n",
       "    }\n",
       "\n",
       "    .dataframe thead th {\n",
       "        text-align: right;\n",
       "    }\n",
       "</style>\n",
       "<table border=\"1\" class=\"dataframe\">\n",
       "  <thead>\n",
       "    <tr style=\"text-align: right;\">\n",
       "      <th></th>\n",
       "      <th>Artist</th>\n",
       "      <th>Album</th>\n",
       "      <th>Released</th>\n",
       "      <th>Genre</th>\n",
       "      <th>Total copies</th>\n",
       "      <th>Claimed sales</th>\n",
       "      <th>Ref(s)</th>\n",
       "    </tr>\n",
       "  </thead>\n",
       "  <tbody>\n",
       "    <tr>\n",
       "      <th>0</th>\n",
       "      <td>Michael Jackson</td>\n",
       "      <td>Thriller</td>\n",
       "      <td>1982</td>\n",
       "      <td>Pop, post-disco, funk, rock</td>\n",
       "      <td>48.9 US: 34 million[9] JPN: 100,000[10] UK: 4....</td>\n",
       "      <td>70</td>\n",
       "      <td>[4][5]</td>\n",
       "    </tr>\n",
       "    <tr>\n",
       "      <th>1</th>\n",
       "      <td>AC/DC</td>\n",
       "      <td>Back in Black</td>\n",
       "      <td>1980</td>\n",
       "      <td>Hard rock</td>\n",
       "      <td>29.6 US: 25 million[9] UK: 600,000[11] GER: 1 ...</td>\n",
       "      <td>50</td>\n",
       "      <td>[32]</td>\n",
       "    </tr>\n",
       "    <tr>\n",
       "      <th>2</th>\n",
       "      <td>Whitney Houston / various artists</td>\n",
       "      <td>The Bodyguard</td>\n",
       "      <td>1992</td>\n",
       "      <td>R&amp;B, soul, pop, soundtrack</td>\n",
       "      <td>32.4 US: 18 million[9] JPN: 3 million[33] UK: ...</td>\n",
       "      <td>45</td>\n",
       "      <td>[37]</td>\n",
       "    </tr>\n",
       "    <tr>\n",
       "      <th>3</th>\n",
       "      <td>Meat Loaf</td>\n",
       "      <td>Bat Out of Hell</td>\n",
       "      <td>1977</td>\n",
       "      <td>Hard rock, glam rock, progressive rock</td>\n",
       "      <td>21.7 US: 14 million[9] UK: 3.3 million[11] GER...</td>\n",
       "      <td>45</td>\n",
       "      <td>[39]</td>\n",
       "    </tr>\n",
       "    <tr>\n",
       "      <th>4</th>\n",
       "      <td>Eagles</td>\n",
       "      <td>Their Greatest Hits (1971–1975)</td>\n",
       "      <td>1976</td>\n",
       "      <td>Country rock, soft rock, folk rock</td>\n",
       "      <td>41.2 US: 38 million[9] UK: 600,000[11] CAN: 2 ...</td>\n",
       "      <td>44</td>\n",
       "      <td>[40]</td>\n",
       "    </tr>\n",
       "  </tbody>\n",
       "</table>\n",
       "</div>"
      ],
      "text/plain": [
       "                              Artist                            Album  \\\n",
       "0                    Michael Jackson                         Thriller   \n",
       "1                              AC/DC                    Back in Black   \n",
       "2  Whitney Houston / various artists                    The Bodyguard   \n",
       "3                          Meat Loaf                  Bat Out of Hell   \n",
       "4                             Eagles  Their Greatest Hits (1971–1975)   \n",
       "\n",
       "   Released                                   Genre  \\\n",
       "0      1982             Pop, post-disco, funk, rock   \n",
       "1      1980                               Hard rock   \n",
       "2      1992              R&B, soul, pop, soundtrack   \n",
       "3      1977  Hard rock, glam rock, progressive rock   \n",
       "4      1976      Country rock, soft rock, folk rock   \n",
       "\n",
       "                                        Total copies  Claimed sales  Ref(s)  \n",
       "0  48.9 US: 34 million[9] JPN: 100,000[10] UK: 4....             70  [4][5]  \n",
       "1  29.6 US: 25 million[9] UK: 600,000[11] GER: 1 ...             50    [32]  \n",
       "2  32.4 US: 18 million[9] JPN: 3 million[33] UK: ...             45    [37]  \n",
       "3  21.7 US: 14 million[9] UK: 3.3 million[11] GER...             45    [39]  \n",
       "4  41.2 US: 38 million[9] UK: 600,000[11] CAN: 2 ...             44    [40]  "
      ]
     },
     "execution_count": 330,
     "metadata": {},
     "output_type": "execute_result"
    }
   ],
   "source": [
    "# finally, reassign your list with the changed names to be the names of the columns in the dataframe\n",
    "data.columns = cols\n",
    "data.head()"
   ]
  },
  {
   "cell_type": "markdown",
   "metadata": {},
   "source": [
    "#### Or use `.rename`"
   ]
  },
  {
   "cell_type": "code",
   "execution_count": 332,
   "metadata": {},
   "outputs": [
    {
     "data": {
      "text/html": [
       "<div>\n",
       "<style scoped>\n",
       "    .dataframe tbody tr th:only-of-type {\n",
       "        vertical-align: middle;\n",
       "    }\n",
       "\n",
       "    .dataframe tbody tr th {\n",
       "        vertical-align: top;\n",
       "    }\n",
       "\n",
       "    .dataframe thead th {\n",
       "        text-align: right;\n",
       "    }\n",
       "</style>\n",
       "<table border=\"1\" class=\"dataframe\">\n",
       "  <thead>\n",
       "    <tr style=\"text-align: right;\">\n",
       "      <th></th>\n",
       "      <th>Artist</th>\n",
       "      <th>Album</th>\n",
       "      <th>Released</th>\n",
       "      <th>Genre</th>\n",
       "      <th>Total copies</th>\n",
       "      <th>Sales</th>\n",
       "      <th>Ref(s)</th>\n",
       "    </tr>\n",
       "  </thead>\n",
       "  <tbody>\n",
       "    <tr>\n",
       "      <th>0</th>\n",
       "      <td>Michael Jackson</td>\n",
       "      <td>Thriller</td>\n",
       "      <td>1982</td>\n",
       "      <td>Pop, post-disco, funk, rock</td>\n",
       "      <td>48.9 US: 34 million[9] JPN: 100,000[10] UK: 4....</td>\n",
       "      <td>70</td>\n",
       "      <td>[4][5]</td>\n",
       "    </tr>\n",
       "    <tr>\n",
       "      <th>1</th>\n",
       "      <td>AC/DC</td>\n",
       "      <td>Back in Black</td>\n",
       "      <td>1980</td>\n",
       "      <td>Hard rock</td>\n",
       "      <td>29.6 US: 25 million[9] UK: 600,000[11] GER: 1 ...</td>\n",
       "      <td>50</td>\n",
       "      <td>[32]</td>\n",
       "    </tr>\n",
       "  </tbody>\n",
       "</table>\n",
       "</div>"
      ],
      "text/plain": [
       "            Artist          Album  Released                        Genre  \\\n",
       "0  Michael Jackson       Thriller      1982  Pop, post-disco, funk, rock   \n",
       "1            AC/DC  Back in Black      1980                    Hard rock   \n",
       "\n",
       "                                        Total copies  Sales  Ref(s)  \n",
       "0  48.9 US: 34 million[9] JPN: 100,000[10] UK: 4....     70  [4][5]  \n",
       "1  29.6 US: 25 million[9] UK: 600,000[11] GER: 1 ...     50    [32]  "
      ]
     },
     "execution_count": 332,
     "metadata": {},
     "output_type": "execute_result"
    }
   ],
   "source": [
    "data = data.rename(columns={'Claimed sales': 'Sales'})\n",
    "data.head(2)"
   ]
  },
  {
   "cell_type": "markdown",
   "metadata": {},
   "source": [
    "#### Remove a column from the dataframe"
   ]
  },
  {
   "cell_type": "code",
   "execution_count": 335,
   "metadata": {},
   "outputs": [
    {
     "data": {
      "text/html": [
       "<div>\n",
       "<style scoped>\n",
       "    .dataframe tbody tr th:only-of-type {\n",
       "        vertical-align: middle;\n",
       "    }\n",
       "\n",
       "    .dataframe tbody tr th {\n",
       "        vertical-align: top;\n",
       "    }\n",
       "\n",
       "    .dataframe thead th {\n",
       "        text-align: right;\n",
       "    }\n",
       "</style>\n",
       "<table border=\"1\" class=\"dataframe\">\n",
       "  <thead>\n",
       "    <tr style=\"text-align: right;\">\n",
       "      <th></th>\n",
       "      <th>Artist</th>\n",
       "      <th>Album</th>\n",
       "      <th>Released</th>\n",
       "      <th>Genre</th>\n",
       "      <th>Total copies</th>\n",
       "      <th>Sales</th>\n",
       "    </tr>\n",
       "  </thead>\n",
       "  <tbody>\n",
       "    <tr>\n",
       "      <th>0</th>\n",
       "      <td>Michael Jackson</td>\n",
       "      <td>Thriller</td>\n",
       "      <td>1982</td>\n",
       "      <td>Pop, post-disco, funk, rock</td>\n",
       "      <td>48.9 US: 34 million[9] JPN: 100,000[10] UK: 4....</td>\n",
       "      <td>70</td>\n",
       "    </tr>\n",
       "    <tr>\n",
       "      <th>1</th>\n",
       "      <td>AC/DC</td>\n",
       "      <td>Back in Black</td>\n",
       "      <td>1980</td>\n",
       "      <td>Hard rock</td>\n",
       "      <td>29.6 US: 25 million[9] UK: 600,000[11] GER: 1 ...</td>\n",
       "      <td>50</td>\n",
       "    </tr>\n",
       "    <tr>\n",
       "      <th>2</th>\n",
       "      <td>Whitney Houston / various artists</td>\n",
       "      <td>The Bodyguard</td>\n",
       "      <td>1992</td>\n",
       "      <td>R&amp;B, soul, pop, soundtrack</td>\n",
       "      <td>32.4 US: 18 million[9] JPN: 3 million[33] UK: ...</td>\n",
       "      <td>45</td>\n",
       "    </tr>\n",
       "    <tr>\n",
       "      <th>3</th>\n",
       "      <td>Meat Loaf</td>\n",
       "      <td>Bat Out of Hell</td>\n",
       "      <td>1977</td>\n",
       "      <td>Hard rock, glam rock, progressive rock</td>\n",
       "      <td>21.7 US: 14 million[9] UK: 3.3 million[11] GER...</td>\n",
       "      <td>45</td>\n",
       "    </tr>\n",
       "    <tr>\n",
       "      <th>4</th>\n",
       "      <td>Eagles</td>\n",
       "      <td>Their Greatest Hits (1971–1975)</td>\n",
       "      <td>1976</td>\n",
       "      <td>Country rock, soft rock, folk rock</td>\n",
       "      <td>41.2 US: 38 million[9] UK: 600,000[11] CAN: 2 ...</td>\n",
       "      <td>44</td>\n",
       "    </tr>\n",
       "  </tbody>\n",
       "</table>\n",
       "</div>"
      ],
      "text/plain": [
       "                              Artist                            Album  \\\n",
       "0                    Michael Jackson                         Thriller   \n",
       "1                              AC/DC                    Back in Black   \n",
       "2  Whitney Houston / various artists                    The Bodyguard   \n",
       "3                          Meat Loaf                  Bat Out of Hell   \n",
       "4                             Eagles  Their Greatest Hits (1971–1975)   \n",
       "\n",
       "   Released                                   Genre  \\\n",
       "0      1982             Pop, post-disco, funk, rock   \n",
       "1      1980                               Hard rock   \n",
       "2      1992              R&B, soul, pop, soundtrack   \n",
       "3      1977  Hard rock, glam rock, progressive rock   \n",
       "4      1976      Country rock, soft rock, folk rock   \n",
       "\n",
       "                                        Total copies  Sales  \n",
       "0  48.9 US: 34 million[9] JPN: 100,000[10] UK: 4....     70  \n",
       "1  29.6 US: 25 million[9] UK: 600,000[11] GER: 1 ...     50  \n",
       "2  32.4 US: 18 million[9] JPN: 3 million[33] UK: ...     45  \n",
       "3  21.7 US: 14 million[9] UK: 3.3 million[11] GER...     45  \n",
       "4  41.2 US: 38 million[9] UK: 600,000[11] CAN: 2 ...     44  "
      ]
     },
     "execution_count": 335,
     "metadata": {},
     "output_type": "execute_result"
    }
   ],
   "source": [
    "# Goodby \"Ref(s)\"\n",
    "data = data.loc[:,'Artist':'Sales']\n",
    "data.head()"
   ]
  },
  {
   "cell_type": "code",
   "execution_count": 336,
   "metadata": {},
   "outputs": [
    {
     "data": {
      "text/plain": [
       "(81, 6)"
      ]
     },
     "execution_count": 336,
     "metadata": {},
     "output_type": "execute_result"
    }
   ],
   "source": [
    "# See, now there are only 6 columns.\n",
    "data.shape"
   ]
  },
  {
   "cell_type": "markdown",
   "metadata": {},
   "source": [
    "#### Or remove columns with `pop`"
   ]
  },
  {
   "cell_type": "code",
   "execution_count": 337,
   "metadata": {},
   "outputs": [
    {
     "data": {
      "text/html": [
       "<div>\n",
       "<style scoped>\n",
       "    .dataframe tbody tr th:only-of-type {\n",
       "        vertical-align: middle;\n",
       "    }\n",
       "\n",
       "    .dataframe tbody tr th {\n",
       "        vertical-align: top;\n",
       "    }\n",
       "\n",
       "    .dataframe thead th {\n",
       "        text-align: right;\n",
       "    }\n",
       "</style>\n",
       "<table border=\"1\" class=\"dataframe\">\n",
       "  <thead>\n",
       "    <tr style=\"text-align: right;\">\n",
       "      <th></th>\n",
       "      <th>Artist</th>\n",
       "      <th>Album</th>\n",
       "      <th>Released</th>\n",
       "      <th>Genre</th>\n",
       "      <th>Sales</th>\n",
       "    </tr>\n",
       "  </thead>\n",
       "  <tbody>\n",
       "    <tr>\n",
       "      <th>0</th>\n",
       "      <td>Michael Jackson</td>\n",
       "      <td>Thriller</td>\n",
       "      <td>1982</td>\n",
       "      <td>Pop, post-disco, funk, rock</td>\n",
       "      <td>70</td>\n",
       "    </tr>\n",
       "    <tr>\n",
       "      <th>1</th>\n",
       "      <td>AC/DC</td>\n",
       "      <td>Back in Black</td>\n",
       "      <td>1980</td>\n",
       "      <td>Hard rock</td>\n",
       "      <td>50</td>\n",
       "    </tr>\n",
       "    <tr>\n",
       "      <th>2</th>\n",
       "      <td>Whitney Houston / various artists</td>\n",
       "      <td>The Bodyguard</td>\n",
       "      <td>1992</td>\n",
       "      <td>R&amp;B, soul, pop, soundtrack</td>\n",
       "      <td>45</td>\n",
       "    </tr>\n",
       "    <tr>\n",
       "      <th>3</th>\n",
       "      <td>Meat Loaf</td>\n",
       "      <td>Bat Out of Hell</td>\n",
       "      <td>1977</td>\n",
       "      <td>Hard rock, glam rock, progressive rock</td>\n",
       "      <td>45</td>\n",
       "    </tr>\n",
       "    <tr>\n",
       "      <th>4</th>\n",
       "      <td>Eagles</td>\n",
       "      <td>Their Greatest Hits (1971–1975)</td>\n",
       "      <td>1976</td>\n",
       "      <td>Country rock, soft rock, folk rock</td>\n",
       "      <td>44</td>\n",
       "    </tr>\n",
       "    <tr>\n",
       "      <th>...</th>\n",
       "      <td>...</td>\n",
       "      <td>...</td>\n",
       "      <td>...</td>\n",
       "      <td>...</td>\n",
       "      <td>...</td>\n",
       "    </tr>\n",
       "    <tr>\n",
       "      <th>43</th>\n",
       "      <td>Tracy Chapman</td>\n",
       "      <td>Tracy Chapman</td>\n",
       "      <td>1988</td>\n",
       "      <td>Folk rock</td>\n",
       "      <td>20</td>\n",
       "    </tr>\n",
       "    <tr>\n",
       "      <th>44</th>\n",
       "      <td>Various artists</td>\n",
       "      <td>Flashdance: Original Soundtrack from the Motio...</td>\n",
       "      <td>1983</td>\n",
       "      <td>Electro, synthpop</td>\n",
       "      <td>20</td>\n",
       "    </tr>\n",
       "    <tr>\n",
       "      <th>45</th>\n",
       "      <td>Whitney Houston</td>\n",
       "      <td>Whitney</td>\n",
       "      <td>1987</td>\n",
       "      <td>Pop, R&amp;B</td>\n",
       "      <td>20</td>\n",
       "    </tr>\n",
       "    <tr>\n",
       "      <th>46</th>\n",
       "      <td>The Who</td>\n",
       "      <td>Tommy</td>\n",
       "      <td>1969</td>\n",
       "      <td>Hard rock, rock opera</td>\n",
       "      <td>20</td>\n",
       "    </tr>\n",
       "    <tr>\n",
       "      <th>47</th>\n",
       "      <td>Andrea Bocelli</td>\n",
       "      <td>Romanza</td>\n",
       "      <td>1997</td>\n",
       "      <td>Operatic pop, pop</td>\n",
       "      <td>20</td>\n",
       "    </tr>\n",
       "  </tbody>\n",
       "</table>\n",
       "<p>81 rows × 5 columns</p>\n",
       "</div>"
      ],
      "text/plain": [
       "                               Artist  \\\n",
       "0                     Michael Jackson   \n",
       "1                               AC/DC   \n",
       "2   Whitney Houston / various artists   \n",
       "3                           Meat Loaf   \n",
       "4                              Eagles   \n",
       "..                                ...   \n",
       "43                      Tracy Chapman   \n",
       "44                    Various artists   \n",
       "45                    Whitney Houston   \n",
       "46                            The Who   \n",
       "47                     Andrea Bocelli   \n",
       "\n",
       "                                                Album  Released  \\\n",
       "0                                            Thriller      1982   \n",
       "1                                       Back in Black      1980   \n",
       "2                                       The Bodyguard      1992   \n",
       "3                                     Bat Out of Hell      1977   \n",
       "4                     Their Greatest Hits (1971–1975)      1976   \n",
       "..                                                ...       ...   \n",
       "43                                      Tracy Chapman      1988   \n",
       "44  Flashdance: Original Soundtrack from the Motio...      1983   \n",
       "45                                            Whitney      1987   \n",
       "46                                              Tommy      1969   \n",
       "47                                            Romanza      1997   \n",
       "\n",
       "                                     Genre  Sales  \n",
       "0              Pop, post-disco, funk, rock     70  \n",
       "1                                Hard rock     50  \n",
       "2               R&B, soul, pop, soundtrack     45  \n",
       "3   Hard rock, glam rock, progressive rock     45  \n",
       "4       Country rock, soft rock, folk rock     44  \n",
       "..                                     ...    ...  \n",
       "43                               Folk rock     20  \n",
       "44                       Electro, synthpop     20  \n",
       "45                                Pop, R&B     20  \n",
       "46                   Hard rock, rock opera     20  \n",
       "47                       Operatic pop, pop     20  \n",
       "\n",
       "[81 rows x 5 columns]"
      ]
     },
     "execution_count": 337,
     "metadata": {},
     "output_type": "execute_result"
    }
   ],
   "source": [
    "# get a list of all the column names\n",
    "cols = list(data.columns)\n",
    "\n",
    "# \"pop\" out the fourth one (\"Total copies\")\n",
    "cols.pop(4)\n",
    "\n",
    "# make a new dataframe containing only the columns in the list `cols`\n",
    "data = data[cols]\n",
    "data"
   ]
  },
  {
   "cell_type": "markdown",
   "metadata": {},
   "source": [
    "#### select rows"
   ]
  },
  {
   "cell_type": "code",
   "execution_count": 338,
   "metadata": {},
   "outputs": [
    {
     "data": {
      "text/html": [
       "<div>\n",
       "<style scoped>\n",
       "    .dataframe tbody tr th:only-of-type {\n",
       "        vertical-align: middle;\n",
       "    }\n",
       "\n",
       "    .dataframe tbody tr th {\n",
       "        vertical-align: top;\n",
       "    }\n",
       "\n",
       "    .dataframe thead th {\n",
       "        text-align: right;\n",
       "    }\n",
       "</style>\n",
       "<table border=\"1\" class=\"dataframe\">\n",
       "  <thead>\n",
       "    <tr style=\"text-align: right;\">\n",
       "      <th></th>\n",
       "      <th>Artist</th>\n",
       "      <th>Album</th>\n",
       "      <th>Released</th>\n",
       "      <th>Genre</th>\n",
       "      <th>Sales</th>\n",
       "    </tr>\n",
       "  </thead>\n",
       "  <tbody>\n",
       "    <tr>\n",
       "      <th>1</th>\n",
       "      <td>AC/DC</td>\n",
       "      <td>Back in Black</td>\n",
       "      <td>1980</td>\n",
       "      <td>Hard rock</td>\n",
       "      <td>50</td>\n",
       "    </tr>\n",
       "    <tr>\n",
       "      <th>2</th>\n",
       "      <td>Whitney Houston / various artists</td>\n",
       "      <td>The Bodyguard</td>\n",
       "      <td>1992</td>\n",
       "      <td>R&amp;B, soul, pop, soundtrack</td>\n",
       "      <td>45</td>\n",
       "    </tr>\n",
       "    <tr>\n",
       "      <th>3</th>\n",
       "      <td>Meat Loaf</td>\n",
       "      <td>Bat Out of Hell</td>\n",
       "      <td>1977</td>\n",
       "      <td>Hard rock, glam rock, progressive rock</td>\n",
       "      <td>45</td>\n",
       "    </tr>\n",
       "  </tbody>\n",
       "</table>\n",
       "</div>"
      ],
      "text/plain": [
       "                              Artist            Album  Released  \\\n",
       "1                              AC/DC    Back in Black      1980   \n",
       "2  Whitney Houston / various artists    The Bodyguard      1992   \n",
       "3                          Meat Loaf  Bat Out of Hell      1977   \n",
       "\n",
       "                                    Genre  Sales  \n",
       "1                               Hard rock     50  \n",
       "2              R&B, soul, pop, soundtrack     45  \n",
       "3  Hard rock, glam rock, progressive rock     45  "
      ]
     },
     "execution_count": 338,
     "metadata": {},
     "output_type": "execute_result"
    }
   ],
   "source": [
    "# Make a dataframe with data from all columns, but only rows 2 to 4\n",
    "little_data = data.iloc[1:4,:]\n",
    "little_data"
   ]
  },
  {
   "cell_type": "code",
   "execution_count": 339,
   "metadata": {},
   "outputs": [
    {
     "data": {
      "text/html": [
       "<div>\n",
       "<style scoped>\n",
       "    .dataframe tbody tr th:only-of-type {\n",
       "        vertical-align: middle;\n",
       "    }\n",
       "\n",
       "    .dataframe tbody tr th {\n",
       "        vertical-align: top;\n",
       "    }\n",
       "\n",
       "    .dataframe thead th {\n",
       "        text-align: right;\n",
       "    }\n",
       "</style>\n",
       "<table border=\"1\" class=\"dataframe\">\n",
       "  <thead>\n",
       "    <tr style=\"text-align: right;\">\n",
       "      <th></th>\n",
       "      <th>Artist</th>\n",
       "      <th>Album</th>\n",
       "      <th>Released</th>\n",
       "      <th>Genre</th>\n",
       "      <th>Total certified copies(from available markets)*</th>\n",
       "      <th>Claimed sales*</th>\n",
       "      <th>Ref(s)</th>\n",
       "    </tr>\n",
       "  </thead>\n",
       "  <tbody>\n",
       "    <tr>\n",
       "      <th>0</th>\n",
       "      <td>Michael Jackson</td>\n",
       "      <td>Thriller</td>\n",
       "      <td>1982</td>\n",
       "      <td>Pop, post-disco, funk, rock</td>\n",
       "      <td>48.9 US: 34 million[9] JPN: 100,000[10] UK: 4....</td>\n",
       "      <td>70</td>\n",
       "      <td>[4][5]</td>\n",
       "    </tr>\n",
       "    <tr>\n",
       "      <th>1</th>\n",
       "      <td>AC/DC</td>\n",
       "      <td>Back in Black</td>\n",
       "      <td>1980</td>\n",
       "      <td>Hard rock</td>\n",
       "      <td>29.6 US: 25 million[9] UK: 600,000[11] GER: 1 ...</td>\n",
       "      <td>50</td>\n",
       "      <td>[32]</td>\n",
       "    </tr>\n",
       "    <tr>\n",
       "      <th>2</th>\n",
       "      <td>Whitney Houston / various artists</td>\n",
       "      <td>The Bodyguard</td>\n",
       "      <td>1992</td>\n",
       "      <td>R&amp;B, soul, pop, soundtrack</td>\n",
       "      <td>32.4 US: 18 million[9] JPN: 3 million[33] UK: ...</td>\n",
       "      <td>45</td>\n",
       "      <td>[37]</td>\n",
       "    </tr>\n",
       "    <tr>\n",
       "      <th>3</th>\n",
       "      <td>Meat Loaf</td>\n",
       "      <td>Bat Out of Hell</td>\n",
       "      <td>1977</td>\n",
       "      <td>Hard rock, glam rock, progressive rock</td>\n",
       "      <td>21.7 US: 14 million[9] UK: 3.3 million[11] GER...</td>\n",
       "      <td>45</td>\n",
       "      <td>[39]</td>\n",
       "    </tr>\n",
       "    <tr>\n",
       "      <th>4</th>\n",
       "      <td>Eagles</td>\n",
       "      <td>Their Greatest Hits (1971–1975)</td>\n",
       "      <td>1976</td>\n",
       "      <td>Country rock, soft rock, folk rock</td>\n",
       "      <td>41.2 US: 38 million[9] UK: 600,000[11] CAN: 2 ...</td>\n",
       "      <td>44</td>\n",
       "      <td>[40]</td>\n",
       "    </tr>\n",
       "  </tbody>\n",
       "</table>\n",
       "</div>"
      ],
      "text/plain": [
       "                              Artist                            Album  \\\n",
       "0                    Michael Jackson                         Thriller   \n",
       "1                              AC/DC                    Back in Black   \n",
       "2  Whitney Houston / various artists                    The Bodyguard   \n",
       "3                          Meat Loaf                  Bat Out of Hell   \n",
       "4                             Eagles  Their Greatest Hits (1971–1975)   \n",
       "\n",
       "   Released                                   Genre  \\\n",
       "0      1982             Pop, post-disco, funk, rock   \n",
       "1      1980                               Hard rock   \n",
       "2      1992              R&B, soul, pop, soundtrack   \n",
       "3      1977  Hard rock, glam rock, progressive rock   \n",
       "4      1976      Country rock, soft rock, folk rock   \n",
       "\n",
       "     Total certified copies(from available markets)*  Claimed sales*  Ref(s)  \n",
       "0  48.9 US: 34 million[9] JPN: 100,000[10] UK: 4....              70  [4][5]  \n",
       "1  29.6 US: 25 million[9] UK: 600,000[11] GER: 1 ...              50    [32]  \n",
       "2  32.4 US: 18 million[9] JPN: 3 million[33] UK: ...              45    [37]  \n",
       "3  21.7 US: 14 million[9] UK: 3.3 million[11] GER...              45    [39]  \n",
       "4  41.2 US: 38 million[9] UK: 600,000[11] CAN: 2 ...              44    [40]  "
      ]
     },
     "execution_count": 339,
     "metadata": {},
     "output_type": "execute_result"
    }
   ],
   "source": [
    "# remake original dataframe\n",
    "data = pd.concat([rawdata[1], rawdata[2], rawdata[3]])\n",
    "data.head()"
   ]
  },
  {
   "cell_type": "markdown",
   "metadata": {},
   "source": [
    "#### Find the contents by row number"
   ]
  },
  {
   "cell_type": "code",
   "execution_count": 340,
   "metadata": {},
   "outputs": [
    {
     "data": {
      "text/plain": [
       "1           AC/DC\n",
       "1    Led Zeppelin\n",
       "1    Mariah Carey\n",
       "Name: Artist, dtype: object"
      ]
     },
     "execution_count": 340,
     "metadata": {},
     "output_type": "execute_result"
    }
   ],
   "source": [
    "# 2 best-selling artist\n",
    "# find the data in the column \"Artist\" and row number 1\n",
    "artist = data['Artist'][1]\n",
    "artist\n"
   ]
  },
  {
   "cell_type": "markdown",
   "metadata": {},
   "source": [
    "Wait, what? Apparently Python doesn't make new row numbers when it concatenates the dataframes, so there are _3_ artists in row number 3: because there are _three_ row number threes! We could have added `ignore_index=True` when concatenated. Another option would be to.."
   ]
  },
  {
   "cell_type": "markdown",
   "metadata": {},
   "source": [
    "#### Make a column with sensible row numbers that start at 1"
   ]
  },
  {
   "cell_type": "code",
   "execution_count": 341,
   "metadata": {},
   "outputs": [
    {
     "data": {
      "text/html": [
       "<div>\n",
       "<style scoped>\n",
       "    .dataframe tbody tr th:only-of-type {\n",
       "        vertical-align: middle;\n",
       "    }\n",
       "\n",
       "    .dataframe tbody tr th {\n",
       "        vertical-align: top;\n",
       "    }\n",
       "\n",
       "    .dataframe thead th {\n",
       "        text-align: right;\n",
       "    }\n",
       "</style>\n",
       "<table border=\"1\" class=\"dataframe\">\n",
       "  <thead>\n",
       "    <tr style=\"text-align: right;\">\n",
       "      <th></th>\n",
       "      <th>Artist</th>\n",
       "      <th>Album</th>\n",
       "      <th>Released</th>\n",
       "      <th>Genre</th>\n",
       "      <th>Total certified copies(from available markets)*</th>\n",
       "      <th>Claimed sales*</th>\n",
       "      <th>Ref(s)</th>\n",
       "      <th>rank</th>\n",
       "    </tr>\n",
       "  </thead>\n",
       "  <tbody>\n",
       "    <tr>\n",
       "      <th>0</th>\n",
       "      <td>Michael Jackson</td>\n",
       "      <td>Thriller</td>\n",
       "      <td>1982</td>\n",
       "      <td>Pop, post-disco, funk, rock</td>\n",
       "      <td>48.9 US: 34 million[9] JPN: 100,000[10] UK: 4....</td>\n",
       "      <td>70</td>\n",
       "      <td>[4][5]</td>\n",
       "      <td>1</td>\n",
       "    </tr>\n",
       "    <tr>\n",
       "      <th>1</th>\n",
       "      <td>AC/DC</td>\n",
       "      <td>Back in Black</td>\n",
       "      <td>1980</td>\n",
       "      <td>Hard rock</td>\n",
       "      <td>29.6 US: 25 million[9] UK: 600,000[11] GER: 1 ...</td>\n",
       "      <td>50</td>\n",
       "      <td>[32]</td>\n",
       "      <td>2</td>\n",
       "    </tr>\n",
       "    <tr>\n",
       "      <th>2</th>\n",
       "      <td>Whitney Houston / various artists</td>\n",
       "      <td>The Bodyguard</td>\n",
       "      <td>1992</td>\n",
       "      <td>R&amp;B, soul, pop, soundtrack</td>\n",
       "      <td>32.4 US: 18 million[9] JPN: 3 million[33] UK: ...</td>\n",
       "      <td>45</td>\n",
       "      <td>[37]</td>\n",
       "      <td>3</td>\n",
       "    </tr>\n",
       "    <tr>\n",
       "      <th>3</th>\n",
       "      <td>Meat Loaf</td>\n",
       "      <td>Bat Out of Hell</td>\n",
       "      <td>1977</td>\n",
       "      <td>Hard rock, glam rock, progressive rock</td>\n",
       "      <td>21.7 US: 14 million[9] UK: 3.3 million[11] GER...</td>\n",
       "      <td>45</td>\n",
       "      <td>[39]</td>\n",
       "      <td>4</td>\n",
       "    </tr>\n",
       "    <tr>\n",
       "      <th>4</th>\n",
       "      <td>Eagles</td>\n",
       "      <td>Their Greatest Hits (1971–1975)</td>\n",
       "      <td>1976</td>\n",
       "      <td>Country rock, soft rock, folk rock</td>\n",
       "      <td>41.2 US: 38 million[9] UK: 600,000[11] CAN: 2 ...</td>\n",
       "      <td>44</td>\n",
       "      <td>[40]</td>\n",
       "      <td>5</td>\n",
       "    </tr>\n",
       "  </tbody>\n",
       "</table>\n",
       "</div>"
      ],
      "text/plain": [
       "                              Artist                            Album  \\\n",
       "0                    Michael Jackson                         Thriller   \n",
       "1                              AC/DC                    Back in Black   \n",
       "2  Whitney Houston / various artists                    The Bodyguard   \n",
       "3                          Meat Loaf                  Bat Out of Hell   \n",
       "4                             Eagles  Their Greatest Hits (1971–1975)   \n",
       "\n",
       "   Released                                   Genre  \\\n",
       "0      1982             Pop, post-disco, funk, rock   \n",
       "1      1980                               Hard rock   \n",
       "2      1992              R&B, soul, pop, soundtrack   \n",
       "3      1977  Hard rock, glam rock, progressive rock   \n",
       "4      1976      Country rock, soft rock, folk rock   \n",
       "\n",
       "     Total certified copies(from available markets)*  Claimed sales*  Ref(s)  \\\n",
       "0  48.9 US: 34 million[9] JPN: 100,000[10] UK: 4....              70  [4][5]   \n",
       "1  29.6 US: 25 million[9] UK: 600,000[11] GER: 1 ...              50    [32]   \n",
       "2  32.4 US: 18 million[9] JPN: 3 million[33] UK: ...              45    [37]   \n",
       "3  21.7 US: 14 million[9] UK: 3.3 million[11] GER...              45    [39]   \n",
       "4  41.2 US: 38 million[9] UK: 600,000[11] CAN: 2 ...              44    [40]   \n",
       "\n",
       "   rank  \n",
       "0     1  \n",
       "1     2  \n",
       "2     3  \n",
       "3     4  \n",
       "4     5  "
      ]
     },
     "execution_count": 341,
     "metadata": {},
     "output_type": "execute_result"
    }
   ],
   "source": [
    "# make a new column with numbers from 1 to the total number of rows\n",
    "data['rank'] = [n for n in range(1, data.shape[0]+1)]\n",
    "data.head()"
   ]
  },
  {
   "cell_type": "markdown",
   "metadata": {},
   "source": [
    "#### Move the new column with row numbers to the left of the dataframe\n",
    "...next to the confusing zero-indexed ones. It's nice to have the row ID on the left, I think."
   ]
  },
  {
   "cell_type": "code",
   "execution_count": 342,
   "metadata": {},
   "outputs": [
    {
     "data": {
      "text/html": [
       "<div>\n",
       "<style scoped>\n",
       "    .dataframe tbody tr th:only-of-type {\n",
       "        vertical-align: middle;\n",
       "    }\n",
       "\n",
       "    .dataframe tbody tr th {\n",
       "        vertical-align: top;\n",
       "    }\n",
       "\n",
       "    .dataframe thead th {\n",
       "        text-align: right;\n",
       "    }\n",
       "</style>\n",
       "<table border=\"1\" class=\"dataframe\">\n",
       "  <thead>\n",
       "    <tr style=\"text-align: right;\">\n",
       "      <th></th>\n",
       "      <th>rank</th>\n",
       "      <th>Artist</th>\n",
       "      <th>Album</th>\n",
       "      <th>Released</th>\n",
       "      <th>Genre</th>\n",
       "      <th>Total certified copies(from available markets)*</th>\n",
       "      <th>Claimed sales*</th>\n",
       "      <th>Ref(s)</th>\n",
       "    </tr>\n",
       "  </thead>\n",
       "  <tbody>\n",
       "    <tr>\n",
       "      <th>0</th>\n",
       "      <td>1</td>\n",
       "      <td>Michael Jackson</td>\n",
       "      <td>Thriller</td>\n",
       "      <td>1982</td>\n",
       "      <td>Pop, post-disco, funk, rock</td>\n",
       "      <td>48.9 US: 34 million[9] JPN: 100,000[10] UK: 4....</td>\n",
       "      <td>70</td>\n",
       "      <td>[4][5]</td>\n",
       "    </tr>\n",
       "    <tr>\n",
       "      <th>1</th>\n",
       "      <td>2</td>\n",
       "      <td>AC/DC</td>\n",
       "      <td>Back in Black</td>\n",
       "      <td>1980</td>\n",
       "      <td>Hard rock</td>\n",
       "      <td>29.6 US: 25 million[9] UK: 600,000[11] GER: 1 ...</td>\n",
       "      <td>50</td>\n",
       "      <td>[32]</td>\n",
       "    </tr>\n",
       "  </tbody>\n",
       "</table>\n",
       "</div>"
      ],
      "text/plain": [
       "   rank           Artist          Album  Released  \\\n",
       "0     1  Michael Jackson       Thriller      1982   \n",
       "1     2            AC/DC  Back in Black      1980   \n",
       "\n",
       "                         Genre  \\\n",
       "0  Pop, post-disco, funk, rock   \n",
       "1                    Hard rock   \n",
       "\n",
       "     Total certified copies(from available markets)*  Claimed sales*  Ref(s)  \n",
       "0  48.9 US: 34 million[9] JPN: 100,000[10] UK: 4....              70  [4][5]  \n",
       "1  29.6 US: 25 million[9] UK: 600,000[11] GER: 1 ...              50    [32]  "
      ]
     },
     "execution_count": 342,
     "metadata": {},
     "output_type": "execute_result"
    }
   ],
   "source": [
    "data = data[ ['rank'] + [ col for col in data.columns if col != 'rank' ] ]\n",
    "data.head(2)"
   ]
  },
  {
   "cell_type": "markdown",
   "metadata": {},
   "source": [
    "#### Now it is easy to search for an artist by their ranking"
   ]
  },
  {
   "cell_type": "code",
   "execution_count": 343,
   "metadata": {},
   "outputs": [
    {
     "data": {
      "text/plain": [
       "['The Beatles']"
      ]
     },
     "execution_count": 343,
     "metadata": {},
     "output_type": "execute_result"
    }
   ],
   "source": [
    "n = 24\n",
    "list(data.loc[data['rank'] == n]['Artist'])\n"
   ]
  },
  {
   "cell_type": "markdown",
   "metadata": {},
   "source": [
    "#### Find top albums from the first 10 years of your life"
   ]
  },
  {
   "cell_type": "code",
   "execution_count": 344,
   "metadata": {},
   "outputs": [
    {
     "data": {
      "text/plain": [
       "['Thriller',\n",
       " 'Back in Black',\n",
       " 'Bat Out of Hell',\n",
       " 'Their Greatest Hits (1971–1975)',\n",
       " 'The Dark Side of the Moon',\n",
       " 'Hotel California',\n",
       " 'Saturday Night Fever',\n",
       " 'Rumours',\n",
       " 'Grease: The Original Soundtrack from the Motion Picture',\n",
       " 'The Wall',\n",
       " 'Goodbye Yellow Brick Road',\n",
       " 'Greatest Hits',\n",
       " 'Greatest Hits',\n",
       " 'Off the Wall',\n",
       " 'Boston',\n",
       " 'Wish You Were Here',\n",
       " 'Breakfast in America']"
      ]
     },
     "execution_count": 344,
     "metadata": {},
     "output_type": "execute_result"
    }
   ],
   "source": [
    "born = 1973\n",
    "list(data.loc[(data['Released'] >= born) & (data['Released'] < born+10)]['Album'])"
   ]
  },
  {
   "cell_type": "code",
   "execution_count": null,
   "metadata": {},
   "outputs": [],
   "source": []
  },
  {
   "cell_type": "code",
   "execution_count": null,
   "metadata": {},
   "outputs": [],
   "source": []
  }
 ],
 "metadata": {
  "kernelspec": {
   "display_name": "Python 3",
   "language": "python",
   "name": "python3"
  },
  "language_info": {
   "codemirror_mode": {
    "name": "ipython",
    "version": 3
   },
   "file_extension": ".py",
   "mimetype": "text/x-python",
   "name": "python",
   "nbconvert_exporter": "python",
   "pygments_lexer": "ipython3",
   "version": "3.7.6"
  }
 },
 "nbformat": 4,
 "nbformat_minor": 4
}
