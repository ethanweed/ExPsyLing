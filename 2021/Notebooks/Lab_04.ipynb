{
 "cells": [
  {
   "cell_type": "code",
   "execution_count": 11,
   "metadata": {},
   "outputs": [
    {
     "name": "stdout",
     "output_type": "stream",
     "text": [
      "Enter a day name. If you are done, write \"done\".Monday\n",
      "Enter a day name. If you are done, write \"done\".Tuesday\n",
      "Enter a day name. If you are done, write \"done\".Friday\n",
      "Enter a day name. If you are done, write \"done\".done\n",
      "What would you like to make on Monday? Soup\n",
      "What would you like to make on Tuesday? Salad\n",
      "What would you like to make on Friday? Pizza\n"
     ]
    }
   ],
   "source": [
    "import pandas as pd\n",
    "\n",
    "\n",
    "days = []\n",
    "temp = \"\"\n",
    "while temp != \"done\":\n",
    "    temp = input(\"Enter a day name. If you are done, write \\\"done\\\".\")\n",
    "    if temp != \"done\":\n",
    "        days.append(temp)\n",
    "\n",
    "\n",
    "meals = []\n",
    "for day in days:\n",
    "    meals.append(input(\"What would you like to make on \" + day + \"? \"))\n",
    "    \n",
    "df = pd.DataFrame(\n",
    "    {'days': days,\n",
    "     'meals': meals\n",
    "    })\n",
    "\n"
   ]
  },
  {
   "cell_type": "code",
   "execution_count": 12,
   "metadata": {},
   "outputs": [
    {
     "data": {
      "text/html": [
       "<div>\n",
       "<style scoped>\n",
       "    .dataframe tbody tr th:only-of-type {\n",
       "        vertical-align: middle;\n",
       "    }\n",
       "\n",
       "    .dataframe tbody tr th {\n",
       "        vertical-align: top;\n",
       "    }\n",
       "\n",
       "    .dataframe thead th {\n",
       "        text-align: right;\n",
       "    }\n",
       "</style>\n",
       "<table border=\"1\" class=\"dataframe\">\n",
       "  <thead>\n",
       "    <tr style=\"text-align: right;\">\n",
       "      <th></th>\n",
       "      <th>days</th>\n",
       "      <th>meals</th>\n",
       "    </tr>\n",
       "  </thead>\n",
       "  <tbody>\n",
       "    <tr>\n",
       "      <th>0</th>\n",
       "      <td>Monday</td>\n",
       "      <td>Soup</td>\n",
       "    </tr>\n",
       "    <tr>\n",
       "      <th>1</th>\n",
       "      <td>Tuesday</td>\n",
       "      <td>Salad</td>\n",
       "    </tr>\n",
       "    <tr>\n",
       "      <th>2</th>\n",
       "      <td>Friday</td>\n",
       "      <td>Pizza</td>\n",
       "    </tr>\n",
       "  </tbody>\n",
       "</table>\n",
       "</div>"
      ],
      "text/plain": [
       "      days  meals\n",
       "0   Monday   Soup\n",
       "1  Tuesday  Salad\n",
       "2   Friday  Pizza"
      ]
     },
     "execution_count": 12,
     "metadata": {},
     "output_type": "execute_result"
    }
   ],
   "source": [
    "df"
   ]
  },
  {
   "cell_type": "code",
   "execution_count": 14,
   "metadata": {},
   "outputs": [
    {
     "name": "stdout",
     "output_type": "stream",
     "text": [
      "What do you to buy to make Soup ? tomatoes, onions, spices\n",
      "What do you to buy to make Salad ? lettuce, cukes, dressing\n",
      "What do you to buy to make Pizza ? cheese, sauce, toppings\n"
     ]
    }
   ],
   "source": [
    "shopping = []\n",
    "for meal in df['meals']:\n",
    "    shopping.append(input(\"What do you to buy to make \" + meal + \" ? \"))\n",
    "\n",
    "df['shopping'] = shopping"
   ]
  },
  {
   "cell_type": "code",
   "execution_count": 15,
   "metadata": {},
   "outputs": [
    {
     "data": {
      "text/html": [
       "<div>\n",
       "<style scoped>\n",
       "    .dataframe tbody tr th:only-of-type {\n",
       "        vertical-align: middle;\n",
       "    }\n",
       "\n",
       "    .dataframe tbody tr th {\n",
       "        vertical-align: top;\n",
       "    }\n",
       "\n",
       "    .dataframe thead th {\n",
       "        text-align: right;\n",
       "    }\n",
       "</style>\n",
       "<table border=\"1\" class=\"dataframe\">\n",
       "  <thead>\n",
       "    <tr style=\"text-align: right;\">\n",
       "      <th></th>\n",
       "      <th>days</th>\n",
       "      <th>meals</th>\n",
       "      <th>shopping</th>\n",
       "    </tr>\n",
       "  </thead>\n",
       "  <tbody>\n",
       "    <tr>\n",
       "      <th>0</th>\n",
       "      <td>Monday</td>\n",
       "      <td>Soup</td>\n",
       "      <td>tomatoes, onions, spices</td>\n",
       "    </tr>\n",
       "    <tr>\n",
       "      <th>1</th>\n",
       "      <td>Tuesday</td>\n",
       "      <td>Salad</td>\n",
       "      <td>lettuce, cukes, dressing</td>\n",
       "    </tr>\n",
       "    <tr>\n",
       "      <th>2</th>\n",
       "      <td>Friday</td>\n",
       "      <td>Pizza</td>\n",
       "      <td>cheese, sauce, toppings</td>\n",
       "    </tr>\n",
       "  </tbody>\n",
       "</table>\n",
       "</div>"
      ],
      "text/plain": [
       "      days  meals                  shopping\n",
       "0   Monday   Soup  tomatoes, onions, spices\n",
       "1  Tuesday  Salad  lettuce, cukes, dressing\n",
       "2   Friday  Pizza   cheese, sauce, toppings"
      ]
     },
     "execution_count": 15,
     "metadata": {},
     "output_type": "execute_result"
    }
   ],
   "source": [
    "df"
   ]
  },
  {
   "cell_type": "code",
   "execution_count": 24,
   "metadata": {},
   "outputs": [
    {
     "data": {
      "text/plain": [
       "0     Soup\n",
       "1    Salad\n",
       "2    Pizza\n",
       "Name: meals, dtype: object"
      ]
     },
     "execution_count": 24,
     "metadata": {},
     "output_type": "execute_result"
    }
   ],
   "source": [
    "df['meals']"
   ]
  },
  {
   "cell_type": "code",
   "execution_count": 26,
   "metadata": {},
   "outputs": [
    {
     "data": {
      "text/plain": [
       "['Soup', 'Salad', 'Pizza']"
      ]
     },
     "execution_count": 26,
     "metadata": {},
     "output_type": "execute_result"
    }
   ],
   "source": [
    "list(df['meals'])"
   ]
  },
  {
   "cell_type": "code",
   "execution_count": 28,
   "metadata": {},
   "outputs": [
    {
     "data": {
      "text/plain": [
       "days                         Friday\n",
       "meals                         Pizza\n",
       "shopping    cheese, sauce, toppings\n",
       "Name: 2, dtype: object"
      ]
     },
     "execution_count": 28,
     "metadata": {},
     "output_type": "execute_result"
    }
   ],
   "source": [
    "df.iloc[2]"
   ]
  },
  {
   "cell_type": "code",
   "execution_count": 29,
   "metadata": {},
   "outputs": [
    {
     "data": {
      "text/plain": [
       "['Friday', 'Pizza', 'cheese, sauce, toppings']"
      ]
     },
     "execution_count": 29,
     "metadata": {},
     "output_type": "execute_result"
    }
   ],
   "source": [
    "list(df.loc[2])"
   ]
  },
  {
   "cell_type": "code",
   "execution_count": 95,
   "metadata": {},
   "outputs": [],
   "source": [
    "rawdata = pd.read_html(\"https://en.wikipedia.org/wiki/List_of_best-selling_albums\")"
   ]
  },
  {
   "cell_type": "code",
   "execution_count": 96,
   "metadata": {},
   "outputs": [
    {
     "data": {
      "text/plain": [
       "list"
      ]
     },
     "execution_count": 96,
     "metadata": {},
     "output_type": "execute_result"
    }
   ],
   "source": [
    "type(rawdata)"
   ]
  },
  {
   "cell_type": "code",
   "execution_count": 149,
   "metadata": {},
   "outputs": [
    {
     "data": {
      "text/html": [
       "<div>\n",
       "<style scoped>\n",
       "    .dataframe tbody tr th:only-of-type {\n",
       "        vertical-align: middle;\n",
       "    }\n",
       "\n",
       "    .dataframe tbody tr th {\n",
       "        vertical-align: top;\n",
       "    }\n",
       "\n",
       "    .dataframe thead th {\n",
       "        text-align: right;\n",
       "    }\n",
       "</style>\n",
       "<table border=\"1\" class=\"dataframe\">\n",
       "  <thead>\n",
       "    <tr style=\"text-align: right;\">\n",
       "      <th></th>\n",
       "      <th>Artist</th>\n",
       "      <th>Album</th>\n",
       "      <th>Released</th>\n",
       "      <th>Genre</th>\n",
       "      <th>Total certified copies(from available markets)*</th>\n",
       "      <th>Claimed sales*</th>\n",
       "      <th>Ref(s)</th>\n",
       "    </tr>\n",
       "  </thead>\n",
       "  <tbody>\n",
       "    <tr>\n",
       "      <th>0</th>\n",
       "      <td>Michael Jackson</td>\n",
       "      <td>Thriller</td>\n",
       "      <td>1982</td>\n",
       "      <td>Pop, post-disco, funk, rock</td>\n",
       "      <td>48.9 US: 34 million[9] JPN: 100,000[10] UK: 4....</td>\n",
       "      <td>70</td>\n",
       "      <td>[4][5]</td>\n",
       "    </tr>\n",
       "    <tr>\n",
       "      <th>1</th>\n",
       "      <td>AC/DC</td>\n",
       "      <td>Back in Black</td>\n",
       "      <td>1980</td>\n",
       "      <td>Hard rock</td>\n",
       "      <td>29.6 US: 25 million[9] UK: 600,000[11] GER: 1 ...</td>\n",
       "      <td>50</td>\n",
       "      <td>[32]</td>\n",
       "    </tr>\n",
       "    <tr>\n",
       "      <th>2</th>\n",
       "      <td>Whitney Houston / various artists</td>\n",
       "      <td>The Bodyguard</td>\n",
       "      <td>1992</td>\n",
       "      <td>R&amp;B, soul, pop, soundtrack</td>\n",
       "      <td>32.4 US: 18 million[9] JPN: 3 million[33] UK: ...</td>\n",
       "      <td>45</td>\n",
       "      <td>[37]</td>\n",
       "    </tr>\n",
       "    <tr>\n",
       "      <th>3</th>\n",
       "      <td>Meat Loaf</td>\n",
       "      <td>Bat Out of Hell</td>\n",
       "      <td>1977</td>\n",
       "      <td>Hard rock, glam rock, progressive rock</td>\n",
       "      <td>21.7 US: 14 million[9] UK: 3.3 million[11] GER...</td>\n",
       "      <td>45</td>\n",
       "      <td>[39]</td>\n",
       "    </tr>\n",
       "    <tr>\n",
       "      <th>4</th>\n",
       "      <td>Eagles</td>\n",
       "      <td>Their Greatest Hits (1971–1975)</td>\n",
       "      <td>1976</td>\n",
       "      <td>Country rock, soft rock, folk rock</td>\n",
       "      <td>41.2 US: 38 million[9] UK: 600,000[11] CAN: 2 ...</td>\n",
       "      <td>44</td>\n",
       "      <td>[40]</td>\n",
       "    </tr>\n",
       "  </tbody>\n",
       "</table>\n",
       "</div>"
      ],
      "text/plain": [
       "                              Artist                            Album  \\\n",
       "0                    Michael Jackson                         Thriller   \n",
       "1                              AC/DC                    Back in Black   \n",
       "2  Whitney Houston / various artists                    The Bodyguard   \n",
       "3                          Meat Loaf                  Bat Out of Hell   \n",
       "4                             Eagles  Their Greatest Hits (1971–1975)   \n",
       "\n",
       "   Released                                   Genre  \\\n",
       "0      1982             Pop, post-disco, funk, rock   \n",
       "1      1980                               Hard rock   \n",
       "2      1992              R&B, soul, pop, soundtrack   \n",
       "3      1977  Hard rock, glam rock, progressive rock   \n",
       "4      1976      Country rock, soft rock, folk rock   \n",
       "\n",
       "     Total certified copies(from available markets)*  Claimed sales*  Ref(s)  \n",
       "0  48.9 US: 34 million[9] JPN: 100,000[10] UK: 4....              70  [4][5]  \n",
       "1  29.6 US: 25 million[9] UK: 600,000[11] GER: 1 ...              50    [32]  \n",
       "2  32.4 US: 18 million[9] JPN: 3 million[33] UK: ...              45    [37]  \n",
       "3  21.7 US: 14 million[9] UK: 3.3 million[11] GER...              45    [39]  \n",
       "4  41.2 US: 38 million[9] UK: 600,000[11] CAN: 2 ...              44    [40]  "
      ]
     },
     "execution_count": 149,
     "metadata": {},
     "output_type": "execute_result"
    }
   ],
   "source": [
    "rawdata[1].head()"
   ]
  },
  {
   "cell_type": "code",
   "execution_count": 110,
   "metadata": {},
   "outputs": [
    {
     "data": {
      "text/html": [
       "<div>\n",
       "<style scoped>\n",
       "    .dataframe tbody tr th:only-of-type {\n",
       "        vertical-align: middle;\n",
       "    }\n",
       "\n",
       "    .dataframe tbody tr th {\n",
       "        vertical-align: top;\n",
       "    }\n",
       "\n",
       "    .dataframe thead th {\n",
       "        text-align: right;\n",
       "    }\n",
       "</style>\n",
       "<table border=\"1\" class=\"dataframe\">\n",
       "  <thead>\n",
       "    <tr style=\"text-align: right;\">\n",
       "      <th></th>\n",
       "      <th>Artist</th>\n",
       "      <th>Album</th>\n",
       "      <th>Released</th>\n",
       "      <th>Genre</th>\n",
       "      <th>Total certified copies(from available markets)*</th>\n",
       "      <th>Claimed sales*</th>\n",
       "      <th>Ref(s)</th>\n",
       "    </tr>\n",
       "  </thead>\n",
       "  <tbody>\n",
       "    <tr>\n",
       "      <th>0</th>\n",
       "      <td>Michael Jackson</td>\n",
       "      <td>Thriller</td>\n",
       "      <td>1982</td>\n",
       "      <td>Pop, post-disco, funk, rock</td>\n",
       "      <td>48.9 US: 34 million[9] JPN: 100,000[10] UK: 4....</td>\n",
       "      <td>70</td>\n",
       "      <td>[4][5]</td>\n",
       "    </tr>\n",
       "    <tr>\n",
       "      <th>1</th>\n",
       "      <td>AC/DC</td>\n",
       "      <td>Back in Black</td>\n",
       "      <td>1980</td>\n",
       "      <td>Hard rock</td>\n",
       "      <td>29.6 US: 25 million[9] UK: 600,000[11] GER: 1 ...</td>\n",
       "      <td>50</td>\n",
       "      <td>[32]</td>\n",
       "    </tr>\n",
       "    <tr>\n",
       "      <th>2</th>\n",
       "      <td>Whitney Houston / various artists</td>\n",
       "      <td>The Bodyguard</td>\n",
       "      <td>1992</td>\n",
       "      <td>R&amp;B, soul, pop, soundtrack</td>\n",
       "      <td>32.4 US: 18 million[9] JPN: 3 million[33] UK: ...</td>\n",
       "      <td>45</td>\n",
       "      <td>[37]</td>\n",
       "    </tr>\n",
       "    <tr>\n",
       "      <th>3</th>\n",
       "      <td>Meat Loaf</td>\n",
       "      <td>Bat Out of Hell</td>\n",
       "      <td>1977</td>\n",
       "      <td>Hard rock, glam rock, progressive rock</td>\n",
       "      <td>21.7 US: 14 million[9] UK: 3.3 million[11] GER...</td>\n",
       "      <td>45</td>\n",
       "      <td>[39]</td>\n",
       "    </tr>\n",
       "    <tr>\n",
       "      <th>4</th>\n",
       "      <td>Eagles</td>\n",
       "      <td>Their Greatest Hits (1971–1975)</td>\n",
       "      <td>1976</td>\n",
       "      <td>Country rock, soft rock, folk rock</td>\n",
       "      <td>41.2 US: 38 million[9] UK: 600,000[11] CAN: 2 ...</td>\n",
       "      <td>44</td>\n",
       "      <td>[40]</td>\n",
       "    </tr>\n",
       "  </tbody>\n",
       "</table>\n",
       "</div>"
      ],
      "text/plain": [
       "                              Artist                            Album  \\\n",
       "0                    Michael Jackson                         Thriller   \n",
       "1                              AC/DC                    Back in Black   \n",
       "2  Whitney Houston / various artists                    The Bodyguard   \n",
       "3                          Meat Loaf                  Bat Out of Hell   \n",
       "4                             Eagles  Their Greatest Hits (1971–1975)   \n",
       "\n",
       "   Released                                   Genre  \\\n",
       "0      1982             Pop, post-disco, funk, rock   \n",
       "1      1980                               Hard rock   \n",
       "2      1992              R&B, soul, pop, soundtrack   \n",
       "3      1977  Hard rock, glam rock, progressive rock   \n",
       "4      1976      Country rock, soft rock, folk rock   \n",
       "\n",
       "     Total certified copies(from available markets)*  Claimed sales*  Ref(s)  \n",
       "0  48.9 US: 34 million[9] JPN: 100,000[10] UK: 4....              70  [4][5]  \n",
       "1  29.6 US: 25 million[9] UK: 600,000[11] GER: 1 ...              50    [32]  \n",
       "2  32.4 US: 18 million[9] JPN: 3 million[33] UK: ...              45    [37]  \n",
       "3  21.7 US: 14 million[9] UK: 3.3 million[11] GER...              45    [39]  \n",
       "4  41.2 US: 38 million[9] UK: 600,000[11] CAN: 2 ...              44    [40]  "
      ]
     },
     "execution_count": 110,
     "metadata": {},
     "output_type": "execute_result"
    }
   ],
   "source": [
    "data = pd.concat([rawdata[1], rawdata[2], rawdata[3]])\n",
    "data.head()"
   ]
  },
  {
   "cell_type": "code",
   "execution_count": 111,
   "metadata": {},
   "outputs": [
    {
     "data": {
      "text/html": [
       "<div>\n",
       "<style scoped>\n",
       "    .dataframe tbody tr th:only-of-type {\n",
       "        vertical-align: middle;\n",
       "    }\n",
       "\n",
       "    .dataframe tbody tr th {\n",
       "        vertical-align: top;\n",
       "    }\n",
       "\n",
       "    .dataframe thead th {\n",
       "        text-align: right;\n",
       "    }\n",
       "</style>\n",
       "<table border=\"1\" class=\"dataframe\">\n",
       "  <thead>\n",
       "    <tr style=\"text-align: right;\">\n",
       "      <th></th>\n",
       "      <th>Artist</th>\n",
       "      <th>Album</th>\n",
       "      <th>Released</th>\n",
       "      <th>Genre</th>\n",
       "      <th>Total certified copies(from available markets)*</th>\n",
       "      <th>Claimed sales*</th>\n",
       "      <th>Ref(s)</th>\n",
       "    </tr>\n",
       "  </thead>\n",
       "  <tbody>\n",
       "    <tr>\n",
       "      <th>43</th>\n",
       "      <td>Tracy Chapman</td>\n",
       "      <td>Tracy Chapman</td>\n",
       "      <td>1988</td>\n",
       "      <td>Folk rock</td>\n",
       "      <td>NaN</td>\n",
       "      <td>20</td>\n",
       "      <td>[168]</td>\n",
       "    </tr>\n",
       "    <tr>\n",
       "      <th>44</th>\n",
       "      <td>Various artists</td>\n",
       "      <td>Flashdance: Original Soundtrack from the Motio...</td>\n",
       "      <td>1983</td>\n",
       "      <td>Electro, synthpop</td>\n",
       "      <td>NaN</td>\n",
       "      <td>20</td>\n",
       "      <td>[169]</td>\n",
       "    </tr>\n",
       "    <tr>\n",
       "      <th>45</th>\n",
       "      <td>Whitney Houston</td>\n",
       "      <td>Whitney</td>\n",
       "      <td>1987</td>\n",
       "      <td>Pop, R&amp;B</td>\n",
       "      <td>NaN</td>\n",
       "      <td>20</td>\n",
       "      <td>[170]</td>\n",
       "    </tr>\n",
       "    <tr>\n",
       "      <th>46</th>\n",
       "      <td>The Who</td>\n",
       "      <td>Tommy</td>\n",
       "      <td>1969</td>\n",
       "      <td>Hard rock, rock opera</td>\n",
       "      <td>NaN</td>\n",
       "      <td>20</td>\n",
       "      <td>[171]</td>\n",
       "    </tr>\n",
       "    <tr>\n",
       "      <th>47</th>\n",
       "      <td>Andrea Bocelli</td>\n",
       "      <td>Romanza</td>\n",
       "      <td>1997</td>\n",
       "      <td>Operatic pop, pop</td>\n",
       "      <td>NaN</td>\n",
       "      <td>20</td>\n",
       "      <td>[172]</td>\n",
       "    </tr>\n",
       "  </tbody>\n",
       "</table>\n",
       "</div>"
      ],
      "text/plain": [
       "             Artist                                              Album  \\\n",
       "43    Tracy Chapman                                      Tracy Chapman   \n",
       "44  Various artists  Flashdance: Original Soundtrack from the Motio...   \n",
       "45  Whitney Houston                                            Whitney   \n",
       "46          The Who                                              Tommy   \n",
       "47   Andrea Bocelli                                            Romanza   \n",
       "\n",
       "    Released                  Genre  \\\n",
       "43      1988              Folk rock   \n",
       "44      1983      Electro, synthpop   \n",
       "45      1987               Pop, R&B   \n",
       "46      1969  Hard rock, rock opera   \n",
       "47      1997      Operatic pop, pop   \n",
       "\n",
       "   Total certified copies(from available markets)*  Claimed sales* Ref(s)  \n",
       "43                                             NaN              20  [168]  \n",
       "44                                             NaN              20  [169]  \n",
       "45                                             NaN              20  [170]  \n",
       "46                                             NaN              20  [171]  \n",
       "47                                             NaN              20  [172]  "
      ]
     },
     "execution_count": 111,
     "metadata": {},
     "output_type": "execute_result"
    }
   ],
   "source": [
    "data.tail()"
   ]
  },
  {
   "cell_type": "code",
   "execution_count": null,
   "metadata": {},
   "outputs": [],
   "source": []
  },
  {
   "cell_type": "code",
   "execution_count": null,
   "metadata": {},
   "outputs": [],
   "source": []
  },
  {
   "cell_type": "code",
   "execution_count": null,
   "metadata": {},
   "outputs": [],
   "source": []
  },
  {
   "cell_type": "code",
   "execution_count": null,
   "metadata": {},
   "outputs": [],
   "source": []
  },
  {
   "cell_type": "code",
   "execution_count": null,
   "metadata": {},
   "outputs": [],
   "source": []
  },
  {
   "cell_type": "code",
   "execution_count": null,
   "metadata": {},
   "outputs": [],
   "source": []
  },
  {
   "cell_type": "code",
   "execution_count": null,
   "metadata": {},
   "outputs": [],
   "source": []
  }
 ],
 "metadata": {
  "kernelspec": {
   "display_name": "Python 3",
   "language": "python",
   "name": "python3"
  },
  "language_info": {
   "codemirror_mode": {
    "name": "ipython",
    "version": 3
   },
   "file_extension": ".py",
   "mimetype": "text/x-python",
   "name": "python",
   "nbconvert_exporter": "python",
   "pygments_lexer": "ipython3",
   "version": "3.7.6"
  }
 },
 "nbformat": 4,
 "nbformat_minor": 4
}
