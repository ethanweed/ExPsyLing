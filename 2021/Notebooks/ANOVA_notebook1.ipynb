{
 "cells": [
  {
   "cell_type": "markdown",
   "id": "7e2832de",
   "metadata": {},
   "source": [
    "In preparing this tutorial, I came to the conclusion that ANOVA in Python is a lot more difficult than it needs to be! So little consistency in syntax and output! Just as I was about to give up hope, I discovered the `pingouin` package, which I think does a pretty good job of simplifying things. What it does under the hood is to take a bunch of the already-existing, but diverse and inconsistent packages, and puts a nicer, simpler wrapper on top of them. So, before we get started, we will need to install `pingouin`:"
   ]
  },
  {
   "cell_type": "code",
   "execution_count": null,
   "id": "4d101473",
   "metadata": {},
   "outputs": [],
   "source": [
    "pip install pingouin"
   ]
  },
  {
   "cell_type": "markdown",
   "id": "bcaf8a5f",
   "metadata": {},
   "source": [
    "## One-way ANOVA\n",
    "\n",
    "We use one-way ANOVA when we have multiple groups that we are comparing on a single measure. As an example, we can use the clinical trial data from the Learning Statistics with Python book. As always, we can start by importing the packages we need, and then loading and inspecting the data:"
   ]
  },
  {
   "cell_type": "code",
   "execution_count": 5,
   "id": "488f824c",
   "metadata": {},
   "outputs": [],
   "source": [
    "import pandas as pd\n",
    "import seaborn as sns\n",
    "import pingouin as pg\n",
    "\n",
    "df = pd.read_csv(\"https://raw.githubusercontent.com/ethanweed/ExPsyLing/master/datasets/clintrial_1predictor.csv\")"
   ]
  },
  {
   "cell_type": "code",
   "execution_count": 12,
   "id": "270fc676",
   "metadata": {},
   "outputs": [
    {
     "data": {
      "text/html": [
       "<div>\n",
       "<style scoped>\n",
       "    .dataframe tbody tr th:only-of-type {\n",
       "        vertical-align: middle;\n",
       "    }\n",
       "\n",
       "    .dataframe tbody tr th {\n",
       "        vertical-align: top;\n",
       "    }\n",
       "\n",
       "    .dataframe thead th {\n",
       "        text-align: right;\n",
       "    }\n",
       "</style>\n",
       "<table border=\"1\" class=\"dataframe\">\n",
       "  <thead>\n",
       "    <tr style=\"text-align: right;\">\n",
       "      <th></th>\n",
       "      <th>drug</th>\n",
       "      <th>mood_gain</th>\n",
       "    </tr>\n",
       "  </thead>\n",
       "  <tbody>\n",
       "    <tr>\n",
       "      <th>0</th>\n",
       "      <td>placebo</td>\n",
       "      <td>0.5</td>\n",
       "    </tr>\n",
       "    <tr>\n",
       "      <th>1</th>\n",
       "      <td>placebo</td>\n",
       "      <td>0.3</td>\n",
       "    </tr>\n",
       "    <tr>\n",
       "      <th>2</th>\n",
       "      <td>placebo</td>\n",
       "      <td>0.1</td>\n",
       "    </tr>\n",
       "    <tr>\n",
       "      <th>3</th>\n",
       "      <td>anxifree</td>\n",
       "      <td>0.6</td>\n",
       "    </tr>\n",
       "    <tr>\n",
       "      <th>4</th>\n",
       "      <td>anxifree</td>\n",
       "      <td>0.4</td>\n",
       "    </tr>\n",
       "  </tbody>\n",
       "</table>\n",
       "</div>"
      ],
      "text/plain": [
       "       drug  mood_gain\n",
       "0   placebo        0.5\n",
       "1   placebo        0.3\n",
       "2   placebo        0.1\n",
       "3  anxifree        0.6\n",
       "4  anxifree        0.4"
      ]
     },
     "execution_count": 12,
     "metadata": {},
     "output_type": "execute_result"
    }
   ],
   "source": [
    "df.head()"
   ]
  },
  {
   "cell_type": "markdown",
   "id": "05c9fe8d",
   "metadata": {},
   "source": [
    "In these fictious data, we have three groups of participants in a clinical trial: one group received one drug, anxifree, another group received another drug, joyzepam, and the third group received a placebo treatment. So, we have one predictor variable, `drug`, and one outcome variable, `mood_gain`. If we plot the data, it looks like joyzepam gives the best result, but is the difference statistically significant?"
   ]
  },
  {
   "cell_type": "code",
   "execution_count": 3,
   "id": "a9e1b3b2",
   "metadata": {},
   "outputs": [
    {
     "data": {
      "text/plain": [
       "<AxesSubplot:xlabel='drug', ylabel='mood_gain'>"
      ]
     },
     "execution_count": 3,
     "metadata": {},
     "output_type": "execute_result"
    },
    {
     "data": {
      "image/png": "[encoded data removed]",
      "text/plain": [
       "<Figure size 432x288 with 1 Axes>"
      ]
     },
     "metadata": {
      "needs_background": "light"
     },
     "output_type": "display_data"
    }
   ],
   "source": [
    "sns.pointplot(data = df, x = 'drug', y = 'mood_gain')"
   ]
  },
  {
   "cell_type": "markdown",
   "id": "41beb05f",
   "metadata": {},
   "source": [
    "This data calls for a one-way ANOVA, and `pingouin` makes it quite easy. In fact, `pingouin` adds extra superpowers to our `pandas` dataframe, so that it can now compute ANOVA's for us:"
   ]
  },
  {
   "cell_type": "code",
   "execution_count": 9,
   "id": "e6fff19a",
   "metadata": {},
   "outputs": [
    {
     "data": {
      "text/html": [
       "<div>\n",
       "<style scoped>\n",
       "    .dataframe tbody tr th:only-of-type {\n",
       "        vertical-align: middle;\n",
       "    }\n",
       "\n",
       "    .dataframe tbody tr th {\n",
       "        vertical-align: top;\n",
       "    }\n",
       "\n",
       "    .dataframe thead th {\n",
       "        text-align: right;\n",
       "    }\n",
       "</style>\n",
       "<table border=\"1\" class=\"dataframe\">\n",
       "  <thead>\n",
       "    <tr style=\"text-align: right;\">\n",
       "      <th></th>\n",
       "      <th>Source</th>\n",
       "      <th>SS</th>\n",
       "      <th>DF</th>\n",
       "      <th>MS</th>\n",
       "      <th>F</th>\n",
       "      <th>p-unc</th>\n",
       "      <th>np2</th>\n",
       "    </tr>\n",
       "  </thead>\n",
       "  <tbody>\n",
       "    <tr>\n",
       "      <th>0</th>\n",
       "      <td>drug</td>\n",
       "      <td>3.453333</td>\n",
       "      <td>2</td>\n",
       "      <td>1.726667</td>\n",
       "      <td>18.610778</td>\n",
       "      <td>0.000086</td>\n",
       "      <td>0.712762</td>\n",
       "    </tr>\n",
       "    <tr>\n",
       "      <th>1</th>\n",
       "      <td>Within</td>\n",
       "      <td>1.391667</td>\n",
       "      <td>15</td>\n",
       "      <td>0.092778</td>\n",
       "      <td>NaN</td>\n",
       "      <td>NaN</td>\n",
       "      <td>NaN</td>\n",
       "    </tr>\n",
       "  </tbody>\n",
       "</table>\n",
       "</div>"
      ],
      "text/plain": [
       "   Source        SS  DF        MS          F     p-unc       np2\n",
       "0    drug  3.453333   2  1.726667  18.610778  0.000086  0.712762\n",
       "1  Within  1.391667  15  0.092778        NaN       NaN       NaN"
      ]
     },
     "execution_count": 9,
     "metadata": {},
     "output_type": "execute_result"
    }
   ],
   "source": [
    "# our outcome measure, or \"dependent variable\" (dv) is mood_gain\n",
    "# our between-subjects predictor variable is \"drug\"\n",
    "\n",
    "df.anova(dv = 'mood_gain', between = 'drug', detailed=True)\n"
   ]
  },
  {
   "cell_type": "markdown",
   "id": "6a2b3ece",
   "metadata": {},
   "source": [
    "To report an ANOVA, we need to report the F-value, the p-value, and two different degrees of freedom: one for predictor variable, and one for the participants. `pingouin` provides these for us, so all we need to do is find them in the ANOVA table (above). To report our results, we can write: \"A one-way analysis of variance showed a significant effect of drug (F(2,15) = 18.61, p = 0.000086).\"\n",
    "\n",
    "The \"p-unc\" in the table is our p-value. The \"unc\" means uncorrected for multiple comparisons, which is fine, because we haven't done any multiple comparisons yet. If we do want to do some post-hoc t-tests, we use the `pairwise_ttests` functionality which `pingouin` has added to our dataframe. To specify what kind of correction for multiple comparisons we want to use, we use the `padjust` argument. Here we are doing a Bonferroni correction:"
   ]
  },
  {
   "cell_type": "code",
   "execution_count": 18,
   "id": "beb7deff",
   "metadata": {},
   "outputs": [
    {
     "data": {
      "text/html": [
       "<div>\n",
       "<style scoped>\n",
       "    .dataframe tbody tr th:only-of-type {\n",
       "        vertical-align: middle;\n",
       "    }\n",
       "\n",
       "    .dataframe tbody tr th {\n",
       "        vertical-align: top;\n",
       "    }\n",
       "\n",
       "    .dataframe thead th {\n",
       "        text-align: right;\n",
       "    }\n",
       "</style>\n",
       "<table border=\"1\" class=\"dataframe\">\n",
       "  <thead>\n",
       "    <tr style=\"text-align: right;\">\n",
       "      <th></th>\n",
       "      <th>Contrast</th>\n",
       "      <th>A</th>\n",
       "      <th>B</th>\n",
       "      <th>Paired</th>\n",
       "      <th>Parametric</th>\n",
       "      <th>T</th>\n",
       "      <th>dof</th>\n",
       "      <th>alternative</th>\n",
       "      <th>p-unc</th>\n",
       "      <th>p-corr</th>\n",
       "      <th>p-adjust</th>\n",
       "      <th>BF10</th>\n",
       "      <th>hedges</th>\n",
       "    </tr>\n",
       "  </thead>\n",
       "  <tbody>\n",
       "    <tr>\n",
       "      <th>0</th>\n",
       "      <td>drug</td>\n",
       "      <td>anxifree</td>\n",
       "      <td>joyzepam</td>\n",
       "      <td>False</td>\n",
       "      <td>True</td>\n",
       "      <td>-4.206222</td>\n",
       "      <td>10.0</td>\n",
       "      <td>two-sided</td>\n",
       "      <td>0.001811</td>\n",
       "      <td>0.005432</td>\n",
       "      <td>bonf</td>\n",
       "      <td>17.947</td>\n",
       "      <td>-2.241659</td>\n",
       "    </tr>\n",
       "    <tr>\n",
       "      <th>1</th>\n",
       "      <td>drug</td>\n",
       "      <td>anxifree</td>\n",
       "      <td>placebo</td>\n",
       "      <td>False</td>\n",
       "      <td>True</td>\n",
       "      <td>1.354183</td>\n",
       "      <td>10.0</td>\n",
       "      <td>two-sided</td>\n",
       "      <td>0.205486</td>\n",
       "      <td>0.616459</td>\n",
       "      <td>bonf</td>\n",
       "      <td>0.814</td>\n",
       "      <td>0.721696</td>\n",
       "    </tr>\n",
       "    <tr>\n",
       "      <th>2</th>\n",
       "      <td>drug</td>\n",
       "      <td>joyzepam</td>\n",
       "      <td>placebo</td>\n",
       "      <td>False</td>\n",
       "      <td>True</td>\n",
       "      <td>7.168708</td>\n",
       "      <td>10.0</td>\n",
       "      <td>two-sided</td>\n",
       "      <td>0.000030</td>\n",
       "      <td>0.000091</td>\n",
       "      <td>bonf</td>\n",
       "      <td>475.231</td>\n",
       "      <td>3.820482</td>\n",
       "    </tr>\n",
       "  </tbody>\n",
       "</table>\n",
       "</div>"
      ],
      "text/plain": [
       "  Contrast         A         B  Paired  Parametric         T   dof  \\\n",
       "0     drug  anxifree  joyzepam   False        True -4.206222  10.0   \n",
       "1     drug  anxifree   placebo   False        True  1.354183  10.0   \n",
       "2     drug  joyzepam   placebo   False        True  7.168708  10.0   \n",
       "\n",
       "  alternative     p-unc    p-corr p-adjust     BF10    hedges  \n",
       "0   two-sided  0.001811  0.005432     bonf   17.947 -2.241659  \n",
       "1   two-sided  0.205486  0.616459     bonf    0.814  0.721696  \n",
       "2   two-sided  0.000030  0.000091     bonf  475.231  3.820482  "
      ]
     },
     "execution_count": 18,
     "metadata": {},
     "output_type": "execute_result"
    }
   ],
   "source": [
    "df.pairwise_ttests(dv = 'mood_gain', between = 'drug', padjust = 'bonf')"
   ]
  },
  {
   "cell_type": "markdown",
   "id": "52d56e51",
   "metadata": {},
   "source": [
    "## Two-way ANOVA"
   ]
  },
  {
   "cell_type": "code",
   "execution_count": null,
   "id": "0f03d71f",
   "metadata": {},
   "outputs": [],
   "source": [
    "df.head()"
   ]
  },
  {
   "cell_type": "code",
   "execution_count": null,
   "id": "b6ecf240",
   "metadata": {},
   "outputs": [],
   "source": [
    "sns.pointplot(data = df, x = 'drug', y = 'mood_gain', hue = 'therapy')"
   ]
  },
  {
   "cell_type": "code",
   "execution_count": null,
   "id": "fe08cc94",
   "metadata": {},
   "outputs": [],
   "source": [
    "df.anova(dv=\"mood_gain\", between=[\"drug\", \"therapy\"]).round(3)\n"
   ]
  },
  {
   "cell_type": "markdown",
   "id": "9bdf254c",
   "metadata": {},
   "source": [
    "## One-way Repeated Measures ANOVA"
   ]
  },
  {
   "cell_type": "code",
   "execution_count": null,
   "id": "a495c151",
   "metadata": {},
   "outputs": [],
   "source": [
    "#df = pd.read_csv(\"https://raw.githubusercontent.com/ethanweed/ExPsyLing/master/datasets/stroop_2021_long.csv\")\n",
    "df = pd.read_csv(\"https://reneshbedre.github.io/assets/posts/anova/plants_leaves.csv\")\n",
    "df.head()"
   ]
  },
  {
   "cell_type": "code",
   "execution_count": null,
   "id": "bce965bf",
   "metadata": {},
   "outputs": [],
   "source": [
    "sns.pointplot(data = df)"
   ]
  },
  {
   "cell_type": "code",
   "execution_count": null,
   "id": "2e9065d9",
   "metadata": {},
   "outputs": [],
   "source": [
    "pg.rm_anova(df)\n",
    "\n",
    "# for long format data, see: https://pingouin-stats.org/generated/pingouin.rm_anova.html#pingouin.rm_anova"
   ]
  },
  {
   "cell_type": "markdown",
   "id": "8fcdfc8a",
   "metadata": {},
   "source": [
    "## Two-way Repeated Measures ANOVA"
   ]
  },
  {
   "cell_type": "code",
   "execution_count": null,
   "id": "92f55f12",
   "metadata": {},
   "outputs": [],
   "source": [
    "df = pd.read_csv(\"https://raw.githubusercontent.com/ethanweed/ExPsyLing/master/datasets/stroop_2021_long.csv\")\n",
    "#df = pd.read_csv(\"https://raw.githubusercontent.com/marsja/jupyter/master/Python_ANOVA/rmAOV1way.csv\")\n",
    "df.head()"
   ]
  },
  {
   "cell_type": "code",
   "execution_count": null,
   "id": "abfbbf19",
   "metadata": {},
   "outputs": [],
   "source": [
    "pg.rm_anova(df)"
   ]
  },
  {
   "cell_type": "code",
   "execution_count": null,
   "id": "054d8f6c",
   "metadata": {},
   "outputs": [],
   "source": [
    "aov = pg.rm_anova(dv='DesireToKill',\n",
    "...                   within=['Disgustingness', 'Frighteningness'],\n",
    "...                   subject='Subject', data=df)"
   ]
  }
 ],
 "metadata": {
  "kernelspec": {
   "display_name": "Python 3",
   "language": "python",
   "name": "python3"
  },
  "language_info": {
   "codemirror_mode": {
    "name": "ipython",
    "version": 3
   },
   "file_extension": ".py",
   "mimetype": "text/x-python",
   "name": "python",
   "nbconvert_exporter": "python",
   "pygments_lexer": "ipython3",
   "version": "3.7.10"
  }
 },
 "nbformat": 4,
 "nbformat_minor": 5
}
