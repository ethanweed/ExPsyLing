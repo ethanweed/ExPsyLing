{
 "cells": [
  {
   "cell_type": "markdown",
   "id": "5428e808",
   "metadata": {},
   "source": [
    "In preparing this tutorial, I came to the conclusion that ANOVA in Python is a lot more difficult than it needs to be! So little consistency in syntax and output! Just as I was about to give up hope, I discovered the `pingouin` package, which I think does a pretty good job of simplifying things. What it does under the hood is to take a bunch of the already-existing, but diverse and inconsistent packages, and puts a nicer, simpler wrapper on top of them. So, before we get started, we will need to install `pingouin`:"
   ]
  },
  {
   "cell_type": "code",
   "execution_count": null,
   "id": "4d101473",
   "metadata": {},
   "outputs": [],
   "source": [
    "pip install pingouin"
   ]
  },
  {
   "cell_type": "markdown",
   "id": "bcaf8a5f",
   "metadata": {},
   "source": [
    "## One-way ANOVA\n",
    "\n",
    "We use one-way ANOVA when we have multiple groups that we are comparing on a single measure. As an example, we can use the clinical trial data from the Learning Statistics with Python book. As always, we can start by importing the packages we need, and then loading and inspecting the data:"
   ]
  },
  {
   "cell_type": "code",
   "execution_count": 5,
   "id": "488f824c",
   "metadata": {},
   "outputs": [],
   "source": [
    "import pandas as pd\n",
    "import seaborn as sns\n",
    "import pingouin as pg\n",
    "\n",
    "df = pd.read_csv(\"https://raw.githubusercontent.com/ethanweed/ExPsyLing/master/datasets/clintrial_1predictor.csv\")"
   ]
  },
  {
   "cell_type": "code",
   "execution_count": 12,
   "id": "270fc676",
   "metadata": {},
   "outputs": [
    {
     "data": {
      "text/html": [
       "<div>\n",
       "<style scoped>\n",
       "    .dataframe tbody tr th:only-of-type {\n",
       "        vertical-align: middle;\n",
       "    }\n",
       "\n",
       "    .dataframe tbody tr th {\n",
       "        vertical-align: top;\n",
       "    }\n",
       "\n",
       "    .dataframe thead th {\n",
       "        text-align: right;\n",
       "    }\n",
       "</style>\n",
       "<table border=\"1\" class=\"dataframe\">\n",
       "  <thead>\n",
       "    <tr style=\"text-align: right;\">\n",
       "      <th></th>\n",
       "      <th>drug</th>\n",
       "      <th>mood_gain</th>\n",
       "    </tr>\n",
       "  </thead>\n",
       "  <tbody>\n",
       "    <tr>\n",
       "      <th>0</th>\n",
       "      <td>placebo</td>\n",
       "      <td>0.5</td>\n",
       "    </tr>\n",
       "    <tr>\n",
       "      <th>1</th>\n",
       "      <td>placebo</td>\n",
       "      <td>0.3</td>\n",
       "    </tr>\n",
       "    <tr>\n",
       "      <th>2</th>\n",
       "      <td>placebo</td>\n",
       "      <td>0.1</td>\n",
       "    </tr>\n",
       "    <tr>\n",
       "      <th>3</th>\n",
       "      <td>anxifree</td>\n",
       "      <td>0.6</td>\n",
       "    </tr>\n",
       "    <tr>\n",
       "      <th>4</th>\n",
       "      <td>anxifree</td>\n",
       "      <td>0.4</td>\n",
       "    </tr>\n",
       "  </tbody>\n",
       "</table>\n",
       "</div>"
      ],
      "text/plain": [
       "       drug  mood_gain\n",
       "0   placebo        0.5\n",
       "1   placebo        0.3\n",
       "2   placebo        0.1\n",
       "3  anxifree        0.6\n",
       "4  anxifree        0.4"
      ]
     },
     "execution_count": 12,
     "metadata": {},
     "output_type": "execute_result"
    }
   ],
   "source": [
    "df.head()"
   ]
  },
  {
   "cell_type": "markdown",
   "id": "0991fa1e",
   "metadata": {},
   "source": [
    "In these fictious data, we have three groups of participants in a clinical trial: one group received one drug, anxifree, another group received another drug, joyzepam, and the third group received a placebo treatment. So, we have one predictor variable, `drug`, and one outcome variable, `mood_gain`. If we plot the data, it looks like joyzepam gives the best result, but is the difference statistically significant?"
   ]
  },
  {
   "cell_type": "code",
   "execution_count": 3,
   "id": "a9e1b3b2",
   "metadata": {},
   "outputs": [
    {
     "data": {
      "text/plain": [
       "<AxesSubplot:xlabel='drug', ylabel='mood_gain'>"
      ]
     },
     "execution_count": 3,
     "metadata": {},
     "output_type": "execute_result"
    },
    {
     "data": {
      "image/png": "[encoded data removed]",
      "text/plain": [
       "<Figure size 432x288 with 1 Axes>"
      ]
     },
     "metadata": {
      "needs_background": "light"
     },
     "output_type": "display_data"
    }
   ],
   "source": [
    "sns.pointplot(data = df, x = 'drug', y = 'mood_gain')"
   ]
  },
  {
   "cell_type": "markdown",
   "id": "4c7d4711",
   "metadata": {},
   "source": [
    "This data calls for a one-way ANOVA, and `pingouin` makes it quite easy. In fact, `pingouin` adds extra superpowers to our `pandas` dataframe, so that it can now compute ANOVA's for us:"
   ]
  },
  {
   "cell_type": "code",
   "execution_count": 27,
   "id": "e6fff19a",
   "metadata": {},
   "outputs": [
    {
     "data": {
      "text/html": [
       "<div>\n",
       "<style scoped>\n",
       "    .dataframe tbody tr th:only-of-type {\n",
       "        vertical-align: middle;\n",
       "    }\n",
       "\n",
       "    .dataframe tbody tr th {\n",
       "        vertical-align: top;\n",
       "    }\n",
       "\n",
       "    .dataframe thead th {\n",
       "        text-align: right;\n",
       "    }\n",
       "</style>\n",
       "<table border=\"1\" class=\"dataframe\">\n",
       "  <thead>\n",
       "    <tr style=\"text-align: right;\">\n",
       "      <th></th>\n",
       "      <th>Source</th>\n",
       "      <th>SS</th>\n",
       "      <th>DF</th>\n",
       "      <th>MS</th>\n",
       "      <th>F</th>\n",
       "      <th>p-unc</th>\n",
       "      <th>np2</th>\n",
       "    </tr>\n",
       "  </thead>\n",
       "  <tbody>\n",
       "    <tr>\n",
       "      <th>0</th>\n",
       "      <td>drug</td>\n",
       "      <td>3.453333</td>\n",
       "      <td>2</td>\n",
       "      <td>1.726667</td>\n",
       "      <td>18.610778</td>\n",
       "      <td>0.000086</td>\n",
       "      <td>0.712762</td>\n",
       "    </tr>\n",
       "    <tr>\n",
       "      <th>1</th>\n",
       "      <td>Within</td>\n",
       "      <td>1.391667</td>\n",
       "      <td>15</td>\n",
       "      <td>0.092778</td>\n",
       "      <td>NaN</td>\n",
       "      <td>NaN</td>\n",
       "      <td>NaN</td>\n",
       "    </tr>\n",
       "  </tbody>\n",
       "</table>\n",
       "</div>"
      ],
      "text/plain": [
       "   Source        SS  DF        MS          F     p-unc       np2\n",
       "0    drug  3.453333   2  1.726667  18.610778  0.000086  0.712762\n",
       "1  Within  1.391667  15  0.092778        NaN       NaN       NaN"
      ]
     },
     "execution_count": 27,
     "metadata": {},
     "output_type": "execute_result"
    }
   ],
   "source": [
    "# our outcome measure, or \"dependent variable\" (dv) is mood_gain\n",
    "# our between-subjects predictor variable is \"drug\"\n",
    "\n",
    "df.anova(dv = 'mood_gain', between = 'drug', detailed=True)\n"
   ]
  },
  {
   "cell_type": "markdown",
   "id": "3ac397f1",
   "metadata": {},
   "source": [
    "To report an ANOVA, we need to report the F-value, the p-value, and two different degrees of freedom: one for predictor variable, and one for the participants. `pingouin` provides these for us, so all we need to do is find them in the ANOVA table (above). To report our results, we can write: \"A one-way analysis of variance showed a significant effect of drug (F(2,15) = 18.61, p = 0.000086).\"\n",
    "\n",
    "The \"p-unc\" in the table is our p-value. The \"unc\" means uncorrected for multiple comparisons, which is fine, because we haven't done any multiple comparisons yet. If we do want to do some post-hoc t-tests, we use the `pairwise_ttests` functionality which `pingouin` has added to our dataframe. To specify what kind of correction for multiple comparisons we want to use, we use the `padjust` argument. Here we are doing a Bonferroni correction:"
   ]
  },
  {
   "cell_type": "code",
   "execution_count": 18,
   "id": "47342e63",
   "metadata": {},
   "outputs": [
    {
     "data": {
      "text/html": [
       "<div>\n",
       "<style scoped>\n",
       "    .dataframe tbody tr th:only-of-type {\n",
       "        vertical-align: middle;\n",
       "    }\n",
       "\n",
       "    .dataframe tbody tr th {\n",
       "        vertical-align: top;\n",
       "    }\n",
       "\n",
       "    .dataframe thead th {\n",
       "        text-align: right;\n",
       "    }\n",
       "</style>\n",
       "<table border=\"1\" class=\"dataframe\">\n",
       "  <thead>\n",
       "    <tr style=\"text-align: right;\">\n",
       "      <th></th>\n",
       "      <th>Contrast</th>\n",
       "      <th>A</th>\n",
       "      <th>B</th>\n",
       "      <th>Paired</th>\n",
       "      <th>Parametric</th>\n",
       "      <th>T</th>\n",
       "      <th>dof</th>\n",
       "      <th>alternative</th>\n",
       "      <th>p-unc</th>\n",
       "      <th>p-corr</th>\n",
       "      <th>p-adjust</th>\n",
       "      <th>BF10</th>\n",
       "      <th>hedges</th>\n",
       "    </tr>\n",
       "  </thead>\n",
       "  <tbody>\n",
       "    <tr>\n",
       "      <th>0</th>\n",
       "      <td>drug</td>\n",
       "      <td>anxifree</td>\n",
       "      <td>joyzepam</td>\n",
       "      <td>False</td>\n",
       "      <td>True</td>\n",
       "      <td>-4.206222</td>\n",
       "      <td>10.0</td>\n",
       "      <td>two-sided</td>\n",
       "      <td>0.001811</td>\n",
       "      <td>0.005432</td>\n",
       "      <td>bonf</td>\n",
       "      <td>17.947</td>\n",
       "      <td>-2.241659</td>\n",
       "    </tr>\n",
       "    <tr>\n",
       "      <th>1</th>\n",
       "      <td>drug</td>\n",
       "      <td>anxifree</td>\n",
       "      <td>placebo</td>\n",
       "      <td>False</td>\n",
       "      <td>True</td>\n",
       "      <td>1.354183</td>\n",
       "      <td>10.0</td>\n",
       "      <td>two-sided</td>\n",
       "      <td>0.205486</td>\n",
       "      <td>0.616459</td>\n",
       "      <td>bonf</td>\n",
       "      <td>0.814</td>\n",
       "      <td>0.721696</td>\n",
       "    </tr>\n",
       "    <tr>\n",
       "      <th>2</th>\n",
       "      <td>drug</td>\n",
       "      <td>joyzepam</td>\n",
       "      <td>placebo</td>\n",
       "      <td>False</td>\n",
       "      <td>True</td>\n",
       "      <td>7.168708</td>\n",
       "      <td>10.0</td>\n",
       "      <td>two-sided</td>\n",
       "      <td>0.000030</td>\n",
       "      <td>0.000091</td>\n",
       "      <td>bonf</td>\n",
       "      <td>475.231</td>\n",
       "      <td>3.820482</td>\n",
       "    </tr>\n",
       "  </tbody>\n",
       "</table>\n",
       "</div>"
      ],
      "text/plain": [
       "  Contrast         A         B  Paired  Parametric         T   dof  \\\n",
       "0     drug  anxifree  joyzepam   False        True -4.206222  10.0   \n",
       "1     drug  anxifree   placebo   False        True  1.354183  10.0   \n",
       "2     drug  joyzepam   placebo   False        True  7.168708  10.0   \n",
       "\n",
       "  alternative     p-unc    p-corr p-adjust     BF10    hedges  \n",
       "0   two-sided  0.001811  0.005432     bonf   17.947 -2.241659  \n",
       "1   two-sided  0.205486  0.616459     bonf    0.814  0.721696  \n",
       "2   two-sided  0.000030  0.000091     bonf  475.231  3.820482  "
      ]
     },
     "execution_count": 18,
     "metadata": {},
     "output_type": "execute_result"
    }
   ],
   "source": [
    "df.pairwise_ttests(dv = 'mood_gain', between = 'drug', padjust = 'bonf')"
   ]
  },
  {
   "cell_type": "markdown",
   "id": "52d56e51",
   "metadata": {},
   "source": [
    "## Two-way ANOVA\n",
    "\n",
    "What if, instead of just taking a medication (or placebo), the participants were also offered some counseling therapy? Let's say half the participants from each medication group also received some cognitive behavioural therapy (CBT) while the other half did not. Now we have two predictor variables: `drug` and `therapy`. As before, let's inspect and plot the data.."
   ]
  },
  {
   "cell_type": "code",
   "execution_count": 21,
   "id": "0f03d71f",
   "metadata": {},
   "outputs": [
    {
     "data": {
      "text/html": [
       "<div>\n",
       "<style scoped>\n",
       "    .dataframe tbody tr th:only-of-type {\n",
       "        vertical-align: middle;\n",
       "    }\n",
       "\n",
       "    .dataframe tbody tr th {\n",
       "        vertical-align: top;\n",
       "    }\n",
       "\n",
       "    .dataframe thead th {\n",
       "        text-align: right;\n",
       "    }\n",
       "</style>\n",
       "<table border=\"1\" class=\"dataframe\">\n",
       "  <thead>\n",
       "    <tr style=\"text-align: right;\">\n",
       "      <th></th>\n",
       "      <th>drug</th>\n",
       "      <th>therapy</th>\n",
       "      <th>mood_gain</th>\n",
       "    </tr>\n",
       "  </thead>\n",
       "  <tbody>\n",
       "    <tr>\n",
       "      <th>0</th>\n",
       "      <td>placebo</td>\n",
       "      <td>no.therapy</td>\n",
       "      <td>0.5</td>\n",
       "    </tr>\n",
       "    <tr>\n",
       "      <th>1</th>\n",
       "      <td>placebo</td>\n",
       "      <td>no.therapy</td>\n",
       "      <td>0.3</td>\n",
       "    </tr>\n",
       "    <tr>\n",
       "      <th>2</th>\n",
       "      <td>placebo</td>\n",
       "      <td>no.therapy</td>\n",
       "      <td>0.1</td>\n",
       "    </tr>\n",
       "    <tr>\n",
       "      <th>3</th>\n",
       "      <td>anxifree</td>\n",
       "      <td>no.therapy</td>\n",
       "      <td>0.6</td>\n",
       "    </tr>\n",
       "    <tr>\n",
       "      <th>4</th>\n",
       "      <td>anxifree</td>\n",
       "      <td>no.therapy</td>\n",
       "      <td>0.4</td>\n",
       "    </tr>\n",
       "  </tbody>\n",
       "</table>\n",
       "</div>"
      ],
      "text/plain": [
       "       drug     therapy  mood_gain\n",
       "0   placebo  no.therapy        0.5\n",
       "1   placebo  no.therapy        0.3\n",
       "2   placebo  no.therapy        0.1\n",
       "3  anxifree  no.therapy        0.6\n",
       "4  anxifree  no.therapy        0.4"
      ]
     },
     "execution_count": 21,
     "metadata": {},
     "output_type": "execute_result"
    }
   ],
   "source": [
    "df = pd.read_csv('https://raw.githubusercontent.com/ethanweed/pythonbook/main/Data/clintrial.csv')\n",
    "df.head()"
   ]
  },
  {
   "cell_type": "code",
   "execution_count": 22,
   "id": "b6ecf240",
   "metadata": {},
   "outputs": [
    {
     "data": {
      "text/plain": [
       "<AxesSubplot:xlabel='drug', ylabel='mood_gain'>"
      ]
     },
     "execution_count": 22,
     "metadata": {},
     "output_type": "execute_result"
    },
    {
     "data": {
      "image/png": "[encoded data removed]",
      "text/plain": [
       "<Figure size 432x288 with 1 Axes>"
      ]
     },
     "metadata": {
      "needs_background": "light"
     },
     "output_type": "display_data"
    }
   ],
   "source": [
    "sns.pointplot(data = df, x = 'drug', y = 'mood_gain', hue = 'therapy')"
   ]
  },
  {
   "cell_type": "markdown",
   "id": "03d43dab",
   "metadata": {},
   "source": [
    "Just like before, we have one _dependent variable_, mood_gain. But now we have two _between subjects_ variables: drug and therapy. Otherwise, the syntax is pretty much the same as for the one-way ANOVA:"
   ]
  },
  {
   "cell_type": "code",
   "execution_count": 28,
   "id": "fe08cc94",
   "metadata": {},
   "outputs": [
    {
     "data": {
      "text/html": [
       "<div>\n",
       "<style scoped>\n",
       "    .dataframe tbody tr th:only-of-type {\n",
       "        vertical-align: middle;\n",
       "    }\n",
       "\n",
       "    .dataframe tbody tr th {\n",
       "        vertical-align: top;\n",
       "    }\n",
       "\n",
       "    .dataframe thead th {\n",
       "        text-align: right;\n",
       "    }\n",
       "</style>\n",
       "<table border=\"1\" class=\"dataframe\">\n",
       "  <thead>\n",
       "    <tr style=\"text-align: right;\">\n",
       "      <th></th>\n",
       "      <th>Source</th>\n",
       "      <th>SS</th>\n",
       "      <th>DF</th>\n",
       "      <th>MS</th>\n",
       "      <th>F</th>\n",
       "      <th>p-unc</th>\n",
       "      <th>np2</th>\n",
       "    </tr>\n",
       "  </thead>\n",
       "  <tbody>\n",
       "    <tr>\n",
       "      <th>0</th>\n",
       "      <td>drug</td>\n",
       "      <td>3.453333</td>\n",
       "      <td>2</td>\n",
       "      <td>1.726667</td>\n",
       "      <td>31.714286</td>\n",
       "      <td>0.000016</td>\n",
       "      <td>0.840909</td>\n",
       "    </tr>\n",
       "    <tr>\n",
       "      <th>1</th>\n",
       "      <td>therapy</td>\n",
       "      <td>0.467222</td>\n",
       "      <td>1</td>\n",
       "      <td>0.467222</td>\n",
       "      <td>8.581633</td>\n",
       "      <td>0.012617</td>\n",
       "      <td>0.416956</td>\n",
       "    </tr>\n",
       "    <tr>\n",
       "      <th>2</th>\n",
       "      <td>drug * therapy</td>\n",
       "      <td>0.271111</td>\n",
       "      <td>2</td>\n",
       "      <td>0.135556</td>\n",
       "      <td>2.489796</td>\n",
       "      <td>0.124602</td>\n",
       "      <td>0.293269</td>\n",
       "    </tr>\n",
       "    <tr>\n",
       "      <th>3</th>\n",
       "      <td>Residual</td>\n",
       "      <td>0.653333</td>\n",
       "      <td>12</td>\n",
       "      <td>0.054444</td>\n",
       "      <td>NaN</td>\n",
       "      <td>NaN</td>\n",
       "      <td>NaN</td>\n",
       "    </tr>\n",
       "  </tbody>\n",
       "</table>\n",
       "</div>"
      ],
      "text/plain": [
       "           Source        SS  DF        MS          F     p-unc       np2\n",
       "0            drug  3.453333   2  1.726667  31.714286  0.000016  0.840909\n",
       "1         therapy  0.467222   1  0.467222   8.581633  0.012617  0.416956\n",
       "2  drug * therapy  0.271111   2  0.135556   2.489796  0.124602  0.293269\n",
       "3        Residual  0.653333  12  0.054444        NaN       NaN       NaN"
      ]
     },
     "execution_count": 28,
     "metadata": {},
     "output_type": "execute_result"
    }
   ],
   "source": [
    "df.anova(dv=\"mood_gain\", between=[\"drug\", \"therapy\"])\n"
   ]
  },
  {
   "cell_type": "markdown",
   "id": "6882c523",
   "metadata": {},
   "source": [
    "Now we two effects to report: the effect of `drug` and the effect of `therapy`. These are called \"main effects\", and we can report them just like for the one-way ANOVA:\n",
    "\n",
    "\"There was a significant main effect of drug (F(2,12) = 31.71, p = 0.000016) and a significant main effect of therapy (F(1,12) = 8.58, p = 0.01). There was no significant interaction between drug and therapy (F(2,12) = 2.48, p = 0.12).\"\n",
    "\n",
    "If we want to do post-hoc t-tests, we can do the same thing as before, just with the addition of the extra predictor:"
   ]
  },
  {
   "cell_type": "code",
   "execution_count": 30,
   "id": "931a093b",
   "metadata": {},
   "outputs": [
    {
     "data": {
      "text/html": [
       "<div>\n",
       "<style scoped>\n",
       "    .dataframe tbody tr th:only-of-type {\n",
       "        vertical-align: middle;\n",
       "    }\n",
       "\n",
       "    .dataframe tbody tr th {\n",
       "        vertical-align: top;\n",
       "    }\n",
       "\n",
       "    .dataframe thead th {\n",
       "        text-align: right;\n",
       "    }\n",
       "</style>\n",
       "<table border=\"1\" class=\"dataframe\">\n",
       "  <thead>\n",
       "    <tr style=\"text-align: right;\">\n",
       "      <th></th>\n",
       "      <th>Contrast</th>\n",
       "      <th>drug</th>\n",
       "      <th>A</th>\n",
       "      <th>B</th>\n",
       "      <th>Paired</th>\n",
       "      <th>Parametric</th>\n",
       "      <th>T</th>\n",
       "      <th>dof</th>\n",
       "      <th>alternative</th>\n",
       "      <th>p-unc</th>\n",
       "      <th>p-corr</th>\n",
       "      <th>p-adjust</th>\n",
       "      <th>BF10</th>\n",
       "      <th>hedges</th>\n",
       "    </tr>\n",
       "  </thead>\n",
       "  <tbody>\n",
       "    <tr>\n",
       "      <th>0</th>\n",
       "      <td>drug</td>\n",
       "      <td>-</td>\n",
       "      <td>anxifree</td>\n",
       "      <td>joyzepam</td>\n",
       "      <td>False</td>\n",
       "      <td>True</td>\n",
       "      <td>-4.206222</td>\n",
       "      <td>10.0</td>\n",
       "      <td>two-sided</td>\n",
       "      <td>0.001811</td>\n",
       "      <td>0.005432</td>\n",
       "      <td>bonf</td>\n",
       "      <td>17.947</td>\n",
       "      <td>-2.241659</td>\n",
       "    </tr>\n",
       "    <tr>\n",
       "      <th>1</th>\n",
       "      <td>drug</td>\n",
       "      <td>-</td>\n",
       "      <td>anxifree</td>\n",
       "      <td>placebo</td>\n",
       "      <td>False</td>\n",
       "      <td>True</td>\n",
       "      <td>1.354183</td>\n",
       "      <td>10.0</td>\n",
       "      <td>two-sided</td>\n",
       "      <td>0.205486</td>\n",
       "      <td>0.616459</td>\n",
       "      <td>bonf</td>\n",
       "      <td>0.814</td>\n",
       "      <td>0.721696</td>\n",
       "    </tr>\n",
       "    <tr>\n",
       "      <th>2</th>\n",
       "      <td>drug</td>\n",
       "      <td>-</td>\n",
       "      <td>joyzepam</td>\n",
       "      <td>placebo</td>\n",
       "      <td>False</td>\n",
       "      <td>True</td>\n",
       "      <td>7.168708</td>\n",
       "      <td>10.0</td>\n",
       "      <td>two-sided</td>\n",
       "      <td>0.000030</td>\n",
       "      <td>0.000091</td>\n",
       "      <td>bonf</td>\n",
       "      <td>475.231</td>\n",
       "      <td>3.820482</td>\n",
       "    </tr>\n",
       "    <tr>\n",
       "      <th>3</th>\n",
       "      <td>therapy</td>\n",
       "      <td>-</td>\n",
       "      <td>CBT</td>\n",
       "      <td>no.therapy</td>\n",
       "      <td>False</td>\n",
       "      <td>True</td>\n",
       "      <td>1.306757</td>\n",
       "      <td>16.0</td>\n",
       "      <td>two-sided</td>\n",
       "      <td>0.209767</td>\n",
       "      <td>NaN</td>\n",
       "      <td>NaN</td>\n",
       "      <td>0.732</td>\n",
       "      <td>0.586677</td>\n",
       "    </tr>\n",
       "    <tr>\n",
       "      <th>4</th>\n",
       "      <td>drug * therapy</td>\n",
       "      <td>anxifree</td>\n",
       "      <td>CBT</td>\n",
       "      <td>no.therapy</td>\n",
       "      <td>False</td>\n",
       "      <td>True</td>\n",
       "      <td>3.800000</td>\n",
       "      <td>4.0</td>\n",
       "      <td>two-sided</td>\n",
       "      <td>0.019104</td>\n",
       "      <td>0.057311</td>\n",
       "      <td>bonf</td>\n",
       "      <td>3.449</td>\n",
       "      <td>2.482150</td>\n",
       "    </tr>\n",
       "    <tr>\n",
       "      <th>5</th>\n",
       "      <td>drug * therapy</td>\n",
       "      <td>joyzepam</td>\n",
       "      <td>CBT</td>\n",
       "      <td>no.therapy</td>\n",
       "      <td>False</td>\n",
       "      <td>True</td>\n",
       "      <td>0.171499</td>\n",
       "      <td>4.0</td>\n",
       "      <td>two-sided</td>\n",
       "      <td>0.872158</td>\n",
       "      <td>1.000000</td>\n",
       "      <td>bonf</td>\n",
       "      <td>0.567</td>\n",
       "      <td>0.112022</td>\n",
       "    </tr>\n",
       "    <tr>\n",
       "      <th>6</th>\n",
       "      <td>drug * therapy</td>\n",
       "      <td>placebo</td>\n",
       "      <td>CBT</td>\n",
       "      <td>no.therapy</td>\n",
       "      <td>False</td>\n",
       "      <td>True</td>\n",
       "      <td>1.441153</td>\n",
       "      <td>4.0</td>\n",
       "      <td>two-sided</td>\n",
       "      <td>0.222983</td>\n",
       "      <td>0.668949</td>\n",
       "      <td>bonf</td>\n",
       "      <td>0.922</td>\n",
       "      <td>0.941357</td>\n",
       "    </tr>\n",
       "  </tbody>\n",
       "</table>\n",
       "</div>"
      ],
      "text/plain": [
       "         Contrast      drug         A           B Paired  Parametric  \\\n",
       "0            drug         -  anxifree    joyzepam  False        True   \n",
       "1            drug         -  anxifree     placebo  False        True   \n",
       "2            drug         -  joyzepam     placebo  False        True   \n",
       "3         therapy         -       CBT  no.therapy  False        True   \n",
       "4  drug * therapy  anxifree       CBT  no.therapy  False        True   \n",
       "5  drug * therapy  joyzepam       CBT  no.therapy  False        True   \n",
       "6  drug * therapy   placebo       CBT  no.therapy  False        True   \n",
       "\n",
       "          T   dof alternative     p-unc    p-corr p-adjust     BF10    hedges  \n",
       "0 -4.206222  10.0   two-sided  0.001811  0.005432     bonf   17.947 -2.241659  \n",
       "1  1.354183  10.0   two-sided  0.205486  0.616459     bonf    0.814  0.721696  \n",
       "2  7.168708  10.0   two-sided  0.000030  0.000091     bonf  475.231  3.820482  \n",
       "3  1.306757  16.0   two-sided  0.209767       NaN      NaN    0.732  0.586677  \n",
       "4  3.800000   4.0   two-sided  0.019104  0.057311     bonf    3.449  2.482150  \n",
       "5  0.171499   4.0   two-sided  0.872158  1.000000     bonf    0.567  0.112022  \n",
       "6  1.441153   4.0   two-sided  0.222983  0.668949     bonf    0.922  0.941357  "
      ]
     },
     "execution_count": 30,
     "metadata": {},
     "output_type": "execute_result"
    }
   ],
   "source": [
    "df.pairwise_ttests(dv = 'mood_gain', between=[\"drug\", \"therapy\"], padjust = 'bonf')"
   ]
  },
  {
   "cell_type": "markdown",
   "id": "9bdf254c",
   "metadata": {},
   "source": [
    "## One-way Repeated Measures ANOVA\n",
    "\n",
    "It makes no sense to have the same people in the anxifree and placebo condition, or in the therapy and no therapy conditions, but often there are good reasons to have the same people in multiple conditions. In this case, we need to account for the fact that some of the total variance is shared between conditions (because the same people are in more than one condition, just like in a paired t-test). In this case, we need a _repeated-measures_ ANOVA.\n",
    "\n",
    "Below, let's use some agricultural data. These data (taken from Renesh Bedre's website) show leaf-counts on 5 different plants at 5 points in time: week 1, week 3, etc. We could also imagine that these were three particpants measured on some task at different time points, or on different tasks in the same session. The important thing is that the measure is the same (leaf-count, reaction time, whatever), and the same particpant (plant or person) is measured in each condition (w1, w2, etc.)."
   ]
  },
  {
   "cell_type": "code",
   "execution_count": 35,
   "id": "a495c151",
   "metadata": {},
   "outputs": [
    {
     "data": {
      "text/html": [
       "<div>\n",
       "<style scoped>\n",
       "    .dataframe tbody tr th:only-of-type {\n",
       "        vertical-align: middle;\n",
       "    }\n",
       "\n",
       "    .dataframe tbody tr th {\n",
       "        vertical-align: top;\n",
       "    }\n",
       "\n",
       "    .dataframe thead th {\n",
       "        text-align: right;\n",
       "    }\n",
       "</style>\n",
       "<table border=\"1\" class=\"dataframe\">\n",
       "  <thead>\n",
       "    <tr style=\"text-align: right;\">\n",
       "      <th></th>\n",
       "      <th>Id</th>\n",
       "      <th>W1</th>\n",
       "      <th>W2</th>\n",
       "      <th>W3</th>\n",
       "      <th>W4</th>\n",
       "      <th>W5</th>\n",
       "    </tr>\n",
       "  </thead>\n",
       "  <tbody>\n",
       "    <tr>\n",
       "      <th>0</th>\n",
       "      <td>P1</td>\n",
       "      <td>4</td>\n",
       "      <td>5</td>\n",
       "      <td>6</td>\n",
       "      <td>8</td>\n",
       "      <td>10</td>\n",
       "    </tr>\n",
       "    <tr>\n",
       "      <th>1</th>\n",
       "      <td>P2</td>\n",
       "      <td>3</td>\n",
       "      <td>4</td>\n",
       "      <td>6</td>\n",
       "      <td>6</td>\n",
       "      <td>9</td>\n",
       "    </tr>\n",
       "    <tr>\n",
       "      <th>2</th>\n",
       "      <td>P3</td>\n",
       "      <td>6</td>\n",
       "      <td>7</td>\n",
       "      <td>9</td>\n",
       "      <td>10</td>\n",
       "      <td>12</td>\n",
       "    </tr>\n",
       "    <tr>\n",
       "      <th>3</th>\n",
       "      <td>P4</td>\n",
       "      <td>5</td>\n",
       "      <td>7</td>\n",
       "      <td>8</td>\n",
       "      <td>10</td>\n",
       "      <td>12</td>\n",
       "    </tr>\n",
       "    <tr>\n",
       "      <th>4</th>\n",
       "      <td>P5</td>\n",
       "      <td>5</td>\n",
       "      <td>6</td>\n",
       "      <td>7</td>\n",
       "      <td>8</td>\n",
       "      <td>10</td>\n",
       "    </tr>\n",
       "  </tbody>\n",
       "</table>\n",
       "</div>"
      ],
      "text/plain": [
       "   Id  W1  W2  W3  W4  W5\n",
       "0  P1   4   5   6   8  10\n",
       "1  P2   3   4   6   6   9\n",
       "2  P3   6   7   9  10  12\n",
       "3  P4   5   7   8  10  12\n",
       "4  P5   5   6   7   8  10"
      ]
     },
     "execution_count": 35,
     "metadata": {},
     "output_type": "execute_result"
    }
   ],
   "source": [
    "\n",
    "df = pd.read_csv(\"https://reneshbedre.github.io/assets/posts/anova/plants_leaves.csv\")\n",
    "df.head()"
   ]
  },
  {
   "cell_type": "code",
   "execution_count": 36,
   "id": "bce965bf",
   "metadata": {},
   "outputs": [
    {
     "data": {
      "text/plain": [
       "<AxesSubplot:>"
      ]
     },
     "execution_count": 36,
     "metadata": {},
     "output_type": "execute_result"
    },
    {
     "data": {
      "image/png": "[encoded data removed]",
      "text/plain": [
       "<Figure size 432x288 with 1 Axes>"
      ]
     },
     "metadata": {
      "needs_background": "light"
     },
     "output_type": "display_data"
    }
   ],
   "source": [
    "sns.pointplot(data = df)"
   ]
  },
  {
   "cell_type": "markdown",
   "id": "7d65ec97",
   "metadata": {},
   "source": [
    "Because these data are in wide format (one column per condition, with one row per particpant) we can use an even simpler command:"
   ]
  },
  {
   "cell_type": "code",
   "execution_count": 37,
   "id": "2e9065d9",
   "metadata": {},
   "outputs": [
    {
     "data": {
      "text/html": [
       "<div>\n",
       "<style scoped>\n",
       "    .dataframe tbody tr th:only-of-type {\n",
       "        vertical-align: middle;\n",
       "    }\n",
       "\n",
       "    .dataframe tbody tr th {\n",
       "        vertical-align: top;\n",
       "    }\n",
       "\n",
       "    .dataframe thead th {\n",
       "        text-align: right;\n",
       "    }\n",
       "</style>\n",
       "<table border=\"1\" class=\"dataframe\">\n",
       "  <thead>\n",
       "    <tr style=\"text-align: right;\">\n",
       "      <th></th>\n",
       "      <th>Source</th>\n",
       "      <th>ddof1</th>\n",
       "      <th>ddof2</th>\n",
       "      <th>F</th>\n",
       "      <th>p-unc</th>\n",
       "      <th>np2</th>\n",
       "      <th>eps</th>\n",
       "    </tr>\n",
       "  </thead>\n",
       "  <tbody>\n",
       "    <tr>\n",
       "      <th>0</th>\n",
       "      <td>Within</td>\n",
       "      <td>4</td>\n",
       "      <td>16</td>\n",
       "      <td>146.27027</td>\n",
       "      <td>2.214820e-12</td>\n",
       "      <td>0.973381</td>\n",
       "      <td>0.541964</td>\n",
       "    </tr>\n",
       "  </tbody>\n",
       "</table>\n",
       "</div>"
      ],
      "text/plain": [
       "   Source  ddof1  ddof2          F         p-unc       np2       eps\n",
       "0  Within      4     16  146.27027  2.214820e-12  0.973381  0.541964"
      ]
     },
     "execution_count": 37,
     "metadata": {},
     "output_type": "execute_result"
    }
   ],
   "source": [
    "df.rm_anova()"
   ]
  },
  {
   "cell_type": "markdown",
   "id": "0e3c95bd",
   "metadata": {},
   "source": [
    "Had the data been in long format, the commands should look fairly familiar:"
   ]
  },
  {
   "cell_type": "code",
   "execution_count": 47,
   "id": "8a8de46e",
   "metadata": {},
   "outputs": [
    {
     "data": {
      "text/html": [
       "<div>\n",
       "<style scoped>\n",
       "    .dataframe tbody tr th:only-of-type {\n",
       "        vertical-align: middle;\n",
       "    }\n",
       "\n",
       "    .dataframe tbody tr th {\n",
       "        vertical-align: top;\n",
       "    }\n",
       "\n",
       "    .dataframe thead th {\n",
       "        text-align: right;\n",
       "    }\n",
       "</style>\n",
       "<table border=\"1\" class=\"dataframe\">\n",
       "  <thead>\n",
       "    <tr style=\"text-align: right;\">\n",
       "      <th></th>\n",
       "      <th>Id</th>\n",
       "      <th>week</th>\n",
       "      <th>leaf_count</th>\n",
       "    </tr>\n",
       "  </thead>\n",
       "  <tbody>\n",
       "    <tr>\n",
       "      <th>0</th>\n",
       "      <td>P1</td>\n",
       "      <td>W1</td>\n",
       "      <td>4</td>\n",
       "    </tr>\n",
       "    <tr>\n",
       "      <th>1</th>\n",
       "      <td>P2</td>\n",
       "      <td>W1</td>\n",
       "      <td>3</td>\n",
       "    </tr>\n",
       "    <tr>\n",
       "      <th>2</th>\n",
       "      <td>P3</td>\n",
       "      <td>W1</td>\n",
       "      <td>6</td>\n",
       "    </tr>\n",
       "    <tr>\n",
       "      <th>3</th>\n",
       "      <td>P4</td>\n",
       "      <td>W1</td>\n",
       "      <td>5</td>\n",
       "    </tr>\n",
       "    <tr>\n",
       "      <th>4</th>\n",
       "      <td>P5</td>\n",
       "      <td>W1</td>\n",
       "      <td>5</td>\n",
       "    </tr>\n",
       "  </tbody>\n",
       "</table>\n",
       "</div>"
      ],
      "text/plain": [
       "   Id week  leaf_count\n",
       "0  P1   W1           4\n",
       "1  P2   W1           3\n",
       "2  P3   W1           6\n",
       "3  P4   W1           5\n",
       "4  P5   W1           5"
      ]
     },
     "execution_count": 47,
     "metadata": {},
     "output_type": "execute_result"
    }
   ],
   "source": [
    "# \"Melt\" the data from wide format to long format:\n",
    "df = pd.melt(df, id_vars=\"Id\")\n",
    "df.rename(columns = {'variable':'week', 'value':'leaf_count'}, inplace = True)\n",
    "df.head()"
   ]
  },
  {
   "cell_type": "code",
   "execution_count": 52,
   "id": "4ca02bbc",
   "metadata": {},
   "outputs": [
    {
     "data": {
      "text/html": [
       "<div>\n",
       "<style scoped>\n",
       "    .dataframe tbody tr th:only-of-type {\n",
       "        vertical-align: middle;\n",
       "    }\n",
       "\n",
       "    .dataframe tbody tr th {\n",
       "        vertical-align: top;\n",
       "    }\n",
       "\n",
       "    .dataframe thead th {\n",
       "        text-align: right;\n",
       "    }\n",
       "</style>\n",
       "<table border=\"1\" class=\"dataframe\">\n",
       "  <thead>\n",
       "    <tr style=\"text-align: right;\">\n",
       "      <th></th>\n",
       "      <th>Source</th>\n",
       "      <th>SS</th>\n",
       "      <th>DF</th>\n",
       "      <th>MS</th>\n",
       "      <th>F</th>\n",
       "      <th>p-unc</th>\n",
       "      <th>np2</th>\n",
       "      <th>eps</th>\n",
       "    </tr>\n",
       "  </thead>\n",
       "  <tbody>\n",
       "    <tr>\n",
       "      <th>0</th>\n",
       "      <td>week</td>\n",
       "      <td>108.24</td>\n",
       "      <td>4</td>\n",
       "      <td>27.060</td>\n",
       "      <td>146.27027</td>\n",
       "      <td>2.214820e-12</td>\n",
       "      <td>0.973381</td>\n",
       "      <td>0.541964</td>\n",
       "    </tr>\n",
       "    <tr>\n",
       "      <th>1</th>\n",
       "      <td>Error</td>\n",
       "      <td>2.96</td>\n",
       "      <td>16</td>\n",
       "      <td>0.185</td>\n",
       "      <td>NaN</td>\n",
       "      <td>NaN</td>\n",
       "      <td>NaN</td>\n",
       "      <td>NaN</td>\n",
       "    </tr>\n",
       "  </tbody>\n",
       "</table>\n",
       "</div>"
      ],
      "text/plain": [
       "  Source      SS  DF      MS          F         p-unc       np2       eps\n",
       "0   week  108.24   4  27.060  146.27027  2.214820e-12  0.973381  0.541964\n",
       "1  Error    2.96  16   0.185        NaN           NaN       NaN       NaN"
      ]
     },
     "execution_count": 52,
     "metadata": {},
     "output_type": "execute_result"
    }
   ],
   "source": [
    "df.rm_anova(dv = 'leaf_count', within = 'week', subject = 'Id', detailed = True)"
   ]
  },
  {
   "cell_type": "markdown",
   "id": "41e65dff",
   "metadata": {},
   "source": [
    "Either way, the results are the same. We can report them as: \"A one-way, repeated-measures ANOVA showed a significant effect of time (F(4,16) = 146.27, p = 0.0000000000021.\""
   ]
  },
  {
   "cell_type": "markdown",
   "id": "8fcdfc8a",
   "metadata": {},
   "source": [
    "## Two-way Repeated Measures ANOVA\n",
    "\n",
    "Finally, what if we have data from the same participants, with more than one predictor variable? As an example, we can look at data from participants doing a Stroop task. In this experiment, response time was measured from the same participants in four conditions: a reading task with and without interference, and a naming task with and without interference. So:"
   ]
  },
  {
   "cell_type": "code",
   "execution_count": 53,
   "id": "92f55f12",
   "metadata": {},
   "outputs": [
    {
     "data": {
      "text/html": [
       "<div>\n",
       "<style scoped>\n",
       "    .dataframe tbody tr th:only-of-type {\n",
       "        vertical-align: middle;\n",
       "    }\n",
       "\n",
       "    .dataframe tbody tr th {\n",
       "        vertical-align: top;\n",
       "    }\n",
       "\n",
       "    .dataframe thead th {\n",
       "        text-align: right;\n",
       "    }\n",
       "</style>\n",
       "<table border=\"1\" class=\"dataframe\">\n",
       "  <thead>\n",
       "    <tr style=\"text-align: right;\">\n",
       "      <th></th>\n",
       "      <th>participant</th>\n",
       "      <th>Condition</th>\n",
       "      <th>Time</th>\n",
       "    </tr>\n",
       "  </thead>\n",
       "  <tbody>\n",
       "    <tr>\n",
       "      <th>0</th>\n",
       "      <td>1</td>\n",
       "      <td>ReadingNoInt</td>\n",
       "      <td>5.79</td>\n",
       "    </tr>\n",
       "    <tr>\n",
       "      <th>1</th>\n",
       "      <td>2</td>\n",
       "      <td>ReadingNoInt</td>\n",
       "      <td>5.26</td>\n",
       "    </tr>\n",
       "    <tr>\n",
       "      <th>2</th>\n",
       "      <td>3</td>\n",
       "      <td>ReadingNoInt</td>\n",
       "      <td>5.02</td>\n",
       "    </tr>\n",
       "    <tr>\n",
       "      <th>3</th>\n",
       "      <td>4</td>\n",
       "      <td>ReadingNoInt</td>\n",
       "      <td>4.87</td>\n",
       "    </tr>\n",
       "    <tr>\n",
       "      <th>4</th>\n",
       "      <td>5</td>\n",
       "      <td>ReadingNoInt</td>\n",
       "      <td>4.62</td>\n",
       "    </tr>\n",
       "  </tbody>\n",
       "</table>\n",
       "</div>"
      ],
      "text/plain": [
       "   participant     Condition  Time\n",
       "0            1  ReadingNoInt  5.79\n",
       "1            2  ReadingNoInt  5.26\n",
       "2            3  ReadingNoInt  5.02\n",
       "3            4  ReadingNoInt  4.87\n",
       "4            5  ReadingNoInt  4.62"
      ]
     },
     "execution_count": 53,
     "metadata": {},
     "output_type": "execute_result"
    }
   ],
   "source": [
    "df = pd.read_csv(\"https://raw.githubusercontent.com/ethanweed/ExPsyLing/master/datasets/stroop_2021_long.csv\")\n",
    "df.head()"
   ]
  },
  {
   "cell_type": "code",
   "execution_count": 55,
   "id": "abfbbf19",
   "metadata": {},
   "outputs": [
    {
     "data": {
      "text/html": [
       "<div>\n",
       "<style scoped>\n",
       "    .dataframe tbody tr th:only-of-type {\n",
       "        vertical-align: middle;\n",
       "    }\n",
       "\n",
       "    .dataframe tbody tr th {\n",
       "        vertical-align: top;\n",
       "    }\n",
       "\n",
       "    .dataframe thead th {\n",
       "        text-align: right;\n",
       "    }\n",
       "</style>\n",
       "<table border=\"1\" class=\"dataframe\">\n",
       "  <thead>\n",
       "    <tr style=\"text-align: right;\">\n",
       "      <th></th>\n",
       "      <th>Source</th>\n",
       "      <th>SS</th>\n",
       "      <th>DF</th>\n",
       "      <th>MS</th>\n",
       "      <th>F</th>\n",
       "      <th>p-unc</th>\n",
       "      <th>p-GG-corr</th>\n",
       "      <th>np2</th>\n",
       "      <th>eps</th>\n",
       "      <th>sphericity</th>\n",
       "      <th>W-spher</th>\n",
       "      <th>p-spher</th>\n",
       "    </tr>\n",
       "  </thead>\n",
       "  <tbody>\n",
       "    <tr>\n",
       "      <th>0</th>\n",
       "      <td>Condition</td>\n",
       "      <td>453.835422</td>\n",
       "      <td>3</td>\n",
       "      <td>151.278474</td>\n",
       "      <td>22.417847</td>\n",
       "      <td>6.284794e-11</td>\n",
       "      <td>2.992157e-07</td>\n",
       "      <td>0.427676</td>\n",
       "      <td>0.582216</td>\n",
       "      <td>False</td>\n",
       "      <td>0.153625</td>\n",
       "      <td>2.415965e-10</td>\n",
       "    </tr>\n",
       "    <tr>\n",
       "      <th>1</th>\n",
       "      <td>Error</td>\n",
       "      <td>607.331403</td>\n",
       "      <td>90</td>\n",
       "      <td>6.748127</td>\n",
       "      <td>NaN</td>\n",
       "      <td>NaN</td>\n",
       "      <td>NaN</td>\n",
       "      <td>NaN</td>\n",
       "      <td>NaN</td>\n",
       "      <td>NaN</td>\n",
       "      <td>NaN</td>\n",
       "      <td>NaN</td>\n",
       "    </tr>\n",
       "  </tbody>\n",
       "</table>\n",
       "</div>"
      ],
      "text/plain": [
       "      Source          SS  DF          MS          F         p-unc  \\\n",
       "0  Condition  453.835422   3  151.278474  22.417847  6.284794e-11   \n",
       "1      Error  607.331403  90    6.748127        NaN           NaN   \n",
       "\n",
       "      p-GG-corr       np2       eps sphericity   W-spher       p-spher  \n",
       "0  2.992157e-07  0.427676  0.582216      False  0.153625  2.415965e-10  \n",
       "1           NaN       NaN       NaN        NaN       NaN           NaN  "
      ]
     },
     "execution_count": 55,
     "metadata": {},
     "output_type": "execute_result"
    }
   ],
   "source": [
    "df.rm_anova(dv = 'Time', within = 'Condition', subject = 'participant', detailed = True)"
   ]
  },
  {
   "cell_type": "code",
   "execution_count": null,
   "id": "054d8f6c",
   "metadata": {},
   "outputs": [],
   "source": [
    "aov = pg.rm_anova(dv='DesireToKill',\n",
    "...                   within=['Disgustingness', 'Frighteningness'],\n",
    "...                   subject='Subject', data=df)"
   ]
  }
 ],
 "metadata": {
  "kernelspec": {
   "display_name": "Python 3",
   "language": "python",
   "name": "python3"
  },
  "language_info": {
   "codemirror_mode": {
    "name": "ipython",
    "version": 3
   },
   "file_extension": ".py",
   "mimetype": "text/x-python",
   "name": "python",
   "nbconvert_exporter": "python",
   "pygments_lexer": "ipython3",
   "version": "3.7.10"
  }
 },
 "nbformat": 4,
 "nbformat_minor": 5
}
