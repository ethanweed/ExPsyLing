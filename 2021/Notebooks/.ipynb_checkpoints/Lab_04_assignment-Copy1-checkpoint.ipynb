{
 "cells": [
  {
   "cell_type": "markdown",
   "metadata": {},
   "source": [
    "Using the tips and tricks in the Lab_04 notebook, do the following:"
   ]
  },
  {
   "cell_type": "markdown",
   "metadata": {},
   "source": [
    "## Clean up our working memory data"
   ]
  },
  {
   "cell_type": "code",
   "execution_count": 2,
   "metadata": {},
   "outputs": [],
   "source": [
    "# import pandas and scrape the data from the web\n",
    "import pandas as pd\n",
    "rawdata = pd.read_html(\"https://github.com/ethanweed/ExPsyLing/blob/master/datasets/DigitSpan_2021.csv\")"
   ]
  },
  {
   "cell_type": "markdown",
   "metadata": {},
   "source": [
    "1. Make a dataframe from the data\n",
    "2. Inspect the data\n",
    "3. Tidy up the dataframe"
   ]
  },
  {
   "cell_type": "markdown",
   "metadata": {},
   "source": [
    "## Clean up data from 2019"
   ]
  },
  {
   "cell_type": "markdown",
   "metadata": {},
   "source": [
    "The data are located here:\n",
    "\n",
    "https://github.com/ethanweed/ExPsyLing/blob/master/datasets/DigitSpan_2019.csv\n",
    "\n",
    "1. Inspect and tidy up the data\n",
    "2. Make a new column where there is just a \"1\" for \"native danish speaker\" and a \"0\" for non-native, instead of saying what language is their native language "
   ]
  },
  {
   "cell_type": "markdown",
   "metadata": {},
   "source": [
    "## Combine the two data sets\n",
    "\n",
    "1. To the extent possible, make a single dataframe containing forward and backward working memory spans\n",
    "2. Make a column indicating which year the data come from"
   ]
  },
  {
   "cell_type": "markdown",
   "metadata": {},
   "source": [
    "## Explore other data\n",
    "\n",
    "1. Find some interesting data online, either from wikipedia or elsewhere.\n",
    "2. Clean up the data\n",
    "3. Explore the data\n",
    "\n",
    "Tips:\n",
    "\n",
    "1. If the data is not displayed as a table, `pd.read_html` will not work.\n",
    "2. If the data is displayed as a table, but it is dynamically generated, `pd.read_html` will also not work\n",
    "3. If you can find data stored online in a `.csv` file, you may be able to use `pd.read_csv` instead. E.g., try `d = pd.read_csv(\"http://bmd.mortality.org/Sweden/Births/births\")`\n",
    "4. Sometimes the data is online, and you should be able to read it in with `pandas`, but there is something messed up with the formatting of the data, and `pandas` can't figure out how to put it in a dataframe. In this case, you may need to download the file to your computer, figure out what is wrong with it, fix it, and then read the file in directly using `pd.read_csv`.\n",
    "5. If all else fails, you can always just copy/paste data from the web e.g. into Excel or Google Sheets, export it as a csv, and read it into pandas from there.\n",
    "6. CSV files are \"comma-separated\", that is, they use commas to separte the columns, but sometimes they use other things, like tabs or spaces or semicolons. You can tell `pd.read_csv` what the separater is. E.g. compare what happens if you do this: `d2 = pd.read_csv(\"http://bmd.mortality.org/Sweden/LifeTables/e0.1x1\")` and look at the data or if you do this: `d2 = pd.read_csv(\"http://bmd.mortality.org/Sweden/LifeTables/e0.1x1\", sep='\\t')` and look at the data."
   ]
  }
 ],
 "metadata": {
  "kernelspec": {
   "display_name": "Python 3",
   "language": "python",
   "name": "python3"
  },
  "language_info": {
   "codemirror_mode": {
    "name": "ipython",
    "version": 3
   },
   "file_extension": ".py",
   "mimetype": "text/x-python",
   "name": "python",
   "nbconvert_exporter": "python",
   "pygments_lexer": "ipython3",
   "version": "3.7.10"
  }
 },
 "nbformat": 4,
 "nbformat_minor": 4
}
