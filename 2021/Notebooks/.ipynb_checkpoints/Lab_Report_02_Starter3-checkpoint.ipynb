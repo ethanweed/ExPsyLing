{
 "cells": [
  {
   "cell_type": "markdown",
   "id": "caa27a65",
   "metadata": {},
   "source": [
    "# Soultions and data exploration for Lab Report 2"
   ]
  },
  {
   "cell_type": "code",
   "execution_count": 73,
   "id": "4daf78e4",
   "metadata": {},
   "outputs": [],
   "source": [
    "import pandas as pd\n",
    "import seaborn as sns\n",
    "import pingouin as png"
   ]
  },
  {
   "cell_type": "code",
   "execution_count": 75,
   "id": "c232715e",
   "metadata": {},
   "outputs": [],
   "source": [
    "# load data for semiotics and linguistics seperately\n",
    "\n",
    "df_sem_raw = pd.read_csv(\"https://raw.githubusercontent.com/ethanweed/ExPsyLing/master/datasets/Lexical-decision/2021/semiotics_2021_raw.csv\")\n",
    "df_ling_raw = pd.read_csv(\"https://raw.githubusercontent.com/ethanweed/ExPsyLing/master/datasets/Lexical-decision/2021/linguistics_2021_raw.csv\")"
   ]
  },
  {
   "cell_type": "code",
   "execution_count": 76,
   "id": "312f33f4",
   "metadata": {},
   "outputs": [],
   "source": [
    "# add a \"group\" column to index semiotics and linguistics data\n",
    "\n",
    "df_sem_raw = df_sem_raw.assign(group = ['semiotics']*df_sem_raw.shape[0])\n",
    "df_ling_raw = df_ling_raw.assign(group = ['linguistics']*df_ling_raw.shape[0])\n",
    "\n",
    "# combine semiotics and linguistics data\n",
    "df = pd.concat([df_sem_raw, df_ling_raw], ignore_index=True)"
   ]
  },
  {
   "cell_type": "code",
   "execution_count": 77,
   "id": "43bd5f5b",
   "metadata": {},
   "outputs": [],
   "source": [
    "# define a function to clean up the data:\n",
    "# 1. remove unnecessary columns\n",
    "# 2. add a column indexing whether the answer was correct or incorrect (and make this a string, not a bool)\n",
    "# 3. remove practice runs\n",
    "\n",
    "def clean_data(df):\n",
    "    df_clean = pd.DataFrame(\n",
    "    {'participantID': df['jatosStudyResultId'],\n",
    "     'group': df['group'],\n",
    "     'block': df['block'],\n",
    "     'condition': df['condition'],\n",
    "     'stimulus': df['stim'],\n",
    "     'correct_response': df['correct_response'],\n",
    "     'response': df['response'],\n",
    "     'rt': df['response_time']\n",
    "    })\n",
    "    \n",
    "    # add column for correct / incorrect responses\n",
    "    df_clean['correct_response'] = [x.lower() for x in list(df_clean['correct_response'])]\n",
    "    correct = list(df_clean['correct_response'] == df_clean['response'])\n",
    "    correct = [\"correct\" if x == True else \"incorrect\" for x in correct]\n",
    "    df_clean.insert(loc = 6, column = 'correct', value = correct)\n",
    "    \n",
    "    \n",
    "    # remove practice trials\n",
    "    df_clean = df_clean[df_clean['block'] != 'practice']\n",
    "    \n",
    "    return(df_clean)\n",
    "    \n",
    "\n"
   ]
  },
  {
   "cell_type": "code",
   "execution_count": 78,
   "id": "961db7a6",
   "metadata": {},
   "outputs": [
    {
     "data": {
      "text/html": [
       "<div>\n",
       "<style scoped>\n",
       "    .dataframe tbody tr th:only-of-type {\n",
       "        vertical-align: middle;\n",
       "    }\n",
       "\n",
       "    .dataframe tbody tr th {\n",
       "        vertical-align: top;\n",
       "    }\n",
       "\n",
       "    .dataframe thead th {\n",
       "        text-align: right;\n",
       "    }\n",
       "</style>\n",
       "<table border=\"1\" class=\"dataframe\">\n",
       "  <thead>\n",
       "    <tr style=\"text-align: right;\">\n",
       "      <th></th>\n",
       "      <th>participantID</th>\n",
       "      <th>group</th>\n",
       "      <th>block</th>\n",
       "      <th>condition</th>\n",
       "      <th>stimulus</th>\n",
       "      <th>correct_response</th>\n",
       "      <th>correct</th>\n",
       "      <th>response</th>\n",
       "      <th>rt</th>\n",
       "    </tr>\n",
       "  </thead>\n",
       "  <tbody>\n",
       "    <tr>\n",
       "      <th>6</th>\n",
       "      <td>239</td>\n",
       "      <td>semiotics</td>\n",
       "      <td>C</td>\n",
       "      <td>Unrelated</td>\n",
       "      <td>peg-yolk</td>\n",
       "      <td>left</td>\n",
       "      <td>incorrect</td>\n",
       "      <td>right</td>\n",
       "      <td>1543</td>\n",
       "    </tr>\n",
       "    <tr>\n",
       "      <th>7</th>\n",
       "      <td>239</td>\n",
       "      <td>semiotics</td>\n",
       "      <td>C</td>\n",
       "      <td>Filler</td>\n",
       "      <td>afraid-scobet</td>\n",
       "      <td>right</td>\n",
       "      <td>correct</td>\n",
       "      <td>right</td>\n",
       "      <td>2268</td>\n",
       "    </tr>\n",
       "    <tr>\n",
       "      <th>8</th>\n",
       "      <td>239</td>\n",
       "      <td>semiotics</td>\n",
       "      <td>C</td>\n",
       "      <td>Nonword</td>\n",
       "      <td>villane-towp</td>\n",
       "      <td>right</td>\n",
       "      <td>correct</td>\n",
       "      <td>right</td>\n",
       "      <td>1830</td>\n",
       "    </tr>\n",
       "    <tr>\n",
       "      <th>9</th>\n",
       "      <td>239</td>\n",
       "      <td>semiotics</td>\n",
       "      <td>C</td>\n",
       "      <td>Nonword</td>\n",
       "      <td>chorch-steeble</td>\n",
       "      <td>right</td>\n",
       "      <td>incorrect</td>\n",
       "      <td>left</td>\n",
       "      <td>1960</td>\n",
       "    </tr>\n",
       "    <tr>\n",
       "      <th>10</th>\n",
       "      <td>239</td>\n",
       "      <td>semiotics</td>\n",
       "      <td>C</td>\n",
       "      <td>Nonword</td>\n",
       "      <td>eas-jood</td>\n",
       "      <td>right</td>\n",
       "      <td>correct</td>\n",
       "      <td>right</td>\n",
       "      <td>1263</td>\n",
       "    </tr>\n",
       "  </tbody>\n",
       "</table>\n",
       "</div>"
      ],
      "text/plain": [
       "    participantID      group block  condition        stimulus  \\\n",
       "6             239  semiotics     C  Unrelated        peg-yolk   \n",
       "7             239  semiotics     C     Filler   afraid-scobet   \n",
       "8             239  semiotics     C    Nonword    villane-towp   \n",
       "9             239  semiotics     C    Nonword  chorch-steeble   \n",
       "10            239  semiotics     C    Nonword        eas-jood   \n",
       "\n",
       "   correct_response    correct response    rt  \n",
       "6              left  incorrect    right  1543  \n",
       "7             right    correct    right  2268  \n",
       "8             right    correct    right  1830  \n",
       "9             right  incorrect     left  1960  \n",
       "10            right    correct    right  1263  "
      ]
     },
     "execution_count": 78,
     "metadata": {},
     "output_type": "execute_result"
    }
   ],
   "source": [
    "df = clean_data(df)\n",
    "df.head()"
   ]
  },
  {
   "cell_type": "code",
   "execution_count": 79,
   "id": "7a987457",
   "metadata": {},
   "outputs": [],
   "source": [
    "df_correct = df[df['correct'] == 'correct']"
   ]
  },
  {
   "cell_type": "markdown",
   "id": "eb6c30ad",
   "metadata": {},
   "source": [
    "## Solution with paired t-test\n",
    "\n",
    "I suggeted that you analyze these data with a paired t-test, although other options are possible. I'll start with the paired t-test.\n",
    "\n",
    "### Group the data\n",
    "\n",
    "The first challenge is to find a mean for each participant. There are two reasons for doing this: \n",
    "\n",
    "1. If we don't find a mean for each participant first, the t-test may think we have more participants than we really do, and this will change the degrees of freedom for the test, and this will affect what size t-value and ultimately whether or not we consider the results significant.\n",
    "2. After we sort out the incorrect responses, there are no longer paired matches for every vaule in both the related and unrelated conditions. But if we find a mean for each participant, so long as they got some correct from both related and unrelated, we can compare their means in the two conditions.\n",
    "\n",
    "We need to tell `groupby` what categories we want to use. In this case, we want a mean value for every participant in every condition, so we need to use these variables to group the data. We also need to tell grouby what we want it to calculate for each of these conditions: we want a mean, but we could also e.g. ask for a sum. The final element, reset_index just flattens everything out into a nice clean dataframe. Try it without, and you'll see what I mean.\n",
    "\n",
    "So, to group the data, we can do"
   ]
  },
  {
   "cell_type": "code",
   "execution_count": 80,
   "id": "6a2ad473",
   "metadata": {},
   "outputs": [
    {
     "data": {
      "text/html": [
       "<div>\n",
       "<style scoped>\n",
       "    .dataframe tbody tr th:only-of-type {\n",
       "        vertical-align: middle;\n",
       "    }\n",
       "\n",
       "    .dataframe tbody tr th {\n",
       "        vertical-align: top;\n",
       "    }\n",
       "\n",
       "    .dataframe thead th {\n",
       "        text-align: right;\n",
       "    }\n",
       "</style>\n",
       "<table border=\"1\" class=\"dataframe\">\n",
       "  <thead>\n",
       "    <tr style=\"text-align: right;\">\n",
       "      <th></th>\n",
       "      <th>participantID</th>\n",
       "      <th>condition</th>\n",
       "      <th>rt</th>\n",
       "    </tr>\n",
       "  </thead>\n",
       "  <tbody>\n",
       "    <tr>\n",
       "      <th>0</th>\n",
       "      <td>226</td>\n",
       "      <td>Filler</td>\n",
       "      <td>992.111111</td>\n",
       "    </tr>\n",
       "    <tr>\n",
       "      <th>1</th>\n",
       "      <td>226</td>\n",
       "      <td>Nonword</td>\n",
       "      <td>819.333333</td>\n",
       "    </tr>\n",
       "    <tr>\n",
       "      <th>2</th>\n",
       "      <td>226</td>\n",
       "      <td>Related</td>\n",
       "      <td>684.894737</td>\n",
       "    </tr>\n",
       "    <tr>\n",
       "      <th>3</th>\n",
       "      <td>226</td>\n",
       "      <td>Unrelated</td>\n",
       "      <td>786.882353</td>\n",
       "    </tr>\n",
       "    <tr>\n",
       "      <th>4</th>\n",
       "      <td>227</td>\n",
       "      <td>Filler</td>\n",
       "      <td>1231.388889</td>\n",
       "    </tr>\n",
       "  </tbody>\n",
       "</table>\n",
       "</div>"
      ],
      "text/plain": [
       "   participantID  condition           rt\n",
       "0            226     Filler   992.111111\n",
       "1            226    Nonword   819.333333\n",
       "2            226    Related   684.894737\n",
       "3            226  Unrelated   786.882353\n",
       "4            227     Filler  1231.388889"
      ]
     },
     "execution_count": 80,
     "metadata": {},
     "output_type": "execute_result"
    }
   ],
   "source": [
    "data = df_correct.groupby(['participantID', 'condition']).mean().reset_index()\n",
    "data.head()"
   ]
  },
  {
   "cell_type": "code",
   "execution_count": 83,
   "id": "7c9018a4",
   "metadata": {},
   "outputs": [
    {
     "data": {
      "text/plain": [
       "88"
      ]
     },
     "execution_count": 83,
     "metadata": {},
     "output_type": "execute_result"
    }
   ],
   "source": [
    "data = df_correct.groupby(['participantID', 'condition']).mean().reset_index()\n",
    "data.shape[0]"
   ]
  },
  {
   "cell_type": "code",
   "execution_count": 84,
   "id": "f9e445d8",
   "metadata": {},
   "outputs": [
    {
     "data": {
      "text/html": [
       "<div>\n",
       "<style scoped>\n",
       "    .dataframe tbody tr th:only-of-type {\n",
       "        vertical-align: middle;\n",
       "    }\n",
       "\n",
       "    .dataframe tbody tr th {\n",
       "        vertical-align: top;\n",
       "    }\n",
       "\n",
       "    .dataframe thead th {\n",
       "        text-align: right;\n",
       "    }\n",
       "</style>\n",
       "<table border=\"1\" class=\"dataframe\">\n",
       "  <thead>\n",
       "    <tr style=\"text-align: right;\">\n",
       "      <th></th>\n",
       "      <th>unrelated</th>\n",
       "      <th>related</th>\n",
       "    </tr>\n",
       "  </thead>\n",
       "  <tbody>\n",
       "    <tr>\n",
       "      <th>0</th>\n",
       "      <td>786.882353</td>\n",
       "      <td>684.894737</td>\n",
       "    </tr>\n",
       "    <tr>\n",
       "      <th>1</th>\n",
       "      <td>969.529412</td>\n",
       "      <td>790.900000</td>\n",
       "    </tr>\n",
       "    <tr>\n",
       "      <th>2</th>\n",
       "      <td>933.857143</td>\n",
       "      <td>825.809524</td>\n",
       "    </tr>\n",
       "    <tr>\n",
       "      <th>3</th>\n",
       "      <td>987.894737</td>\n",
       "      <td>895.550000</td>\n",
       "    </tr>\n",
       "    <tr>\n",
       "      <th>4</th>\n",
       "      <td>1677.846154</td>\n",
       "      <td>1150.761905</td>\n",
       "    </tr>\n",
       "  </tbody>\n",
       "</table>\n",
       "</div>"
      ],
      "text/plain": [
       "     unrelated      related\n",
       "0   786.882353   684.894737\n",
       "1   969.529412   790.900000\n",
       "2   933.857143   825.809524\n",
       "3   987.894737   895.550000\n",
       "4  1677.846154  1150.761905"
      ]
     },
     "execution_count": 84,
     "metadata": {},
     "output_type": "execute_result"
    }
   ],
   "source": [
    "df_ttest = pd.DataFrame(\n",
    "    {'unrelated': list(data.loc[data['condition'] == 'Unrelated']['rt']),\n",
    "     'related': list(data.loc[data['condition'] == 'Related']['rt'])\n",
    "     })\n",
    "\n",
    "df_ttest.head()"
   ]
  },
  {
   "cell_type": "markdown",
   "id": "6316bd89",
   "metadata": {},
   "source": [
    "### Paired t-test with scipy\n",
    "\n",
    "So far, we have been doing t-tests with `scipy`, so let's do that first:"
   ]
  },
  {
   "cell_type": "code",
   "execution_count": 85,
   "id": "ec622e47",
   "metadata": {},
   "outputs": [
    {
     "name": "stdout",
     "output_type": "stream",
     "text": [
      "t = -7.936707585645165\n",
      "p = 9.351467269046923e-08\n"
     ]
    }
   ],
   "source": [
    "from scipy.stats import ttest_rel\n",
    "\n",
    "t, p = ttest_rel(df_ttest['related'], \n",
    "                 df_ttest['unrelated'])\n",
    "print('t =', t)\n",
    "print('p =', p)"
   ]
  },
  {
   "cell_type": "markdown",
   "id": "747e1256",
   "metadata": {},
   "source": [
    "### Paired t-test with pingouin\n",
    "\n",
    "However, we could also do it with my new love, `pingouin`. "
   ]
  },
  {
   "cell_type": "code",
   "execution_count": 86,
   "id": "266613ff",
   "metadata": {},
   "outputs": [
    {
     "data": {
      "text/html": [
       "<div>\n",
       "<style scoped>\n",
       "    .dataframe tbody tr th:only-of-type {\n",
       "        vertical-align: middle;\n",
       "    }\n",
       "\n",
       "    .dataframe tbody tr th {\n",
       "        vertical-align: top;\n",
       "    }\n",
       "\n",
       "    .dataframe thead th {\n",
       "        text-align: right;\n",
       "    }\n",
       "</style>\n",
       "<table border=\"1\" class=\"dataframe\">\n",
       "  <thead>\n",
       "    <tr style=\"text-align: right;\">\n",
       "      <th></th>\n",
       "      <th>T</th>\n",
       "      <th>dof</th>\n",
       "      <th>alternative</th>\n",
       "      <th>p-val</th>\n",
       "      <th>CI95%</th>\n",
       "      <th>cohen-d</th>\n",
       "      <th>BF10</th>\n",
       "      <th>power</th>\n",
       "    </tr>\n",
       "  </thead>\n",
       "  <tbody>\n",
       "    <tr>\n",
       "      <th>T-test</th>\n",
       "      <td>-7.936708</td>\n",
       "      <td>21</td>\n",
       "      <td>two-sided</td>\n",
       "      <td>9.351467e-08</td>\n",
       "      <td>[-288.78, -168.86]</td>\n",
       "      <td>1.007256</td>\n",
       "      <td>1.595e+05</td>\n",
       "      <td>0.994444</td>\n",
       "    </tr>\n",
       "  </tbody>\n",
       "</table>\n",
       "</div>"
      ],
      "text/plain": [
       "               T  dof alternative         p-val               CI95%   cohen-d  \\\n",
       "T-test -7.936708   21   two-sided  9.351467e-08  [-288.78, -168.86]  1.007256   \n",
       "\n",
       "             BF10     power  \n",
       "T-test  1.595e+05  0.994444  "
      ]
     },
     "execution_count": 86,
     "metadata": {},
     "output_type": "execute_result"
    }
   ],
   "source": [
    "import pingouin as png\n",
    "\n",
    "png.ttest(x = df_ttest['related'],\n",
    "          y = df_ttest['unrelated'],\n",
    "          paired = True)"
   ]
  },
  {
   "cell_type": "markdown",
   "id": "fec66861",
   "metadata": {},
   "source": [
    "Now, isn't that lovely? Not only do we get the same answer as with with `scipy`, but we even get a nice table that tells us the degrees of freedom, confidence intervals, and other great stuff (that we'll talk about later).\n",
    "\n",
    "Since our data are in a \"wide\" format (one column per condition), `pointplot` just assumes that these two columns are the conditions we want to plot, so it is very easy to make a figure:"
   ]
  },
  {
   "cell_type": "code",
   "execution_count": 87,
   "id": "a7655b3d",
   "metadata": {},
   "outputs": [
    {
     "data": {
      "text/plain": [
       "<AxesSubplot:>"
      ]
     },
     "execution_count": 87,
     "metadata": {},
     "output_type": "execute_result"
    },
    {
     "data": {
      "image/png": "[encoded data removed]",
      "text/plain": [
       "<Figure size 432x288 with 1 Axes>"
      ]
     },
     "metadata": {
      "needs_background": "light"
     },
     "output_type": "display_data"
    }
   ],
   "source": [
    "sns.pointplot(data = df_ttest)"
   ]
  },
  {
   "cell_type": "markdown",
   "id": "0ee60a44",
   "metadata": {},
   "source": [
    "## Solution with ANOVA\n",
    "\n",
    "Now, as some of you mentioned in class, these data _do_ also lend themselves to an ANOVA analysis, so let's just do that to, with `pingouin`, natch.\n",
    "\n",
    "Just like with the t-test solution above, the first thing we need to do is to group the data with `groupby`. (Actually, I think you can get away without grouping, because `pingouin` is smart enough to figure it out, but our figure will have error bars that are too small, so let's go ahead and do it anyway, just to be on the safe side).  We need to tell `groupby` what categories we want to use. In this case, we want a mean value for every participant in every condition, so we need to use these variables to group the data. We also need to tell `grouby` what we want it to calculate for each of these conditions: we want a mean, but we could also e.g. ask for a sum. The final element, `reset_index` just flattens everything out into a nice clean dataframe. Try it without, and you'll see what I mean."
   ]
  },
  {
   "cell_type": "code",
   "execution_count": 88,
   "id": "27a20128",
   "metadata": {},
   "outputs": [
    {
     "data": {
      "text/html": [
       "<div>\n",
       "<style scoped>\n",
       "    .dataframe tbody tr th:only-of-type {\n",
       "        vertical-align: middle;\n",
       "    }\n",
       "\n",
       "    .dataframe tbody tr th {\n",
       "        vertical-align: top;\n",
       "    }\n",
       "\n",
       "    .dataframe thead th {\n",
       "        text-align: right;\n",
       "    }\n",
       "</style>\n",
       "<table border=\"1\" class=\"dataframe\">\n",
       "  <thead>\n",
       "    <tr style=\"text-align: right;\">\n",
       "      <th></th>\n",
       "      <th>participantID</th>\n",
       "      <th>condition</th>\n",
       "      <th>rt</th>\n",
       "    </tr>\n",
       "  </thead>\n",
       "  <tbody>\n",
       "    <tr>\n",
       "      <th>0</th>\n",
       "      <td>226</td>\n",
       "      <td>Filler</td>\n",
       "      <td>992.111111</td>\n",
       "    </tr>\n",
       "    <tr>\n",
       "      <th>1</th>\n",
       "      <td>226</td>\n",
       "      <td>Nonword</td>\n",
       "      <td>819.333333</td>\n",
       "    </tr>\n",
       "    <tr>\n",
       "      <th>2</th>\n",
       "      <td>226</td>\n",
       "      <td>Related</td>\n",
       "      <td>684.894737</td>\n",
       "    </tr>\n",
       "    <tr>\n",
       "      <th>3</th>\n",
       "      <td>226</td>\n",
       "      <td>Unrelated</td>\n",
       "      <td>786.882353</td>\n",
       "    </tr>\n",
       "    <tr>\n",
       "      <th>4</th>\n",
       "      <td>227</td>\n",
       "      <td>Filler</td>\n",
       "      <td>1231.388889</td>\n",
       "    </tr>\n",
       "    <tr>\n",
       "      <th>...</th>\n",
       "      <td>...</td>\n",
       "      <td>...</td>\n",
       "      <td>...</td>\n",
       "    </tr>\n",
       "    <tr>\n",
       "      <th>83</th>\n",
       "      <td>251</td>\n",
       "      <td>Unrelated</td>\n",
       "      <td>1190.050000</td>\n",
       "    </tr>\n",
       "    <tr>\n",
       "      <th>84</th>\n",
       "      <td>255</td>\n",
       "      <td>Filler</td>\n",
       "      <td>1142.105263</td>\n",
       "    </tr>\n",
       "    <tr>\n",
       "      <th>85</th>\n",
       "      <td>255</td>\n",
       "      <td>Nonword</td>\n",
       "      <td>1076.625000</td>\n",
       "    </tr>\n",
       "    <tr>\n",
       "      <th>86</th>\n",
       "      <td>255</td>\n",
       "      <td>Related</td>\n",
       "      <td>889.952381</td>\n",
       "    </tr>\n",
       "    <tr>\n",
       "      <th>87</th>\n",
       "      <td>255</td>\n",
       "      <td>Unrelated</td>\n",
       "      <td>1104.272727</td>\n",
       "    </tr>\n",
       "  </tbody>\n",
       "</table>\n",
       "<p>88 rows × 3 columns</p>\n",
       "</div>"
      ],
      "text/plain": [
       "    participantID  condition           rt\n",
       "0             226     Filler   992.111111\n",
       "1             226    Nonword   819.333333\n",
       "2             226    Related   684.894737\n",
       "3             226  Unrelated   786.882353\n",
       "4             227     Filler  1231.388889\n",
       "..            ...        ...          ...\n",
       "83            251  Unrelated  1190.050000\n",
       "84            255     Filler  1142.105263\n",
       "85            255    Nonword  1076.625000\n",
       "86            255    Related   889.952381\n",
       "87            255  Unrelated  1104.272727\n",
       "\n",
       "[88 rows x 3 columns]"
      ]
     },
     "execution_count": 88,
     "metadata": {},
     "output_type": "execute_result"
    }
   ],
   "source": [
    "data = df_correct.groupby(['participantID', 'condition']).mean().reset_index()\n",
    "data"
   ]
  },
  {
   "cell_type": "code",
   "execution_count": 89,
   "id": "09338843",
   "metadata": {},
   "outputs": [
    {
     "data": {
      "image/png": "[encoded data removed]",
      "text/plain": [
       "<Figure size 432x288 with 1 Axes>"
      ]
     },
     "metadata": {
      "needs_background": "light"
     },
     "output_type": "display_data"
    }
   ],
   "source": [
    "ax = sns.pointplot(x = 'condition', y = 'rt', data = data)"
   ]
  },
  {
   "cell_type": "markdown",
   "id": "e27b7cac",
   "metadata": {},
   "source": [
    "`pingouin` adds ANOVA superpowers to our dataframe, so we can now call the `rm_anova` (repeated measures ANOVA) directly as a method of the dataframe:"
   ]
  },
  {
   "cell_type": "code",
   "execution_count": 90,
   "id": "933bfa0c",
   "metadata": {},
   "outputs": [
    {
     "data": {
      "text/html": [
       "<div>\n",
       "<style scoped>\n",
       "    .dataframe tbody tr th:only-of-type {\n",
       "        vertical-align: middle;\n",
       "    }\n",
       "\n",
       "    .dataframe tbody tr th {\n",
       "        vertical-align: top;\n",
       "    }\n",
       "\n",
       "    .dataframe thead th {\n",
       "        text-align: right;\n",
       "    }\n",
       "</style>\n",
       "<table border=\"1\" class=\"dataframe\">\n",
       "  <thead>\n",
       "    <tr style=\"text-align: right;\">\n",
       "      <th></th>\n",
       "      <th>Source</th>\n",
       "      <th>ddof1</th>\n",
       "      <th>ddof2</th>\n",
       "      <th>F</th>\n",
       "      <th>p-unc</th>\n",
       "      <th>p-GG-corr</th>\n",
       "      <th>np2</th>\n",
       "      <th>eps</th>\n",
       "      <th>sphericity</th>\n",
       "      <th>W-spher</th>\n",
       "      <th>p-spher</th>\n",
       "    </tr>\n",
       "  </thead>\n",
       "  <tbody>\n",
       "    <tr>\n",
       "      <th>0</th>\n",
       "      <td>condition</td>\n",
       "      <td>3</td>\n",
       "      <td>63</td>\n",
       "      <td>51.125821</td>\n",
       "      <td>7.157629e-17</td>\n",
       "      <td>5.084707e-12</td>\n",
       "      <td>0.708842</td>\n",
       "      <td>0.669414</td>\n",
       "      <td>False</td>\n",
       "      <td>0.346458</td>\n",
       "      <td>0.000859</td>\n",
       "    </tr>\n",
       "  </tbody>\n",
       "</table>\n",
       "</div>"
      ],
      "text/plain": [
       "      Source  ddof1  ddof2          F         p-unc     p-GG-corr       np2  \\\n",
       "0  condition      3     63  51.125821  7.157629e-17  5.084707e-12  0.708842   \n",
       "\n",
       "        eps  sphericity   W-spher   p-spher  \n",
       "0  0.669414       False  0.346458  0.000859  "
      ]
     },
     "execution_count": 90,
     "metadata": {},
     "output_type": "execute_result"
    }
   ],
   "source": [
    "data.rm_anova(dv = 'rt', within = 'condition', subject = 'participantID')"
   ]
  },
  {
   "cell_type": "markdown",
   "id": "e20bbeda",
   "metadata": {},
   "source": [
    "Now, if we want to, we can go ahead and do \"post-hoc\" t-tests on our data. Here I have specified a Bonferroni correction for multiple comparisons (the very strict one that we talked about in class), but you could also specify other, less strict options, like e.g. 'holm'."
   ]
  },
  {
   "cell_type": "code",
   "execution_count": 91,
   "id": "95accc08",
   "metadata": {},
   "outputs": [
    {
     "data": {
      "text/html": [
       "<div>\n",
       "<style scoped>\n",
       "    .dataframe tbody tr th:only-of-type {\n",
       "        vertical-align: middle;\n",
       "    }\n",
       "\n",
       "    .dataframe tbody tr th {\n",
       "        vertical-align: top;\n",
       "    }\n",
       "\n",
       "    .dataframe thead th {\n",
       "        text-align: right;\n",
       "    }\n",
       "</style>\n",
       "<table border=\"1\" class=\"dataframe\">\n",
       "  <thead>\n",
       "    <tr style=\"text-align: right;\">\n",
       "      <th></th>\n",
       "      <th>Contrast</th>\n",
       "      <th>A</th>\n",
       "      <th>B</th>\n",
       "      <th>Paired</th>\n",
       "      <th>Parametric</th>\n",
       "      <th>T</th>\n",
       "      <th>dof</th>\n",
       "      <th>alternative</th>\n",
       "      <th>p-unc</th>\n",
       "      <th>p-corr</th>\n",
       "      <th>p-adjust</th>\n",
       "      <th>BF10</th>\n",
       "      <th>hedges</th>\n",
       "    </tr>\n",
       "  </thead>\n",
       "  <tbody>\n",
       "    <tr>\n",
       "      <th>0</th>\n",
       "      <td>condition</td>\n",
       "      <td>Filler</td>\n",
       "      <td>Nonword</td>\n",
       "      <td>True</td>\n",
       "      <td>True</td>\n",
       "      <td>4.938703</td>\n",
       "      <td>21.0</td>\n",
       "      <td>two-sided</td>\n",
       "      <td>6.928127e-05</td>\n",
       "      <td>4.156876e-04</td>\n",
       "      <td>bonf</td>\n",
       "      <td>381.245</td>\n",
       "      <td>0.398126</td>\n",
       "    </tr>\n",
       "    <tr>\n",
       "      <th>1</th>\n",
       "      <td>condition</td>\n",
       "      <td>Filler</td>\n",
       "      <td>Related</td>\n",
       "      <td>True</td>\n",
       "      <td>True</td>\n",
       "      <td>9.667500</td>\n",
       "      <td>21.0</td>\n",
       "      <td>two-sided</td>\n",
       "      <td>3.490915e-09</td>\n",
       "      <td>2.094549e-08</td>\n",
       "      <td>bonf</td>\n",
       "      <td>3.393e+06</td>\n",
       "      <td>1.649705</td>\n",
       "    </tr>\n",
       "    <tr>\n",
       "      <th>2</th>\n",
       "      <td>condition</td>\n",
       "      <td>Filler</td>\n",
       "      <td>Unrelated</td>\n",
       "      <td>True</td>\n",
       "      <td>True</td>\n",
       "      <td>4.809198</td>\n",
       "      <td>21.0</td>\n",
       "      <td>two-sided</td>\n",
       "      <td>9.416537e-05</td>\n",
       "      <td>5.649922e-04</td>\n",
       "      <td>bonf</td>\n",
       "      <td>289.611</td>\n",
       "      <td>0.624884</td>\n",
       "    </tr>\n",
       "    <tr>\n",
       "      <th>3</th>\n",
       "      <td>condition</td>\n",
       "      <td>Nonword</td>\n",
       "      <td>Related</td>\n",
       "      <td>True</td>\n",
       "      <td>True</td>\n",
       "      <td>7.250618</td>\n",
       "      <td>21.0</td>\n",
       "      <td>two-sided</td>\n",
       "      <td>3.839102e-07</td>\n",
       "      <td>2.303461e-06</td>\n",
       "      <td>bonf</td>\n",
       "      <td>4.326e+04</td>\n",
       "      <td>1.144875</td>\n",
       "    </tr>\n",
       "    <tr>\n",
       "      <th>4</th>\n",
       "      <td>condition</td>\n",
       "      <td>Nonword</td>\n",
       "      <td>Unrelated</td>\n",
       "      <td>True</td>\n",
       "      <td>True</td>\n",
       "      <td>2.369689</td>\n",
       "      <td>21.0</td>\n",
       "      <td>two-sided</td>\n",
       "      <td>2.746036e-02</td>\n",
       "      <td>1.647622e-01</td>\n",
       "      <td>bonf</td>\n",
       "      <td>2.165</td>\n",
       "      <td>0.203417</td>\n",
       "    </tr>\n",
       "    <tr>\n",
       "      <th>5</th>\n",
       "      <td>condition</td>\n",
       "      <td>Related</td>\n",
       "      <td>Unrelated</td>\n",
       "      <td>True</td>\n",
       "      <td>True</td>\n",
       "      <td>-7.936708</td>\n",
       "      <td>21.0</td>\n",
       "      <td>two-sided</td>\n",
       "      <td>9.351467e-08</td>\n",
       "      <td>5.610880e-07</td>\n",
       "      <td>bonf</td>\n",
       "      <td>1.595e+05</td>\n",
       "      <td>-0.989162</td>\n",
       "    </tr>\n",
       "  </tbody>\n",
       "</table>\n",
       "</div>"
      ],
      "text/plain": [
       "    Contrast        A          B  Paired  Parametric         T   dof  \\\n",
       "0  condition   Filler    Nonword    True        True  4.938703  21.0   \n",
       "1  condition   Filler    Related    True        True  9.667500  21.0   \n",
       "2  condition   Filler  Unrelated    True        True  4.809198  21.0   \n",
       "3  condition  Nonword    Related    True        True  7.250618  21.0   \n",
       "4  condition  Nonword  Unrelated    True        True  2.369689  21.0   \n",
       "5  condition  Related  Unrelated    True        True -7.936708  21.0   \n",
       "\n",
       "  alternative         p-unc        p-corr p-adjust       BF10    hedges  \n",
       "0   two-sided  6.928127e-05  4.156876e-04     bonf    381.245  0.398126  \n",
       "1   two-sided  3.490915e-09  2.094549e-08     bonf  3.393e+06  1.649705  \n",
       "2   two-sided  9.416537e-05  5.649922e-04     bonf    289.611  0.624884  \n",
       "3   two-sided  3.839102e-07  2.303461e-06     bonf  4.326e+04  1.144875  \n",
       "4   two-sided  2.746036e-02  1.647622e-01     bonf      2.165  0.203417  \n",
       "5   two-sided  9.351467e-08  5.610880e-07     bonf  1.595e+05 -0.989162  "
      ]
     },
     "execution_count": 91,
     "metadata": {},
     "output_type": "execute_result"
    }
   ],
   "source": [
    "data.pairwise_ttests(dv = 'rt', within = 'condition', subject = 'participantID', padjust = 'bonf')"
   ]
  },
  {
   "cell_type": "markdown",
   "id": "56360152",
   "metadata": {},
   "source": [
    "If no other information is available (e.g. published literature on similar tasks), we can use Cohen's rough guidelenes for interpreting effect sizes: (here, the column \"hedges\", which stands for Hedge’s g):\n",
    "\n",
    "0.2 = Small effect size\n",
    "0.5 = Medium effect size\n",
    "0.8 = Large effect size"
   ]
  },
  {
   "cell_type": "markdown",
   "id": "6fba5d26",
   "metadata": {},
   "source": [
    "### Write it up\n",
    "\n",
    "We can now write up our results, and maybe make a nicer figure with a little more inforamation, like a boxplot.\n",
    "\n",
    "A repeated-measures ANOVA, showed a significant main effect of condition on response time (F(3,63) = 51.12, p = 0.00). Bonferroni-corrected post-hoc pairwise t-tests showed significant differences between all condition, including the key comparison of interest, related vs. unrelated word pairs (t = -7.93, p = 0.00)."
   ]
  },
  {
   "cell_type": "code",
   "execution_count": 92,
   "id": "8e55c60b",
   "metadata": {},
   "outputs": [
    {
     "data": {
      "image/png": "[encoded data removed]",
      "text/plain": [
       "<Figure size 360x360 with 1 Axes>"
      ]
     },
     "metadata": {
      "needs_background": "light"
     },
     "output_type": "display_data"
    }
   ],
   "source": [
    "ax = sns.catplot(x = 'condition', y = 'rt', kind = 'box', data = data)"
   ]
  },
  {
   "cell_type": "markdown",
   "id": "5ccab156",
   "metadata": {},
   "source": [
    "## Other analyses\n",
    "\n",
    "### Linguistics vs. semiotics"
   ]
  },
  {
   "cell_type": "code",
   "execution_count": 93,
   "id": "4b5efd25",
   "metadata": {},
   "outputs": [
    {
     "data": {
      "text/html": [
       "<div>\n",
       "<style scoped>\n",
       "    .dataframe tbody tr th:only-of-type {\n",
       "        vertical-align: middle;\n",
       "    }\n",
       "\n",
       "    .dataframe tbody tr th {\n",
       "        vertical-align: top;\n",
       "    }\n",
       "\n",
       "    .dataframe thead th {\n",
       "        text-align: right;\n",
       "    }\n",
       "</style>\n",
       "<table border=\"1\" class=\"dataframe\">\n",
       "  <thead>\n",
       "    <tr style=\"text-align: right;\">\n",
       "      <th></th>\n",
       "      <th>participantID</th>\n",
       "      <th>condition</th>\n",
       "      <th>group</th>\n",
       "      <th>rt</th>\n",
       "    </tr>\n",
       "  </thead>\n",
       "  <tbody>\n",
       "    <tr>\n",
       "      <th>0</th>\n",
       "      <td>226</td>\n",
       "      <td>Filler</td>\n",
       "      <td>semiotics</td>\n",
       "      <td>992.111111</td>\n",
       "    </tr>\n",
       "    <tr>\n",
       "      <th>1</th>\n",
       "      <td>226</td>\n",
       "      <td>Nonword</td>\n",
       "      <td>semiotics</td>\n",
       "      <td>819.333333</td>\n",
       "    </tr>\n",
       "    <tr>\n",
       "      <th>2</th>\n",
       "      <td>226</td>\n",
       "      <td>Related</td>\n",
       "      <td>semiotics</td>\n",
       "      <td>684.894737</td>\n",
       "    </tr>\n",
       "    <tr>\n",
       "      <th>3</th>\n",
       "      <td>226</td>\n",
       "      <td>Unrelated</td>\n",
       "      <td>semiotics</td>\n",
       "      <td>786.882353</td>\n",
       "    </tr>\n",
       "    <tr>\n",
       "      <th>4</th>\n",
       "      <td>227</td>\n",
       "      <td>Filler</td>\n",
       "      <td>semiotics</td>\n",
       "      <td>1231.388889</td>\n",
       "    </tr>\n",
       "    <tr>\n",
       "      <th>...</th>\n",
       "      <td>...</td>\n",
       "      <td>...</td>\n",
       "      <td>...</td>\n",
       "      <td>...</td>\n",
       "    </tr>\n",
       "    <tr>\n",
       "      <th>83</th>\n",
       "      <td>251</td>\n",
       "      <td>Unrelated</td>\n",
       "      <td>linguistics</td>\n",
       "      <td>1190.050000</td>\n",
       "    </tr>\n",
       "    <tr>\n",
       "      <th>84</th>\n",
       "      <td>255</td>\n",
       "      <td>Filler</td>\n",
       "      <td>linguistics</td>\n",
       "      <td>1142.105263</td>\n",
       "    </tr>\n",
       "    <tr>\n",
       "      <th>85</th>\n",
       "      <td>255</td>\n",
       "      <td>Nonword</td>\n",
       "      <td>linguistics</td>\n",
       "      <td>1076.625000</td>\n",
       "    </tr>\n",
       "    <tr>\n",
       "      <th>86</th>\n",
       "      <td>255</td>\n",
       "      <td>Related</td>\n",
       "      <td>linguistics</td>\n",
       "      <td>889.952381</td>\n",
       "    </tr>\n",
       "    <tr>\n",
       "      <th>87</th>\n",
       "      <td>255</td>\n",
       "      <td>Unrelated</td>\n",
       "      <td>linguistics</td>\n",
       "      <td>1104.272727</td>\n",
       "    </tr>\n",
       "  </tbody>\n",
       "</table>\n",
       "<p>88 rows × 4 columns</p>\n",
       "</div>"
      ],
      "text/plain": [
       "    participantID  condition        group           rt\n",
       "0             226     Filler    semiotics   992.111111\n",
       "1             226    Nonword    semiotics   819.333333\n",
       "2             226    Related    semiotics   684.894737\n",
       "3             226  Unrelated    semiotics   786.882353\n",
       "4             227     Filler    semiotics  1231.388889\n",
       "..            ...        ...          ...          ...\n",
       "83            251  Unrelated  linguistics  1190.050000\n",
       "84            255     Filler  linguistics  1142.105263\n",
       "85            255    Nonword  linguistics  1076.625000\n",
       "86            255    Related  linguistics   889.952381\n",
       "87            255  Unrelated  linguistics  1104.272727\n",
       "\n",
       "[88 rows x 4 columns]"
      ]
     },
     "execution_count": 93,
     "metadata": {},
     "output_type": "execute_result"
    }
   ],
   "source": [
    "data = df_correct.groupby(['participantID', 'condition', 'group']).mean().reset_index()\n",
    "data"
   ]
  },
  {
   "cell_type": "code",
   "execution_count": 94,
   "id": "6116e9ed",
   "metadata": {},
   "outputs": [
    {
     "data": {
      "image/png": "[encoded data removed]",
      "text/plain": [
       "<Figure size 432x288 with 1 Axes>"
      ]
     },
     "metadata": {
      "needs_background": "light"
     },
     "output_type": "display_data"
    }
   ],
   "source": [
    "ax = sns.pointplot(x = 'condition', y = 'rt', hue = 'group', data = data)"
   ]
  },
  {
   "cell_type": "code",
   "execution_count": 95,
   "id": "513a11c4",
   "metadata": {},
   "outputs": [
    {
     "data": {
      "text/html": [
       "<div>\n",
       "<style scoped>\n",
       "    .dataframe tbody tr th:only-of-type {\n",
       "        vertical-align: middle;\n",
       "    }\n",
       "\n",
       "    .dataframe tbody tr th {\n",
       "        vertical-align: top;\n",
       "    }\n",
       "\n",
       "    .dataframe thead th {\n",
       "        text-align: right;\n",
       "    }\n",
       "</style>\n",
       "<table border=\"1\" class=\"dataframe\">\n",
       "  <thead>\n",
       "    <tr style=\"text-align: right;\">\n",
       "      <th></th>\n",
       "      <th>Source</th>\n",
       "      <th>SS</th>\n",
       "      <th>DF1</th>\n",
       "      <th>DF2</th>\n",
       "      <th>MS</th>\n",
       "      <th>F</th>\n",
       "      <th>p-unc</th>\n",
       "      <th>p-GG-corr</th>\n",
       "      <th>np2</th>\n",
       "      <th>eps</th>\n",
       "      <th>sphericity</th>\n",
       "      <th>W-spher</th>\n",
       "      <th>p-spher</th>\n",
       "    </tr>\n",
       "  </thead>\n",
       "  <tbody>\n",
       "    <tr>\n",
       "      <th>0</th>\n",
       "      <td>group</td>\n",
       "      <td>5.610495e+05</td>\n",
       "      <td>1</td>\n",
       "      <td>20</td>\n",
       "      <td>561049.481734</td>\n",
       "      <td>2.298143</td>\n",
       "      <td>1.451754e-01</td>\n",
       "      <td>NaN</td>\n",
       "      <td>0.103064</td>\n",
       "      <td>NaN</td>\n",
       "      <td>NaN</td>\n",
       "      <td>NaN</td>\n",
       "      <td>NaN</td>\n",
       "    </tr>\n",
       "    <tr>\n",
       "      <th>1</th>\n",
       "      <td>condition</td>\n",
       "      <td>2.010211e+06</td>\n",
       "      <td>3</td>\n",
       "      <td>60</td>\n",
       "      <td>670070.372230</td>\n",
       "      <td>49.947075</td>\n",
       "      <td>2.593265e-16</td>\n",
       "      <td>5.084707e-12</td>\n",
       "      <td>0.714070</td>\n",
       "      <td>0.669414</td>\n",
       "      <td>False</td>\n",
       "      <td>0.346458</td>\n",
       "      <td>0.000859</td>\n",
       "    </tr>\n",
       "    <tr>\n",
       "      <th>2</th>\n",
       "      <td>Interaction</td>\n",
       "      <td>2.076046e+04</td>\n",
       "      <td>3</td>\n",
       "      <td>60</td>\n",
       "      <td>6920.153174</td>\n",
       "      <td>0.515829</td>\n",
       "      <td>6.729587e-01</td>\n",
       "      <td>NaN</td>\n",
       "      <td>0.025143</td>\n",
       "      <td>NaN</td>\n",
       "      <td>NaN</td>\n",
       "      <td>NaN</td>\n",
       "      <td>NaN</td>\n",
       "    </tr>\n",
       "  </tbody>\n",
       "</table>\n",
       "</div>"
      ],
      "text/plain": [
       "        Source            SS  DF1  DF2             MS          F  \\\n",
       "0        group  5.610495e+05    1   20  561049.481734   2.298143   \n",
       "1    condition  2.010211e+06    3   60  670070.372230  49.947075   \n",
       "2  Interaction  2.076046e+04    3   60    6920.153174   0.515829   \n",
       "\n",
       "          p-unc     p-GG-corr       np2       eps sphericity   W-spher  \\\n",
       "0  1.451754e-01           NaN  0.103064       NaN        NaN       NaN   \n",
       "1  2.593265e-16  5.084707e-12  0.714070  0.669414      False  0.346458   \n",
       "2  6.729587e-01           NaN  0.025143       NaN        NaN       NaN   \n",
       "\n",
       "    p-spher  \n",
       "0       NaN  \n",
       "1  0.000859  \n",
       "2       NaN  "
      ]
     },
     "execution_count": 95,
     "metadata": {},
     "output_type": "execute_result"
    }
   ],
   "source": [
    "data.mixed_anova(dv = 'rt', within = 'condition', between = 'group', subject = 'participantID')"
   ]
  },
  {
   "cell_type": "markdown",
   "id": "de5b9a5e",
   "metadata": {},
   "source": [
    "### Percent correct\n",
    "\n",
    "We could also check to see if people tended to make more mistakes in any of the conditions. First, we need to find some way to calculate how many correct and incorrect scores there were in each condition. I'm going to ignore which participant made the errors for now, just to make things easier.\n",
    "\n",
    "`crosstab` is an easy way to get the counts of correct and incorrect answers. Once we get that, we can just divide by the total number of answers to get the percent correct."
   ]
  },
  {
   "cell_type": "code",
   "execution_count": 96,
   "id": "4305b1f6",
   "metadata": {},
   "outputs": [
    {
     "data": {
      "text/html": [
       "<div>\n",
       "<style scoped>\n",
       "    .dataframe tbody tr th:only-of-type {\n",
       "        vertical-align: middle;\n",
       "    }\n",
       "\n",
       "    .dataframe tbody tr th {\n",
       "        vertical-align: top;\n",
       "    }\n",
       "\n",
       "    .dataframe thead th {\n",
       "        text-align: right;\n",
       "    }\n",
       "</style>\n",
       "<table border=\"1\" class=\"dataframe\">\n",
       "  <thead>\n",
       "    <tr style=\"text-align: right;\">\n",
       "      <th>correct</th>\n",
       "      <th>condition</th>\n",
       "      <th>correct</th>\n",
       "      <th>incorrect</th>\n",
       "      <th>All</th>\n",
       "      <th>percent_correct</th>\n",
       "    </tr>\n",
       "  </thead>\n",
       "  <tbody>\n",
       "    <tr>\n",
       "      <th>0</th>\n",
       "      <td>Filler</td>\n",
       "      <td>387</td>\n",
       "      <td>53</td>\n",
       "      <td>440</td>\n",
       "      <td>0.879545</td>\n",
       "    </tr>\n",
       "    <tr>\n",
       "      <th>1</th>\n",
       "      <td>Nonword</td>\n",
       "      <td>393</td>\n",
       "      <td>17</td>\n",
       "      <td>410</td>\n",
       "      <td>0.958537</td>\n",
       "    </tr>\n",
       "    <tr>\n",
       "      <th>2</th>\n",
       "      <td>Related</td>\n",
       "      <td>437</td>\n",
       "      <td>11</td>\n",
       "      <td>448</td>\n",
       "      <td>0.975446</td>\n",
       "    </tr>\n",
       "    <tr>\n",
       "      <th>3</th>\n",
       "      <td>Unrelated</td>\n",
       "      <td>347</td>\n",
       "      <td>53</td>\n",
       "      <td>400</td>\n",
       "      <td>0.867500</td>\n",
       "    </tr>\n",
       "    <tr>\n",
       "      <th>4</th>\n",
       "      <td>All</td>\n",
       "      <td>1564</td>\n",
       "      <td>134</td>\n",
       "      <td>1698</td>\n",
       "      <td>0.921084</td>\n",
       "    </tr>\n",
       "  </tbody>\n",
       "</table>\n",
       "</div>"
      ],
      "text/plain": [
       "correct  condition  correct  incorrect   All  percent_correct\n",
       "0           Filler      387         53   440         0.879545\n",
       "1          Nonword      393         17   410         0.958537\n",
       "2          Related      437         11   448         0.975446\n",
       "3        Unrelated      347         53   400         0.867500\n",
       "4              All     1564        134  1698         0.921084"
      ]
     },
     "execution_count": 96,
     "metadata": {},
     "output_type": "execute_result"
    }
   ],
   "source": [
    "data = df\n",
    "data = pd.crosstab(index = data['condition'], columns = data['correct'],margins=True).reset_index()\n",
    "data['percent_correct'] = data['correct'] / data['All']\n",
    "data"
   ]
  },
  {
   "cell_type": "code",
   "execution_count": 97,
   "id": "95cb87bb",
   "metadata": {},
   "outputs": [
    {
     "data": {
      "text/plain": [
       "<AxesSubplot:xlabel='condition', ylabel='percent_correct'>"
      ]
     },
     "execution_count": 97,
     "metadata": {},
     "output_type": "execute_result"
    },
    {
     "data": {
      "image/png": "[encoded data removed]",
      "text/plain": [
       "<Figure size 432x288 with 1 Axes>"
      ]
     },
     "metadata": {
      "needs_background": "light"
     },
     "output_type": "display_data"
    }
   ],
   "source": [
    "data = data[data['condition'] != 'All']\n",
    "sns.barplot(x = 'condition', y = 'percent_correct', data = data)"
   ]
  },
  {
   "cell_type": "markdown",
   "id": "4168a92a",
   "metadata": {},
   "source": [
    "### Individual items\n",
    "\n",
    "We could also scan the data to see if there are any individual stimulus pairs that gave people particular trouble. Of course, we can't read which pairs are which in the figures below, but it gives us an idea of the distribution."
   ]
  },
  {
   "cell_type": "code",
   "execution_count": 98,
   "id": "08bce53d",
   "metadata": {},
   "outputs": [
    {
     "data": {
      "text/html": [
       "<div>\n",
       "<style scoped>\n",
       "    .dataframe tbody tr th:only-of-type {\n",
       "        vertical-align: middle;\n",
       "    }\n",
       "\n",
       "    .dataframe tbody tr th {\n",
       "        vertical-align: top;\n",
       "    }\n",
       "\n",
       "    .dataframe thead th {\n",
       "        text-align: right;\n",
       "    }\n",
       "</style>\n",
       "<table border=\"1\" class=\"dataframe\">\n",
       "  <thead>\n",
       "    <tr style=\"text-align: right;\">\n",
       "      <th></th>\n",
       "      <th>stimulus</th>\n",
       "      <th>condition</th>\n",
       "      <th>group</th>\n",
       "      <th>participantID</th>\n",
       "      <th>rt</th>\n",
       "    </tr>\n",
       "  </thead>\n",
       "  <tbody>\n",
       "    <tr>\n",
       "      <th>0</th>\n",
       "      <td>ace-snow</td>\n",
       "      <td>Unrelated</td>\n",
       "      <td>linguistics</td>\n",
       "      <td>249.50</td>\n",
       "      <td>963.000000</td>\n",
       "    </tr>\n",
       "    <tr>\n",
       "      <th>1</th>\n",
       "      <td>ace-snow</td>\n",
       "      <td>Unrelated</td>\n",
       "      <td>semiotics</td>\n",
       "      <td>233.00</td>\n",
       "      <td>1230.400000</td>\n",
       "    </tr>\n",
       "    <tr>\n",
       "      <th>2</th>\n",
       "      <td>add-subtract</td>\n",
       "      <td>Related</td>\n",
       "      <td>linguistics</td>\n",
       "      <td>247.00</td>\n",
       "      <td>1018.666667</td>\n",
       "    </tr>\n",
       "    <tr>\n",
       "      <th>3</th>\n",
       "      <td>add-subtract</td>\n",
       "      <td>Related</td>\n",
       "      <td>semiotics</td>\n",
       "      <td>232.75</td>\n",
       "      <td>1101.750000</td>\n",
       "    </tr>\n",
       "    <tr>\n",
       "      <th>4</th>\n",
       "      <td>afraid-scobet</td>\n",
       "      <td>Filler</td>\n",
       "      <td>linguistics</td>\n",
       "      <td>248.75</td>\n",
       "      <td>1790.875000</td>\n",
       "    </tr>\n",
       "  </tbody>\n",
       "</table>\n",
       "</div>"
      ],
      "text/plain": [
       "        stimulus  condition        group  participantID           rt\n",
       "0       ace-snow  Unrelated  linguistics         249.50   963.000000\n",
       "1       ace-snow  Unrelated    semiotics         233.00  1230.400000\n",
       "2   add-subtract    Related  linguistics         247.00  1018.666667\n",
       "3   add-subtract    Related    semiotics         232.75  1101.750000\n",
       "4  afraid-scobet     Filler  linguistics         248.75  1790.875000"
      ]
     },
     "execution_count": 98,
     "metadata": {},
     "output_type": "execute_result"
    }
   ],
   "source": [
    "data = df_correct.groupby(['stimulus', 'condition', 'group']).mean().reset_index()\n",
    "data.head()"
   ]
  },
  {
   "cell_type": "code",
   "execution_count": 103,
   "id": "073345e6",
   "metadata": {},
   "outputs": [
    {
     "data": {
      "text/plain": [
       "<AxesSubplot:xlabel='rt', ylabel='stimulus'>"
      ]
     },
     "execution_count": 103,
     "metadata": {},
     "output_type": "execute_result"
    },
    {
     "data": {
      "image/png": "[encoded data removed]",
      "text/plain": [
       "<Figure size 432x288 with 1 Axes>"
      ]
     },
     "metadata": {
      "needs_background": "light"
     },
     "output_type": "display_data"
    }
   ],
   "source": [
    "sns.pointplot(x = 'rt', y = 'stimulus', hue = 'group', data = data)"
   ]
  },
  {
   "cell_type": "code",
   "execution_count": 104,
   "id": "eec511a9",
   "metadata": {},
   "outputs": [
    {
     "data": {
      "text/plain": [
       "<AxesSubplot:xlabel='rt', ylabel='stimulus'>"
      ]
     },
     "execution_count": 104,
     "metadata": {},
     "output_type": "execute_result"
    },
    {
     "data": {
      "image/png": "[encoded data removed]",
      "text/plain": [
       "<Figure size 432x288 with 1 Axes>"
      ]
     },
     "metadata": {
      "needs_background": "light"
     },
     "output_type": "display_data"
    }
   ],
   "source": [
    "sns.pointplot(x = 'rt', y = 'stimulus', hue = 'condition', data = data)"
   ]
  },
  {
   "cell_type": "markdown",
   "id": "d0625f23",
   "metadata": {},
   "source": [
    "### stimulus with the longest response time"
   ]
  },
  {
   "cell_type": "code",
   "execution_count": 105,
   "id": "d3f50994",
   "metadata": {},
   "outputs": [
    {
     "data": {
      "text/html": [
       "<div>\n",
       "<style scoped>\n",
       "    .dataframe tbody tr th:only-of-type {\n",
       "        vertical-align: middle;\n",
       "    }\n",
       "\n",
       "    .dataframe tbody tr th {\n",
       "        vertical-align: top;\n",
       "    }\n",
       "\n",
       "    .dataframe thead th {\n",
       "        text-align: right;\n",
       "    }\n",
       "</style>\n",
       "<table border=\"1\" class=\"dataframe\">\n",
       "  <thead>\n",
       "    <tr style=\"text-align: right;\">\n",
       "      <th></th>\n",
       "      <th>stimulus</th>\n",
       "      <th>condition</th>\n",
       "      <th>group</th>\n",
       "      <th>participantID</th>\n",
       "      <th>rt</th>\n",
       "    </tr>\n",
       "  </thead>\n",
       "  <tbody>\n",
       "    <tr>\n",
       "      <th>66</th>\n",
       "      <td>church-steeple</td>\n",
       "      <td>Related</td>\n",
       "      <td>linguistics</td>\n",
       "      <td>251.0</td>\n",
       "      <td>2512.0</td>\n",
       "    </tr>\n",
       "  </tbody>\n",
       "</table>\n",
       "</div>"
      ],
      "text/plain": [
       "          stimulus condition        group  participantID      rt\n",
       "66  church-steeple   Related  linguistics          251.0  2512.0"
      ]
     },
     "execution_count": 105,
     "metadata": {},
     "output_type": "execute_result"
    }
   ],
   "source": [
    "data[data['rt'] == data['rt'].max()]"
   ]
  },
  {
   "cell_type": "markdown",
   "id": "376c983f",
   "metadata": {},
   "source": [
    "### stimuli with the fastest response times"
   ]
  },
  {
   "cell_type": "code",
   "execution_count": 286,
   "id": "7a961efd",
   "metadata": {},
   "outputs": [
    {
     "data": {
      "text/html": [
       "<div>\n",
       "<style scoped>\n",
       "    .dataframe tbody tr th:only-of-type {\n",
       "        vertical-align: middle;\n",
       "    }\n",
       "\n",
       "    .dataframe tbody tr th {\n",
       "        vertical-align: top;\n",
       "    }\n",
       "\n",
       "    .dataframe thead th {\n",
       "        text-align: right;\n",
       "    }\n",
       "</style>\n",
       "<table border=\"1\" class=\"dataframe\">\n",
       "  <thead>\n",
       "    <tr style=\"text-align: right;\">\n",
       "      <th></th>\n",
       "      <th>stimulus</th>\n",
       "      <th>condition</th>\n",
       "      <th>group</th>\n",
       "      <th>participantID</th>\n",
       "      <th>rt</th>\n",
       "    </tr>\n",
       "  </thead>\n",
       "  <tbody>\n",
       "    <tr>\n",
       "      <th>83</th>\n",
       "      <td>dig-cat</td>\n",
       "      <td>Unrelated</td>\n",
       "      <td>semiotics</td>\n",
       "      <td>232.00</td>\n",
       "      <td>621.0</td>\n",
       "    </tr>\n",
       "    <tr>\n",
       "      <th>171</th>\n",
       "      <td>high-low</td>\n",
       "      <td>Related</td>\n",
       "      <td>semiotics</td>\n",
       "      <td>232.75</td>\n",
       "      <td>621.0</td>\n",
       "    </tr>\n",
       "  </tbody>\n",
       "</table>\n",
       "</div>"
      ],
      "text/plain": [
       "     stimulus  condition      group  participantID     rt\n",
       "83    dig-cat  Unrelated  semiotics         232.00  621.0\n",
       "171  high-low    Related  semiotics         232.75  621.0"
      ]
     },
     "execution_count": 286,
     "metadata": {},
     "output_type": "execute_result"
    }
   ],
   "source": [
    "data[data['rt'] == data['rt'].min()]"
   ]
  },
  {
   "cell_type": "markdown",
   "id": "38c93e05",
   "metadata": {},
   "source": [
    "### Does the semiotics or linguistics group have more variation?"
   ]
  },
  {
   "cell_type": "code",
   "execution_count": 323,
   "id": "18d8c24b",
   "metadata": {},
   "outputs": [],
   "source": [
    "lin = pd.DataFrame(data[data['group'] == 'linguistics']['rt'].describe()).reset_index()\n",
    "sem = pd.DataFrame(data[data['group'] == 'semiotics']['rt'].describe()).reset_index()"
   ]
  },
  {
   "cell_type": "code",
   "execution_count": 324,
   "id": "15cf8ce4",
   "metadata": {},
   "outputs": [
    {
     "data": {
      "text/html": [
       "<div>\n",
       "<style scoped>\n",
       "    .dataframe tbody tr th:only-of-type {\n",
       "        vertical-align: middle;\n",
       "    }\n",
       "\n",
       "    .dataframe tbody tr th {\n",
       "        vertical-align: top;\n",
       "    }\n",
       "\n",
       "    .dataframe thead th {\n",
       "        text-align: right;\n",
       "    }\n",
       "</style>\n",
       "<table border=\"1\" class=\"dataframe\">\n",
       "  <thead>\n",
       "    <tr style=\"text-align: right;\">\n",
       "      <th></th>\n",
       "      <th>index</th>\n",
       "      <th>rt_x</th>\n",
       "      <th>rt_y</th>\n",
       "    </tr>\n",
       "  </thead>\n",
       "  <tbody>\n",
       "    <tr>\n",
       "      <th>0</th>\n",
       "      <td>count</td>\n",
       "      <td>192.000000</td>\n",
       "      <td>192.000000</td>\n",
       "    </tr>\n",
       "    <tr>\n",
       "      <th>1</th>\n",
       "      <td>mean</td>\n",
       "      <td>1226.250719</td>\n",
       "      <td>1068.240034</td>\n",
       "    </tr>\n",
       "    <tr>\n",
       "      <th>2</th>\n",
       "      <td>std</td>\n",
       "      <td>327.208203</td>\n",
       "      <td>266.688219</td>\n",
       "    </tr>\n",
       "    <tr>\n",
       "      <th>3</th>\n",
       "      <td>min</td>\n",
       "      <td>692.666667</td>\n",
       "      <td>621.000000</td>\n",
       "    </tr>\n",
       "    <tr>\n",
       "      <th>4</th>\n",
       "      <td>25%</td>\n",
       "      <td>990.166667</td>\n",
       "      <td>874.375000</td>\n",
       "    </tr>\n",
       "    <tr>\n",
       "      <th>5</th>\n",
       "      <td>50%</td>\n",
       "      <td>1157.666667</td>\n",
       "      <td>1008.300000</td>\n",
       "    </tr>\n",
       "    <tr>\n",
       "      <th>6</th>\n",
       "      <td>75%</td>\n",
       "      <td>1372.187500</td>\n",
       "      <td>1252.312500</td>\n",
       "    </tr>\n",
       "    <tr>\n",
       "      <th>7</th>\n",
       "      <td>max</td>\n",
       "      <td>2512.000000</td>\n",
       "      <td>1930.500000</td>\n",
       "    </tr>\n",
       "  </tbody>\n",
       "</table>\n",
       "</div>"
      ],
      "text/plain": [
       "   index         rt_x         rt_y\n",
       "0  count   192.000000   192.000000\n",
       "1   mean  1226.250719  1068.240034\n",
       "2    std   327.208203   266.688219\n",
       "3    min   692.666667   621.000000\n",
       "4    25%   990.166667   874.375000\n",
       "5    50%  1157.666667  1008.300000\n",
       "6    75%  1372.187500  1252.312500\n",
       "7    max  2512.000000  1930.500000"
      ]
     },
     "execution_count": 324,
     "metadata": {},
     "output_type": "execute_result"
    }
   ],
   "source": [
    "combined = lin.merge(sem, on = 'index')\n",
    "combined\n"
   ]
  },
  {
   "cell_type": "code",
   "execution_count": 325,
   "id": "54c74808",
   "metadata": {},
   "outputs": [
    {
     "name": "stderr",
     "output_type": "stream",
     "text": [
      "/opt/anaconda3/lib/python3.7/site-packages/pandas/core/frame.py:5047: SettingWithCopyWarning: \n",
      "A value is trying to be set on a copy of a slice from a DataFrame\n",
      "\n",
      "See the caveats in the documentation: https://pandas.pydata.org/pandas-docs/stable/user_guide/indexing.html#returning-a-view-versus-a-copy\n",
      "  errors=errors,\n"
     ]
    },
    {
     "data": {
      "text/html": [
       "<div>\n",
       "<style scoped>\n",
       "    .dataframe tbody tr th:only-of-type {\n",
       "        vertical-align: middle;\n",
       "    }\n",
       "\n",
       "    .dataframe tbody tr th {\n",
       "        vertical-align: top;\n",
       "    }\n",
       "\n",
       "    .dataframe thead th {\n",
       "        text-align: right;\n",
       "    }\n",
       "</style>\n",
       "<table border=\"1\" class=\"dataframe\">\n",
       "  <thead>\n",
       "    <tr style=\"text-align: right;\">\n",
       "      <th></th>\n",
       "      <th>group</th>\n",
       "      <th>sd</th>\n",
       "    </tr>\n",
       "  </thead>\n",
       "  <tbody>\n",
       "    <tr>\n",
       "      <th>0</th>\n",
       "      <td>linguistics</td>\n",
       "      <td>327.208203</td>\n",
       "    </tr>\n",
       "    <tr>\n",
       "      <th>1</th>\n",
       "      <td>semiotics</td>\n",
       "      <td>266.688219</td>\n",
       "    </tr>\n",
       "  </tbody>\n",
       "</table>\n",
       "</div>"
      ],
      "text/plain": [
       "         group          sd\n",
       "0  linguistics  327.208203\n",
       "1    semiotics  266.688219"
      ]
     },
     "execution_count": 325,
     "metadata": {},
     "output_type": "execute_result"
    }
   ],
   "source": [
    "combined = combined[combined['index'] == 'std']\n",
    "combined.rename(columns = {'rt_x':'linguistics', 'rt_y':'semiotics'}, inplace = True)\n",
    "combined = pd.melt(combined, value_vars=['linguistics', 'semiotics'])\n",
    "combined.rename(columns = {'variable':'group', 'value':'sd'}, inplace = True)\n",
    "combined"
   ]
  },
  {
   "cell_type": "code",
   "execution_count": 326,
   "id": "d95278b2",
   "metadata": {},
   "outputs": [
    {
     "data": {
      "text/plain": [
       "<AxesSubplot:xlabel='group', ylabel='sd'>"
      ]
     },
     "execution_count": 326,
     "metadata": {},
     "output_type": "execute_result"
    },
    {
     "data": {
      "image/png": "[encoded data removed]",
      "text/plain": [
       "<Figure size 432x288 with 1 Axes>"
      ]
     },
     "metadata": {
      "needs_background": "light"
     },
     "output_type": "display_data"
    }
   ],
   "source": [
    "sns.barplot(x = 'group', y = 'sd', data = combined)"
   ]
  },
  {
   "cell_type": "code",
   "execution_count": 51,
   "id": "227f5f1c",
   "metadata": {},
   "outputs": [
    {
     "data": {
      "text/html": [
       "<div>\n",
       "<style scoped>\n",
       "    .dataframe tbody tr th:only-of-type {\n",
       "        vertical-align: middle;\n",
       "    }\n",
       "\n",
       "    .dataframe tbody tr th {\n",
       "        vertical-align: top;\n",
       "    }\n",
       "\n",
       "    .dataframe thead th {\n",
       "        text-align: right;\n",
       "    }\n",
       "</style>\n",
       "<table border=\"1\" class=\"dataframe\">\n",
       "  <thead>\n",
       "    <tr style=\"text-align: right;\">\n",
       "      <th></th>\n",
       "      <th>participantID</th>\n",
       "      <th>group</th>\n",
       "      <th>block</th>\n",
       "      <th>condition</th>\n",
       "      <th>stimulus</th>\n",
       "      <th>correct_response</th>\n",
       "      <th>correct</th>\n",
       "      <th>response</th>\n",
       "      <th>rt</th>\n",
       "    </tr>\n",
       "  </thead>\n",
       "  <tbody>\n",
       "    <tr>\n",
       "      <th>1808</th>\n",
       "      <td>243</td>\n",
       "      <td>linguistics</td>\n",
       "      <td>A</td>\n",
       "      <td>Unrelated</td>\n",
       "      <td>carves-round</td>\n",
       "      <td>left</td>\n",
       "      <td>correct</td>\n",
       "      <td>left</td>\n",
       "      <td>3481</td>\n",
       "    </tr>\n",
       "    <tr>\n",
       "      <th>28</th>\n",
       "      <td>239</td>\n",
       "      <td>semiotics</td>\n",
       "      <td>C</td>\n",
       "      <td>Unrelated</td>\n",
       "      <td>mood-star</td>\n",
       "      <td>left</td>\n",
       "      <td>correct</td>\n",
       "      <td>left</td>\n",
       "      <td>3305</td>\n",
       "    </tr>\n",
       "    <tr>\n",
       "      <th>1244</th>\n",
       "      <td>251</td>\n",
       "      <td>linguistics</td>\n",
       "      <td>C</td>\n",
       "      <td>Filler</td>\n",
       "      <td>afraid-scobet</td>\n",
       "      <td>right</td>\n",
       "      <td>correct</td>\n",
       "      <td>right</td>\n",
       "      <td>3289</td>\n",
       "    </tr>\n",
       "    <tr>\n",
       "      <th>1813</th>\n",
       "      <td>243</td>\n",
       "      <td>linguistics</td>\n",
       "      <td>A</td>\n",
       "      <td>Filler</td>\n",
       "      <td>green-gliss</td>\n",
       "      <td>right</td>\n",
       "      <td>correct</td>\n",
       "      <td>right</td>\n",
       "      <td>3124</td>\n",
       "    </tr>\n",
       "    <tr>\n",
       "      <th>729</th>\n",
       "      <td>231</td>\n",
       "      <td>semiotics</td>\n",
       "      <td>A</td>\n",
       "      <td>Filler</td>\n",
       "      <td>neibon-thread</td>\n",
       "      <td>right</td>\n",
       "      <td>correct</td>\n",
       "      <td>right</td>\n",
       "      <td>3092</td>\n",
       "    </tr>\n",
       "    <tr>\n",
       "      <th>...</th>\n",
       "      <td>...</td>\n",
       "      <td>...</td>\n",
       "      <td>...</td>\n",
       "      <td>...</td>\n",
       "      <td>...</td>\n",
       "      <td>...</td>\n",
       "      <td>...</td>\n",
       "      <td>...</td>\n",
       "      <td>...</td>\n",
       "    </tr>\n",
       "    <tr>\n",
       "      <th>994</th>\n",
       "      <td>227</td>\n",
       "      <td>semiotics</td>\n",
       "      <td>C</td>\n",
       "      <td>Unrelated</td>\n",
       "      <td>mood-star</td>\n",
       "      <td>left</td>\n",
       "      <td>correct</td>\n",
       "      <td>left</td>\n",
       "      <td>516</td>\n",
       "    </tr>\n",
       "    <tr>\n",
       "      <th>1083</th>\n",
       "      <td>226</td>\n",
       "      <td>semiotics</td>\n",
       "      <td>B</td>\n",
       "      <td>Related</td>\n",
       "      <td>dark-night</td>\n",
       "      <td>left</td>\n",
       "      <td>correct</td>\n",
       "      <td>left</td>\n",
       "      <td>490</td>\n",
       "    </tr>\n",
       "    <tr>\n",
       "      <th>399</th>\n",
       "      <td>235</td>\n",
       "      <td>semiotics</td>\n",
       "      <td>B</td>\n",
       "      <td>Related</td>\n",
       "      <td>hard-soft</td>\n",
       "      <td>left</td>\n",
       "      <td>correct</td>\n",
       "      <td>left</td>\n",
       "      <td>479</td>\n",
       "    </tr>\n",
       "    <tr>\n",
       "      <th>975</th>\n",
       "      <td>227</td>\n",
       "      <td>semiotics</td>\n",
       "      <td>C</td>\n",
       "      <td>Unrelated</td>\n",
       "      <td>gain-hurt</td>\n",
       "      <td>left</td>\n",
       "      <td>correct</td>\n",
       "      <td>left</td>\n",
       "      <td>435</td>\n",
       "    </tr>\n",
       "    <tr>\n",
       "      <th>1001</th>\n",
       "      <td>227</td>\n",
       "      <td>semiotics</td>\n",
       "      <td>C</td>\n",
       "      <td>Related</td>\n",
       "      <td>baby-child</td>\n",
       "      <td>left</td>\n",
       "      <td>correct</td>\n",
       "      <td>left</td>\n",
       "      <td>421</td>\n",
       "    </tr>\n",
       "  </tbody>\n",
       "</table>\n",
       "<p>1564 rows × 9 columns</p>\n",
       "</div>"
      ],
      "text/plain": [
       "      participantID        group block  condition       stimulus  \\\n",
       "1808            243  linguistics     A  Unrelated   carves-round   \n",
       "28              239    semiotics     C  Unrelated      mood-star   \n",
       "1244            251  linguistics     C     Filler  afraid-scobet   \n",
       "1813            243  linguistics     A     Filler    green-gliss   \n",
       "729             231    semiotics     A     Filler  neibon-thread   \n",
       "...             ...          ...   ...        ...            ...   \n",
       "994             227    semiotics     C  Unrelated      mood-star   \n",
       "1083            226    semiotics     B    Related     dark-night   \n",
       "399             235    semiotics     B    Related      hard-soft   \n",
       "975             227    semiotics     C  Unrelated      gain-hurt   \n",
       "1001            227    semiotics     C    Related     baby-child   \n",
       "\n",
       "     correct_response  correct response    rt  \n",
       "1808             left  correct     left  3481  \n",
       "28               left  correct     left  3305  \n",
       "1244            right  correct    right  3289  \n",
       "1813            right  correct    right  3124  \n",
       "729             right  correct    right  3092  \n",
       "...               ...      ...      ...   ...  \n",
       "994              left  correct     left   516  \n",
       "1083             left  correct     left   490  \n",
       "399              left  correct     left   479  \n",
       "975              left  correct     left   435  \n",
       "1001             left  correct     left   421  \n",
       "\n",
       "[1564 rows x 9 columns]"
      ]
     },
     "execution_count": 51,
     "metadata": {},
     "output_type": "execute_result"
    }
   ],
   "source": [
    "sorted_df = df_correct.sort_values(by='rt', ascending = False)\n",
    "sorted_df"
   ]
  },
  {
   "cell_type": "code",
   "execution_count": 28,
   "id": "0f5540c7",
   "metadata": {},
   "outputs": [],
   "source": []
  },
  {
   "cell_type": "code",
   "execution_count": null,
   "id": "1c0af4f0",
   "metadata": {},
   "outputs": [],
   "source": []
  }
 ],
 "metadata": {
  "kernelspec": {
   "display_name": "Python 3",
   "language": "python",
   "name": "python3"
  },
  "language_info": {
   "codemirror_mode": {
    "name": "ipython",
    "version": 3
   },
   "file_extension": ".py",
   "mimetype": "text/x-python",
   "name": "python",
   "nbconvert_exporter": "python",
   "pygments_lexer": "ipython3",
   "version": "3.7.10"
  }
 },
 "nbformat": 4,
 "nbformat_minor": 5
}
