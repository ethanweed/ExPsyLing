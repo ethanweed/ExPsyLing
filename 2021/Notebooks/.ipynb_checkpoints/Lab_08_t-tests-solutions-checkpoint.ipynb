{
 "cells": [
  {
   "cell_type": "markdown",
   "id": "767e4cdb",
   "metadata": {},
   "source": [
    "# Working with t-tests\n",
    "\n",
    "Below are 5 sets of data. Each of them have questions which can be addressed using a t-test. For each dataset:\n",
    "\n",
    "1. Identify the research question\n",
    "2. Choose the appropriate t-test\n",
    "3. Do the t-test in Python (see chapter and/or slides for code)\n",
    "4. Report your results using the APA format, just like in the examples in the book (e.g. With a mean grade of 72.3, the psychology students scored slightly higher than the average grade of 67.5 (𝑡(19)=2.25, 𝑝<.05))\n",
    "5. Make a figure which illustrates the results\n",
    "\n",
    "NB: for some of these data sets, you may have to re-arrange the data a little before you can do your analysis! If the data are in long format, where there is a column with a grouping variable, like the example below, an easy way to get data out so they can be entered in a t-test is to make two new variables, like this:\n",
    "\n",
    "| ID number | Group  | Measure |\n",
    "| :-------: | :----: | :-----: |\n",
    "|     1     | A      |   32    |\n",
    "|     2     | B      |  43.2   |\n",
    "|     3     | A      |  31.2   |\n",
    "|     4     | B      |  22.1   |\n",
    "\n",
    "Group1 = pd.DataFrame(df.loc[df['GroupingVariable'] == 'A']['Measure'])\n",
    "\n",
    "Group2 = pd.DataFrame(df.loc[df['GroupingVariable'] == 'B']['Measure'])\n",
    "\n",
    "Now the t-test can be done with Group1 and Group2."
   ]
  },
  {
   "cell_type": "markdown",
   "id": "0961dd38",
   "metadata": {},
   "source": [
    "## Dataset 1: \"Moon and Aggression\"\n",
    "\n",
    "Description:\n",
    "\n",
    "This data set, \"Moon & Aggression\", provides the number of disruptive behaviors by dementia patients during two different phases of the lunar cycle (Moore et al, 2012, p. 410). Each row corresponds to one participant.\n",
    "\n",
    "Variables:\n",
    "\n",
    "Moon - The average number of disruptive behaviors during full moon days.\n",
    "Other - The average number of disruptive behaviors during other days.\n",
    "\n",
    "Assignment:\n",
    "Examine the adequacy of the null hypothesis which states that the average number of disruptive behaviors among patients with dementia does not differ between moon days and other days. Calculate an appropriate test statistic, and make a figure illustrating the comparison. Write a sentence reporting your results in the same way they are reported in the book (APA format): \n",
    "\n",
    "> With a mean grade of 72.3, the psychology students scored slightly higher than the average grade of 67.5 (𝑡(19)=2.25, 𝑝<.05)\n",
    "\n",
    "References:\n",
    "\n",
    "Moore, D. S., McCabe, G. P., and Craig. B. A. (2012) Introduction to the Practice of Statistics (7th ed). New York: Freeman.\n",
    "\n",
    "\"These data were collected as part of a larger study of dementia patients conducted by Nancy Edwards and Alan Beck, Purdue University.\" (Moore et al, 2012, p. N-8). "
   ]
  },
  {
   "cell_type": "code",
   "execution_count": 2,
   "id": "2a25b7e3",
   "metadata": {},
   "outputs": [
    {
     "data": {
      "text/html": [
       "<div>\n",
       "<style scoped>\n",
       "    .dataframe tbody tr th:only-of-type {\n",
       "        vertical-align: middle;\n",
       "    }\n",
       "\n",
       "    .dataframe tbody tr th {\n",
       "        vertical-align: top;\n",
       "    }\n",
       "\n",
       "    .dataframe thead th {\n",
       "        text-align: right;\n",
       "    }\n",
       "</style>\n",
       "<table border=\"1\" class=\"dataframe\">\n",
       "  <thead>\n",
       "    <tr style=\"text-align: right;\">\n",
       "      <th></th>\n",
       "      <th>Moon</th>\n",
       "      <th>Other</th>\n",
       "    </tr>\n",
       "  </thead>\n",
       "  <tbody>\n",
       "    <tr>\n",
       "      <th>0</th>\n",
       "      <td>3.33</td>\n",
       "      <td>0.27</td>\n",
       "    </tr>\n",
       "    <tr>\n",
       "      <th>1</th>\n",
       "      <td>3.67</td>\n",
       "      <td>0.59</td>\n",
       "    </tr>\n",
       "    <tr>\n",
       "      <th>2</th>\n",
       "      <td>2.67</td>\n",
       "      <td>0.32</td>\n",
       "    </tr>\n",
       "    <tr>\n",
       "      <th>3</th>\n",
       "      <td>3.33</td>\n",
       "      <td>0.19</td>\n",
       "    </tr>\n",
       "    <tr>\n",
       "      <th>4</th>\n",
       "      <td>3.33</td>\n",
       "      <td>1.26</td>\n",
       "    </tr>\n",
       "  </tbody>\n",
       "</table>\n",
       "</div>"
      ],
      "text/plain": [
       "   Moon  Other\n",
       "0  3.33   0.27\n",
       "1  3.67   0.59\n",
       "2  2.67   0.32\n",
       "3  3.33   0.19\n",
       "4  3.33   1.26"
      ]
     },
     "execution_count": 2,
     "metadata": {},
     "output_type": "execute_result"
    }
   ],
   "source": [
    "import pandas as pd\n",
    "df = pd.read_csv('https://raw.githubusercontent.com/ethanweed/datasets-for-teaching/main/JASP_data_library/2.%20T-Tests/Moon%20and%20Aggression.csv')\n",
    "df.head()"
   ]
  },
  {
   "cell_type": "code",
   "execution_count": 5,
   "id": "8ee09e92",
   "metadata": {},
   "outputs": [
    {
     "name": "stdout",
     "output_type": "stream",
     "text": [
      "Disruptive behaviours were more frequent during the full moon periods (mean = 3.022) than during the other periods (mean = 0.589), t(14) = 6.452, p = 0.0.\n"
     ]
    }
   ],
   "source": [
    "import statistics\n",
    "from scipy.stats import ttest_rel\n",
    "\n",
    "\n",
    "mean_fullmoon = statistics.mean(df['Moon'])\n",
    "mean_other = statistics.mean(df['Other'])\n",
    "N = df.shape[0]\n",
    "degrees_of_freedom = N-1\n",
    "\n",
    "\n",
    "t, p = ttest_rel(a = df['Moon'], b = df['Other'], alternative = 'two-sided')\n",
    "\n",
    "\n",
    "print(\"Disruptive behaviours were more frequent during the full moon periods (mean = \" +\n",
    "      str(round(mean_fullmoon,3)) +\n",
    "      \") than during the other periods (mean = \" +\n",
    "      str(round(mean_other,3)) + \n",
    "      \"), t(\" + str(degrees_of_freedom) + \") = \" +\n",
    "      str(round(t, 3)) + \", p = \" + str(round(p, 3)) + \".\")"
   ]
  },
  {
   "cell_type": "code",
   "execution_count": 6,
   "id": "462f6d0a",
   "metadata": {},
   "outputs": [
    {
     "data": {
      "image/png": "[encoded data removed]",
      "text/plain": [
       "<Figure size 360x360 with 1 Axes>"
      ]
     },
     "metadata": {
      "needs_background": "light"
     },
     "output_type": "display_data"
    }
   ],
   "source": [
    "import seaborn as sns\n",
    "\n",
    "data = pd.melt(df, id_vars=None, var_name='Period', value_name='DisruptiveBehavior')\n",
    "\n",
    "ax = sns.catplot(x=\"Period\", y = 'DisruptiveBehavior', kind=\"point\", data = data)\n"
   ]
  },
  {
   "cell_type": "markdown",
   "id": "3b8c0ab9",
   "metadata": {},
   "source": [
    "## Dataset 2: \"Horizontal Eye Movements\"\n",
    "\n",
    "Description:\n",
    "\n",
    "This data set, \"Horizontal Eye Movements\", provides the number of recalled words by two groups of participants - during the retention inverval, one group was isntructed to fixate on a centrally presented dot; the other group was instraucted to execute horizontal saccades. Specifically, \n",
    "\n",
    "\"Participants were presented with a list of neutral study words for a subsequent free recall test. Prior to recall, participants were requested to perform - depending on the experimental condition - either horizontal, vertical, or no eye movements (i.e., looking at a central fixation point). The type of eye movement was thus manipulated between subjects. As the effect of eye movement on episodic memory has been reported to be influenced by handedness, we tested only strong right-handed individuals. The dependent variable of interest was the number of correctly recalled words.'' (Matzke et al, 2015, p. 3)\n",
    "\n",
    "This data set contains only data from participants assigned to the horizontal and no eye movements condition. Calculate an appropriate test statistic, and make a figure illustrating the comparison.\n",
    "\n",
    "Variables:\n",
    "\n",
    "ParticipantNumber - Participant's identification number.\n",
    "Condition - Experimental condition (Fixed = fixed gaze, Horizontal = horizontal eye movements).\n",
    "CriticalRecall - The number of Recalled words after the memory retrieval task. \n",
    "\n",
    "Assignment:\n",
    "Examine whether the data are more likely to occur if horizontal eye movements do not help memory retrieval (null hypothesis), or if they have a positive effect on the memory retrieval (one-sided alternative hypothesis). Calculate an appropriate test statistic, and make a figure illustrating the comparison. Write a sentence reporting your results in the same way they are reported in the book (APA format): \n",
    "\n",
    "> With a mean grade of 72.3, the psychology students scored slightly higher than the average grade of 67.5 (𝑡(19)=2.25, 𝑝<.05)\n",
    "\n",
    "Reference:\n",
    "\n",
    "Matzke, D., Nieuwenhuis, S., van Rijn, H., Slagter, H. A., van der Molen, M. W., and Wagenmakers, E.-J. (2015). The effect of horizontal eye movements on free recall: A preregistered adversarial collaboration. Journal of Experimental Psychology: General: 144:e1-e15."
   ]
  },
  {
   "cell_type": "code",
   "execution_count": 7,
   "id": "f2d52104",
   "metadata": {},
   "outputs": [
    {
     "data": {
      "text/html": [
       "<div>\n",
       "<style scoped>\n",
       "    .dataframe tbody tr th:only-of-type {\n",
       "        vertical-align: middle;\n",
       "    }\n",
       "\n",
       "    .dataframe tbody tr th {\n",
       "        vertical-align: top;\n",
       "    }\n",
       "\n",
       "    .dataframe thead th {\n",
       "        text-align: right;\n",
       "    }\n",
       "</style>\n",
       "<table border=\"1\" class=\"dataframe\">\n",
       "  <thead>\n",
       "    <tr style=\"text-align: right;\">\n",
       "      <th></th>\n",
       "      <th>ParticipantNumber</th>\n",
       "      <th>Condition</th>\n",
       "      <th>CriticalRecall</th>\n",
       "    </tr>\n",
       "  </thead>\n",
       "  <tbody>\n",
       "    <tr>\n",
       "      <th>0</th>\n",
       "      <td>1</td>\n",
       "      <td>Horizontal</td>\n",
       "      <td>4</td>\n",
       "    </tr>\n",
       "    <tr>\n",
       "      <th>1</th>\n",
       "      <td>3</td>\n",
       "      <td>Fixation</td>\n",
       "      <td>14</td>\n",
       "    </tr>\n",
       "    <tr>\n",
       "      <th>2</th>\n",
       "      <td>4</td>\n",
       "      <td>Horizontal</td>\n",
       "      <td>12</td>\n",
       "    </tr>\n",
       "    <tr>\n",
       "      <th>3</th>\n",
       "      <td>6</td>\n",
       "      <td>Fixation</td>\n",
       "      <td>4</td>\n",
       "    </tr>\n",
       "    <tr>\n",
       "      <th>4</th>\n",
       "      <td>7</td>\n",
       "      <td>Horizontal</td>\n",
       "      <td>11</td>\n",
       "    </tr>\n",
       "  </tbody>\n",
       "</table>\n",
       "</div>"
      ],
      "text/plain": [
       "   ParticipantNumber   Condition  CriticalRecall\n",
       "0                  1  Horizontal               4\n",
       "1                  3    Fixation              14\n",
       "2                  4  Horizontal              12\n",
       "3                  6    Fixation               4\n",
       "4                  7  Horizontal              11"
      ]
     },
     "execution_count": 7,
     "metadata": {},
     "output_type": "execute_result"
    }
   ],
   "source": [
    "df = pd.read_csv('https://raw.githubusercontent.com/ethanweed/datasets-for-teaching/main/JASP_data_library/2.%20T-Tests/Eye%20Movements.csv')\n",
    "df.head()"
   ]
  },
  {
   "cell_type": "code",
   "execution_count": 8,
   "id": "3be11826",
   "metadata": {},
   "outputs": [
    {
     "name": "stdout",
     "output_type": "stream",
     "text": [
      "t = -2.8234133654901394\n",
      "p = 0.007351503583719712\n"
     ]
    }
   ],
   "source": [
    "Horizontal = pd.DataFrame(df.loc[df['Condition'] == 'Horizontal']['CriticalRecall'])\n",
    "Fixation = pd.DataFrame(df.loc[df['Condition'] == 'Fixation']['CriticalRecall'])\n",
    "\n",
    "\n",
    "\n",
    "from scipy import stats\n",
    "t, p = stats.ttest_ind(Horizontal['CriticalRecall'], Fixation['CriticalRecall'], equal_var = False)\n",
    "\n",
    "print(\"t =\", t)\n",
    "print(\"p =\", p)"
   ]
  },
  {
   "cell_type": "code",
   "execution_count": 9,
   "id": "64e50b0d",
   "metadata": {},
   "outputs": [
    {
     "data": {
      "image/png": "[encoded data removed]",
      "text/plain": [
       "<Figure size 360x360 with 1 Axes>"
      ]
     },
     "metadata": {
      "needs_background": "light"
     },
     "output_type": "display_data"
    }
   ],
   "source": [
    "\n",
    "ax = sns.catplot(x=\"Condition\", y = 'CriticalRecall', kind=\"point\", data = df)\n"
   ]
  },
  {
   "cell_type": "markdown",
   "id": "75df28ec",
   "metadata": {},
   "source": [
    "## Dataset 3: \"Laser Blue Jeans\"\n",
    "\n",
    "Description: \n",
    "\n",
    "Experiment comparing tensile strength and extension of blue\n",
    "jeans that were designed using two methods: manually and with laser beams. Designers of blue jeans often want to treat areas of the jeans to give them a faded look by blasting them with quartz sand under high pressure. The areas to be treated with sand need to be marked out; this is traditionally done by hand with a pen, but this is very time-consuming. A quicker way would be to use lasers to mark the areas, but how does this affect the strength and stretchability of the material? To test this, the authors treated 20 pairs of jeans with each design method, then took 3 samples from different parts of each pair of jeans, giving a total sample size of N = 2(20)(3) = 120. The samples were tested for tensile strength and extension by pulling the fabric samples between two hooks until they ripped.\n",
    "\n",
    "![](LaserJeans.png)\n",
    "\n",
    "Figure 1: Some examples of denim trousers designed by laser beam method (from Ondogan et al, 2005)\n",
    "\n",
    "Assignment:\n",
    "\n",
    "Determine whether the tensile strength and extension of the blue jeans was significantly different using the time-saving laser technique. Calculate an appropriate test statistic, and make a figure illustrating the comparison. Write a sentence reporting your results in the same way they are reported in the book (APA format): \n",
    "\n",
    "> With a mean grade of 72.3, the psychology students scored slightly higher than the average grade of 67.5 (𝑡(19)=2.25, 𝑝<.05)\n",
    "\n",
    "\n",
    "Variables:\n",
    "\n",
    "methid: 1 = manual, 2 = laser\n",
    "jeanid\n",
    "sampleid\n",
    "strength (Newtons)\n",
    "extension (Newtons)\n",
    "\n",
    "Reference: \n",
    "\n",
    "Z. Ondogan, O. Pamuk, E.N. Ondogan, A. Ozguney (2005).\n",
    "\"Improving the Appearance of All Textile Products from Clothing to Home\n",
    "Textile Using Laser Technology,\" Optics and Laser Technology, Vol. 37,\n",
    "pp. 631-637.\n",
    "\n",
    "\n"
   ]
  },
  {
   "cell_type": "code",
   "execution_count": 10,
   "id": "2d6806dc",
   "metadata": {},
   "outputs": [
    {
     "data": {
      "text/html": [
       "<div>\n",
       "<style scoped>\n",
       "    .dataframe tbody tr th:only-of-type {\n",
       "        vertical-align: middle;\n",
       "    }\n",
       "\n",
       "    .dataframe tbody tr th {\n",
       "        vertical-align: top;\n",
       "    }\n",
       "\n",
       "    .dataframe thead th {\n",
       "        text-align: right;\n",
       "    }\n",
       "</style>\n",
       "<table border=\"1\" class=\"dataframe\">\n",
       "  <thead>\n",
       "    <tr style=\"text-align: right;\">\n",
       "      <th></th>\n",
       "      <th>method</th>\n",
       "      <th>jeanid</th>\n",
       "      <th>sampleid</th>\n",
       "      <th>strength</th>\n",
       "      <th>extension</th>\n",
       "    </tr>\n",
       "  </thead>\n",
       "  <tbody>\n",
       "    <tr>\n",
       "      <th>0</th>\n",
       "      <td>1</td>\n",
       "      <td>1</td>\n",
       "      <td>1</td>\n",
       "      <td>1266</td>\n",
       "      <td>68.06</td>\n",
       "    </tr>\n",
       "    <tr>\n",
       "      <th>1</th>\n",
       "      <td>1</td>\n",
       "      <td>2</td>\n",
       "      <td>1</td>\n",
       "      <td>1099</td>\n",
       "      <td>61.54</td>\n",
       "    </tr>\n",
       "    <tr>\n",
       "      <th>2</th>\n",
       "      <td>1</td>\n",
       "      <td>3</td>\n",
       "      <td>1</td>\n",
       "      <td>1068</td>\n",
       "      <td>40.48</td>\n",
       "    </tr>\n",
       "    <tr>\n",
       "      <th>3</th>\n",
       "      <td>1</td>\n",
       "      <td>4</td>\n",
       "      <td>1</td>\n",
       "      <td>1266</td>\n",
       "      <td>59.83</td>\n",
       "    </tr>\n",
       "    <tr>\n",
       "      <th>4</th>\n",
       "      <td>1</td>\n",
       "      <td>5</td>\n",
       "      <td>1</td>\n",
       "      <td>968</td>\n",
       "      <td>55.89</td>\n",
       "    </tr>\n",
       "  </tbody>\n",
       "</table>\n",
       "</div>"
      ],
      "text/plain": [
       "   method  jeanid  sampleid  strength  extension\n",
       "0       1       1         1      1266      68.06\n",
       "1       1       2         1      1099      61.54\n",
       "2       1       3         1      1068      40.48\n",
       "3       1       4         1      1266      59.83\n",
       "4       1       5         1       968      55.89"
      ]
     },
     "execution_count": 10,
     "metadata": {},
     "output_type": "execute_result"
    }
   ],
   "source": [
    "df = pd.read_csv('https://raw.githubusercontent.com/ethanweed/datasets-for-teaching/main/university_of_florida/bluejeans_laser.csv')\n",
    "df.head()"
   ]
  },
  {
   "cell_type": "code",
   "execution_count": 11,
   "id": "0e3efdeb",
   "metadata": {},
   "outputs": [
    {
     "name": "stdout",
     "output_type": "stream",
     "text": [
      "t =  -12.803\n",
      "p =  0.0\n"
     ]
    }
   ],
   "source": [
    "Manual = pd.DataFrame(df.loc[df['method'] == 1]['strength'])\n",
    "Laser = pd.DataFrame(df.loc[df['method'] == 2]['strength'])\n",
    "\n",
    "t, p = stats.ttest_ind(Manual, Laser, equal_var = False)\n",
    "\n",
    "print(\"t = \", round(t[0],3))\n",
    "print(\"p = \", round(p[0],3))"
   ]
  },
  {
   "cell_type": "code",
   "execution_count": 12,
   "id": "67961c5b",
   "metadata": {},
   "outputs": [
    {
     "data": {
      "image/png": "[encoded data removed]",
      "text/plain": [
       "<Figure size 360x360 with 1 Axes>"
      ]
     },
     "metadata": {
      "needs_background": "light"
     },
     "output_type": "display_data"
    }
   ],
   "source": [
    "ax = sns.catplot(x=\"method\", y = 'strength', kind=\"point\", data = df)"
   ]
  },
  {
   "cell_type": "markdown",
   "id": "95c43d15",
   "metadata": {},
   "source": [
    "\n",
    "## Dataset 4: \"Southern Crime\"\n",
    "\n",
    "Description:\n",
    "\n",
    "This dataset contains a variety of data on crime rates in different states in the United States. \n",
    "\n",
    "| CrimeRate          | Crime rate (number of offences per million population)             | Continuous |\n",
    "|--------------------|--------------------------------------------------------------------|------------|\n",
    "| Youth              | Young males (number of males aged 18-24 per 1000)                  | Discrete   |\n",
    "| Southern           | Southern state 1 = yes, 0 = no                                     | Binary     |\n",
    "| Education          | Education time (average number of years schooling up to 25)        | Discrete   |\n",
    "| ExpenditureYear0   | Expenditure (per capita expenditure on police)  skewed             | Continuous |\n",
    "| LabourForce        | Youth labour force (males employed 18-24 per 1000)                 | Discrete   |\n",
    "| Males              | Males (per 1000 females)                                           | Discrete   |\n",
    "| MoreMales          | More males identified per 1000 females 1 = yes, 0 = no             | Binary     |\n",
    "| StateSize          | State size (in hundred thousands)                                  | Discrete   |\n",
    "| YouthUnemployment  | Youth Unemployment (number of males aged 18-24 per 1000) skewed    | Discrete   |\n",
    "| MatureUnemployment | Mature Unemployment (number of males aged 35-39 per 1000)          | Discrete   |\n",
    "| HighYouthUnemploy  | High Youth Unemployment 1 = yes, 0 = no (high if Youth >3*Mature ) | Binary     |\n",
    "| Wage               | Wage (median weekly wage)                                          | Continuous |\n",
    "| BelowWage          | Below Wage (number of families below half wage per 1000)           | Discrete   |\n",
    "\n",
    "\n",
    "Assignment:\n",
    "Examine whether there is a significant difference in crime rates between southern and northern states. Calculate an appropriate test statistic, and make a figure illustrating the comparison. Write a sentence reporting your results in the same way they are reported in the book (APA format): \n",
    "\n",
    "> With a mean grade of 72.3, the psychology students scored slightly higher than the average grade of 67.5 (𝑡(19)=2.25, 𝑝<.05)\n",
    "\n",
    "Source:\n",
    "I'm still tracking down details on this one. But let's assume it is correct."
   ]
  },
  {
   "cell_type": "code",
   "execution_count": 13,
   "id": "8b12a3ad",
   "metadata": {},
   "outputs": [
    {
     "data": {
      "text/html": [
       "<div>\n",
       "<style scoped>\n",
       "    .dataframe tbody tr th:only-of-type {\n",
       "        vertical-align: middle;\n",
       "    }\n",
       "\n",
       "    .dataframe tbody tr th {\n",
       "        vertical-align: top;\n",
       "    }\n",
       "\n",
       "    .dataframe thead th {\n",
       "        text-align: right;\n",
       "    }\n",
       "</style>\n",
       "<table border=\"1\" class=\"dataframe\">\n",
       "  <thead>\n",
       "    <tr style=\"text-align: right;\">\n",
       "      <th></th>\n",
       "      <th>CrimeRate</th>\n",
       "      <th>Youth</th>\n",
       "      <th>Southern</th>\n",
       "      <th>Education</th>\n",
       "      <th>ExpenditureYear0</th>\n",
       "      <th>LabourForce</th>\n",
       "      <th>Males</th>\n",
       "      <th>MoreMales</th>\n",
       "      <th>StateSize</th>\n",
       "      <th>YouthUnemployment</th>\n",
       "      <th>...</th>\n",
       "      <th>ExpenditureYear10</th>\n",
       "      <th>LabourForce10</th>\n",
       "      <th>Males10</th>\n",
       "      <th>MoreMales10</th>\n",
       "      <th>StateSize10</th>\n",
       "      <th>YouthUnemploy10</th>\n",
       "      <th>MatureUnemploy10</th>\n",
       "      <th>HighYouthUnemploy10</th>\n",
       "      <th>Wage10</th>\n",
       "      <th>BelowWage10</th>\n",
       "    </tr>\n",
       "  </thead>\n",
       "  <tbody>\n",
       "    <tr>\n",
       "      <th>0</th>\n",
       "      <td>45.5</td>\n",
       "      <td>135</td>\n",
       "      <td>0</td>\n",
       "      <td>12.4</td>\n",
       "      <td>69</td>\n",
       "      <td>540</td>\n",
       "      <td>965</td>\n",
       "      <td>0</td>\n",
       "      <td>6</td>\n",
       "      <td>80</td>\n",
       "      <td>...</td>\n",
       "      <td>71</td>\n",
       "      <td>564</td>\n",
       "      <td>974</td>\n",
       "      <td>0</td>\n",
       "      <td>6</td>\n",
       "      <td>82</td>\n",
       "      <td>20</td>\n",
       "      <td>1</td>\n",
       "      <td>632</td>\n",
       "      <td>142</td>\n",
       "    </tr>\n",
       "    <tr>\n",
       "      <th>1</th>\n",
       "      <td>52.3</td>\n",
       "      <td>140</td>\n",
       "      <td>0</td>\n",
       "      <td>10.9</td>\n",
       "      <td>55</td>\n",
       "      <td>535</td>\n",
       "      <td>1045</td>\n",
       "      <td>1</td>\n",
       "      <td>6</td>\n",
       "      <td>135</td>\n",
       "      <td>...</td>\n",
       "      <td>54</td>\n",
       "      <td>540</td>\n",
       "      <td>1039</td>\n",
       "      <td>1</td>\n",
       "      <td>7</td>\n",
       "      <td>138</td>\n",
       "      <td>39</td>\n",
       "      <td>1</td>\n",
       "      <td>521</td>\n",
       "      <td>210</td>\n",
       "    </tr>\n",
       "    <tr>\n",
       "      <th>2</th>\n",
       "      <td>56.6</td>\n",
       "      <td>157</td>\n",
       "      <td>1</td>\n",
       "      <td>11.2</td>\n",
       "      <td>47</td>\n",
       "      <td>512</td>\n",
       "      <td>962</td>\n",
       "      <td>0</td>\n",
       "      <td>22</td>\n",
       "      <td>97</td>\n",
       "      <td>...</td>\n",
       "      <td>44</td>\n",
       "      <td>529</td>\n",
       "      <td>959</td>\n",
       "      <td>0</td>\n",
       "      <td>24</td>\n",
       "      <td>98</td>\n",
       "      <td>33</td>\n",
       "      <td>0</td>\n",
       "      <td>359</td>\n",
       "      <td>256</td>\n",
       "    </tr>\n",
       "    <tr>\n",
       "      <th>3</th>\n",
       "      <td>60.3</td>\n",
       "      <td>139</td>\n",
       "      <td>1</td>\n",
       "      <td>11.9</td>\n",
       "      <td>46</td>\n",
       "      <td>480</td>\n",
       "      <td>968</td>\n",
       "      <td>0</td>\n",
       "      <td>19</td>\n",
       "      <td>135</td>\n",
       "      <td>...</td>\n",
       "      <td>41</td>\n",
       "      <td>497</td>\n",
       "      <td>983</td>\n",
       "      <td>0</td>\n",
       "      <td>20</td>\n",
       "      <td>131</td>\n",
       "      <td>50</td>\n",
       "      <td>0</td>\n",
       "      <td>510</td>\n",
       "      <td>235</td>\n",
       "    </tr>\n",
       "    <tr>\n",
       "      <th>4</th>\n",
       "      <td>64.2</td>\n",
       "      <td>126</td>\n",
       "      <td>0</td>\n",
       "      <td>12.2</td>\n",
       "      <td>106</td>\n",
       "      <td>599</td>\n",
       "      <td>989</td>\n",
       "      <td>0</td>\n",
       "      <td>40</td>\n",
       "      <td>78</td>\n",
       "      <td>...</td>\n",
       "      <td>97</td>\n",
       "      <td>602</td>\n",
       "      <td>989</td>\n",
       "      <td>0</td>\n",
       "      <td>42</td>\n",
       "      <td>79</td>\n",
       "      <td>24</td>\n",
       "      <td>1</td>\n",
       "      <td>660</td>\n",
       "      <td>162</td>\n",
       "    </tr>\n",
       "  </tbody>\n",
       "</table>\n",
       "<p>5 rows × 27 columns</p>\n",
       "</div>"
      ],
      "text/plain": [
       "   CrimeRate  Youth  Southern  Education  ExpenditureYear0  LabourForce  \\\n",
       "0       45.5    135         0       12.4                69          540   \n",
       "1       52.3    140         0       10.9                55          535   \n",
       "2       56.6    157         1       11.2                47          512   \n",
       "3       60.3    139         1       11.9                46          480   \n",
       "4       64.2    126         0       12.2               106          599   \n",
       "\n",
       "   Males  MoreMales  StateSize  YouthUnemployment  ...  ExpenditureYear10  \\\n",
       "0    965          0          6                 80  ...                 71   \n",
       "1   1045          1          6                135  ...                 54   \n",
       "2    962          0         22                 97  ...                 44   \n",
       "3    968          0         19                135  ...                 41   \n",
       "4    989          0         40                 78  ...                 97   \n",
       "\n",
       "   LabourForce10  Males10  MoreMales10  StateSize10  YouthUnemploy10  \\\n",
       "0            564      974            0            6               82   \n",
       "1            540     1039            1            7              138   \n",
       "2            529      959            0           24               98   \n",
       "3            497      983            0           20              131   \n",
       "4            602      989            0           42               79   \n",
       "\n",
       "   MatureUnemploy10  HighYouthUnemploy10  Wage10  BelowWage10  \n",
       "0                20                    1     632          142  \n",
       "1                39                    1     521          210  \n",
       "2                33                    0     359          256  \n",
       "3                50                    0     510          235  \n",
       "4                24                    1     660          162  \n",
       "\n",
       "[5 rows x 27 columns]"
      ]
     },
     "execution_count": 13,
     "metadata": {},
     "output_type": "execute_result"
    }
   ],
   "source": [
    "df = pd.read_csv('https://raw.githubusercontent.com/ethanweed/datasets-for-teaching/main/sheffield_MASH/crime.csv')\n",
    "df.head()"
   ]
  },
  {
   "cell_type": "code",
   "execution_count": 14,
   "id": "28276d00",
   "metadata": {},
   "outputs": [
    {
     "name": "stdout",
     "output_type": "stream",
     "text": [
      "t = -0.401\n",
      "p = 0.691\n"
     ]
    }
   ],
   "source": [
    "Southern = pd.DataFrame(df.loc[df['Southern'] == 1]['CrimeRate'])\n",
    "NotSouthern = pd.DataFrame(df.loc[df['Southern'] == 0]['CrimeRate'])\n",
    "\n",
    "t, p = stats.ttest_ind(Southern['CrimeRate'], NotSouthern['CrimeRate'], equal_var = False)\n",
    "\n",
    "print(\"t =\", round(t,3))\n",
    "print(\"p =\", round(p,3))\n",
    "\n"
   ]
  },
  {
   "cell_type": "code",
   "execution_count": 15,
   "id": "d6afe119",
   "metadata": {},
   "outputs": [
    {
     "data": {
      "image/png": "[encoded data removed]",
      "text/plain": [
       "<Figure size 360x360 with 1 Axes>"
      ]
     },
     "metadata": {
      "needs_background": "light"
     },
     "output_type": "display_data"
    }
   ],
   "source": [
    "ax = sns.catplot(x=\"Southern\", y = 'CrimeRate', kind=\"point\", data = df)"
   ]
  },
  {
   "cell_type": "markdown",
   "id": "330c4d4d",
   "metadata": {},
   "source": [
    "## Dataset 5: \"Weight Gain\"\n",
    "\n",
    "Description:\n",
    "\n",
    "This data set, \"Weight Gain\", provides weights of 16 participants before and after an eight-week period of excessive calorie intake (Moore et al., 2012, p. 425).\n",
    "\n",
    "Variables:\n",
    "\n",
    "Weight Before - Weight in pounds (lb) measured before eight weeks of excessive calorie intake.\n",
    "Weight After - Weight in pounds (lb) measured after eight weeks of excessive calorie intake.\n",
    "Difference - Weight After - Weight Before.\n",
    "\n",
    "Assignment:\n",
    "\n",
    "Test the hypothesis that 1000 excess calorie intake per day over 8 weeks results in 16 pounds (approximately 7.2 kilograms) weight increase. Calculate an appropriate test statistic, and make a figure illustrating the comparison. Write a sentence reporting your results in the same way they are reported in the book (APA format): \n",
    "\n",
    "> With a mean grade of 72.3, the psychology students scored slightly higher than the average grade of 67.5 (𝑡(19)=2.25, 𝑝<.05) \n",
    "\n",
    "References:\n",
    "\n",
    "Moore, D. S., McCabe, G. P., and Craig, B. A. (2012). Introduction to the Practice of Statistics (7th ed.). New York: Freeman.\n",
    "\n",
    "Levine, J. A., Eberhardt, N. L., and Jensen, M. D. (1999) Role of nonexcercise activity thermogenesis in resistance to fat gain in humans. Science, 283:212-214."
   ]
  },
  {
   "cell_type": "code",
   "execution_count": 16,
   "id": "82f592d7",
   "metadata": {},
   "outputs": [],
   "source": [
    "df = pd.read_csv(\"https://raw.githubusercontent.com/ethanweed/datasets-for-teaching/main/JASP_data_library/2.%20T-Tests/Weight%20Gain.csv\")"
   ]
  },
  {
   "cell_type": "code",
   "execution_count": 17,
   "id": "52d13f22",
   "metadata": {},
   "outputs": [
    {
     "data": {
      "text/html": [
       "<div>\n",
       "<style scoped>\n",
       "    .dataframe tbody tr th:only-of-type {\n",
       "        vertical-align: middle;\n",
       "    }\n",
       "\n",
       "    .dataframe tbody tr th {\n",
       "        vertical-align: top;\n",
       "    }\n",
       "\n",
       "    .dataframe thead th {\n",
       "        text-align: right;\n",
       "    }\n",
       "</style>\n",
       "<table border=\"1\" class=\"dataframe\">\n",
       "  <thead>\n",
       "    <tr style=\"text-align: right;\">\n",
       "      <th></th>\n",
       "      <th>Weight Before</th>\n",
       "      <th>Weight After</th>\n",
       "      <th>Difference</th>\n",
       "    </tr>\n",
       "  </thead>\n",
       "  <tbody>\n",
       "    <tr>\n",
       "      <th>0</th>\n",
       "      <td>122.54</td>\n",
       "      <td>135.74</td>\n",
       "      <td>13.20</td>\n",
       "    </tr>\n",
       "    <tr>\n",
       "      <th>1</th>\n",
       "      <td>120.78</td>\n",
       "      <td>129.36</td>\n",
       "      <td>8.58</td>\n",
       "    </tr>\n",
       "    <tr>\n",
       "      <th>2</th>\n",
       "      <td>131.12</td>\n",
       "      <td>145.20</td>\n",
       "      <td>14.08</td>\n",
       "    </tr>\n",
       "    <tr>\n",
       "      <th>3</th>\n",
       "      <td>137.06</td>\n",
       "      <td>145.64</td>\n",
       "      <td>8.58</td>\n",
       "    </tr>\n",
       "    <tr>\n",
       "      <th>4</th>\n",
       "      <td>163.24</td>\n",
       "      <td>173.80</td>\n",
       "      <td>10.56</td>\n",
       "    </tr>\n",
       "  </tbody>\n",
       "</table>\n",
       "</div>"
      ],
      "text/plain": [
       "   Weight Before  Weight After  Difference\n",
       "0         122.54        135.74       13.20\n",
       "1         120.78        129.36        8.58\n",
       "2         131.12        145.20       14.08\n",
       "3         137.06        145.64        8.58\n",
       "4         163.24        173.80       10.56"
      ]
     },
     "execution_count": 17,
     "metadata": {},
     "output_type": "execute_result"
    }
   ],
   "source": [
    "df.head()"
   ]
  },
  {
   "cell_type": "code",
   "execution_count": 22,
   "id": "bbce903f",
   "metadata": {},
   "outputs": [
    {
     "name": "stdout",
     "output_type": "stream",
     "text": [
      "t = 10.841\n",
      "p = 0.0\n"
     ]
    }
   ],
   "source": [
    "from scipy.stats import ttest_rel\n",
    "\n",
    "t, p = ttest_rel(df['Weight After'], df['Weight Before'])\n",
    "\n",
    "print(\"t =\", round(t, 3))\n",
    "print(\"p =\", round(p, 3))"
   ]
  },
  {
   "cell_type": "code",
   "execution_count": 31,
   "id": "189100cd",
   "metadata": {},
   "outputs": [
    {
     "data": {
      "text/html": [
       "<div>\n",
       "<style scoped>\n",
       "    .dataframe tbody tr th:only-of-type {\n",
       "        vertical-align: middle;\n",
       "    }\n",
       "\n",
       "    .dataframe tbody tr th {\n",
       "        vertical-align: top;\n",
       "    }\n",
       "\n",
       "    .dataframe thead th {\n",
       "        text-align: right;\n",
       "    }\n",
       "</style>\n",
       "<table border=\"1\" class=\"dataframe\">\n",
       "  <thead>\n",
       "    <tr style=\"text-align: right;\">\n",
       "      <th></th>\n",
       "      <th>Weight Before</th>\n",
       "      <th>Weight After</th>\n",
       "    </tr>\n",
       "  </thead>\n",
       "  <tbody>\n",
       "    <tr>\n",
       "      <th>0</th>\n",
       "      <td>122.54</td>\n",
       "      <td>135.74</td>\n",
       "    </tr>\n",
       "    <tr>\n",
       "      <th>1</th>\n",
       "      <td>120.78</td>\n",
       "      <td>129.36</td>\n",
       "    </tr>\n",
       "    <tr>\n",
       "      <th>2</th>\n",
       "      <td>131.12</td>\n",
       "      <td>145.20</td>\n",
       "    </tr>\n",
       "    <tr>\n",
       "      <th>3</th>\n",
       "      <td>137.06</td>\n",
       "      <td>145.64</td>\n",
       "    </tr>\n",
       "    <tr>\n",
       "      <th>4</th>\n",
       "      <td>163.24</td>\n",
       "      <td>173.80</td>\n",
       "    </tr>\n",
       "  </tbody>\n",
       "</table>\n",
       "</div>"
      ],
      "text/plain": [
       "   Weight Before  Weight After\n",
       "0         122.54        135.74\n",
       "1         120.78        129.36\n",
       "2         131.12        145.20\n",
       "3         137.06        145.64\n",
       "4         163.24        173.80"
      ]
     },
     "execution_count": 31,
     "metadata": {},
     "output_type": "execute_result"
    }
   ],
   "source": [
    "df_plot = pd.DataFrame(\n",
    "    {'Weight Before': df['Weight Before'],\n",
    "     'Weight After': df['Weight After']\n",
    "    })\n",
    "df_plot.head()"
   ]
  },
  {
   "cell_type": "code",
   "execution_count": 35,
   "id": "8f624f03",
   "metadata": {},
   "outputs": [
    {
     "data": {
      "image/png": "[encoded data removed]",
      "text/plain": [
       "<Figure size 360x360 with 1 Axes>"
      ]
     },
     "metadata": {
      "needs_background": "light"
     },
     "output_type": "display_data"
    }
   ],
   "source": [
    "ax = sns.catplot(data = df_plot, kind = 'point')"
   ]
  },
  {
   "cell_type": "code",
   "execution_count": null,
   "id": "4783012c",
   "metadata": {},
   "outputs": [],
   "source": []
  }
 ],
 "metadata": {
  "kernelspec": {
   "display_name": "Python 3",
   "language": "python",
   "name": "python3"
  },
  "language_info": {
   "codemirror_mode": {
    "name": "ipython",
    "version": 3
   },
   "file_extension": ".py",
   "mimetype": "text/x-python",
   "name": "python",
   "nbconvert_exporter": "python",
   "pygments_lexer": "ipython3",
   "version": "3.7.10"
  }
 },
 "nbformat": 4,
 "nbformat_minor": 5
}
