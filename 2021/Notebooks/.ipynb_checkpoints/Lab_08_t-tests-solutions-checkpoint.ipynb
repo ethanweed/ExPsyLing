{
 "cells": [
  {
   "cell_type": "markdown",
   "id": "767e4cdb",
   "metadata": {},
   "source": [
    "# Working with t-tests\n",
    "\n",
    "Below are 5 sets of data. Each of them have questions which can be addressed using a t-test. For each dataset:\n",
    "\n",
    "1. Identify the research question\n",
    "2. Choose the appropriate t-test\n",
    "3. Do the t-test in Python (see chapter and/or slides for code)\n",
    "4. Report your results using the APA format, just like in the examples in the book (e.g. With a mean grade of 72.3, the psychology students scored slightly higher than the average grade of 67.5 (𝑡(19)=2.25, 𝑝<.05))\n",
    "5. Make a figure which illustrates the results\n",
    "\n",
    "NB: for some of these data sets, you may have to re-arrange the data a little before you can do your analysis! If the data are in long format, where there is a column with a grouping variable, like the example below, an easy way to get data out so they can be entered in a t-test is to make two new variables, like this:\n",
    "\n",
    "| ID number | Group  | Measure |\n",
    "| :-------: | :----: | :-----: |\n",
    "|     1     | A      |   32    |\n",
    "|     2     | B      |  43.2   |\n",
    "|     3     | A      |  31.2   |\n",
    "|     4     | B      |  22.1   |\n",
    "\n",
    "Group1 = pd.DataFrame(df.loc[df['GroupingVariable'] == 'A']['Measure'])\n",
    "\n",
    "Group2 = pd.DataFrame(df.loc[df['GroupingVariable'] == 'B']['Measure'])\n",
    "\n",
    "Now the t-test can be done with Group1 and Group2."
   ]
  },
  {
   "cell_type": "markdown",
   "id": "0961dd38",
   "metadata": {},
   "source": [
    "## Dataset 1: \"Moon and Aggression\"\n",
    "\n",
    "Description:\n",
    "\n",
    "This data set, \"Moon & Aggression\", provides the number of disruptive behaviors by dementia patients during two different phases of the lunar cycle (Moore et al, 2012, p. 410). Each row corresponds to one participant.\n",
    "\n",
    "Variables:\n",
    "\n",
    "Moon - The average number of disruptive behaviors during full moon days.\n",
    "Other - The average number of disruptive behaviors during other days.\n",
    "\n",
    "Assignment:\n",
    "Examine the adequacy of the null hypothesis which states that the average number of disruptive behaviors among patients with dementia does not differ between moon days and other days. Calculate an appropriate test statistic, and make a figure illustrating the comparison. Write a sentence reporting your results in the same way they are reported in the book (APA format): \n",
    "\n",
    "> With a mean grade of 72.3, the psychology students scored slightly higher than the average grade of 67.5 (𝑡(19)=2.25, 𝑝<.05)\n",
    "\n",
    "References:\n",
    "\n",
    "Moore, D. S., McCabe, G. P., and Craig. B. A. (2012) Introduction to the Practice of Statistics (7th ed). New York: Freeman.\n",
    "\n",
    "\"These data were collected as part of a larger study of dementia patients conducted by Nancy Edwards and Alan Beck, Purdue University.\" (Moore et al, 2012, p. N-8). "
   ]
  },
  {
   "cell_type": "code",
   "execution_count": 17,
   "id": "2a25b7e3",
   "metadata": {},
   "outputs": [
    {
     "data": {
      "text/html": [
       "<div>\n",
       "<style scoped>\n",
       "    .dataframe tbody tr th:only-of-type {\n",
       "        vertical-align: middle;\n",
       "    }\n",
       "\n",
       "    .dataframe tbody tr th {\n",
       "        vertical-align: top;\n",
       "    }\n",
       "\n",
       "    .dataframe thead th {\n",
       "        text-align: right;\n",
       "    }\n",
       "</style>\n",
       "<table border=\"1\" class=\"dataframe\">\n",
       "  <thead>\n",
       "    <tr style=\"text-align: right;\">\n",
       "      <th></th>\n",
       "      <th>Moon</th>\n",
       "      <th>Other</th>\n",
       "    </tr>\n",
       "  </thead>\n",
       "  <tbody>\n",
       "    <tr>\n",
       "      <th>0</th>\n",
       "      <td>3.33</td>\n",
       "      <td>0.27</td>\n",
       "    </tr>\n",
       "    <tr>\n",
       "      <th>1</th>\n",
       "      <td>3.67</td>\n",
       "      <td>0.59</td>\n",
       "    </tr>\n",
       "    <tr>\n",
       "      <th>2</th>\n",
       "      <td>2.67</td>\n",
       "      <td>0.32</td>\n",
       "    </tr>\n",
       "    <tr>\n",
       "      <th>3</th>\n",
       "      <td>3.33</td>\n",
       "      <td>0.19</td>\n",
       "    </tr>\n",
       "    <tr>\n",
       "      <th>4</th>\n",
       "      <td>3.33</td>\n",
       "      <td>1.26</td>\n",
       "    </tr>\n",
       "  </tbody>\n",
       "</table>\n",
       "</div>"
      ],
      "text/plain": [
       "   Moon  Other\n",
       "0  3.33   0.27\n",
       "1  3.67   0.59\n",
       "2  2.67   0.32\n",
       "3  3.33   0.19\n",
       "4  3.33   1.26"
      ]
     },
     "execution_count": 17,
     "metadata": {},
     "output_type": "execute_result"
    }
   ],
   "source": [
    "import pandas as pd\n",
    "df = pd.read_csv('https://raw.githubusercontent.com/ethanweed/datasets-for-teaching/main/JASP_data_library/2.%20T-Tests/Moon%20and%20Aggression.csv')\n",
    "df.head()"
   ]
  },
  {
   "cell_type": "code",
   "execution_count": 31,
   "id": "9f020aaa",
   "metadata": {},
   "outputs": [
    {
     "name": "stdout",
     "output_type": "stream",
     "text": [
      "Mean full moon = 3.022\n",
      "Mean other periods = 0.5893333333333334\n",
      "N = 15\n",
      "df = 14\n",
      "t = 6.451788554357532\n",
      "p = 1.5181521009727053e-05\n"
     ]
    }
   ],
   "source": [
    "import statistics\n",
    "\n",
    "\n",
    "mean_fullmoon = statistics.mean(df['Moon'])\n",
    "mean_other = statistics.mean(df['Other'])\n",
    "N = df.shape[0]\n",
    "degrees_of_freedom = N-1\n",
    "\n",
    "print(\"Mean full moon =\", mean_fullmoon)\n",
    "print(\"Mean other periods =\", mean_other)\n",
    "print(\"N =\", N)\n",
    "print(\"df =\", degrees_of_freedom)\n",
    "\n",
    "\n",
    "t, p = ttest_rel(a = df['Moon'], b = df['Other'], alternative = 'two-sided')\n",
    "\n",
    "print(\"t =\", t)\n",
    "print(\"p =\", p)\n"
   ]
  },
  {
   "cell_type": "code",
   "execution_count": 33,
   "id": "98467f67",
   "metadata": {},
   "outputs": [],
   "source": [
    "import seaborn as sns\n",
    "\n"
   ]
  },
  {
   "cell_type": "markdown",
   "id": "3b8c0ab9",
   "metadata": {},
   "source": [
    "## Dataset 2: \"Horizontal Eye Movements\"\n",
    "\n",
    "Description:\n",
    "\n",
    "This data set, \"Horizontal Eye Movements\", provides the number of recalled words by two groups of participants - during the retention inverval, one group was isntructed to fixate on a centrally presented dot; the other group was instraucted to execute horizontal saccades. Specifically, \n",
    "\n",
    "\"Participants were presented with a list of neutral study words for a subsequent free recall test. Prior to recall, participants were requested to perform - depending on the experimental condition - either horizontal, vertical, or no eye movements (i.e., looking at a central fixation point). The type of eye movement was thus manipulated between subjects. As the effect of eye movement on episodic memory has been reported to be influenced by handedness, we tested only strong right-handed individuals. The dependent variable of interest was the number of correctly recalled words.'' (Matzke et al, 2015, p. 3)\n",
    "\n",
    "This data set contains only data from participants assigned to the horizontal and no eye movements condition. Calculate an appropriate test statistic, and make a figure illustrating the comparison.\n",
    "\n",
    "Variables:\n",
    "\n",
    "ParticipantNumber - Participant's identification number.\n",
    "Condition - Experimental condition (Fixed = fixed gaze, Horizontal = horizontal eye movements).\n",
    "CriticalRecall - The number of Recalled words after the memory retrieval task. \n",
    "\n",
    "Assignment:\n",
    "Examine whether the data are more likely to occur if horizontal eye movements do not help memory retrieval (null hypothesis), or if they have a positive effect on the memory retrieval (one-sided alternative hypothesis). Calculate an appropriate test statistic, and make a figure illustrating the comparison. Write a sentence reporting your results in the same way they are reported in the book (APA format): \n",
    "\n",
    "> With a mean grade of 72.3, the psychology students scored slightly higher than the average grade of 67.5 (𝑡(19)=2.25, 𝑝<.05)\n",
    "\n",
    "Reference:\n",
    "\n",
    "Matzke, D., Nieuwenhuis, S., van Rijn, H., Slagter, H. A., van der Molen, M. W., and Wagenmakers, E.-J. (2015). The effect of horizontal eye movements on free recall: A preregistered adversarial collaboration. Journal of Experimental Psychology: General: 144:e1-e15."
   ]
  },
  {
   "cell_type": "code",
   "execution_count": null,
   "id": "f2d52104",
   "metadata": {},
   "outputs": [],
   "source": [
    "df = pd.read_csv('https://raw.githubusercontent.com/ethanweed/datasets-for-teaching/main/JASP_data_library/2.%20T-Tests/Eye%20Movements.csv')\n",
    "df.head()"
   ]
  },
  {
   "cell_type": "code",
   "execution_count": null,
   "id": "211b1a0b",
   "metadata": {},
   "outputs": [],
   "source": [
    "Horizontal = pd.DataFrame(df.loc[df['Condition'] == 'Horizontal']['CriticalRecall'])\n",
    "Fixation = pd.DataFrame(df.loc[df['Condition'] == 'Fixation']['CriticalRecall'])\n",
    "\n",
    "from scipy import stats\n",
    "t, p = stats.ttest_ind(Horizontal, Fixation, equal_var = False)\n",
    "t, p"
   ]
  },
  {
   "cell_type": "markdown",
   "id": "75df28ec",
   "metadata": {},
   "source": [
    "## Dataset 3: \"Laser Blue Jeans\"\n",
    "\n",
    "Description: \n",
    "\n",
    "Experiment comparing tensile strength and extension of blue\n",
    "jeans that were designed using two methods: manually and with laser beams. Designers of blue jeans often want to treat areas of the jeans to give them a faded look by blasting them with quartz sand under high pressure. The areas to be treated with sand need to be marked out; this is traditionally done by hand with a pen, but this is very time-consuming. A quicker way would be to use lasers to mark the areas, but how does this affect the strength and stretchability of the material? To test this, the authors treated 20 pairs of jeans with each design method, then took 3 samples from different parts of each pair of jeans, giving a total sample size of N = 2(20)(3) = 120. The samples were tested for tensile strength and extension by pulling the fabric samples between two hooks until they ripped.\n",
    "\n",
    "<img src=\"/Users/ethan/Documents/GitHub/ExPsyLing/2021/Slides/Images/BlueJeans.png\" width=\"\"/>\n",
    "\n",
    "Assignment:\n",
    "\n",
    "Determine whether the tensile strength and extension of the blue jeans was significantly different using the time-saving laser technique. Calculate an appropriate test statistic, and make a figure illustrating the comparison. Write a sentence reporting your results in the same way they are reported in the book (APA format): \n",
    "\n",
    "> With a mean grade of 72.3, the psychology students scored slightly higher than the average grade of 67.5 (𝑡(19)=2.25, 𝑝<.05)\n",
    "\n",
    "\n",
    "Variables:\n",
    "\n",
    "methid: 1 = manual, 2 = laser\n",
    "jeanid\n",
    "sampleid\n",
    "strength (Newtons)\n",
    "extension (Newtons)\n",
    "\n",
    "Reference: \n",
    "\n",
    "Z. Ondogan, O. Pamuk, E.N. Ondogan, A. Ozguney (2005).\n",
    "\"Improving the Appearance of All Textile Products from Clothing to Home\n",
    "Textile Using Laser Technology,\" Optics and Laser Technology, Vol. 37,\n",
    "pp. 631-637.\n",
    "\n",
    "\n"
   ]
  },
  {
   "cell_type": "code",
   "execution_count": null,
   "id": "2d6806dc",
   "metadata": {},
   "outputs": [],
   "source": [
    "df = pd.read_csv('https://raw.githubusercontent.com/ethanweed/datasets-for-teaching/main/university_of_florida/bluejeans_laser.csv')\n",
    "df.head()"
   ]
  },
  {
   "cell_type": "code",
   "execution_count": null,
   "id": "b0d17311",
   "metadata": {},
   "outputs": [],
   "source": [
    "Manual = pd.DataFrame(df.loc[df['method'] == 1]['strength'])\n",
    "Laser = pd.DataFrame(df.loc[df['method'] == 2]['strength'])\n",
    "\n",
    "from scipy import stats\n",
    "t, p = stats.ttest_ind(Manual, Laser, equal_var = False)\n",
    "t, p"
   ]
  },
  {
   "cell_type": "markdown",
   "id": "95c43d15",
   "metadata": {},
   "source": [
    "\n",
    "## Dataset 4: \"Southern Crime\"\n",
    "\n",
    "Description:\n",
    "\n",
    "This dataset contains a variety of data on crime rates in different states in the United States. \n",
    "\n",
    "| CrimeRate          | Crime rate (number of offences per million population)             | Continuous |\n",
    "|--------------------|--------------------------------------------------------------------|------------|\n",
    "| Youth              | Young males (number of males aged 18-24 per 1000)                  | Discrete   |\n",
    "| Southern           | Southern state 1 = yes, 0 = no                                     | Binary     |\n",
    "| Education          | Education time (average number of years schooling up to 25)        | Discrete   |\n",
    "| ExpenditureYear0   | Expenditure (per capita expenditure on police)  skewed             | Continuous |\n",
    "| LabourForce        | Youth labour force (males employed 18-24 per 1000)                 | Discrete   |\n",
    "| Males              | Males (per 1000 females)                                           | Discrete   |\n",
    "| MoreMales          | More males identified per 1000 females 1 = yes, 0 = no             | Binary     |\n",
    "| StateSize          | State size (in hundred thousands)                                  | Discrete   |\n",
    "| YouthUnemployment  | Youth Unemployment (number of males aged 18-24 per 1000) skewed    | Discrete   |\n",
    "| MatureUnemployment | Mature Unemployment (number of males aged 35-39 per 1000)          | Discrete   |\n",
    "| HighYouthUnemploy  | High Youth Unemployment 1 = yes, 0 = no (high if Youth >3*Mature ) | Binary     |\n",
    "| Wage               | Wage (median weekly wage)                                          | Continuous |\n",
    "| BelowWage          | Below Wage (number of families below half wage per 1000)           | Discrete   |\n",
    "\n",
    "\n",
    "Assignment:\n",
    "Examine whether there is a significant difference in crime rates between southern and northern states. Calculate an appropriate test statistic, and make a figure illustrating the comparison. Write a sentence reporting your results in the same way they are reported in the book (APA format): \n",
    "\n",
    "> With a mean grade of 72.3, the psychology students scored slightly higher than the average grade of 67.5 (𝑡(19)=2.25, 𝑝<.05)\n",
    "\n",
    "Source:\n",
    "I'm still tracking down details on this one. But let's assume it is correct."
   ]
  },
  {
   "cell_type": "code",
   "execution_count": null,
   "id": "8b12a3ad",
   "metadata": {},
   "outputs": [],
   "source": [
    "df = pd.read_csv('https://raw.githubusercontent.com/ethanweed/datasets-for-teaching/main/sheffield_MASH/crime.csv')"
   ]
  },
  {
   "cell_type": "markdown",
   "id": "1060b885",
   "metadata": {},
   "source": [
    "## Dataset 5: \"Weight Gain\"\n",
    "\n",
    "Description:\n",
    "\n",
    "This data set, \"Weight Gain\", provides weights of 16 participants before and after an eight-week period of excessive calorie intake (Moore et al., 2012, p. 425).\n",
    "\n",
    "Variables:\n",
    "\n",
    "Weight Before - Weight in pounds (lb) measured before eight weeks of excessive calorie intake.\n",
    "Weight After - Weight in pounds (lb) measured after eight weeks of excessive calorie intake.\n",
    "Difference - Weight After - Weight Before.\n",
    "\n",
    "Assignment:\n",
    "\n",
    "Test the hypothesis that 1000 excess calorie intake per day over 8 weeks results in 16 pounds (approximately 7.2 kilograms) weight increase. Calculate an appropriate test statistic, and make a figure illustrating the comparison. Write a sentence reporting your results in the same way they are reported in the book (APA format): \n",
    "\n",
    "> With a mean grade of 72.3, the psychology students scored slightly higher than the average grade of 67.5 (𝑡(19)=2.25, 𝑝<.05) \n",
    "\n",
    "References:\n",
    "\n",
    "Moore, D. S., McCabe, G. P., and Craig, B. A. (2012). Introduction to the Practice of Statistics (7th ed.). New York: Freeman.\n",
    "\n",
    "Levine, J. A., Eberhardt, N. L., and Jensen, M. D. (1999) Role of nonexcercise activity thermogenesis in resistance to fat gain in humans. Science, 283:212-214."
   ]
  },
  {
   "cell_type": "code",
   "execution_count": null,
   "id": "a92c7213",
   "metadata": {},
   "outputs": [],
   "source": []
  }
 ],
 "metadata": {
  "kernelspec": {
   "display_name": "Python 3",
   "language": "python",
   "name": "python3"
  },
  "language_info": {
   "codemirror_mode": {
    "name": "ipython",
    "version": 3
   },
   "file_extension": ".py",
   "mimetype": "text/x-python",
   "name": "python",
   "nbconvert_exporter": "python",
   "pygments_lexer": "ipython3",
   "version": "3.7.10"
  }
 },
 "nbformat": 4,
 "nbformat_minor": 5
}
