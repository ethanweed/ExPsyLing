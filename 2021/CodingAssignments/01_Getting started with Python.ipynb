{
 "cells": [
  {
   "cell_type": "markdown",
   "metadata": {
    "nbpresent": {
     "id": "f599fe1a-145d-43a7-b718-40ecca89b975"
    }
   },
   "source": [
    "# Getting started with Python"
   ]
  },
  {
   "cell_type": "markdown",
   "metadata": {
    "nbpresent": {
     "id": "55c26376-2c6d-46bb-9b5d-aa0966af28dc"
    }
   },
   "source": [
    "## Variables\n",
    "The concept of variables is critical to understanding coding in any language. Variables are like containers that can hold all sorts of things: numbers, letters, sentences, files, lists of things: just about anything. Variables make it easier to manipulate information. In the example below, we assign the variable names \"a\" and \"b\" to numbers, and then we can do math with the variables."
   ]
  },
  {
   "cell_type": "code",
   "execution_count": null,
   "metadata": {
    "nbpresent": {
     "id": "4282a927-d175-4bcd-b55b-a24012b96cbe"
    }
   },
   "outputs": [],
   "source": [
    "a = 1\n",
    "b = 2\n",
    "c = a + b\n",
    "print(c)"
   ]
  },
  {
   "cell_type": "code",
   "execution_count": null,
   "metadata": {
    "nbpresent": {
     "id": "5c572077-0eff-48e9-8d37-6e681233b3d1"
    }
   },
   "outputs": [],
   "source": [
    "a = 1\n",
    "b = 2\n",
    "c = a * b\n",
    "print(c)"
   ]
  },
  {
   "cell_type": "markdown",
   "metadata": {
    "nbpresent": {
     "id": "3566ecb1-2c5d-4c1a-b66a-079d59bd2834"
    }
   },
   "source": [
    "## Strings\n",
    "\n",
    "In the example above, we put numbers into the variables. We can also put non-numeric data into a variable. This kind of data is called a \"string\", and we can tell python that we are dealing with strings by putting the data in quotation marks. Compare the results of the examples below to the first example above."
   ]
  },
  {
   "cell_type": "code",
   "execution_count": null,
   "metadata": {
    "nbpresent": {
     "id": "56fa8ee0-13be-4292-bca0-453a4aedde9a"
    }
   },
   "outputs": [],
   "source": [
    "a = '1'\n",
    "b = '2'\n",
    "c = a + b\n",
    "print(c)"
   ]
  },
  {
   "cell_type": "code",
   "execution_count": null,
   "metadata": {
    "nbpresent": {
     "id": "3418c0bb-7642-4d71-9f14-28ce03c5ff85"
    }
   },
   "outputs": [],
   "source": [
    "a = 'Hello '\n",
    "b = 'world'\n",
    "c = '!'\n",
    "d = a + b + c\n",
    "print(d)"
   ]
  },
  {
   "cell_type": "markdown",
   "metadata": {
    "nbpresent": {
     "id": "b7b289e5-9a64-4c45-949f-a4c97bf925b3"
    }
   },
   "source": [
    "## Lists\n",
    "Variables can also be lists of things. We can manipulate these lists, and we can get items from the lists and assign them to new variables."
   ]
  },
  {
   "cell_type": "code",
   "execution_count": null,
   "metadata": {
    "nbpresent": {
     "id": "d86e5b25-8d5a-4fdf-a0cb-0e736e3e05ee"
    }
   },
   "outputs": [],
   "source": [
    "a = ['The', 'farmer', 'killed', 'the', 'duckling']\n",
    "b = a[1]\n",
    "c = a[-1]\n",
    "d = a[-3]\n",
    "print(b)\n",
    "print(c)\n",
    "print(d)"
   ]
  },
  {
   "cell_type": "markdown",
   "metadata": {},
   "source": [
    "### Things to notice in the example above:\n",
    "1. We use square brackets to indicate that a variable is a list\n",
    "1. We use square brackets to indicate which item from the list we want to access\n",
    "1. In python, we start counting at 0, not 1. That is why \"b=a[1]\" gets us \"farmer\" and not \"The\"\n",
    "1. We can also get the last element in the list, even if we don't know how many items there are in the list. We do this with [-1].\n",
    "1. We can count any number of steps backwards from the end of the list to get an item. Notice that when you go from the end of the list, you do not start at 0. The last item is [-1], the second-to-last is [-2], etc."
   ]
  },
  {
   "cell_type": "markdown",
   "metadata": {},
   "source": [
    "## Finding the number of items in a list\n",
    "Very often, it is useful to know how many items are in a list. You can do this with the \"len()\" function."
   ]
  },
  {
   "cell_type": "code",
   "execution_count": null,
   "metadata": {},
   "outputs": [],
   "source": [
    "a = ['The', 'farmer', 'killed', 'the', 'duckling']\n",
    "b = len(a)\n",
    "print('The number of words in this sentence is: ' + str(b))"
   ]
  },
  {
   "cell_type": "markdown",
   "metadata": {},
   "source": [
    "## Functions:\n",
    "Python has lots and lots of special commands that do specific things. I am going to call these \"functions\". People who know more than I do about programming distinguish between \"methods\" and \"functions\" but I don't understand or care about this difference. I am going to call them \"functions\" here.\n",
    "\n",
    "In the example above, we used three different functions. They are:\n",
    "\n",
    "1. len()\n",
    "1. print()\n",
    "1. str()\n",
    "\n",
    "### Pop quiz:\n",
    "A. Why does\n",
    "\n",
    "`a = 1; b = 2; c = a + b; print(c)` \n",
    "\n",
    "result in 3 but \n",
    "\n",
    "`a = '1'; b = '2'; c = a + b; print(c)` \n",
    "\n",
    "results in 12?\n",
    "\n",
    "\n",
    "B. What does len() do?  \n",
    "\n",
    "C. What does print() do?  \n",
    "\n",
    "D. What does str() do, and why did we need when we wrote \n",
    "\n",
    "\n",
    "```a = ['The', 'farmer', 'killed', 'the', 'duckling']\n",
    "b = len(a)\n",
    "print('The number of words in this sentence is: ' + str(b))```?"
   ]
  },
  {
   "cell_type": "code",
   "execution_count": null,
   "metadata": {},
   "outputs": [],
   "source": []
  }
 ],
 "metadata": {
  "anaconda-cloud": {},
  "kernelspec": {
   "display_name": "Python 3",
   "language": "python",
   "name": "python3"
  },
  "language_info": {
   "codemirror_mode": {
    "name": "ipython",
    "version": 3
   },
   "file_extension": ".py",
   "mimetype": "text/x-python",
   "name": "python",
   "nbconvert_exporter": "python",
   "pygments_lexer": "ipython3",
   "version": "3.7.6"
  },
  "nbpresent": {
   "slides": {
    "382be09c-fad3-4b31-8276-53e4660c8f11": {
     "id": "382be09c-fad3-4b31-8276-53e4660c8f11",
     "prev": null,
     "regions": {
      "889c366e-aa0b-4b3c-ab6c-ce536ae11bc6": {
       "attrs": {
        "height": 0.8,
        "width": 0.8,
        "x": 0.1,
        "y": 0.1
       },
       "content": {
        "cell": "f599fe1a-145d-43a7-b718-40ecca89b975",
        "part": "whole"
       },
       "id": "889c366e-aa0b-4b3c-ab6c-ce536ae11bc6"
      }
     }
    },
    "5c7a01cd-3ee4-4f10-8549-9085adc28da7": {
     "id": "5c7a01cd-3ee4-4f10-8549-9085adc28da7",
     "prev": "5e66783e-dc2e-412d-b533-7a3435d62a69",
     "regions": {
      "e965464d-c086-410a-9bd8-d5af56d9cece": {
       "attrs": {
        "height": 0.8,
        "width": 0.8,
        "x": 0.1,
        "y": 0.1
       },
       "content": {
        "cell": "3566ecb1-2c5d-4c1a-b66a-079d59bd2834",
        "part": "whole"
       },
       "id": "e965464d-c086-410a-9bd8-d5af56d9cece"
      }
     }
    },
    "5d1c7f15-b6cd-4ba1-8346-25a2946b20d6": {
     "id": "5d1c7f15-b6cd-4ba1-8346-25a2946b20d6",
     "prev": "8bff19be-b0e2-4c07-afc0-b6404151ecb0",
     "regions": {
      "a89bb674-478c-4c31-86ef-74fe377b47db": {
       "attrs": {
        "height": 0.8,
        "width": 0.8,
        "x": 0.1,
        "y": 0.1
       },
       "content": {
        "cell": "b7b289e5-9a64-4c45-949f-a4c97bf925b3",
        "part": "whole"
       },
       "id": "a89bb674-478c-4c31-86ef-74fe377b47db"
      }
     }
    },
    "5e66783e-dc2e-412d-b533-7a3435d62a69": {
     "id": "5e66783e-dc2e-412d-b533-7a3435d62a69",
     "prev": "d0bb4645-4c8d-4af6-b660-29d2a39c5346",
     "regions": {
      "829e7766-b9f8-4375-8693-e7626a77f6bd": {
       "attrs": {
        "height": 0.8,
        "width": 0.8,
        "x": 0.1,
        "y": 0.1
       },
       "content": {
        "cell": "5c572077-0eff-48e9-8d37-6e681233b3d1",
        "part": "whole"
       },
       "id": "829e7766-b9f8-4375-8693-e7626a77f6bd"
      }
     }
    },
    "8bff19be-b0e2-4c07-afc0-b6404151ecb0": {
     "id": "8bff19be-b0e2-4c07-afc0-b6404151ecb0",
     "prev": "96bf763c-f4ec-48eb-827b-a555808ad320",
     "regions": {
      "a5574de5-2057-4e98-aef7-d72b0f8a36d9": {
       "attrs": {
        "height": 0.8,
        "width": 0.8,
        "x": 0.1,
        "y": 0.1
       },
       "content": {
        "cell": "3418c0bb-7642-4d71-9f14-28ce03c5ff85",
        "part": "whole"
       },
       "id": "a5574de5-2057-4e98-aef7-d72b0f8a36d9"
      }
     }
    },
    "96bf763c-f4ec-48eb-827b-a555808ad320": {
     "id": "96bf763c-f4ec-48eb-827b-a555808ad320",
     "prev": "5c7a01cd-3ee4-4f10-8549-9085adc28da7",
     "regions": {
      "00da7bba-a5e8-4653-a0ab-37a8cd093822": {
       "attrs": {
        "height": 0.8,
        "width": 0.8,
        "x": 0.1,
        "y": 0.1
       },
       "content": {
        "cell": "56fa8ee0-13be-4292-bca0-453a4aedde9a",
        "part": "whole"
       },
       "id": "00da7bba-a5e8-4653-a0ab-37a8cd093822"
      }
     }
    },
    "a022b1ed-fb57-41eb-8e73-85be20106936": {
     "id": "a022b1ed-fb57-41eb-8e73-85be20106936",
     "prev": "5d1c7f15-b6cd-4ba1-8346-25a2946b20d6",
     "regions": {
      "45dac858-7dbe-40d1-80a9-1f25614e3eb0": {
       "attrs": {
        "height": 0.8,
        "width": 0.8,
        "x": 0.1,
        "y": 0.1
       },
       "content": {
        "cell": "d86e5b25-8d5a-4fdf-a0cb-0e736e3e05ee",
        "part": "whole"
       },
       "id": "45dac858-7dbe-40d1-80a9-1f25614e3eb0"
      }
     }
    },
    "a364ed3f-62ba-4135-a4ad-50108fc45d5b": {
     "id": "a364ed3f-62ba-4135-a4ad-50108fc45d5b",
     "prev": "382be09c-fad3-4b31-8276-53e4660c8f11",
     "regions": {
      "a9b3681f-d844-47bb-a67c-c1dc1f53bc6f": {
       "attrs": {
        "height": 0.8,
        "width": 0.8,
        "x": 0.1,
        "y": 0.1
       },
       "content": {
        "cell": "55c26376-2c6d-46bb-9b5d-aa0966af28dc",
        "part": "whole"
       },
       "id": "a9b3681f-d844-47bb-a67c-c1dc1f53bc6f"
      }
     }
    },
    "d0bb4645-4c8d-4af6-b660-29d2a39c5346": {
     "id": "d0bb4645-4c8d-4af6-b660-29d2a39c5346",
     "prev": "a364ed3f-62ba-4135-a4ad-50108fc45d5b",
     "regions": {
      "14ddcf71-d769-4662-9eed-a688c1e4da8d": {
       "attrs": {
        "height": 0.8,
        "width": 0.8,
        "x": 0.1,
        "y": 0.1
       },
       "content": {
        "cell": "4282a927-d175-4bcd-b55b-a24012b96cbe",
        "part": "whole"
       },
       "id": "14ddcf71-d769-4662-9eed-a688c1e4da8d"
      }
     }
    }
   },
   "themes": {}
  }
 },
 "nbformat": 4,
 "nbformat_minor": 1
}
