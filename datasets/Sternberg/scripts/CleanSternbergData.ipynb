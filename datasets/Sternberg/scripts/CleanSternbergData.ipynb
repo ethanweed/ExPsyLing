{
 "cells": [
  {
   "cell_type": "code",
   "execution_count": 12,
   "metadata": {},
   "outputs": [],
   "source": [
    "# Define a function to simplify and clean Sternberg data\n",
    "\n",
    "def wrangleSternberg(raw):\n",
    "\n",
    "\n",
    "    # create a new dataframe with only the data we need from raw\n",
    "    df = pd.DataFrame({'id': raw['id'],\n",
    "                       'block': raw['block'],\n",
    "                       'correct': raw['correct'],\n",
    "                       'setSize': raw['setSize'],\n",
    "                       'present': raw['present'],\n",
    "                       'rt': raw['response_time']})\n",
    "\n",
    "    # find all the unique session id's from the raw data\n",
    "    #ids = list(set(df['sessionid']))\n",
    "\n",
    "    # make a new column with a simple ID number for each participant\n",
    "    #id = []\n",
    "    #for s, val in enumerate(df['sessionid']):\n",
    "    #    for i, num in enumerate(ids):\n",
    "    #        if val == num:\n",
    "    #            id.append(i+1)            \n",
    "    #df['id'] = id\n",
    "\n",
    "\n",
    "    #ids = list(set(df['id']))\n",
    "    \n",
    "\n",
    "    # remove practice trials\n",
    "    df = df.loc[df['block'] != \"practice\"]\n",
    "\n",
    "    # keep only correct answers\n",
    "    df = df.loc[df['correct'] == 1]\n",
    "\n",
    "    # keep only the data we need\n",
    "    keep = ['id', 'setSize', 'present','rt']\n",
    "    df = df[keep]\n",
    "\n",
    "    #group_by(setSize, present, id) \n",
    "    data = df.groupby(['setSize', 'present', 'id']).agg('mean')\n",
    "\n",
    "    # de-sparsify the dataframe index\n",
    "    data = data.reset_index()\n",
    "    \n",
    "    # print the number of participants we have data for\n",
    "    print(\"Data for\", len(list(set(df['id']))), \"participants cleaned!\")\n",
    "\n",
    "    return(data)\n",
    "\n",
    "\n"
   ]
  },
  {
   "cell_type": "code",
   "execution_count": 13,
   "metadata": {},
   "outputs": [],
   "source": [
    "# Load the raw Sternberg data\n",
    "\n",
    "import pandas as pd\n",
    "\n",
    "file = \"/Users/ethan/Documents/GitHub/ExPsyLing/datasets/Sternberg/2021/Sternberg_all.csv\"\n",
    "\n",
    "raw = pd.read_csv(file)"
   ]
  },
  {
   "cell_type": "code",
   "execution_count": 16,
   "metadata": {},
   "outputs": [
    {
     "name": "stdout",
     "output_type": "stream",
     "text": [
      "Data for 22 participants cleaned!\n"
     ]
    }
   ],
   "source": [
    "# Clean the data\n",
    "\n",
    "data = wrangleSternberg(raw)\n",
    "\n"
   ]
  },
  {
   "cell_type": "code",
   "execution_count": 15,
   "metadata": {},
   "outputs": [],
   "source": [
    "# Save the cleaned data\n",
    "\n",
    "data.to_csv(\"/Users/ethan/Documents/GitHub/ExPsyLing/datasets/Sternberg/2021/Sternberg_cleaned.csv\",\n",
    "           index = False)"
   ]
  },
  {
   "cell_type": "code",
   "execution_count": null,
   "metadata": {},
   "outputs": [],
   "source": []
  }
 ],
 "metadata": {
  "kernelspec": {
   "display_name": "Python 3",
   "language": "python",
   "name": "python3"
  },
  "language_info": {
   "codemirror_mode": {
    "name": "ipython",
    "version": 3
   },
   "file_extension": ".py",
   "mimetype": "text/x-python",
   "name": "python",
   "nbconvert_exporter": "python",
   "pygments_lexer": "ipython3",
   "version": "3.7.6"
  }
 },
 "nbformat": 4,
 "nbformat_minor": 4
}
