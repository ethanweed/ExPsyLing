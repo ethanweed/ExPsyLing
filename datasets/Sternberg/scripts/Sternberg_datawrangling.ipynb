{
 "cells": [
  {
   "cell_type": "code",
   "execution_count": 367,
   "metadata": {},
   "outputs": [
    {
     "data": {
      "text/html": [
       "<div>\n",
       "<style scoped>\n",
       "    .dataframe tbody tr th:only-of-type {\n",
       "        vertical-align: middle;\n",
       "    }\n",
       "\n",
       "    .dataframe tbody tr th {\n",
       "        vertical-align: top;\n",
       "    }\n",
       "\n",
       "    .dataframe thead th {\n",
       "        text-align: right;\n",
       "    }\n",
       "</style>\n",
       "<table border=\"1\" class=\"dataframe\">\n",
       "  <thead>\n",
       "    <tr style=\"text-align: right;\">\n",
       "      <th></th>\n",
       "      <th>acc</th>\n",
       "      <th>accuracy</th>\n",
       "      <th>average_response_time</th>\n",
       "      <th>avg_rt</th>\n",
       "      <th>background</th>\n",
       "      <th>bidi</th>\n",
       "      <th>block</th>\n",
       "      <th>browser_codename</th>\n",
       "      <th>browser_name</th>\n",
       "      <th>browser_version</th>\n",
       "      <th>...</th>\n",
       "      <th>time_memory_set</th>\n",
       "      <th>time_new_logger</th>\n",
       "      <th>time_practiceLoop</th>\n",
       "      <th>time_probe</th>\n",
       "      <th>title</th>\n",
       "      <th>total_correct</th>\n",
       "      <th>total_response_time</th>\n",
       "      <th>total_responses</th>\n",
       "      <th>uniform_coordinates</th>\n",
       "      <th>width</th>\n",
       "    </tr>\n",
       "  </thead>\n",
       "  <tbody>\n",
       "    <tr>\n",
       "      <th>0</th>\n",
       "      <td>100</td>\n",
       "      <td>100</td>\n",
       "      <td>1097</td>\n",
       "      <td>1097</td>\n",
       "      <td>black</td>\n",
       "      <td>no</td>\n",
       "      <td>practice</td>\n",
       "      <td>Mozilla</td>\n",
       "      <td>Netscape</td>\n",
       "      <td>5.0 (Macintosh; Intel Mac OS X 10_15_7) AppleW...</td>\n",
       "      <td>...</td>\n",
       "      <td>25738</td>\n",
       "      <td>30063</td>\n",
       "      <td>81</td>\n",
       "      <td>28954</td>\n",
       "      <td>Sternberg_updated</td>\n",
       "      <td>1</td>\n",
       "      <td>1097</td>\n",
       "      <td>1</td>\n",
       "      <td>yes</td>\n",
       "      <td>1024</td>\n",
       "    </tr>\n",
       "    <tr>\n",
       "      <th>1</th>\n",
       "      <td>100</td>\n",
       "      <td>100</td>\n",
       "      <td>893</td>\n",
       "      <td>893</td>\n",
       "      <td>black</td>\n",
       "      <td>no</td>\n",
       "      <td>practice</td>\n",
       "      <td>Mozilla</td>\n",
       "      <td>Netscape</td>\n",
       "      <td>5.0 (Macintosh; Intel Mac OS X 10_15_7) AppleW...</td>\n",
       "      <td>...</td>\n",
       "      <td>32107</td>\n",
       "      <td>36015</td>\n",
       "      <td>81</td>\n",
       "      <td>35324</td>\n",
       "      <td>Sternberg_updated</td>\n",
       "      <td>2</td>\n",
       "      <td>1786</td>\n",
       "      <td>2</td>\n",
       "      <td>yes</td>\n",
       "      <td>1024</td>\n",
       "    </tr>\n",
       "    <tr>\n",
       "      <th>2</th>\n",
       "      <td>100</td>\n",
       "      <td>100</td>\n",
       "      <td>908</td>\n",
       "      <td>908</td>\n",
       "      <td>black</td>\n",
       "      <td>no</td>\n",
       "      <td>practice</td>\n",
       "      <td>Mozilla</td>\n",
       "      <td>Netscape</td>\n",
       "      <td>5.0 (Macintosh; Intel Mac OS X 10_15_7) AppleW...</td>\n",
       "      <td>...</td>\n",
       "      <td>38058</td>\n",
       "      <td>42218</td>\n",
       "      <td>81</td>\n",
       "      <td>41276</td>\n",
       "      <td>Sternberg_updated</td>\n",
       "      <td>3</td>\n",
       "      <td>2723</td>\n",
       "      <td>3</td>\n",
       "      <td>yes</td>\n",
       "      <td>1024</td>\n",
       "    </tr>\n",
       "    <tr>\n",
       "      <th>3</th>\n",
       "      <td>100</td>\n",
       "      <td>100</td>\n",
       "      <td>914</td>\n",
       "      <td>914</td>\n",
       "      <td>black</td>\n",
       "      <td>no</td>\n",
       "      <td>practice</td>\n",
       "      <td>Mozilla</td>\n",
       "      <td>Netscape</td>\n",
       "      <td>5.0 (Macintosh; Intel Mac OS X 10_15_7) AppleW...</td>\n",
       "      <td>...</td>\n",
       "      <td>44262</td>\n",
       "      <td>48418</td>\n",
       "      <td>81</td>\n",
       "      <td>47477</td>\n",
       "      <td>Sternberg_updated</td>\n",
       "      <td>4</td>\n",
       "      <td>3655</td>\n",
       "      <td>4</td>\n",
       "      <td>yes</td>\n",
       "      <td>1024</td>\n",
       "    </tr>\n",
       "    <tr>\n",
       "      <th>4</th>\n",
       "      <td>100</td>\n",
       "      <td>100</td>\n",
       "      <td>934</td>\n",
       "      <td>934</td>\n",
       "      <td>black</td>\n",
       "      <td>no</td>\n",
       "      <td>practice</td>\n",
       "      <td>Mozilla</td>\n",
       "      <td>Netscape</td>\n",
       "      <td>5.0 (Macintosh; Intel Mac OS X 10_15_7) AppleW...</td>\n",
       "      <td>...</td>\n",
       "      <td>50458</td>\n",
       "      <td>54715</td>\n",
       "      <td>81</td>\n",
       "      <td>53689</td>\n",
       "      <td>Sternberg_updated</td>\n",
       "      <td>5</td>\n",
       "      <td>4672</td>\n",
       "      <td>5</td>\n",
       "      <td>yes</td>\n",
       "      <td>1024</td>\n",
       "    </tr>\n",
       "  </tbody>\n",
       "</table>\n",
       "<p>5 rows × 129 columns</p>\n",
       "</div>"
      ],
      "text/plain": [
       "   acc  accuracy  average_response_time  avg_rt background bidi     block  \\\n",
       "0  100       100                   1097    1097      black   no  practice   \n",
       "1  100       100                    893     893      black   no  practice   \n",
       "2  100       100                    908     908      black   no  practice   \n",
       "3  100       100                    914     914      black   no  practice   \n",
       "4  100       100                    934     934      black   no  practice   \n",
       "\n",
       "  browser_codename browser_name  \\\n",
       "0          Mozilla     Netscape   \n",
       "1          Mozilla     Netscape   \n",
       "2          Mozilla     Netscape   \n",
       "3          Mozilla     Netscape   \n",
       "4          Mozilla     Netscape   \n",
       "\n",
       "                                     browser_version  ... time_memory_set  \\\n",
       "0  5.0 (Macintosh; Intel Mac OS X 10_15_7) AppleW...  ...           25738   \n",
       "1  5.0 (Macintosh; Intel Mac OS X 10_15_7) AppleW...  ...           32107   \n",
       "2  5.0 (Macintosh; Intel Mac OS X 10_15_7) AppleW...  ...           38058   \n",
       "3  5.0 (Macintosh; Intel Mac OS X 10_15_7) AppleW...  ...           44262   \n",
       "4  5.0 (Macintosh; Intel Mac OS X 10_15_7) AppleW...  ...           50458   \n",
       "\n",
       "  time_new_logger time_practiceLoop  time_probe              title  \\\n",
       "0           30063                81       28954  Sternberg_updated   \n",
       "1           36015                81       35324  Sternberg_updated   \n",
       "2           42218                81       41276  Sternberg_updated   \n",
       "3           48418                81       47477  Sternberg_updated   \n",
       "4           54715                81       53689  Sternberg_updated   \n",
       "\n",
       "   total_correct  total_response_time total_responses  uniform_coordinates  \\\n",
       "0              1                 1097               1                  yes   \n",
       "1              2                 1786               2                  yes   \n",
       "2              3                 2723               3                  yes   \n",
       "3              4                 3655               4                  yes   \n",
       "4              5                 4672               5                  yes   \n",
       "\n",
       "   width  \n",
       "0   1024  \n",
       "1   1024  \n",
       "2   1024  \n",
       "3   1024  \n",
       "4   1024  \n",
       "\n",
       "[5 rows x 129 columns]"
      ]
     },
     "execution_count": 367,
     "metadata": {},
     "output_type": "execute_result"
    }
   ],
   "source": [
    "# load csv file with raw data\n",
    "\n",
    "import pandas as pd\n",
    "#raw = pd.read_csv(\"/Users/ethan/Desktop/test_deleteme3.csv\")\n",
    "#raw = pd.read_csv(\"/Users/ethan/Documents/GitHub/OpenSesame/Sternberg/data/Sternber_data_long.csv\")\n",
    "#raw = pd.read_csv(\"/Users/ethan/Documents/GitHub/OpenSesame/Sternberg/data/jatos_results_2020.csv\")\n",
    "\n",
    "# Semiotics\n",
    "raw1 = pd.read_csv(\"/Users/ethan/Documents/GitHub/ExPsyLing/datasets/Sternberg/2021/Sternberg_2021_1.csv\")\n",
    "\n",
    "# Linguistics\n",
    "raw2 = pd.read_csv(\"/Users/ethan/Documents/GitHub/ExPsyLing/datasets/Sternberg/2021/Sternberg_2021_2.csv\")\n",
    "\n",
    "raw = pd.concat([raw1, raw2])\n",
    "\n",
    "#raw = pd.read_csv(\"/Users/ethan/Documents/GitHub/ExPsyLing/datasets/Sternberg/2021/Sternberg_2021_SoMe.csv\")\n",
    "#raw.head()"
   ]
  },
  {
   "cell_type": "code",
   "execution_count": 368,
   "metadata": {},
   "outputs": [
    {
     "name": "stdout",
     "output_type": "stream",
     "text": [
      "32\n"
     ]
    }
   ],
   "source": [
    "# create a new dataframe with only the data we need from raw\n",
    "\n",
    "df = pd.DataFrame({'sessionid': raw['sessionid'],\n",
    "                   'block': raw['block'],\n",
    "                   'correct': raw['correct'],\n",
    "                   'setSize': raw['setSize'],\n",
    "                   'present': raw['present'],\n",
    "                   'rt': raw['response_time']})\n",
    "\n",
    "# find all the unique session id's from the raw data\n",
    "ids = list(set(df['sessionid']))\n",
    "\n",
    "# make a new column with a simple ID number for each participant\n",
    "id = []\n",
    "for s, val in enumerate(df['sessionid']):\n",
    "    for i, num in enumerate(ids):\n",
    "        if val == num:\n",
    "            id.append(i+1)            \n",
    "df['id'] = id\n",
    "\n",
    "# print the number of participants we have data for\n",
    "print(len(list(set(df['id']))))"
   ]
  },
  {
   "cell_type": "code",
   "execution_count": 369,
   "metadata": {},
   "outputs": [
    {
     "data": {
      "text/plain": [
       "{'experiment', 'practice'}"
      ]
     },
     "execution_count": 369,
     "metadata": {},
     "output_type": "execute_result"
    }
   ],
   "source": [
    "# there are 138 trials in a full run.\n",
    "\n",
    "ids = list(set(df['id']))\n",
    "\n",
    "completion_status = []\n",
    "for n in ids:\n",
    "    if list(df['id']).count(n) == 138:\n",
    "        completion_status.append((n,1))\n",
    "    if list(df['id']).count(n) != 138:\n",
    "        completion_status.append((n,0))\n",
    "\n",
    "complete = []        \n",
    "for s, val in enumerate(df['id']):\n",
    "    for n in completion_status:\n",
    "        if val == n[0]:\n",
    "            complete.append(n[1])\n",
    "\n",
    "df['complete'] = complete\n",
    "set(df['block'])"
   ]
  },
  {
   "cell_type": "code",
   "execution_count": 370,
   "metadata": {},
   "outputs": [
    {
     "data": {
      "text/plain": [
       "(5008, 8)"
      ]
     },
     "execution_count": 370,
     "metadata": {},
     "output_type": "execute_result"
    }
   ],
   "source": [
    "df.shape"
   ]
  },
  {
   "cell_type": "code",
   "execution_count": null,
   "metadata": {},
   "outputs": [],
   "source": []
  },
  {
   "cell_type": "code",
   "execution_count": 371,
   "metadata": {},
   "outputs": [],
   "source": [
    "# remove incomplete runs\n",
    "d = df.loc[df['complete'] == 1]"
   ]
  },
  {
   "cell_type": "code",
   "execution_count": 372,
   "metadata": {},
   "outputs": [
    {
     "data": {
      "text/plain": [
       "(2208, 8)"
      ]
     },
     "execution_count": 372,
     "metadata": {},
     "output_type": "execute_result"
    }
   ],
   "source": [
    "d.shape"
   ]
  },
  {
   "cell_type": "code",
   "execution_count": 373,
   "metadata": {},
   "outputs": [],
   "source": [
    "# remove practice trials\n",
    "d = d.loc[d['block'] != \"practice\"]\n",
    "\n",
    "# keep only correct answers\n",
    "d = d.loc[d['correct'] == 1]\n",
    "\n",
    "# keep only the data we need\n",
    "keep = ['id', 'setSize', 'present','rt']\n",
    "d = d[keep]\n",
    "\n",
    "d.to_csv(\"/Users/ethan/Documents/GitHub/ExPsyLing/datasets/Sternberg/2021/Sternberg_2021_combined.csv\")"
   ]
  },
  {
   "cell_type": "code",
   "execution_count": 348,
   "metadata": {},
   "outputs": [
    {
     "data": {
      "text/html": [
       "<div>\n",
       "<style scoped>\n",
       "    .dataframe tbody tr th:only-of-type {\n",
       "        vertical-align: middle;\n",
       "    }\n",
       "\n",
       "    .dataframe tbody tr th {\n",
       "        vertical-align: top;\n",
       "    }\n",
       "\n",
       "    .dataframe thead th {\n",
       "        text-align: right;\n",
       "    }\n",
       "</style>\n",
       "<table border=\"1\" class=\"dataframe\">\n",
       "  <thead>\n",
       "    <tr style=\"text-align: right;\">\n",
       "      <th></th>\n",
       "      <th></th>\n",
       "      <th></th>\n",
       "      <th>rt</th>\n",
       "    </tr>\n",
       "    <tr>\n",
       "      <th>setSize</th>\n",
       "      <th>present</th>\n",
       "      <th>id</th>\n",
       "      <th></th>\n",
       "    </tr>\n",
       "  </thead>\n",
       "  <tbody>\n",
       "    <tr>\n",
       "      <th rowspan=\"5\" valign=\"top\">1</th>\n",
       "      <th rowspan=\"5\" valign=\"top\">n</th>\n",
       "      <th>2</th>\n",
       "      <td>426.000000</td>\n",
       "    </tr>\n",
       "    <tr>\n",
       "      <th>3</th>\n",
       "      <td>889.000000</td>\n",
       "    </tr>\n",
       "    <tr>\n",
       "      <th>4</th>\n",
       "      <td>543.333333</td>\n",
       "    </tr>\n",
       "    <tr>\n",
       "      <th>9</th>\n",
       "      <td>576.333333</td>\n",
       "    </tr>\n",
       "    <tr>\n",
       "      <th>10</th>\n",
       "      <td>738.333333</td>\n",
       "    </tr>\n",
       "    <tr>\n",
       "      <th>...</th>\n",
       "      <th>...</th>\n",
       "      <th>...</th>\n",
       "      <td>...</td>\n",
       "    </tr>\n",
       "    <tr>\n",
       "      <th rowspan=\"5\" valign=\"top\">6</th>\n",
       "      <th rowspan=\"5\" valign=\"top\">y</th>\n",
       "      <th>25</th>\n",
       "      <td>837.875000</td>\n",
       "    </tr>\n",
       "    <tr>\n",
       "      <th>26</th>\n",
       "      <td>599.214286</td>\n",
       "    </tr>\n",
       "    <tr>\n",
       "      <th>30</th>\n",
       "      <td>647.588235</td>\n",
       "    </tr>\n",
       "    <tr>\n",
       "      <th>31</th>\n",
       "      <td>884.357143</td>\n",
       "    </tr>\n",
       "    <tr>\n",
       "      <th>32</th>\n",
       "      <td>532.200000</td>\n",
       "    </tr>\n",
       "  </tbody>\n",
       "</table>\n",
       "<p>192 rows × 1 columns</p>\n",
       "</div>"
      ],
      "text/plain": [
       "                            rt\n",
       "setSize present id            \n",
       "1       n       2   426.000000\n",
       "                3   889.000000\n",
       "                4   543.333333\n",
       "                9   576.333333\n",
       "                10  738.333333\n",
       "...                        ...\n",
       "6       y       25  837.875000\n",
       "                26  599.214286\n",
       "                30  647.588235\n",
       "                31  884.357143\n",
       "                32  532.200000\n",
       "\n",
       "[192 rows x 1 columns]"
      ]
     },
     "execution_count": 348,
     "metadata": {},
     "output_type": "execute_result"
    }
   ],
   "source": [
    "#group_by(setSize, present, id) \n",
    "\n",
    "data = d.groupby(['setSize', 'present', 'id']).agg('mean')\n",
    "data"
   ]
  },
  {
   "cell_type": "code",
   "execution_count": 349,
   "metadata": {
    "scrolled": true
   },
   "outputs": [
    {
     "data": {
      "text/html": [
       "<div>\n",
       "<style scoped>\n",
       "    .dataframe tbody tr th:only-of-type {\n",
       "        vertical-align: middle;\n",
       "    }\n",
       "\n",
       "    .dataframe tbody tr th {\n",
       "        vertical-align: top;\n",
       "    }\n",
       "\n",
       "    .dataframe thead th {\n",
       "        text-align: right;\n",
       "    }\n",
       "</style>\n",
       "<table border=\"1\" class=\"dataframe\">\n",
       "  <thead>\n",
       "    <tr style=\"text-align: right;\">\n",
       "      <th></th>\n",
       "      <th>setSize</th>\n",
       "      <th>present</th>\n",
       "      <th>id</th>\n",
       "      <th>rt</th>\n",
       "    </tr>\n",
       "  </thead>\n",
       "  <tbody>\n",
       "    <tr>\n",
       "      <th>0</th>\n",
       "      <td>1</td>\n",
       "      <td>n</td>\n",
       "      <td>2</td>\n",
       "      <td>426.000000</td>\n",
       "    </tr>\n",
       "    <tr>\n",
       "      <th>1</th>\n",
       "      <td>1</td>\n",
       "      <td>n</td>\n",
       "      <td>3</td>\n",
       "      <td>889.000000</td>\n",
       "    </tr>\n",
       "    <tr>\n",
       "      <th>2</th>\n",
       "      <td>1</td>\n",
       "      <td>n</td>\n",
       "      <td>4</td>\n",
       "      <td>543.333333</td>\n",
       "    </tr>\n",
       "    <tr>\n",
       "      <th>3</th>\n",
       "      <td>1</td>\n",
       "      <td>n</td>\n",
       "      <td>9</td>\n",
       "      <td>576.333333</td>\n",
       "    </tr>\n",
       "    <tr>\n",
       "      <th>4</th>\n",
       "      <td>1</td>\n",
       "      <td>n</td>\n",
       "      <td>10</td>\n",
       "      <td>738.333333</td>\n",
       "    </tr>\n",
       "    <tr>\n",
       "      <th>...</th>\n",
       "      <td>...</td>\n",
       "      <td>...</td>\n",
       "      <td>...</td>\n",
       "      <td>...</td>\n",
       "    </tr>\n",
       "    <tr>\n",
       "      <th>187</th>\n",
       "      <td>6</td>\n",
       "      <td>y</td>\n",
       "      <td>25</td>\n",
       "      <td>837.875000</td>\n",
       "    </tr>\n",
       "    <tr>\n",
       "      <th>188</th>\n",
       "      <td>6</td>\n",
       "      <td>y</td>\n",
       "      <td>26</td>\n",
       "      <td>599.214286</td>\n",
       "    </tr>\n",
       "    <tr>\n",
       "      <th>189</th>\n",
       "      <td>6</td>\n",
       "      <td>y</td>\n",
       "      <td>30</td>\n",
       "      <td>647.588235</td>\n",
       "    </tr>\n",
       "    <tr>\n",
       "      <th>190</th>\n",
       "      <td>6</td>\n",
       "      <td>y</td>\n",
       "      <td>31</td>\n",
       "      <td>884.357143</td>\n",
       "    </tr>\n",
       "    <tr>\n",
       "      <th>191</th>\n",
       "      <td>6</td>\n",
       "      <td>y</td>\n",
       "      <td>32</td>\n",
       "      <td>532.200000</td>\n",
       "    </tr>\n",
       "  </tbody>\n",
       "</table>\n",
       "<p>192 rows × 4 columns</p>\n",
       "</div>"
      ],
      "text/plain": [
       "     setSize present  id          rt\n",
       "0          1       n   2  426.000000\n",
       "1          1       n   3  889.000000\n",
       "2          1       n   4  543.333333\n",
       "3          1       n   9  576.333333\n",
       "4          1       n  10  738.333333\n",
       "..       ...     ...  ..         ...\n",
       "187        6       y  25  837.875000\n",
       "188        6       y  26  599.214286\n",
       "189        6       y  30  647.588235\n",
       "190        6       y  31  884.357143\n",
       "191        6       y  32  532.200000\n",
       "\n",
       "[192 rows x 4 columns]"
      ]
     },
     "execution_count": 349,
     "metadata": {},
     "output_type": "execute_result"
    }
   ],
   "source": [
    "data = data.reset_index()\n",
    "data"
   ]
  },
  {
   "cell_type": "code",
   "execution_count": 324,
   "metadata": {},
   "outputs": [],
   "source": [
    "\n",
    "present = data[data['present'] == 'y']\n",
    "notpresent = data[data['present'] == 'n']"
   ]
  },
  {
   "cell_type": "code",
   "execution_count": null,
   "metadata": {},
   "outputs": [],
   "source": []
  },
  {
   "cell_type": "code",
   "execution_count": 350,
   "metadata": {},
   "outputs": [],
   "source": [
    "import seaborn as sns"
   ]
  },
  {
   "cell_type": "code",
   "execution_count": 351,
   "metadata": {},
   "outputs": [
    {
     "data": {
      "image/png": "[encoded data removed]",
      "text/plain": [
       "<Figure size 432x288 with 1 Axes>"
      ]
     },
     "metadata": {
      "needs_background": "light"
     },
     "output_type": "display_data"
    }
   ],
   "source": [
    "ax = sns.regplot(x = 'setSize', y = 'rt', data = data)"
   ]
  },
  {
   "cell_type": "code",
   "execution_count": 352,
   "metadata": {},
   "outputs": [
    {
     "data": {
      "image/png": "[encoded data removed]",
      "text/plain": [
       "<Figure size 406.125x360 with 1 Axes>"
      ]
     },
     "metadata": {
      "needs_background": "light"
     },
     "output_type": "display_data"
    }
   ],
   "source": [
    "ax = sns.lmplot(\n",
    "    data = data,\n",
    "    x = \"setSize\", y = \"rt\",\n",
    "    hue = \"present\"\n",
    ")"
   ]
  },
  {
   "cell_type": "code",
   "execution_count": 353,
   "metadata": {},
   "outputs": [
    {
     "data": {
      "image/png": "[encoded data removed]",
      "text/plain": [
       "<Figure size 432x288 with 1 Axes>"
      ]
     },
     "metadata": {
      "needs_background": "light"
     },
     "output_type": "display_data"
    }
   ],
   "source": [
    "ax = sns.pointplot(x=\"setSize\", y=\"rt\", hue=\"present\", data=data, markers=[\"o\",\"x\"], linestyles=[\"-\",\"--\"])"
   ]
  },
  {
   "cell_type": "code",
   "execution_count": null,
   "metadata": {},
   "outputs": [],
   "source": []
  },
  {
   "cell_type": "code",
   "execution_count": null,
   "metadata": {},
   "outputs": [],
   "source": []
  }
 ],
 "metadata": {
  "kernelspec": {
   "display_name": "Python 3",
   "language": "python",
   "name": "python3"
  },
  "language_info": {
   "codemirror_mode": {
    "name": "ipython",
    "version": 3
   },
   "file_extension": ".py",
   "mimetype": "text/x-python",
   "name": "python",
   "nbconvert_exporter": "python",
   "pygments_lexer": "ipython3",
   "version": "3.7.6"
  }
 },
 "nbformat": 4,
 "nbformat_minor": 4
}
