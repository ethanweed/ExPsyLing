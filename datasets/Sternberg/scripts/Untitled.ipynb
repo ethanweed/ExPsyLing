{
 "cells": [
  {
   "cell_type": "code",
   "execution_count": 3,
   "id": "8368e432",
   "metadata": {},
   "outputs": [
    {
     "name": "stdout",
     "output_type": "stream",
     "text": [
      "1\n",
      "2\n",
      "3\n",
      "4\n",
      "5\n",
      "6\n",
      "7\n",
      "8\n",
      "9\n",
      "10\n",
      "11\n",
      "12\n",
      "13\n",
      "14\n",
      "15\n",
      "16\n",
      "17\n",
      "18\n",
      "19\n",
      "20\n",
      "21\n"
     ]
    }
   ],
   "source": [
    "\n",
    "\n",
    "import os\n",
    "import glob\n",
    "\n",
    "pathin = '/Users/ethan/Documents/GitHub/ExPsyLing/datasets/Sternberg/2021'\n",
    "\n",
    "os.chdir(pathin)\n",
    "\n",
    "c = 1\n",
    "for file in glob.glob('*.txt'):\n",
    "    filename = file[0:-4]\n",
    "    #dm = data.parse_jatos_results(\n",
    "    #jatos_path=pathin + file,\n",
    "    #include_context=True)\n",
    "    print (c)\n",
    "    c = c+1"
   ]
  },
  {
   "cell_type": "code",
   "execution_count": null,
   "id": "123b7fa6",
   "metadata": {},
   "outputs": [],
   "source": []
  }
 ],
 "metadata": {
  "kernelspec": {
   "display_name": "Python 3",
   "language": "python",
   "name": "python3"
  },
  "language_info": {
   "codemirror_mode": {
    "name": "ipython",
    "version": 3
   },
   "file_extension": ".py",
   "mimetype": "text/x-python",
   "name": "python",
   "nbconvert_exporter": "python",
   "pygments_lexer": "ipython3",
   "version": "3.7.10"
  }
 },
 "nbformat": 4,
 "nbformat_minor": 5
}
