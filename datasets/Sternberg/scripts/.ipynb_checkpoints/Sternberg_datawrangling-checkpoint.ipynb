{
 "cells": [
  {
   "cell_type": "code",
   "execution_count": 42,
   "metadata": {},
   "outputs": [],
   "source": [
    "#read text from folder into python\n",
    "\n",
    "import os\n",
    "import glob\n",
    "import pandas as pd\n",
    "\n",
    "pathin = '/Users/ethan/Documents/GitHub/ExPsyLing/datasets/Sternberg/'\n",
    "\n",
    "os.chdir(pathin)\n",
    "\n",
    "raw = []\n",
    "for file in glob.glob('*.csv'):\n",
    "    raw.append(pd.read_csv(file))"
   ]
  },
  {
   "cell_type": "code",
   "execution_count": 44,
   "metadata": {},
   "outputs": [
    {
     "data": {
      "text/plain": [
       "2"
      ]
     },
     "execution_count": 44,
     "metadata": {},
     "output_type": "execute_result"
    }
   ],
   "source": [
    "len(raw)"
   ]
  },
  {
   "cell_type": "code",
   "execution_count": 22,
   "metadata": {},
   "outputs": [
    {
     "data": {
      "text/html": [
       "<div>\n",
       "<style scoped>\n",
       "    .dataframe tbody tr th:only-of-type {\n",
       "        vertical-align: middle;\n",
       "    }\n",
       "\n",
       "    .dataframe tbody tr th {\n",
       "        vertical-align: top;\n",
       "    }\n",
       "\n",
       "    .dataframe thead th {\n",
       "        text-align: right;\n",
       "    }\n",
       "</style>\n",
       "<table border=\"1\" class=\"dataframe\">\n",
       "  <thead>\n",
       "    <tr style=\"text-align: right;\">\n",
       "      <th></th>\n",
       "      <th>acc</th>\n",
       "      <th>accuracy</th>\n",
       "      <th>average_response_time</th>\n",
       "      <th>avg_rt</th>\n",
       "      <th>background</th>\n",
       "      <th>bidi</th>\n",
       "      <th>block</th>\n",
       "      <th>canvas_backend</th>\n",
       "      <th>clock_backend</th>\n",
       "      <th>color_backend</th>\n",
       "      <th>...</th>\n",
       "      <th>time_memory_set</th>\n",
       "      <th>time_new_logger</th>\n",
       "      <th>time_practiceLoop</th>\n",
       "      <th>time_probe</th>\n",
       "      <th>title</th>\n",
       "      <th>total_correct</th>\n",
       "      <th>total_response_time</th>\n",
       "      <th>total_responses</th>\n",
       "      <th>uniform_coordinates</th>\n",
       "      <th>width</th>\n",
       "    </tr>\n",
       "  </thead>\n",
       "  <tbody>\n",
       "    <tr>\n",
       "      <th>0</th>\n",
       "      <td>100</td>\n",
       "      <td>100</td>\n",
       "      <td>1855</td>\n",
       "      <td>1855</td>\n",
       "      <td>black</td>\n",
       "      <td>no</td>\n",
       "      <td>practice</td>\n",
       "      <td>legacy</td>\n",
       "      <td>legacy</td>\n",
       "      <td>legacy</td>\n",
       "      <td>...</td>\n",
       "      <td>32557</td>\n",
       "      <td>37635</td>\n",
       "      <td>29</td>\n",
       "      <td>35770</td>\n",
       "      <td>Sternberg</td>\n",
       "      <td>1</td>\n",
       "      <td>1855</td>\n",
       "      <td>1</td>\n",
       "      <td>yes</td>\n",
       "      <td>1024</td>\n",
       "    </tr>\n",
       "    <tr>\n",
       "      <th>1</th>\n",
       "      <td>100</td>\n",
       "      <td>100</td>\n",
       "      <td>1415</td>\n",
       "      <td>1415</td>\n",
       "      <td>black</td>\n",
       "      <td>no</td>\n",
       "      <td>practice</td>\n",
       "      <td>legacy</td>\n",
       "      <td>legacy</td>\n",
       "      <td>legacy</td>\n",
       "      <td>...</td>\n",
       "      <td>39661</td>\n",
       "      <td>43854</td>\n",
       "      <td>29</td>\n",
       "      <td>42868</td>\n",
       "      <td>Sternberg</td>\n",
       "      <td>2</td>\n",
       "      <td>2830</td>\n",
       "      <td>2</td>\n",
       "      <td>yes</td>\n",
       "      <td>1024</td>\n",
       "    </tr>\n",
       "    <tr>\n",
       "      <th>2</th>\n",
       "      <td>100</td>\n",
       "      <td>100</td>\n",
       "      <td>1294</td>\n",
       "      <td>1294</td>\n",
       "      <td>black</td>\n",
       "      <td>no</td>\n",
       "      <td>practice</td>\n",
       "      <td>legacy</td>\n",
       "      <td>legacy</td>\n",
       "      <td>legacy</td>\n",
       "      <td>...</td>\n",
       "      <td>45879</td>\n",
       "      <td>50148</td>\n",
       "      <td>29</td>\n",
       "      <td>49088</td>\n",
       "      <td>Sternberg</td>\n",
       "      <td>3</td>\n",
       "      <td>3881</td>\n",
       "      <td>3</td>\n",
       "      <td>yes</td>\n",
       "      <td>1024</td>\n",
       "    </tr>\n",
       "    <tr>\n",
       "      <th>3</th>\n",
       "      <td>100</td>\n",
       "      <td>100</td>\n",
       "      <td>1239</td>\n",
       "      <td>1239</td>\n",
       "      <td>black</td>\n",
       "      <td>no</td>\n",
       "      <td>practice</td>\n",
       "      <td>legacy</td>\n",
       "      <td>legacy</td>\n",
       "      <td>legacy</td>\n",
       "      <td>...</td>\n",
       "      <td>52164</td>\n",
       "      <td>56458</td>\n",
       "      <td>29</td>\n",
       "      <td>55372</td>\n",
       "      <td>Sternberg</td>\n",
       "      <td>4</td>\n",
       "      <td>4956</td>\n",
       "      <td>4</td>\n",
       "      <td>yes</td>\n",
       "      <td>1024</td>\n",
       "    </tr>\n",
       "    <tr>\n",
       "      <th>4</th>\n",
       "      <td>100</td>\n",
       "      <td>100</td>\n",
       "      <td>1199</td>\n",
       "      <td>1199</td>\n",
       "      <td>black</td>\n",
       "      <td>no</td>\n",
       "      <td>practice</td>\n",
       "      <td>legacy</td>\n",
       "      <td>legacy</td>\n",
       "      <td>legacy</td>\n",
       "      <td>...</td>\n",
       "      <td>58484</td>\n",
       "      <td>62744</td>\n",
       "      <td>29</td>\n",
       "      <td>61692</td>\n",
       "      <td>Sternberg</td>\n",
       "      <td>5</td>\n",
       "      <td>5996</td>\n",
       "      <td>5</td>\n",
       "      <td>yes</td>\n",
       "      <td>1024</td>\n",
       "    </tr>\n",
       "  </tbody>\n",
       "</table>\n",
       "<p>5 rows × 97 columns</p>\n",
       "</div>"
      ],
      "text/plain": [
       "   acc  accuracy  average_response_time  avg_rt background bidi     block  \\\n",
       "0  100       100                   1855    1855      black   no  practice   \n",
       "1  100       100                   1415    1415      black   no  practice   \n",
       "2  100       100                   1294    1294      black   no  practice   \n",
       "3  100       100                   1239    1239      black   no  practice   \n",
       "4  100       100                   1199    1199      black   no  practice   \n",
       "\n",
       "  canvas_backend clock_backend color_backend  ...  time_memory_set  \\\n",
       "0         legacy        legacy        legacy  ...            32557   \n",
       "1         legacy        legacy        legacy  ...            39661   \n",
       "2         legacy        legacy        legacy  ...            45879   \n",
       "3         legacy        legacy        legacy  ...            52164   \n",
       "4         legacy        legacy        legacy  ...            58484   \n",
       "\n",
       "  time_new_logger  time_practiceLoop time_probe      title  total_correct  \\\n",
       "0           37635                 29      35770  Sternberg              1   \n",
       "1           43854                 29      42868  Sternberg              2   \n",
       "2           50148                 29      49088  Sternberg              3   \n",
       "3           56458                 29      55372  Sternberg              4   \n",
       "4           62744                 29      61692  Sternberg              5   \n",
       "\n",
       "   total_response_time  total_responses  uniform_coordinates  width  \n",
       "0                 1855                1                  yes   1024  \n",
       "1                 2830                2                  yes   1024  \n",
       "2                 3881                3                  yes   1024  \n",
       "3                 4956                4                  yes   1024  \n",
       "4                 5996                5                  yes   1024  \n",
       "\n",
       "[5 rows x 97 columns]"
      ]
     },
     "execution_count": 22,
     "metadata": {},
     "output_type": "execute_result"
    }
   ],
   "source": [
    "\n",
    "\n",
    "raw = pd.read_csv(\"/Users/ethan/Documents/GitHub/ExPsyLing/datasets/Sternberg/Sternberg_testdata_ethan.csv\")\n",
    "\n",
    "raw.head()"
   ]
  },
  {
   "cell_type": "code",
   "execution_count": 23,
   "metadata": {},
   "outputs": [],
   "source": [
    "#id, block, correct, present, setSize, response_time\n",
    "\n",
    "\n",
    "\n",
    "df = pd.DataFrame({'id': [1]*raw.shape[0],\n",
    "                   'block': raw['block'],\n",
    "                   'correct': raw['correct'],\n",
    "                   'setSize': raw['setSize'],\n",
    "                   'rt': raw['response_time']})"
   ]
  },
  {
   "cell_type": "code",
   "execution_count": 24,
   "metadata": {},
   "outputs": [
    {
     "data": {
      "text/html": [
       "<div>\n",
       "<style scoped>\n",
       "    .dataframe tbody tr th:only-of-type {\n",
       "        vertical-align: middle;\n",
       "    }\n",
       "\n",
       "    .dataframe tbody tr th {\n",
       "        vertical-align: top;\n",
       "    }\n",
       "\n",
       "    .dataframe thead th {\n",
       "        text-align: right;\n",
       "    }\n",
       "</style>\n",
       "<table border=\"1\" class=\"dataframe\">\n",
       "  <thead>\n",
       "    <tr style=\"text-align: right;\">\n",
       "      <th></th>\n",
       "      <th>id</th>\n",
       "      <th>block</th>\n",
       "      <th>correct</th>\n",
       "      <th>setSize</th>\n",
       "      <th>rt</th>\n",
       "    </tr>\n",
       "  </thead>\n",
       "  <tbody>\n",
       "    <tr>\n",
       "      <th>0</th>\n",
       "      <td>1</td>\n",
       "      <td>practice</td>\n",
       "      <td>1</td>\n",
       "      <td>1</td>\n",
       "      <td>1855</td>\n",
       "    </tr>\n",
       "    <tr>\n",
       "      <th>1</th>\n",
       "      <td>1</td>\n",
       "      <td>practice</td>\n",
       "      <td>1</td>\n",
       "      <td>5</td>\n",
       "      <td>975</td>\n",
       "    </tr>\n",
       "    <tr>\n",
       "      <th>2</th>\n",
       "      <td>1</td>\n",
       "      <td>practice</td>\n",
       "      <td>1</td>\n",
       "      <td>6</td>\n",
       "      <td>1051</td>\n",
       "    </tr>\n",
       "    <tr>\n",
       "      <th>3</th>\n",
       "      <td>1</td>\n",
       "      <td>practice</td>\n",
       "      <td>1</td>\n",
       "      <td>3</td>\n",
       "      <td>1075</td>\n",
       "    </tr>\n",
       "    <tr>\n",
       "      <th>4</th>\n",
       "      <td>1</td>\n",
       "      <td>practice</td>\n",
       "      <td>1</td>\n",
       "      <td>4</td>\n",
       "      <td>1040</td>\n",
       "    </tr>\n",
       "  </tbody>\n",
       "</table>\n",
       "</div>"
      ],
      "text/plain": [
       "   id     block  correct  setSize    rt\n",
       "0   1  practice        1        1  1855\n",
       "1   1  practice        1        5   975\n",
       "2   1  practice        1        6  1051\n",
       "3   1  practice        1        3  1075\n",
       "4   1  practice        1        4  1040"
      ]
     },
     "execution_count": 24,
     "metadata": {},
     "output_type": "execute_result"
    }
   ],
   "source": [
    "df.head()"
   ]
  },
  {
   "cell_type": "code",
   "execution_count": 25,
   "metadata": {},
   "outputs": [
    {
     "data": {
      "text/plain": [
       "(138, 5)"
      ]
     },
     "execution_count": 25,
     "metadata": {},
     "output_type": "execute_result"
    }
   ],
   "source": [
    "df.shape"
   ]
  },
  {
   "cell_type": "code",
   "execution_count": 26,
   "metadata": {},
   "outputs": [],
   "source": [
    "# remove practice trials\n",
    "\n",
    "\n",
    "d = df.loc[df['block'] != \"practice\"]\n"
   ]
  },
  {
   "cell_type": "code",
   "execution_count": 27,
   "metadata": {},
   "outputs": [
    {
     "data": {
      "text/plain": [
       "(126, 5)"
      ]
     },
     "execution_count": 27,
     "metadata": {},
     "output_type": "execute_result"
    }
   ],
   "source": [
    "d.shape"
   ]
  },
  {
   "cell_type": "code",
   "execution_count": 29,
   "metadata": {},
   "outputs": [],
   "source": [
    "d = df.loc[df['correct'] == 1]"
   ]
  },
  {
   "cell_type": "code",
   "execution_count": 30,
   "metadata": {},
   "outputs": [
    {
     "data": {
      "text/plain": [
       "(126, 5)"
      ]
     },
     "execution_count": 30,
     "metadata": {},
     "output_type": "execute_result"
    }
   ],
   "source": [
    "d.shape"
   ]
  },
  {
   "cell_type": "code",
   "execution_count": 31,
   "metadata": {},
   "outputs": [
    {
     "data": {
      "text/plain": [
       "0      1\n",
       "1      1\n",
       "2      1\n",
       "3      1\n",
       "4      1\n",
       "      ..\n",
       "133    1\n",
       "134    1\n",
       "135    1\n",
       "136    1\n",
       "137    1\n",
       "Name: correct, Length: 126, dtype: int64"
      ]
     },
     "execution_count": 31,
     "metadata": {},
     "output_type": "execute_result"
    }
   ],
   "source": [
    "d['correct']"
   ]
  },
  {
   "cell_type": "code",
   "execution_count": null,
   "metadata": {},
   "outputs": [],
   "source": []
  },
  {
   "cell_type": "code",
   "execution_count": null,
   "metadata": {},
   "outputs": [],
   "source": []
  }
 ],
 "metadata": {
  "kernelspec": {
   "display_name": "Python 3",
   "language": "python",
   "name": "python3"
  },
  "language_info": {
   "codemirror_mode": {
    "name": "ipython",
    "version": 3
   },
   "file_extension": ".py",
   "mimetype": "text/x-python",
   "name": "python",
   "nbconvert_exporter": "python",
   "pygments_lexer": "ipython3",
   "version": "3.7.6"
  }
 },
 "nbformat": 4,
 "nbformat_minor": 4
}
