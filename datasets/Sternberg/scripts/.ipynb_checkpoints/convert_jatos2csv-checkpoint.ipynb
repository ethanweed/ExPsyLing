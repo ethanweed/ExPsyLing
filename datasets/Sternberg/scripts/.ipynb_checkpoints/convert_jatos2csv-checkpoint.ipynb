{
 "cells": [
  {
   "cell_type": "code",
   "execution_count": 5,
   "id": "3390e34b",
   "metadata": {},
   "outputs": [],
   "source": [
    "# conda activate opensesame-py3\n",
    "\n",
    "from osweb import data\n",
    "from datamatrix import io\n",
    "\n",
    "import os\n",
    "import glob\n",
    "\n",
    "pathin = '/Users/ethan/Documents/GitHub/ExPsyLing/datasets/Sternberg/2021/'\n",
    "\n",
    "os.chdir(pathin)\n",
    "\n",
    "for file in glob.glob('*.txt'):\n",
    "    filename = file[0:-4]\n",
    "    dm = data.parse_jatos_results(\n",
    "    jatos_path=pathin + file,\n",
    "    include_context=True)\n",
    "    io.writetxt(dm, filename + '.csv')\n"
   ]
  },
  {
   "cell_type": "code",
   "execution_count": 1,
   "id": "3ebc4445",
   "metadata": {},
   "outputs": [],
   "source": [
    "import os\n",
    "import glob\n",
    "import pandas as pd\n",
    "\n",
    "pathin = '/Users/ethan/Documents/GitHub/ExPsyLing/datasets/Sternberg/2021/'\n",
    "\n",
    "out = 'Sternberg_all.csv'\n",
    "\n",
    "os.chdir(pathin)\n",
    "\n",
    "subject_num = 1\n",
    "dfs = []\n",
    "\n",
    "for file in glob.glob('*.csv'):\n",
    "    temp = pd.read_csv(file)\n",
    "    temp['id'] = [subject_num]*temp.shape[0]\n",
    "    dfs.append(temp)\n",
    "    subject_num = subject_num + 1\n",
    "    \n",
    "df = pd.concat(dfs)\n",
    "\n",
    "df.to_csv(out)"
   ]
  },
  {
   "cell_type": "code",
   "execution_count": null,
   "id": "9a4dae5d",
   "metadata": {},
   "outputs": [],
   "source": []
  },
  {
   "cell_type": "code",
   "execution_count": null,
   "id": "ed59c8d0",
   "metadata": {},
   "outputs": [],
   "source": []
  }
 ],
 "metadata": {
  "kernelspec": {
   "display_name": "Python 3",
   "language": "python",
   "name": "python3"
  },
  "language_info": {
   "codemirror_mode": {
    "name": "ipython",
    "version": 3
   },
   "file_extension": ".py",
   "mimetype": "text/x-python",
   "name": "python",
   "nbconvert_exporter": "python",
   "pygments_lexer": "ipython3",
   "version": "3.7.10"
  }
 },
 "nbformat": 4,
 "nbformat_minor": 5
}
